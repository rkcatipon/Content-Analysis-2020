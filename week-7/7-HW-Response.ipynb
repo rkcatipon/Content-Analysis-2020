{
 "cells": [
  {
   "cell_type": "code",
   "execution_count": 1,
   "metadata": {},
   "outputs": [],
   "source": [
    "#All these packages need to be installed from pip\n",
    "import gensim#For word2vec, etc\n",
    "import requests #For downloading our datasets\n",
    "import lucem_illud_2020\n",
    "\n",
    "import numpy as np #For arrays\n",
    "import pandas as pd #Gives us DataFrames\n",
    "import matplotlib.pyplot as plt #For graphics\n",
    "import seaborn #Makes the graphics look nicer\n",
    "import sklearn.metrics.pairwise #For cosine similarity\n",
    "import sklearn.manifold #For T-SNE\n",
    "import sklearn.decomposition #For PCA\n",
    "\n",
    "#This 'magic' command makes the plots work better\n",
    "#in the notebook, don't use it outside of a notebook.\n",
    "#Also you can ignore the warning\n",
    "%matplotlib inline\n",
    "\n",
    "import os #For looking through files\n",
    "import os.path #For managing file paths"
   ]
  },
  {
   "cell_type": "markdown",
   "metadata": {},
   "source": [
    "## <span style=\"color:red\">*Exercise 1*</span>\n",
    "\n",
    "<span style=\"color:red\">Construct cells immediately below this that embed documents related to your final project using at least two different specification of `word2vec`, and visualize them each with two separate visualization layout specifications (e.g., TSNE, PCA). Then interrogate critical word vectors within your corpus in terms of the most similar words, analogies, and other additions and subtractions that reveal the structure of similarity and difference within your semantic space. What does this pattern reveal about the semantic organization of words in your corpora? Which estimation and visualization specification generate the most insight and appear the most robustly supported and why? \n",
    "\n",
    "<span style=\"color:red\">***Stretch***: Explore different vector calculations beyond addition and subtraction, such as multiplication, division or some other function. What does this exploration reveal about the semantic structure of your corpus?"
   ]
  },
  {
   "cell_type": "markdown",
   "metadata": {},
   "source": [
    "Continuing with the same dataset as past notebooks, I will be looking at a collection of tweets that went viral during the 2016 election. Within this collection, a few tweets were identified as containing fake news. This notebook will analyze the text of these tweets using Word2vec, as a way to explore the semantic space."
   ]
  },
  {
   "cell_type": "code",
   "execution_count": 2,
   "metadata": {},
   "outputs": [
    {
     "data": {
      "text/html": [
       "<div>\n",
       "<style scoped>\n",
       "    .dataframe tbody tr th:only-of-type {\n",
       "        vertical-align: middle;\n",
       "    }\n",
       "\n",
       "    .dataframe tbody tr th {\n",
       "        vertical-align: top;\n",
       "    }\n",
       "\n",
       "    .dataframe thead th {\n",
       "        text-align: right;\n",
       "    }\n",
       "</style>\n",
       "<table border=\"1\" class=\"dataframe\">\n",
       "  <thead>\n",
       "    <tr style=\"text-align: right;\">\n",
       "      <th></th>\n",
       "      <th>is_fake_news</th>\n",
       "      <th>fake_news_category</th>\n",
       "      <th>tweet_id</th>\n",
       "      <th>created_at</th>\n",
       "      <th>retweet_count</th>\n",
       "      <th>text</th>\n",
       "      <th>user_screen_name</th>\n",
       "      <th>user_verified</th>\n",
       "      <th>user_friends_count</th>\n",
       "      <th>user_followers_count</th>\n",
       "      <th>user_favourites_count</th>\n",
       "      <th>tweet_source</th>\n",
       "      <th>geo_coordinates</th>\n",
       "      <th>num_hashtags</th>\n",
       "      <th>num_mentions</th>\n",
       "      <th>num_urls</th>\n",
       "      <th>num_media</th>\n",
       "      <th>tokenized_sents</th>\n",
       "      <th>normalized_sents</th>\n",
       "    </tr>\n",
       "  </thead>\n",
       "  <tbody>\n",
       "    <tr>\n",
       "      <th>0</th>\n",
       "      <td>False</td>\n",
       "      <td>NaN</td>\n",
       "      <td>264033382076407808</td>\n",
       "      <td>Thu Nov 01 15:57:18 +0000 2012</td>\n",
       "      <td>4698</td>\n",
       "      <td>@realDonaldTrump you are full of shit!</td>\n",
       "      <td>RalphGilles</td>\n",
       "      <td>True</td>\n",
       "      <td>763</td>\n",
       "      <td>26680</td>\n",
       "      <td>3079</td>\n",
       "      <td>&lt;a href=\"http://twitter.com/download/iphone\" r...</td>\n",
       "      <td>0</td>\n",
       "      <td>0</td>\n",
       "      <td>2</td>\n",
       "      <td>0</td>\n",
       "      <td>0</td>\n",
       "      <td>[[@realDonaldTrump, you, are, full, of, shit]]</td>\n",
       "      <td>[[@realdonaldtrump, shit]]</td>\n",
       "    </tr>\n",
       "    <tr>\n",
       "      <th>10</th>\n",
       "      <td>False</td>\n",
       "      <td>NaN</td>\n",
       "      <td>388618880605646848</td>\n",
       "      <td>Fri Oct 11 10:55:36 +0000 2013</td>\n",
       "      <td>1629</td>\n",
       "      <td>Beautiful morning walk in Hyde Park #London wi...</td>\n",
       "      <td>billclinton</td>\n",
       "      <td>True</td>\n",
       "      <td>26</td>\n",
       "      <td>6252982</td>\n",
       "      <td>60</td>\n",
       "      <td>&lt;a href=\"http://twitter.com\" rel=\"nofollow\"&gt;Tw...</td>\n",
       "      <td>1</td>\n",
       "      <td>1</td>\n",
       "      <td>2</td>\n",
       "      <td>0</td>\n",
       "      <td>1</td>\n",
       "      <td>[[Beautiful, morning, walk, in, Hyde, Park, Lo...</td>\n",
       "      <td>[[beautiful, morning, walk, hyde, park, london...</td>\n",
       "    </tr>\n",
       "    <tr>\n",
       "      <th>20</th>\n",
       "      <td>False</td>\n",
       "      <td>NaN</td>\n",
       "      <td>596194588064354304</td>\n",
       "      <td>Thu May 07 06:07:21 +0000 2015</td>\n",
       "      <td>3522</td>\n",
       "      <td>There's an important choice to be made today; ...</td>\n",
       "      <td>SoVeryBritish</td>\n",
       "      <td>True</td>\n",
       "      <td>1</td>\n",
       "      <td>1441390</td>\n",
       "      <td>1468</td>\n",
       "      <td>&lt;a href=\"http://twitter.com/download/iphone\" r...</td>\n",
       "      <td>0</td>\n",
       "      <td>0</td>\n",
       "      <td>1</td>\n",
       "      <td>0</td>\n",
       "      <td>0</td>\n",
       "      <td>[[There, 's, an, important, choice, to, be, ma...</td>\n",
       "      <td>[[important, choice, today, vote, wisely, favo...</td>\n",
       "    </tr>\n",
       "    <tr>\n",
       "      <th>30</th>\n",
       "      <td>False</td>\n",
       "      <td>NaN</td>\n",
       "      <td>658662473231298560</td>\n",
       "      <td>Mon Oct 26 15:12:25 +0000 2015</td>\n",
       "      <td>16504</td>\n",
       "      <td>Hey @realDonaldTrump you saw a kid lost in New...</td>\n",
       "      <td>DaveWeasel</td>\n",
       "      <td>True</td>\n",
       "      <td>134460</td>\n",
       "      <td>221619</td>\n",
       "      <td>29437</td>\n",
       "      <td>&lt;a href=\"http://twitter.com/download/iphone\" r...</td>\n",
       "      <td>0</td>\n",
       "      <td>0</td>\n",
       "      <td>2</td>\n",
       "      <td>0</td>\n",
       "      <td>0</td>\n",
       "      <td>[[Hey, @realDonaldTrump, you, saw, a, kid, los...</td>\n",
       "      <td>[[hey, @realdonaldtrump, saw, kid, lost, new, ...</td>\n",
       "    </tr>\n",
       "    <tr>\n",
       "      <th>40</th>\n",
       "      <td>False</td>\n",
       "      <td>NaN</td>\n",
       "      <td>674008204838199297</td>\n",
       "      <td>Mon Dec 07 23:30:53 +0000 2015</td>\n",
       "      <td>8749</td>\n",
       "      <td>Finally trashed by @realDonaldTrump. Will stil...</td>\n",
       "      <td>JeffBezos</td>\n",
       "      <td>True</td>\n",
       "      <td>0</td>\n",
       "      <td>146602</td>\n",
       "      <td>0</td>\n",
       "      <td>&lt;a href=\"http://twitter.com\" rel=\"nofollow\"&gt;Tw...</td>\n",
       "      <td>1</td>\n",
       "      <td>1</td>\n",
       "      <td>2</td>\n",
       "      <td>0</td>\n",
       "      <td>0</td>\n",
       "      <td>[[Finally, trashed, by, @realDonaldTrump], [Wi...</td>\n",
       "      <td>[[finally, trashed, @realdonaldtrump], [reserv...</td>\n",
       "    </tr>\n",
       "    <tr>\n",
       "      <th>50</th>\n",
       "      <td>False</td>\n",
       "      <td>NaN</td>\n",
       "      <td>687317650658189312</td>\n",
       "      <td>Wed Jan 13 16:57:52 +0000 2016</td>\n",
       "      <td>18193</td>\n",
       "      <td>'To Bernie Sanders with thanks for your commit...</td>\n",
       "      <td>BernieSanders</td>\n",
       "      <td>True</td>\n",
       "      <td>1511</td>\n",
       "      <td>3866551</td>\n",
       "      <td>970</td>\n",
       "      <td>&lt;a href=\"https://about.twitter.com/products/tw...</td>\n",
       "      <td>0</td>\n",
       "      <td>0</td>\n",
       "      <td>2</td>\n",
       "      <td>0</td>\n",
       "      <td>0</td>\n",
       "      <td>[[To, Bernie, Sanders, with, thanks, for, your...</td>\n",
       "      <td>[[bernie, sanders, thanks, commitment, real, h...</td>\n",
       "    </tr>\n",
       "    <tr>\n",
       "      <th>60</th>\n",
       "      <td>False</td>\n",
       "      <td>NaN</td>\n",
       "      <td>693175853853904898</td>\n",
       "      <td>Fri Jan 29 20:56:16 +0000 2016</td>\n",
       "      <td>4419</td>\n",
       "      <td>Oh, yeah btw I still have a copy of this tweet...</td>\n",
       "      <td>QU0RN_D0G</td>\n",
       "      <td>False</td>\n",
       "      <td>4854</td>\n",
       "      <td>7664</td>\n",
       "      <td>14830</td>\n",
       "      <td>&lt;a href=\"http://twitter.com\" rel=\"nofollow\"&gt;Tw...</td>\n",
       "      <td>0</td>\n",
       "      <td>0</td>\n",
       "      <td>2</td>\n",
       "      <td>0</td>\n",
       "      <td>1</td>\n",
       "      <td>[[Oh], [yeah], [btw, I, still, have, a, copy, ...</td>\n",
       "      <td>[[oh], [yeah], [btw, copy, tweet, deleted, sir...</td>\n",
       "    </tr>\n",
       "    <tr>\n",
       "      <th>70</th>\n",
       "      <td>False</td>\n",
       "      <td>NaN</td>\n",
       "      <td>704756959019474948</td>\n",
       "      <td>Tue Mar 01 19:55:27 +0000 2016</td>\n",
       "      <td>7867</td>\n",
       "      <td>@realDonaldTrump, Bless your heart.</td>\n",
       "      <td>nikkihaley</td>\n",
       "      <td>True</td>\n",
       "      <td>176</td>\n",
       "      <td>158430</td>\n",
       "      <td>138</td>\n",
       "      <td>&lt;a href=\"https://mobile.twitter.com\" rel=\"nofo...</td>\n",
       "      <td>0</td>\n",
       "      <td>0</td>\n",
       "      <td>2</td>\n",
       "      <td>0</td>\n",
       "      <td>0</td>\n",
       "      <td>[[@realDonaldTrump, Bless, your, heart]]</td>\n",
       "      <td>[[@realdonaldtrump, bless, heart]]</td>\n",
       "    </tr>\n",
       "    <tr>\n",
       "      <th>80</th>\n",
       "      <td>False</td>\n",
       "      <td>NaN</td>\n",
       "      <td>712380720656883713</td>\n",
       "      <td>Tue Mar 22 20:49:33 +0000 2016</td>\n",
       "      <td>2744</td>\n",
       "      <td>Retweet if Donald J. Trump has your vote for t...</td>\n",
       "      <td>trump_nation</td>\n",
       "      <td>False</td>\n",
       "      <td>778</td>\n",
       "      <td>28272</td>\n",
       "      <td>676</td>\n",
       "      <td>&lt;a href=\"http://twitter.com/download/iphone\" r...</td>\n",
       "      <td>0</td>\n",
       "      <td>0</td>\n",
       "      <td>2</td>\n",
       "      <td>0</td>\n",
       "      <td>0</td>\n",
       "      <td>[[Retweet, if, Donald, J., Trump, has, your, v...</td>\n",
       "      <td>[[retweet, donald, j., trump, vote, general, e...</td>\n",
       "    </tr>\n",
       "    <tr>\n",
       "      <th>90</th>\n",
       "      <td>False</td>\n",
       "      <td>NaN</td>\n",
       "      <td>722628702748688385</td>\n",
       "      <td>Wed Apr 20 03:31:23 +0000 2016</td>\n",
       "      <td>5363</td>\n",
       "      <td>'@bigop1: @realDonaldTrump @CNN @oreillyfactor...</td>\n",
       "      <td>realDonaldTrump</td>\n",
       "      <td>True</td>\n",
       "      <td>41</td>\n",
       "      <td>13035771</td>\n",
       "      <td>45</td>\n",
       "      <td>&lt;a href=\"http://twitter.com/download/android\" ...</td>\n",
       "      <td>0</td>\n",
       "      <td>0</td>\n",
       "      <td>5</td>\n",
       "      <td>0</td>\n",
       "      <td>1</td>\n",
       "      <td>[[@bigop1], [@realDonaldTrump, @CNN, @oreillyf...</td>\n",
       "      <td>[[@bigop1], [@realdonaldtrump, @cnn, @oreillyf...</td>\n",
       "    </tr>\n",
       "  </tbody>\n",
       "</table>\n",
       "</div>"
      ],
      "text/plain": [
       "    is_fake_news  fake_news_category            tweet_id  \\\n",
       "0          False                 NaN  264033382076407808   \n",
       "10         False                 NaN  388618880605646848   \n",
       "20         False                 NaN  596194588064354304   \n",
       "30         False                 NaN  658662473231298560   \n",
       "40         False                 NaN  674008204838199297   \n",
       "50         False                 NaN  687317650658189312   \n",
       "60         False                 NaN  693175853853904898   \n",
       "70         False                 NaN  704756959019474948   \n",
       "80         False                 NaN  712380720656883713   \n",
       "90         False                 NaN  722628702748688385   \n",
       "\n",
       "                        created_at  retweet_count  \\\n",
       "0   Thu Nov 01 15:57:18 +0000 2012           4698   \n",
       "10  Fri Oct 11 10:55:36 +0000 2013           1629   \n",
       "20  Thu May 07 06:07:21 +0000 2015           3522   \n",
       "30  Mon Oct 26 15:12:25 +0000 2015          16504   \n",
       "40  Mon Dec 07 23:30:53 +0000 2015           8749   \n",
       "50  Wed Jan 13 16:57:52 +0000 2016          18193   \n",
       "60  Fri Jan 29 20:56:16 +0000 2016           4419   \n",
       "70  Tue Mar 01 19:55:27 +0000 2016           7867   \n",
       "80  Tue Mar 22 20:49:33 +0000 2016           2744   \n",
       "90  Wed Apr 20 03:31:23 +0000 2016           5363   \n",
       "\n",
       "                                                 text user_screen_name  \\\n",
       "0              @realDonaldTrump you are full of shit!      RalphGilles   \n",
       "10  Beautiful morning walk in Hyde Park #London wi...      billclinton   \n",
       "20  There's an important choice to be made today; ...    SoVeryBritish   \n",
       "30  Hey @realDonaldTrump you saw a kid lost in New...       DaveWeasel   \n",
       "40  Finally trashed by @realDonaldTrump. Will stil...        JeffBezos   \n",
       "50  'To Bernie Sanders with thanks for your commit...    BernieSanders   \n",
       "60  Oh, yeah btw I still have a copy of this tweet...        QU0RN_D0G   \n",
       "70                @realDonaldTrump, Bless your heart.       nikkihaley   \n",
       "80  Retweet if Donald J. Trump has your vote for t...     trump_nation   \n",
       "90  '@bigop1: @realDonaldTrump @CNN @oreillyfactor...  realDonaldTrump   \n",
       "\n",
       "    user_verified  user_friends_count  user_followers_count  \\\n",
       "0            True                 763                 26680   \n",
       "10           True                  26               6252982   \n",
       "20           True                   1               1441390   \n",
       "30           True              134460                221619   \n",
       "40           True                   0                146602   \n",
       "50           True                1511               3866551   \n",
       "60          False                4854                  7664   \n",
       "70           True                 176                158430   \n",
       "80          False                 778                 28272   \n",
       "90           True                  41              13035771   \n",
       "\n",
       "    user_favourites_count                                       tweet_source  \\\n",
       "0                    3079  <a href=\"http://twitter.com/download/iphone\" r...   \n",
       "10                     60  <a href=\"http://twitter.com\" rel=\"nofollow\">Tw...   \n",
       "20                   1468  <a href=\"http://twitter.com/download/iphone\" r...   \n",
       "30                  29437  <a href=\"http://twitter.com/download/iphone\" r...   \n",
       "40                      0  <a href=\"http://twitter.com\" rel=\"nofollow\">Tw...   \n",
       "50                    970  <a href=\"https://about.twitter.com/products/tw...   \n",
       "60                  14830  <a href=\"http://twitter.com\" rel=\"nofollow\">Tw...   \n",
       "70                    138  <a href=\"https://mobile.twitter.com\" rel=\"nofo...   \n",
       "80                    676  <a href=\"http://twitter.com/download/iphone\" r...   \n",
       "90                     45  <a href=\"http://twitter.com/download/android\" ...   \n",
       "\n",
       "    geo_coordinates  num_hashtags  num_mentions  num_urls  num_media  \\\n",
       "0                 0             0             2         0          0   \n",
       "10                1             1             2         0          1   \n",
       "20                0             0             1         0          0   \n",
       "30                0             0             2         0          0   \n",
       "40                1             1             2         0          0   \n",
       "50                0             0             2         0          0   \n",
       "60                0             0             2         0          1   \n",
       "70                0             0             2         0          0   \n",
       "80                0             0             2         0          0   \n",
       "90                0             0             5         0          1   \n",
       "\n",
       "                                      tokenized_sents  \\\n",
       "0      [[@realDonaldTrump, you, are, full, of, shit]]   \n",
       "10  [[Beautiful, morning, walk, in, Hyde, Park, Lo...   \n",
       "20  [[There, 's, an, important, choice, to, be, ma...   \n",
       "30  [[Hey, @realDonaldTrump, you, saw, a, kid, los...   \n",
       "40  [[Finally, trashed, by, @realDonaldTrump], [Wi...   \n",
       "50  [[To, Bernie, Sanders, with, thanks, for, your...   \n",
       "60  [[Oh], [yeah], [btw, I, still, have, a, copy, ...   \n",
       "70           [[@realDonaldTrump, Bless, your, heart]]   \n",
       "80  [[Retweet, if, Donald, J., Trump, has, your, v...   \n",
       "90  [[@bigop1], [@realDonaldTrump, @CNN, @oreillyf...   \n",
       "\n",
       "                                     normalized_sents  \n",
       "0                          [[@realdonaldtrump, shit]]  \n",
       "10  [[beautiful, morning, walk, hyde, park, london...  \n",
       "20  [[important, choice, today, vote, wisely, favo...  \n",
       "30  [[hey, @realdonaldtrump, saw, kid, lost, new, ...  \n",
       "40  [[finally, trashed, @realdonaldtrump], [reserv...  \n",
       "50  [[bernie, sanders, thanks, commitment, real, h...  \n",
       "60  [[oh], [yeah], [btw, copy, tweet, deleted, sir...  \n",
       "70                 [[@realdonaldtrump, bless, heart]]  \n",
       "80  [[retweet, donald, j., trump, vote, general, e...  \n",
       "90  [[@bigop1], [@realdonaldtrump, @cnn, @oreillyf...  "
      ]
     },
     "execution_count": 2,
     "metadata": {},
     "output_type": "execute_result"
    }
   ],
   "source": [
    "# Preprocessing for word2vec analysis\n",
    "tweetsDF = pd.read_excel(\"/home/rkcatipon/Content-Analysis-2020/week-5/electionday_tweets.xlsx\")\n",
    "\n",
    "#load data\n",
    "\n",
    "tweetsDF['tokenized_sents'] = tweetsDF['text'].apply(lambda x: [lucem_illud_2020.word_tokenize(s) for s in lucem_illud_2020.sent_tokenize(x)])\n",
    "tweetsDF['normalized_sents'] = tweetsDF['tokenized_sents'].apply(lambda x: [lucem_illud_2020.normalizeTokens(s, lemma=False) for s in x])\n",
    "\n",
    "tweetsDF[:100:10]\n"
   ]
  },
  {
   "cell_type": "code",
   "execution_count": 3,
   "metadata": {},
   "outputs": [
    {
     "data": {
      "text/html": [
       "<div>\n",
       "<style scoped>\n",
       "    .dataframe tbody tr th:only-of-type {\n",
       "        vertical-align: middle;\n",
       "    }\n",
       "\n",
       "    .dataframe tbody tr th {\n",
       "        vertical-align: top;\n",
       "    }\n",
       "\n",
       "    .dataframe thead th {\n",
       "        text-align: right;\n",
       "    }\n",
       "</style>\n",
       "<table border=\"1\" class=\"dataframe\">\n",
       "  <thead>\n",
       "    <tr style=\"text-align: right;\">\n",
       "      <th></th>\n",
       "      <th>is_fake_news</th>\n",
       "      <th>fake_news_category</th>\n",
       "      <th>tweet_id</th>\n",
       "      <th>created_at</th>\n",
       "      <th>retweet_count</th>\n",
       "      <th>text</th>\n",
       "      <th>user_screen_name</th>\n",
       "      <th>user_verified</th>\n",
       "      <th>user_friends_count</th>\n",
       "      <th>user_followers_count</th>\n",
       "      <th>user_favourites_count</th>\n",
       "      <th>tweet_source</th>\n",
       "      <th>geo_coordinates</th>\n",
       "      <th>num_hashtags</th>\n",
       "      <th>num_mentions</th>\n",
       "      <th>num_urls</th>\n",
       "      <th>num_media</th>\n",
       "      <th>tokenized_sents</th>\n",
       "      <th>normalized_sents</th>\n",
       "    </tr>\n",
       "  </thead>\n",
       "  <tbody>\n",
       "    <tr>\n",
       "      <th>0</th>\n",
       "      <td>False</td>\n",
       "      <td>NaN</td>\n",
       "      <td>264033382076407808</td>\n",
       "      <td>Thu Nov 01 15:57:18 +0000 2012</td>\n",
       "      <td>4698</td>\n",
       "      <td>@realDonaldTrump you are full of shit!</td>\n",
       "      <td>RalphGilles</td>\n",
       "      <td>True</td>\n",
       "      <td>763</td>\n",
       "      <td>26680</td>\n",
       "      <td>3079</td>\n",
       "      <td>&lt;a href=\"http://twitter.com/download/iphone\" r...</td>\n",
       "      <td>0</td>\n",
       "      <td>0</td>\n",
       "      <td>2</td>\n",
       "      <td>0</td>\n",
       "      <td>0</td>\n",
       "      <td>[[@realDonaldTrump, you, are, full, of, shit]]</td>\n",
       "      <td>[[@realdonaldtrump, shit]]</td>\n",
       "    </tr>\n",
       "  </tbody>\n",
       "</table>\n",
       "</div>"
      ],
      "text/plain": [
       "   is_fake_news  fake_news_category            tweet_id  \\\n",
       "0         False                 NaN  264033382076407808   \n",
       "\n",
       "                       created_at  retweet_count  \\\n",
       "0  Thu Nov 01 15:57:18 +0000 2012           4698   \n",
       "\n",
       "                                     text user_screen_name  user_verified  \\\n",
       "0  @realDonaldTrump you are full of shit!      RalphGilles           True   \n",
       "\n",
       "   user_friends_count  user_followers_count  user_favourites_count  \\\n",
       "0                 763                 26680                   3079   \n",
       "\n",
       "                                        tweet_source  geo_coordinates  \\\n",
       "0  <a href=\"http://twitter.com/download/iphone\" r...                0   \n",
       "\n",
       "   num_hashtags  num_mentions  num_urls  num_media  \\\n",
       "0             0             2         0          0   \n",
       "\n",
       "                                  tokenized_sents            normalized_sents  \n",
       "0  [[@realDonaldTrump, you, are, full, of, shit]]  [[@realdonaldtrump, shit]]  "
      ]
     },
     "execution_count": 3,
     "metadata": {},
     "output_type": "execute_result"
    }
   ],
   "source": [
    "#The tokenized text is now in lists of lists"
   ]
  },
  {
   "cell_type": "code",
   "execution_count": 4,
   "metadata": {},
   "outputs": [],
   "source": [
    "# train the word2vec model with sentences\n",
    "\n",
    "tweetsW2V = gensim.models.word2vec.Word2Vec(tweetsDF['normalized_sents'].sum())"
   ]
  },
  {
   "cell_type": "code",
   "execution_count": 5,
   "metadata": {},
   "outputs": [
    {
     "data": {
      "text/plain": [
       "array([ 0.01289606, -0.00041388, -0.01366387, -0.0157923 ,  0.01326016,\n",
       "        0.01739379, -0.01310362,  0.01145159,  0.00240094, -0.00805926],\n",
       "      dtype=float32)"
      ]
     },
     "execution_count": 5,
     "metadata": {},
     "output_type": "execute_result"
    }
   ],
   "source": [
    "# let us inspect the term Trump\n",
    "tweetsW2V['trump'][:10]"
   ]
  },
  {
   "cell_type": "code",
   "execution_count": 16,
   "metadata": {},
   "outputs": [
    {
     "name": "stdout",
     "output_type": "stream",
     "text": [
      "[[ 0.0154112   0.00153469 -0.01682547 ... -0.01832273 -0.01056829\n",
      "  -0.00050319]\n",
      " [ 0.00707332  0.00132964 -0.00175251 ... -0.00370144 -0.00423952\n",
      "  -0.00156042]\n",
      " [ 0.00856132  0.00260492 -0.01599956 ... -0.0170201  -0.0106805\n",
      "  -0.00083043]\n",
      " ...\n",
      " [ 0.00549344  0.00379087 -0.00075946 ...  0.00032598  0.00145225\n",
      "   0.00126699]\n",
      " [ 0.00262748 -0.00432705 -0.00460185 ... -0.0027735   0.00074744\n",
      "  -0.00358284]\n",
      " [ 0.00108969  0.00414724 -0.00546189 ...  0.00412179  0.00106543\n",
      "  -0.00088897]]\n",
      "\n",
      "A look at the different vectorized words\n",
      "##########\n",
      "11: president\n",
      "200: political\n",
      "90: good\n"
     ]
    }
   ],
   "source": [
    "# a look at all the vectors\n",
    "print(tweetsW2V.wv.syn0)\n",
    "print()\n",
    "print(\"A look at the different vectorized words\")\n",
    "print(\"##########\")\n",
    "print('11:', tweetsW2V.wv.index2word[11])\n",
    "print('200:', tweetsW2V.wv.index2word[200])\n",
    "print('90:', tweetsW2V.wv.index2word[90])"
   ]
  },
  {
   "cell_type": "markdown",
   "metadata": {},
   "source": [
    "# Cosine similarity\n",
    "Because of the nature of the dataset, I would like to learn about words that are most similar to the two candidates according to w2v. I hypothesize that the words that are considered similar to the Clinton and Trump may tell us about the characterization of the two candidates the day of the election."
   ]
  },
  {
   "cell_type": "code",
   "execution_count": 18,
   "metadata": {},
   "outputs": [
    {
     "data": {
      "text/plain": [
       "[('@realdonaldtrump', 0.9343799948692322),\n",
       " ('@hillaryclinton', 0.9262780547142029),\n",
       " ('america', 0.9177895784378052),\n",
       " ('amp', 0.902174711227417),\n",
       " ('vote', 0.894525408744812),\n",
       " ('american', 0.8825736045837402),\n",
       " ('country', 0.8721880912780762),\n",
       " ('big', 0.8711351156234741),\n",
       " ('stop', 0.864741861820221),\n",
       " ('day', 0.8636565208435059)]"
      ]
     },
     "execution_count": 18,
     "metadata": {},
     "output_type": "execute_result"
    }
   ],
   "source": [
    "tweetsW2V.most_similar('trump')"
   ]
  },
  {
   "cell_type": "code",
   "execution_count": 42,
   "metadata": {},
   "outputs": [
    {
     "data": {
      "text/plain": [
       "[('@hillaryclinton', 0.8727900981903076),\n",
       " ('@realdonaldtrump', 0.8681909441947937),\n",
       " ('country', 0.8492379188537598),\n",
       " ('america', 0.8481353521347046),\n",
       " ('trump', 0.8440330028533936),\n",
       " ('people', 0.8304079174995422),\n",
       " ('amp', 0.8279247879981995),\n",
       " ('american', 0.8269222974777222),\n",
       " ('today', 0.8174984455108643),\n",
       " ('fight', 0.8165656328201294)]"
      ]
     },
     "execution_count": 42,
     "metadata": {},
     "output_type": "execute_result"
    }
   ],
   "source": [
    "tweetsW2V.most_similar('clinton')"
   ]
  },
  {
   "cell_type": "code",
   "execution_count": 43,
   "metadata": {},
   "outputs": [
    {
     "data": {
      "text/plain": [
       "[('@realdonaldtrump', 0.958302915096283),\n",
       " ('trump', 0.9262779951095581),\n",
       " ('amp', 0.9144220352172852),\n",
       " ('vote', 0.9132774472236633),\n",
       " ('country', 0.9084826111793518),\n",
       " ('american', 0.9036430716514587),\n",
       " ('america', 0.9011461138725281),\n",
       " ('people', 0.8889366388320923),\n",
       " ('polls', 0.8847053050994873),\n",
       " ('fight', 0.8837143182754517)]"
      ]
     },
     "execution_count": 43,
     "metadata": {},
     "output_type": "execute_result"
    }
   ],
   "source": [
    "tweetsW2V.most_similar('@hillaryclinton')"
   ]
  },
  {
   "cell_type": "markdown",
   "metadata": {},
   "source": [
    "It makes that in the vector space the two candidate profiles would be close together. Semantically, it also appears they have cosine similar features such as \"American\" and \"country\". The two divergent terms are \"big\" for Trump and \"fight\" for Clinto which only appear in their respective candidate's cosine similarity set."
   ]
  },
  {
   "cell_type": "code",
   "execution_count": 23,
   "metadata": {},
   "outputs": [
    {
     "data": {
      "text/plain": [
       "'huge'"
      ]
     },
     "execution_count": 23,
     "metadata": {},
     "output_type": "execute_result"
    }
   ],
   "source": [
    "tweetsW2V.doesnt_match(['fight', 'clinton', 'today', 'huge', 'country'])"
   ]
  },
  {
   "cell_type": "markdown",
   "metadata": {},
   "source": [
    "Seems like \"huge\" is not like the others in the wordset. Let us take a look at the semantic equation. In the readings, the go-to example of word2vec is King + woman - man = queen. I'd be curious to see how word2vec handles two political spectrums represented by @hillaryclinton versus @realdonaltrump. Let's talk a look at how @HillaryClinton subtracts \"emails\" and adds \"huge\"."
   ]
  },
  {
   "cell_type": "markdown",
   "metadata": {},
   "source": [
    "# W2V subtraction and addition"
   ]
  },
  {
   "cell_type": "code",
   "execution_count": 47,
   "metadata": {},
   "outputs": [
    {
     "data": {
      "text/plain": [
       "[('@realdonaldtrump', 0.5528126955032349),\n",
       " ('cast', 0.542144775390625),\n",
       " ('time', 0.5393102765083313),\n",
       " ('😂', 0.5389424562454224),\n",
       " ('people', 0.5258145332336426),\n",
       " ('day', 0.5058679580688477),\n",
       " ('.@hillaryclinton', 0.5038829445838928),\n",
       " ('voter', 0.5028741359710693),\n",
       " ('vote', 0.49897879362106323),\n",
       " ('going', 0.49754953384399414)]"
      ]
     },
     "execution_count": 47,
     "metadata": {},
     "output_type": "execute_result"
    }
   ],
   "source": [
    "tweetsW2V.most_similar(positive=['@hillaryclinton', 'huge'], negative = ['emails'])"
   ]
  },
  {
   "cell_type": "markdown",
   "metadata": {},
   "source": [
    "In this word set, Clinton + huge - emails = @realdonaldtrump. Clinton is to emails and realdonaldtrump is to huge. These were buzzwords associated with both campaigns (for better or for worse). This intuitively makes sense but this does not seem to be a \"hard\" analysis, but rather is open to interpretation when dealing with such similar texts."
   ]
  },
  {
   "cell_type": "code",
   "execution_count": 48,
   "metadata": {},
   "outputs": [],
   "source": [
    "# save\n",
    "tweetsW2V.save(\"tweetsW2V\")"
   ]
  },
  {
   "cell_type": "markdown",
   "metadata": {},
   "source": [
    "# Visualization"
   ]
  },
  {
   "cell_type": "markdown",
   "metadata": {},
   "source": [
    "Visualizing top words and their vectors"
   ]
  },
  {
   "cell_type": "code",
   "execution_count": 49,
   "metadata": {},
   "outputs": [],
   "source": [
    "# visualize by taking top words\n",
    "numWords = 50\n",
    "targetWords = tweetsW2V.wv.index2word[:numWords]\n",
    "\n",
    "# extract top word vectors.\n",
    "# create smaller matrix preserves distances from orig. matrix\n",
    "wordsSubMatrix = []\n",
    "for word in targetWords:\n",
    "    wordsSubMatrix.append(tweetsW2V[word])\n",
    "wordsSubMatrix = np.array(wordsSubMatrix)\n",
    "wordsSubMatrix\n",
    "\n",
    "\n",
    "#PCA reduction to number of words = number of components\n",
    "pcaWords = sklearn.decomposition.PCA(n_components = 50).fit(wordsSubMatrix)\n",
    "reducedPCA_data = pcaWords.transform(wordsSubMatrix)\n",
    "#T-SNE is theoretically better, but you should experiment\n",
    "tsneWords = sklearn.manifold.TSNE(n_components = 2).fit_transform(reducedPCA_data)"
   ]
  },
  {
   "cell_type": "code",
   "execution_count": 50,
   "metadata": {},
   "outputs": [
    {
     "data": {
      "image/png": "[encoded data removed]",
      "text/plain": [
       "<Figure size 720x432 with 1 Axes>"
      ]
     },
     "metadata": {},
     "output_type": "display_data"
    }
   ],
   "source": [
    "#plot the points\n",
    "\n",
    "fig = plt.figure(figsize = (10,6))\n",
    "ax = fig.add_subplot(111)\n",
    "ax.set_frame_on(False)\n",
    "plt.scatter(tsneWords[:, 0], tsneWords[:, 1], alpha = 0)#Making the points invisible \n",
    "for i, word in enumerate(targetWords):\n",
    "    ax.annotate(word, (tsneWords[:, 0][i],tsneWords[:, 1][i]), size =  20 * (numWords - i) / numWords)\n",
    "plt.xticks(())\n",
    "plt.yticks(())\n",
    "plt.show()"
   ]
  },
  {
   "cell_type": "markdown",
   "metadata": {},
   "source": [
    "Cool! I think the [] are emojis that may not translate in the visualization. We do see that #myvote2016 is close to \"#realdonaldtrump\", \"donald\", and \"maga\". It also seems that Clinton's campaign hashtag #imwithher is close to the hashtag #myvote2016 as well, though it's surprisingly not close to \"hillary\" and \"@hillaryclinton\". I would venture a guess at user behavior here: perhaps users were tagging the campaign but were mostly talking about Trump directly. "
   ]
  },
  {
   "cell_type": "markdown",
   "metadata": {},
   "source": [
    "# Stretch"
   ]
  },
  {
   "cell_type": "markdown",
   "metadata": {},
   "source": [
    "<span style=\"color:red\">***Stretch***: Explore different vector calculations beyond addition and subtraction, such as multiplication, division or some other function. What does this exploration reveal about the semantic structure of your corpus?"
   ]
  },
  {
   "cell_type": "code",
   "execution_count": null,
   "metadata": {},
   "outputs": [],
   "source": [
    "x = tweetsW2V.most_similar(positive=['@hillaryclinton', 'huge'], negative = ['emails'])\n",
    "y = tweetsW2V.most_similar(positive=['@realdonaldtrump', 'big'], negative = ['huge'])\n",
    "\n",
    "x = np.asarray(x).reshape(-1,1)\n",
    "y = np.asarray(y).reshape(-1,1)\n",
    "x.dot(y)\n",
    "\n",
    "# I tried running this but multiplication did not work\n"
   ]
  },
  {
   "cell_type": "markdown",
   "metadata": {},
   "source": [
    "## <span style=\"color:red\">*Exercise 2*</span>\n",
    "\n",
    "<span style=\"color:red\">Construct cells immediately below this that embed documents related to your final project using `doc2vec`, and explore the relationship between different documents and the word vectors you analyzed in the last exercise. Consider the most similar words to critical documents, analogies (doc _x_ + word _y_), and other additions and subtractions that reveal the structure of similarity and difference within your semantic space. What does this pattern reveal about the documentary organization of your semantic space?"
   ]
  },
  {
   "cell_type": "markdown",
   "metadata": {},
   "source": [
    "XX Instead of just looking at just how words embed within in the space, we can look at how the different documents relate to each other within the space. First lets load our data--abstracts of most U.S. physics papers from the 1950s."
   ]
  },
  {
   "cell_type": "markdown",
   "metadata": {},
   "source": [
    "# Doc2Vec"
   ]
  },
  {
   "cell_type": "code",
   "execution_count": 96,
   "metadata": {},
   "outputs": [],
   "source": [
    "# we weren't given a criteria on how to choose keywords for taggins, so I'm picking ones that might make sense\n",
    "keywords = ['democrat', 'republican', 'imwithher', 'myvote2016', 'election', 'fake', 'news' ]"
   ]
  },
  {
   "cell_type": "code",
   "execution_count": 97,
   "metadata": {},
   "outputs": [],
   "source": [
    "# preprocessing\n",
    "# looks like we're tokenizing words again\n",
    "tweetsDF['tokenized_words'] = tweetsDF['text'].apply(lambda x: lucem_illud_2020.word_tokenize(x))\n",
    "tweetsDF['normalized_words'] = tweetsDF['tokenized_words'].apply(lambda x: lucem_illud_2020.normalizeTokens(x, lemma=False))"
   ]
  },
  {
   "cell_type": "code",
   "execution_count": 98,
   "metadata": {},
   "outputs": [],
   "source": [
    "#tagging docs\n",
    "taggedDocs = []\n",
    "for index, row in tweetsDF.iterrows():\n",
    "    #Just doing a simple keyword assignment\n",
    "    docKeywords = [s for s in keywords if s in row['normalized_words']]\n",
    "    docKeywords.append(row['tweet_id']) #unique tweetid\n",
    "    docKeywords.append(row['is_fake_news']) # fake news classification\n",
    "    taggedDocs.append(gensim.models.doc2vec.LabeledSentence(words = row['normalized_words'], tags = docKeywords))\n",
    "tweetsDF['TaggedTweets'] = taggedDocs"
   ]
  },
  {
   "cell_type": "code",
   "execution_count": 101,
   "metadata": {},
   "outputs": [],
   "source": [
    "tweetsDF_small = tweetsDF[:50]"
   ]
  },
  {
   "cell_type": "code",
   "execution_count": 105,
   "metadata": {},
   "outputs": [
    {
     "ename": "ValueError",
     "evalue": "array is too big; `arr.size * arr.dtype.itemsize` is larger than the maximum possible size.",
     "output_type": "error",
     "traceback": [
      "\u001b[0;31m---------------------------------------------------------------------------\u001b[0m",
      "\u001b[0;31mValueError\u001b[0m                                Traceback (most recent call last)",
      "\u001b[0;32m<ipython-input-105-a63549e70874>\u001b[0m in \u001b[0;36m<module>\u001b[0;34m\u001b[0m\n\u001b[0;32m----> 1\u001b[0;31m \u001b[0mtweetsD2V\u001b[0m \u001b[0;34m=\u001b[0m \u001b[0mgensim\u001b[0m\u001b[0;34m.\u001b[0m\u001b[0mmodels\u001b[0m\u001b[0;34m.\u001b[0m\u001b[0mdoc2vec\u001b[0m\u001b[0;34m.\u001b[0m\u001b[0mDoc2Vec\u001b[0m\u001b[0;34m(\u001b[0m\u001b[0mtweetsDF_small\u001b[0m\u001b[0;34m[\u001b[0m\u001b[0;34m'TaggedTweets'\u001b[0m\u001b[0;34m]\u001b[0m\u001b[0;34m)\u001b[0m \u001b[0;31m#Limiting to 100 dimensions\u001b[0m\u001b[0;34m\u001b[0m\u001b[0;34m\u001b[0m\u001b[0m\n\u001b[0m",
      "\u001b[0;32m/software/Anaconda3-5.3.0-el7-x86_64/lib/python3.6/site-packages/gensim/models/doc2vec.py\u001b[0m in \u001b[0;36m__init__\u001b[0;34m(self, documents, dm_mean, dm, dbow_words, dm_concat, dm_tag_count, docvecs, docvecs_mapfile, comment, trim_rule, callbacks, **kwargs)\u001b[0m\n\u001b[1;32m    401\u001b[0m             \u001b[0;32mif\u001b[0m \u001b[0misinstance\u001b[0m\u001b[0;34m(\u001b[0m\u001b[0mdocuments\u001b[0m\u001b[0;34m,\u001b[0m \u001b[0mGeneratorType\u001b[0m\u001b[0;34m)\u001b[0m\u001b[0;34m:\u001b[0m\u001b[0;34m\u001b[0m\u001b[0;34m\u001b[0m\u001b[0m\n\u001b[1;32m    402\u001b[0m                 \u001b[0;32mraise\u001b[0m \u001b[0mTypeError\u001b[0m\u001b[0;34m(\u001b[0m\u001b[0;34m\"You can't pass a generator as the documents argument. Try an iterator.\"\u001b[0m\u001b[0;34m)\u001b[0m\u001b[0;34m\u001b[0m\u001b[0;34m\u001b[0m\u001b[0m\n\u001b[0;32m--> 403\u001b[0;31m             \u001b[0mself\u001b[0m\u001b[0;34m.\u001b[0m\u001b[0mbuild_vocab\u001b[0m\u001b[0;34m(\u001b[0m\u001b[0mdocuments\u001b[0m\u001b[0;34m,\u001b[0m \u001b[0mtrim_rule\u001b[0m\u001b[0;34m=\u001b[0m\u001b[0mtrim_rule\u001b[0m\u001b[0;34m)\u001b[0m\u001b[0;34m\u001b[0m\u001b[0;34m\u001b[0m\u001b[0m\n\u001b[0m\u001b[1;32m    404\u001b[0m             self.train(\n\u001b[1;32m    405\u001b[0m                 \u001b[0mdocuments\u001b[0m\u001b[0;34m,\u001b[0m \u001b[0mtotal_examples\u001b[0m\u001b[0;34m=\u001b[0m\u001b[0mself\u001b[0m\u001b[0;34m.\u001b[0m\u001b[0mcorpus_count\u001b[0m\u001b[0;34m,\u001b[0m \u001b[0mepochs\u001b[0m\u001b[0;34m=\u001b[0m\u001b[0mself\u001b[0m\u001b[0;34m.\u001b[0m\u001b[0mepochs\u001b[0m\u001b[0;34m,\u001b[0m\u001b[0;34m\u001b[0m\u001b[0;34m\u001b[0m\u001b[0m\n",
      "\u001b[0;32m/software/Anaconda3-5.3.0-el7-x86_64/lib/python3.6/site-packages/gensim/models/doc2vec.py\u001b[0m in \u001b[0;36mbuild_vocab\u001b[0;34m(self, documents, update, progress_per, keep_raw_vocab, trim_rule, **kwargs)\u001b[0m\n\u001b[1;32m    735\u001b[0m         \u001b[0mreport_values\u001b[0m\u001b[0;34m[\u001b[0m\u001b[0;34m'memory'\u001b[0m\u001b[0;34m]\u001b[0m \u001b[0;34m=\u001b[0m \u001b[0mself\u001b[0m\u001b[0;34m.\u001b[0m\u001b[0mestimate_memory\u001b[0m\u001b[0;34m(\u001b[0m\u001b[0mvocab_size\u001b[0m\u001b[0;34m=\u001b[0m\u001b[0mreport_values\u001b[0m\u001b[0;34m[\u001b[0m\u001b[0;34m'num_retained_words'\u001b[0m\u001b[0;34m]\u001b[0m\u001b[0;34m)\u001b[0m\u001b[0;34m\u001b[0m\u001b[0;34m\u001b[0m\u001b[0m\n\u001b[1;32m    736\u001b[0m         self.trainables.prepare_weights(\n\u001b[0;32m--> 737\u001b[0;31m             self.hs, self.negative, self.wv, self.docvecs, update=update)\n\u001b[0m\u001b[1;32m    738\u001b[0m \u001b[0;34m\u001b[0m\u001b[0m\n\u001b[1;32m    739\u001b[0m     \u001b[0;32mdef\u001b[0m \u001b[0mbuild_vocab_from_freq\u001b[0m\u001b[0;34m(\u001b[0m\u001b[0mself\u001b[0m\u001b[0;34m,\u001b[0m \u001b[0mword_freq\u001b[0m\u001b[0;34m,\u001b[0m \u001b[0mkeep_raw_vocab\u001b[0m\u001b[0;34m=\u001b[0m\u001b[0;32mFalse\u001b[0m\u001b[0;34m,\u001b[0m \u001b[0mcorpus_count\u001b[0m\u001b[0;34m=\u001b[0m\u001b[0;32mNone\u001b[0m\u001b[0;34m,\u001b[0m \u001b[0mtrim_rule\u001b[0m\u001b[0;34m=\u001b[0m\u001b[0;32mNone\u001b[0m\u001b[0;34m,\u001b[0m \u001b[0mupdate\u001b[0m\u001b[0;34m=\u001b[0m\u001b[0;32mFalse\u001b[0m\u001b[0;34m)\u001b[0m\u001b[0;34m:\u001b[0m\u001b[0;34m\u001b[0m\u001b[0;34m\u001b[0m\u001b[0m\n",
      "\u001b[0;32m/software/Anaconda3-5.3.0-el7-x86_64/lib/python3.6/site-packages/gensim/models/doc2vec.py\u001b[0m in \u001b[0;36mprepare_weights\u001b[0;34m(self, hs, negative, wv, docvecs, update)\u001b[0m\n\u001b[1;32m    880\u001b[0m         \u001b[0;31m# set initial input/projection and hidden weights\u001b[0m\u001b[0;34m\u001b[0m\u001b[0;34m\u001b[0m\u001b[0;34m\u001b[0m\u001b[0m\n\u001b[1;32m    881\u001b[0m         \u001b[0;32mif\u001b[0m \u001b[0;32mnot\u001b[0m \u001b[0mupdate\u001b[0m\u001b[0;34m:\u001b[0m\u001b[0;34m\u001b[0m\u001b[0;34m\u001b[0m\u001b[0m\n\u001b[0;32m--> 882\u001b[0;31m             \u001b[0mself\u001b[0m\u001b[0;34m.\u001b[0m\u001b[0mreset_weights\u001b[0m\u001b[0;34m(\u001b[0m\u001b[0mhs\u001b[0m\u001b[0;34m,\u001b[0m \u001b[0mnegative\u001b[0m\u001b[0;34m,\u001b[0m \u001b[0mwv\u001b[0m\u001b[0;34m,\u001b[0m \u001b[0mdocvecs\u001b[0m\u001b[0;34m)\u001b[0m\u001b[0;34m\u001b[0m\u001b[0;34m\u001b[0m\u001b[0m\n\u001b[0m\u001b[1;32m    883\u001b[0m         \u001b[0;32melse\u001b[0m\u001b[0;34m:\u001b[0m\u001b[0;34m\u001b[0m\u001b[0;34m\u001b[0m\u001b[0m\n\u001b[1;32m    884\u001b[0m             \u001b[0mself\u001b[0m\u001b[0;34m.\u001b[0m\u001b[0mupdate_weights\u001b[0m\u001b[0;34m(\u001b[0m\u001b[0mhs\u001b[0m\u001b[0;34m,\u001b[0m \u001b[0mnegative\u001b[0m\u001b[0;34m,\u001b[0m \u001b[0mwv\u001b[0m\u001b[0;34m)\u001b[0m\u001b[0;34m\u001b[0m\u001b[0;34m\u001b[0m\u001b[0m\n",
      "\u001b[0;32m/software/Anaconda3-5.3.0-el7-x86_64/lib/python3.6/site-packages/gensim/models/doc2vec.py\u001b[0m in \u001b[0;36mreset_weights\u001b[0;34m(self, hs, negative, wv, docvecs, vocabulary)\u001b[0m\n\u001b[1;32m    886\u001b[0m     \u001b[0;32mdef\u001b[0m \u001b[0mreset_weights\u001b[0m\u001b[0;34m(\u001b[0m\u001b[0mself\u001b[0m\u001b[0;34m,\u001b[0m \u001b[0mhs\u001b[0m\u001b[0;34m,\u001b[0m \u001b[0mnegative\u001b[0m\u001b[0;34m,\u001b[0m \u001b[0mwv\u001b[0m\u001b[0;34m,\u001b[0m \u001b[0mdocvecs\u001b[0m\u001b[0;34m,\u001b[0m \u001b[0mvocabulary\u001b[0m\u001b[0;34m=\u001b[0m\u001b[0;32mNone\u001b[0m\u001b[0;34m)\u001b[0m\u001b[0;34m:\u001b[0m\u001b[0;34m\u001b[0m\u001b[0;34m\u001b[0m\u001b[0m\n\u001b[1;32m    887\u001b[0m         \u001b[0msuper\u001b[0m\u001b[0;34m(\u001b[0m\u001b[0mDoc2VecTrainables\u001b[0m\u001b[0;34m,\u001b[0m \u001b[0mself\u001b[0m\u001b[0;34m)\u001b[0m\u001b[0;34m.\u001b[0m\u001b[0mreset_weights\u001b[0m\u001b[0;34m(\u001b[0m\u001b[0mhs\u001b[0m\u001b[0;34m,\u001b[0m \u001b[0mnegative\u001b[0m\u001b[0;34m,\u001b[0m \u001b[0mwv\u001b[0m\u001b[0;34m)\u001b[0m\u001b[0;34m\u001b[0m\u001b[0;34m\u001b[0m\u001b[0m\n\u001b[0;32m--> 888\u001b[0;31m         \u001b[0mself\u001b[0m\u001b[0;34m.\u001b[0m\u001b[0mreset_doc_weights\u001b[0m\u001b[0;34m(\u001b[0m\u001b[0mdocvecs\u001b[0m\u001b[0;34m)\u001b[0m\u001b[0;34m\u001b[0m\u001b[0;34m\u001b[0m\u001b[0m\n\u001b[0m\u001b[1;32m    889\u001b[0m \u001b[0;34m\u001b[0m\u001b[0m\n\u001b[1;32m    890\u001b[0m     \u001b[0;32mdef\u001b[0m \u001b[0mreset_doc_weights\u001b[0m\u001b[0;34m(\u001b[0m\u001b[0mself\u001b[0m\u001b[0;34m,\u001b[0m \u001b[0mdocvecs\u001b[0m\u001b[0;34m)\u001b[0m\u001b[0;34m:\u001b[0m\u001b[0;34m\u001b[0m\u001b[0;34m\u001b[0m\u001b[0m\n",
      "\u001b[0;32m/software/Anaconda3-5.3.0-el7-x86_64/lib/python3.6/site-packages/gensim/models/doc2vec.py\u001b[0m in \u001b[0;36mreset_doc_weights\u001b[0;34m(self, docvecs)\u001b[0m\n\u001b[1;32m    899\u001b[0m             \u001b[0mself\u001b[0m\u001b[0;34m.\u001b[0m\u001b[0mvectors_docs_lockf\u001b[0m\u001b[0;34m.\u001b[0m\u001b[0mfill\u001b[0m\u001b[0;34m(\u001b[0m\u001b[0;36m1.0\u001b[0m\u001b[0;34m)\u001b[0m\u001b[0;34m\u001b[0m\u001b[0;34m\u001b[0m\u001b[0m\n\u001b[1;32m    900\u001b[0m         \u001b[0;32melse\u001b[0m\u001b[0;34m:\u001b[0m\u001b[0;34m\u001b[0m\u001b[0;34m\u001b[0m\u001b[0m\n\u001b[0;32m--> 901\u001b[0;31m             \u001b[0mdocvecs\u001b[0m\u001b[0;34m.\u001b[0m\u001b[0mvectors_docs\u001b[0m \u001b[0;34m=\u001b[0m \u001b[0mempty\u001b[0m\u001b[0;34m(\u001b[0m\u001b[0;34m(\u001b[0m\u001b[0mlength\u001b[0m\u001b[0;34m,\u001b[0m \u001b[0mdocvecs\u001b[0m\u001b[0;34m.\u001b[0m\u001b[0mvector_size\u001b[0m\u001b[0;34m)\u001b[0m\u001b[0;34m,\u001b[0m \u001b[0mdtype\u001b[0m\u001b[0;34m=\u001b[0m\u001b[0mREAL\u001b[0m\u001b[0;34m)\u001b[0m\u001b[0;34m\u001b[0m\u001b[0;34m\u001b[0m\u001b[0m\n\u001b[0m\u001b[1;32m    902\u001b[0m             \u001b[0mself\u001b[0m\u001b[0;34m.\u001b[0m\u001b[0mvectors_docs_lockf\u001b[0m \u001b[0;34m=\u001b[0m \u001b[0mones\u001b[0m\u001b[0;34m(\u001b[0m\u001b[0;34m(\u001b[0m\u001b[0mlength\u001b[0m\u001b[0;34m,\u001b[0m\u001b[0;34m)\u001b[0m\u001b[0;34m,\u001b[0m \u001b[0mdtype\u001b[0m\u001b[0;34m=\u001b[0m\u001b[0mREAL\u001b[0m\u001b[0;34m)\u001b[0m  \u001b[0;31m# zeros suppress learning\u001b[0m\u001b[0;34m\u001b[0m\u001b[0;34m\u001b[0m\u001b[0m\n\u001b[1;32m    903\u001b[0m \u001b[0;34m\u001b[0m\u001b[0m\n",
      "\u001b[0;31mValueError\u001b[0m: array is too big; `arr.size * arr.dtype.itemsize` is larger than the maximum possible size."
     ]
    }
   ],
   "source": [
    "tweetsD2V = gensim.models.doc2vec.Doc2Vec(tweetsDF_small['TaggedTweets']) #Limiting to 100 dimensions\n"
   ]
  },
  {
   "cell_type": "code",
   "execution_count": 84,
   "metadata": {},
   "outputs": [
    {
     "ename": "NameError",
     "evalue": "name 'tweetsD2V' is not defined",
     "output_type": "error",
     "traceback": [
      "\u001b[0;31m---------------------------------------------------------------------------\u001b[0m",
      "\u001b[0;31mNameError\u001b[0m                                 Traceback (most recent call last)",
      "\u001b[0;32m<ipython-input-84-335a7e4af7b0>\u001b[0m in \u001b[0;36m<module>\u001b[0;34m\u001b[0m\n\u001b[1;32m      1\u001b[0m \u001b[0;31m# inspect vectors\u001b[0m\u001b[0;34m\u001b[0m\u001b[0;34m\u001b[0m\u001b[0;34m\u001b[0m\u001b[0m\n\u001b[0;32m----> 2\u001b[0;31m \u001b[0mtweetsD2V\u001b[0m\u001b[0;34m.\u001b[0m\u001b[0mdocvecs\u001b[0m\u001b[0;34m[\u001b[0m\u001b[0;36m1952\u001b[0m\u001b[0;34m]\u001b[0m\u001b[0;34m\u001b[0m\u001b[0;34m\u001b[0m\u001b[0m\n\u001b[0m",
      "\u001b[0;31mNameError\u001b[0m: name 'tweetsD2V' is not defined"
     ]
    }
   ],
   "source": [
    "# inspect vectors\n",
    "tweetsD2V.docvecs[1952]"
   ]
  },
  {
   "cell_type": "code",
   "execution_count": null,
   "metadata": {},
   "outputs": [],
   "source": [
    "# inspect a word\n",
    "tweetsD2V['election']"
   ]
  },
  {
   "cell_type": "code",
   "execution_count": null,
   "metadata": {},
   "outputs": [],
   "source": [
    "# inspect a word\n",
    "tweetsD2V.most_similar(positive = ['atom','electrons'], negative = ['electron'], topn = 1)"
   ]
  },
  {
   "cell_type": "code",
   "execution_count": null,
   "metadata": {},
   "outputs": [],
   "source": [
    "# compute all of these by hand--explicitly wth vector algebra:\n",
    "sklearn.metrics.pairwise.cosine_similarity(apsD2V['electron'].reshape(1,-1), apsD2V['positron'].reshape(1,-1))\n"
   ]
  },
  {
   "cell_type": "code",
   "execution_count": null,
   "metadata": {},
   "outputs": [],
   "source": [
    "# calculate distance between a word and documents in the dataset\n",
    "apsD2V.docvecs.most_similar([ apsD2V['imwithher'] ], topn=5 )"
   ]
  },
  {
   "cell_type": "code",
   "execution_count": null,
   "metadata": {},
   "outputs": [],
   "source": [
    "#inspect the most similar tweet/document\n"
   ]
  },
  {
   "cell_type": "code",
   "execution_count": null,
   "metadata": {},
   "outputs": [],
   "source": [
    "# words most similar to the document\n",
    "apsD2V.most_similar( [ apsD2V.docvecs['10.1103/PhysRev.98.875'] ], topn=5) \n"
   ]
  },
  {
   "cell_type": "code",
   "execution_count": null,
   "metadata": {},
   "outputs": [],
   "source": []
  },
  {
   "cell_type": "markdown",
   "metadata": {},
   "source": [
    "## <span style=\"color:red\">*Exercise 3*</span>\n",
    "\n",
    "<span style=\"color:red\">Construct cells immediately below this that embed documents related to your final project, then generate meaningful semantic dimensions based on your theoretical understanding of the semantic space (i.e., by subtracting semantically opposite word vectors) and project another set of word vectors onto those dimensions. Interpret the meaning of these projections for your analysis. Which of the dimensions you analyze explain the most variation in the projection of your words and why? \n",
    "\n",
    "<span style=\"color:red\">***Stretch***: Average together multiple antonym pairs to create robust semantic dimensions. How do word projections on these robust dimensions differ from single-pair dimensions?"
   ]
  },
  {
   "cell_type": "markdown",
   "metadata": {},
   "source": [
    "## <span style=\"color:red\">*Exercise 4b*</span>\n",
    "\n",
    "<span style=\"color:red\">**Do only 4a or 4b.** Construct cells immediately below this that align word embeddings over time or across domains/corpora. Interrogate the spaces that result and ask which words changed most and least over the entire period or between contexts/corpora. What does this reveal about the social game underlying your space? "
   ]
  },
  {
   "cell_type": "code",
   "execution_count": null,
   "metadata": {},
   "outputs": [],
   "source": []
  }
 ],
 "metadata": {
  "kernelspec": {
   "display_name": "Python 3",
   "language": "python",
   "name": "python3"
  },
  "language_info": {
   "codemirror_mode": {
    "name": "ipython",
    "version": 3
   },
   "file_extension": ".py",
   "mimetype": "text/x-python",
   "name": "python",
   "nbconvert_exporter": "python",
   "pygments_lexer": "ipython3",
   "version": "3.6.9"
  }
 },
 "nbformat": 4,
 "nbformat_minor": 2
}
