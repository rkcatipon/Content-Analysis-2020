{
 "cells": [
  {
   "cell_type": "code",
   "execution_count": 1,
   "metadata": {},
   "outputs": [],
   "source": [
    "#All these packages need to be installed from pip\n",
    "import gensim#For word2vec, etc\n",
    "import requests #For downloading our datasets\n",
    "import lucem_illud_2020\n",
    "\n",
    "import numpy as np #For arrays\n",
    "import pandas as pd #Gives us DataFrames\n",
    "import matplotlib.pyplot as plt #For graphics\n",
    "import seaborn #Makes the graphics look nicer\n",
    "import sklearn.metrics.pairwise #For cosine similarity\n",
    "import sklearn.manifold #For T-SNE\n",
    "import sklearn.decomposition #For PCA\n",
    "\n",
    "#This 'magic' command makes the plots work better\n",
    "#in the notebook, don't use it outside of a notebook.\n",
    "#Also you can ignore the warning\n",
    "%matplotlib inline\n",
    "\n",
    "import os #For looking through files\n",
    "import os.path #For managing file paths"
   ]
  },
  {
   "cell_type": "markdown",
   "metadata": {},
   "source": [
    "## <span style=\"color:red\">*Exercise 1*</span>\n",
    "\n",
    "<span style=\"color:red\">Construct cells immediately below this that embed documents related to your final project using at least two different specification of `word2vec`, and visualize them each with two separate visualization layout specifications (e.g., TSNE, PCA). Then interrogate critical word vectors within your corpus in terms of the most similar words, analogies, and other additions and subtractions that reveal the structure of similarity and difference within your semantic space. What does this pattern reveal about the semantic organization of words in your corpora? Which estimation and visualization specification generate the most insight and appear the most robustly supported and why? \n",
    "\n",
    "<span style=\"color:red\">***Stretch***: Explore different vector calculations beyond addition and subtraction, such as multiplication, division or some other function. What does this exploration reveal about the semantic structure of your corpus?"
   ]
  },
  {
   "cell_type": "markdown",
   "metadata": {},
   "source": [
    "Continuing with the same dataset as past notebooks, I will be looking at a collection of tweets that went viral during the 2016 election. Within this collection, a few tweets were identified as containing fake news. This notebook will analyze the text of these tweets using Word2vec, as a way to explore the semantic space."
   ]
  },
  {
   "cell_type": "code",
   "execution_count": 2,
   "metadata": {},
   "outputs": [
    {
     "data": {
      "text/html": [
       "<div>\n",
       "<style scoped>\n",
       "    .dataframe tbody tr th:only-of-type {\n",
       "        vertical-align: middle;\n",
       "    }\n",
       "\n",
       "    .dataframe tbody tr th {\n",
       "        vertical-align: top;\n",
       "    }\n",
       "\n",
       "    .dataframe thead th {\n",
       "        text-align: right;\n",
       "    }\n",
       "</style>\n",
       "<table border=\"1\" class=\"dataframe\">\n",
       "  <thead>\n",
       "    <tr style=\"text-align: right;\">\n",
       "      <th></th>\n",
       "      <th>is_fake_news</th>\n",
       "      <th>fake_news_category</th>\n",
       "      <th>tweet_id</th>\n",
       "      <th>created_at</th>\n",
       "      <th>retweet_count</th>\n",
       "      <th>text</th>\n",
       "      <th>user_screen_name</th>\n",
       "      <th>user_verified</th>\n",
       "      <th>user_friends_count</th>\n",
       "      <th>user_followers_count</th>\n",
       "      <th>user_favourites_count</th>\n",
       "      <th>tweet_source</th>\n",
       "      <th>geo_coordinates</th>\n",
       "      <th>num_hashtags</th>\n",
       "      <th>num_mentions</th>\n",
       "      <th>num_urls</th>\n",
       "      <th>num_media</th>\n",
       "      <th>tokenized_sents</th>\n",
       "      <th>normalized_sents</th>\n",
       "    </tr>\n",
       "  </thead>\n",
       "  <tbody>\n",
       "    <tr>\n",
       "      <th>0</th>\n",
       "      <td>False</td>\n",
       "      <td>NaN</td>\n",
       "      <td>264033382076407808</td>\n",
       "      <td>Thu Nov 01 15:57:18 +0000 2012</td>\n",
       "      <td>4698</td>\n",
       "      <td>@realDonaldTrump you are full of shit!</td>\n",
       "      <td>RalphGilles</td>\n",
       "      <td>True</td>\n",
       "      <td>763</td>\n",
       "      <td>26680</td>\n",
       "      <td>3079</td>\n",
       "      <td>&lt;a href=\"http://twitter.com/download/iphone\" r...</td>\n",
       "      <td>0</td>\n",
       "      <td>0</td>\n",
       "      <td>2</td>\n",
       "      <td>0</td>\n",
       "      <td>0</td>\n",
       "      <td>[[@realDonaldTrump, you, are, full, of, shit]]</td>\n",
       "      <td>[[@realdonaldtrump, shit]]</td>\n",
       "    </tr>\n",
       "    <tr>\n",
       "      <th>10</th>\n",
       "      <td>False</td>\n",
       "      <td>NaN</td>\n",
       "      <td>388618880605646848</td>\n",
       "      <td>Fri Oct 11 10:55:36 +0000 2013</td>\n",
       "      <td>1629</td>\n",
       "      <td>Beautiful morning walk in Hyde Park #London wi...</td>\n",
       "      <td>billclinton</td>\n",
       "      <td>True</td>\n",
       "      <td>26</td>\n",
       "      <td>6252982</td>\n",
       "      <td>60</td>\n",
       "      <td>&lt;a href=\"http://twitter.com\" rel=\"nofollow\"&gt;Tw...</td>\n",
       "      <td>1</td>\n",
       "      <td>1</td>\n",
       "      <td>2</td>\n",
       "      <td>0</td>\n",
       "      <td>1</td>\n",
       "      <td>[[Beautiful, morning, walk, in, Hyde, Park, Lo...</td>\n",
       "      <td>[[beautiful, morning, walk, hyde, park, london...</td>\n",
       "    </tr>\n",
       "    <tr>\n",
       "      <th>20</th>\n",
       "      <td>False</td>\n",
       "      <td>NaN</td>\n",
       "      <td>596194588064354304</td>\n",
       "      <td>Thu May 07 06:07:21 +0000 2015</td>\n",
       "      <td>3522</td>\n",
       "      <td>There's an important choice to be made today; ...</td>\n",
       "      <td>SoVeryBritish</td>\n",
       "      <td>True</td>\n",
       "      <td>1</td>\n",
       "      <td>1441390</td>\n",
       "      <td>1468</td>\n",
       "      <td>&lt;a href=\"http://twitter.com/download/iphone\" r...</td>\n",
       "      <td>0</td>\n",
       "      <td>0</td>\n",
       "      <td>1</td>\n",
       "      <td>0</td>\n",
       "      <td>0</td>\n",
       "      <td>[[There, 's, an, important, choice, to, be, ma...</td>\n",
       "      <td>[[important, choice, today, vote, wisely, favo...</td>\n",
       "    </tr>\n",
       "    <tr>\n",
       "      <th>30</th>\n",
       "      <td>False</td>\n",
       "      <td>NaN</td>\n",
       "      <td>658662473231298560</td>\n",
       "      <td>Mon Oct 26 15:12:25 +0000 2015</td>\n",
       "      <td>16504</td>\n",
       "      <td>Hey @realDonaldTrump you saw a kid lost in New...</td>\n",
       "      <td>DaveWeasel</td>\n",
       "      <td>True</td>\n",
       "      <td>134460</td>\n",
       "      <td>221619</td>\n",
       "      <td>29437</td>\n",
       "      <td>&lt;a href=\"http://twitter.com/download/iphone\" r...</td>\n",
       "      <td>0</td>\n",
       "      <td>0</td>\n",
       "      <td>2</td>\n",
       "      <td>0</td>\n",
       "      <td>0</td>\n",
       "      <td>[[Hey, @realDonaldTrump, you, saw, a, kid, los...</td>\n",
       "      <td>[[hey, @realdonaldtrump, saw, kid, lost, new, ...</td>\n",
       "    </tr>\n",
       "    <tr>\n",
       "      <th>40</th>\n",
       "      <td>False</td>\n",
       "      <td>NaN</td>\n",
       "      <td>674008204838199297</td>\n",
       "      <td>Mon Dec 07 23:30:53 +0000 2015</td>\n",
       "      <td>8749</td>\n",
       "      <td>Finally trashed by @realDonaldTrump. Will stil...</td>\n",
       "      <td>JeffBezos</td>\n",
       "      <td>True</td>\n",
       "      <td>0</td>\n",
       "      <td>146602</td>\n",
       "      <td>0</td>\n",
       "      <td>&lt;a href=\"http://twitter.com\" rel=\"nofollow\"&gt;Tw...</td>\n",
       "      <td>1</td>\n",
       "      <td>1</td>\n",
       "      <td>2</td>\n",
       "      <td>0</td>\n",
       "      <td>0</td>\n",
       "      <td>[[Finally, trashed, by, @realDonaldTrump], [Wi...</td>\n",
       "      <td>[[finally, trashed, @realdonaldtrump], [reserv...</td>\n",
       "    </tr>\n",
       "    <tr>\n",
       "      <th>50</th>\n",
       "      <td>False</td>\n",
       "      <td>NaN</td>\n",
       "      <td>687317650658189312</td>\n",
       "      <td>Wed Jan 13 16:57:52 +0000 2016</td>\n",
       "      <td>18193</td>\n",
       "      <td>'To Bernie Sanders with thanks for your commit...</td>\n",
       "      <td>BernieSanders</td>\n",
       "      <td>True</td>\n",
       "      <td>1511</td>\n",
       "      <td>3866551</td>\n",
       "      <td>970</td>\n",
       "      <td>&lt;a href=\"https://about.twitter.com/products/tw...</td>\n",
       "      <td>0</td>\n",
       "      <td>0</td>\n",
       "      <td>2</td>\n",
       "      <td>0</td>\n",
       "      <td>0</td>\n",
       "      <td>[[To, Bernie, Sanders, with, thanks, for, your...</td>\n",
       "      <td>[[bernie, sanders, thanks, commitment, real, h...</td>\n",
       "    </tr>\n",
       "    <tr>\n",
       "      <th>60</th>\n",
       "      <td>False</td>\n",
       "      <td>NaN</td>\n",
       "      <td>693175853853904898</td>\n",
       "      <td>Fri Jan 29 20:56:16 +0000 2016</td>\n",
       "      <td>4419</td>\n",
       "      <td>Oh, yeah btw I still have a copy of this tweet...</td>\n",
       "      <td>QU0RN_D0G</td>\n",
       "      <td>False</td>\n",
       "      <td>4854</td>\n",
       "      <td>7664</td>\n",
       "      <td>14830</td>\n",
       "      <td>&lt;a href=\"http://twitter.com\" rel=\"nofollow\"&gt;Tw...</td>\n",
       "      <td>0</td>\n",
       "      <td>0</td>\n",
       "      <td>2</td>\n",
       "      <td>0</td>\n",
       "      <td>1</td>\n",
       "      <td>[[Oh], [yeah], [btw, I, still, have, a, copy, ...</td>\n",
       "      <td>[[oh], [yeah], [btw, copy, tweet, deleted, sir...</td>\n",
       "    </tr>\n",
       "    <tr>\n",
       "      <th>70</th>\n",
       "      <td>False</td>\n",
       "      <td>NaN</td>\n",
       "      <td>704756959019474948</td>\n",
       "      <td>Tue Mar 01 19:55:27 +0000 2016</td>\n",
       "      <td>7867</td>\n",
       "      <td>@realDonaldTrump, Bless your heart.</td>\n",
       "      <td>nikkihaley</td>\n",
       "      <td>True</td>\n",
       "      <td>176</td>\n",
       "      <td>158430</td>\n",
       "      <td>138</td>\n",
       "      <td>&lt;a href=\"https://mobile.twitter.com\" rel=\"nofo...</td>\n",
       "      <td>0</td>\n",
       "      <td>0</td>\n",
       "      <td>2</td>\n",
       "      <td>0</td>\n",
       "      <td>0</td>\n",
       "      <td>[[@realDonaldTrump, Bless, your, heart]]</td>\n",
       "      <td>[[@realdonaldtrump, bless, heart]]</td>\n",
       "    </tr>\n",
       "    <tr>\n",
       "      <th>80</th>\n",
       "      <td>False</td>\n",
       "      <td>NaN</td>\n",
       "      <td>712380720656883713</td>\n",
       "      <td>Tue Mar 22 20:49:33 +0000 2016</td>\n",
       "      <td>2744</td>\n",
       "      <td>Retweet if Donald J. Trump has your vote for t...</td>\n",
       "      <td>trump_nation</td>\n",
       "      <td>False</td>\n",
       "      <td>778</td>\n",
       "      <td>28272</td>\n",
       "      <td>676</td>\n",
       "      <td>&lt;a href=\"http://twitter.com/download/iphone\" r...</td>\n",
       "      <td>0</td>\n",
       "      <td>0</td>\n",
       "      <td>2</td>\n",
       "      <td>0</td>\n",
       "      <td>0</td>\n",
       "      <td>[[Retweet, if, Donald, J., Trump, has, your, v...</td>\n",
       "      <td>[[retweet, donald, j., trump, vote, general, e...</td>\n",
       "    </tr>\n",
       "    <tr>\n",
       "      <th>90</th>\n",
       "      <td>False</td>\n",
       "      <td>NaN</td>\n",
       "      <td>722628702748688385</td>\n",
       "      <td>Wed Apr 20 03:31:23 +0000 2016</td>\n",
       "      <td>5363</td>\n",
       "      <td>'@bigop1: @realDonaldTrump @CNN @oreillyfactor...</td>\n",
       "      <td>realDonaldTrump</td>\n",
       "      <td>True</td>\n",
       "      <td>41</td>\n",
       "      <td>13035771</td>\n",
       "      <td>45</td>\n",
       "      <td>&lt;a href=\"http://twitter.com/download/android\" ...</td>\n",
       "      <td>0</td>\n",
       "      <td>0</td>\n",
       "      <td>5</td>\n",
       "      <td>0</td>\n",
       "      <td>1</td>\n",
       "      <td>[[@bigop1], [@realDonaldTrump, @CNN, @oreillyf...</td>\n",
       "      <td>[[@bigop1], [@realdonaldtrump, @cnn, @oreillyf...</td>\n",
       "    </tr>\n",
       "  </tbody>\n",
       "</table>\n",
       "</div>"
      ],
      "text/plain": [
       "    is_fake_news  fake_news_category            tweet_id  \\\n",
       "0          False                 NaN  264033382076407808   \n",
       "10         False                 NaN  388618880605646848   \n",
       "20         False                 NaN  596194588064354304   \n",
       "30         False                 NaN  658662473231298560   \n",
       "40         False                 NaN  674008204838199297   \n",
       "50         False                 NaN  687317650658189312   \n",
       "60         False                 NaN  693175853853904898   \n",
       "70         False                 NaN  704756959019474948   \n",
       "80         False                 NaN  712380720656883713   \n",
       "90         False                 NaN  722628702748688385   \n",
       "\n",
       "                        created_at  retweet_count  \\\n",
       "0   Thu Nov 01 15:57:18 +0000 2012           4698   \n",
       "10  Fri Oct 11 10:55:36 +0000 2013           1629   \n",
       "20  Thu May 07 06:07:21 +0000 2015           3522   \n",
       "30  Mon Oct 26 15:12:25 +0000 2015          16504   \n",
       "40  Mon Dec 07 23:30:53 +0000 2015           8749   \n",
       "50  Wed Jan 13 16:57:52 +0000 2016          18193   \n",
       "60  Fri Jan 29 20:56:16 +0000 2016           4419   \n",
       "70  Tue Mar 01 19:55:27 +0000 2016           7867   \n",
       "80  Tue Mar 22 20:49:33 +0000 2016           2744   \n",
       "90  Wed Apr 20 03:31:23 +0000 2016           5363   \n",
       "\n",
       "                                                 text user_screen_name  \\\n",
       "0              @realDonaldTrump you are full of shit!      RalphGilles   \n",
       "10  Beautiful morning walk in Hyde Park #London wi...      billclinton   \n",
       "20  There's an important choice to be made today; ...    SoVeryBritish   \n",
       "30  Hey @realDonaldTrump you saw a kid lost in New...       DaveWeasel   \n",
       "40  Finally trashed by @realDonaldTrump. Will stil...        JeffBezos   \n",
       "50  'To Bernie Sanders with thanks for your commit...    BernieSanders   \n",
       "60  Oh, yeah btw I still have a copy of this tweet...        QU0RN_D0G   \n",
       "70                @realDonaldTrump, Bless your heart.       nikkihaley   \n",
       "80  Retweet if Donald J. Trump has your vote for t...     trump_nation   \n",
       "90  '@bigop1: @realDonaldTrump @CNN @oreillyfactor...  realDonaldTrump   \n",
       "\n",
       "    user_verified  user_friends_count  user_followers_count  \\\n",
       "0            True                 763                 26680   \n",
       "10           True                  26               6252982   \n",
       "20           True                   1               1441390   \n",
       "30           True              134460                221619   \n",
       "40           True                   0                146602   \n",
       "50           True                1511               3866551   \n",
       "60          False                4854                  7664   \n",
       "70           True                 176                158430   \n",
       "80          False                 778                 28272   \n",
       "90           True                  41              13035771   \n",
       "\n",
       "    user_favourites_count                                       tweet_source  \\\n",
       "0                    3079  <a href=\"http://twitter.com/download/iphone\" r...   \n",
       "10                     60  <a href=\"http://twitter.com\" rel=\"nofollow\">Tw...   \n",
       "20                   1468  <a href=\"http://twitter.com/download/iphone\" r...   \n",
       "30                  29437  <a href=\"http://twitter.com/download/iphone\" r...   \n",
       "40                      0  <a href=\"http://twitter.com\" rel=\"nofollow\">Tw...   \n",
       "50                    970  <a href=\"https://about.twitter.com/products/tw...   \n",
       "60                  14830  <a href=\"http://twitter.com\" rel=\"nofollow\">Tw...   \n",
       "70                    138  <a href=\"https://mobile.twitter.com\" rel=\"nofo...   \n",
       "80                    676  <a href=\"http://twitter.com/download/iphone\" r...   \n",
       "90                     45  <a href=\"http://twitter.com/download/android\" ...   \n",
       "\n",
       "    geo_coordinates  num_hashtags  num_mentions  num_urls  num_media  \\\n",
       "0                 0             0             2         0          0   \n",
       "10                1             1             2         0          1   \n",
       "20                0             0             1         0          0   \n",
       "30                0             0             2         0          0   \n",
       "40                1             1             2         0          0   \n",
       "50                0             0             2         0          0   \n",
       "60                0             0             2         0          1   \n",
       "70                0             0             2         0          0   \n",
       "80                0             0             2         0          0   \n",
       "90                0             0             5         0          1   \n",
       "\n",
       "                                      tokenized_sents  \\\n",
       "0      [[@realDonaldTrump, you, are, full, of, shit]]   \n",
       "10  [[Beautiful, morning, walk, in, Hyde, Park, Lo...   \n",
       "20  [[There, 's, an, important, choice, to, be, ma...   \n",
       "30  [[Hey, @realDonaldTrump, you, saw, a, kid, los...   \n",
       "40  [[Finally, trashed, by, @realDonaldTrump], [Wi...   \n",
       "50  [[To, Bernie, Sanders, with, thanks, for, your...   \n",
       "60  [[Oh], [yeah], [btw, I, still, have, a, copy, ...   \n",
       "70           [[@realDonaldTrump, Bless, your, heart]]   \n",
       "80  [[Retweet, if, Donald, J., Trump, has, your, v...   \n",
       "90  [[@bigop1], [@realDonaldTrump, @CNN, @oreillyf...   \n",
       "\n",
       "                                     normalized_sents  \n",
       "0                          [[@realdonaldtrump, shit]]  \n",
       "10  [[beautiful, morning, walk, hyde, park, london...  \n",
       "20  [[important, choice, today, vote, wisely, favo...  \n",
       "30  [[hey, @realdonaldtrump, saw, kid, lost, new, ...  \n",
       "40  [[finally, trashed, @realdonaldtrump], [reserv...  \n",
       "50  [[bernie, sanders, thanks, commitment, real, h...  \n",
       "60  [[oh], [yeah], [btw, copy, tweet, deleted, sir...  \n",
       "70                 [[@realdonaldtrump, bless, heart]]  \n",
       "80  [[retweet, donald, j., trump, vote, general, e...  \n",
       "90  [[@bigop1], [@realdonaldtrump, @cnn, @oreillyf...  "
      ]
     },
     "execution_count": 2,
     "metadata": {},
     "output_type": "execute_result"
    }
   ],
   "source": [
    "# Preprocessing for word2vec analysis\n",
    "tweetsDF = pd.read_excel(\"/home/rkcatipon/Content-Analysis-2020/week-5/electionday_tweets.xlsx\")\n",
    "\n",
    "#load data\n",
    "\n",
    "tweetsDF['tokenized_sents'] = tweetsDF['text'].apply(lambda x: [lucem_illud_2020.word_tokenize(s) for s in lucem_illud_2020.sent_tokenize(x)])\n",
    "tweetsDF['normalized_sents'] = tweetsDF['tokenized_sents'].apply(lambda x: [lucem_illud_2020.normalizeTokens(s, lemma=False) for s in x])\n",
    "\n",
    "tweetsDF[:100:10]\n"
   ]
  },
  {
   "cell_type": "code",
   "execution_count": 3,
   "metadata": {},
   "outputs": [
    {
     "data": {
      "text/html": [
       "<div>\n",
       "<style scoped>\n",
       "    .dataframe tbody tr th:only-of-type {\n",
       "        vertical-align: middle;\n",
       "    }\n",
       "\n",
       "    .dataframe tbody tr th {\n",
       "        vertical-align: top;\n",
       "    }\n",
       "\n",
       "    .dataframe thead th {\n",
       "        text-align: right;\n",
       "    }\n",
       "</style>\n",
       "<table border=\"1\" class=\"dataframe\">\n",
       "  <thead>\n",
       "    <tr style=\"text-align: right;\">\n",
       "      <th></th>\n",
       "      <th>is_fake_news</th>\n",
       "      <th>fake_news_category</th>\n",
       "      <th>tweet_id</th>\n",
       "      <th>created_at</th>\n",
       "      <th>retweet_count</th>\n",
       "      <th>text</th>\n",
       "      <th>user_screen_name</th>\n",
       "      <th>user_verified</th>\n",
       "      <th>user_friends_count</th>\n",
       "      <th>user_followers_count</th>\n",
       "      <th>user_favourites_count</th>\n",
       "      <th>tweet_source</th>\n",
       "      <th>geo_coordinates</th>\n",
       "      <th>num_hashtags</th>\n",
       "      <th>num_mentions</th>\n",
       "      <th>num_urls</th>\n",
       "      <th>num_media</th>\n",
       "      <th>tokenized_sents</th>\n",
       "      <th>normalized_sents</th>\n",
       "    </tr>\n",
       "  </thead>\n",
       "  <tbody>\n",
       "    <tr>\n",
       "      <th>0</th>\n",
       "      <td>False</td>\n",
       "      <td>NaN</td>\n",
       "      <td>264033382076407808</td>\n",
       "      <td>Thu Nov 01 15:57:18 +0000 2012</td>\n",
       "      <td>4698</td>\n",
       "      <td>@realDonaldTrump you are full of shit!</td>\n",
       "      <td>RalphGilles</td>\n",
       "      <td>True</td>\n",
       "      <td>763</td>\n",
       "      <td>26680</td>\n",
       "      <td>3079</td>\n",
       "      <td>&lt;a href=\"http://twitter.com/download/iphone\" r...</td>\n",
       "      <td>0</td>\n",
       "      <td>0</td>\n",
       "      <td>2</td>\n",
       "      <td>0</td>\n",
       "      <td>0</td>\n",
       "      <td>[[@realDonaldTrump, you, are, full, of, shit]]</td>\n",
       "      <td>[[@realdonaldtrump, shit]]</td>\n",
       "    </tr>\n",
       "  </tbody>\n",
       "</table>\n",
       "</div>"
      ],
      "text/plain": [
       "   is_fake_news  fake_news_category            tweet_id  \\\n",
       "0         False                 NaN  264033382076407808   \n",
       "\n",
       "                       created_at  retweet_count  \\\n",
       "0  Thu Nov 01 15:57:18 +0000 2012           4698   \n",
       "\n",
       "                                     text user_screen_name  user_verified  \\\n",
       "0  @realDonaldTrump you are full of shit!      RalphGilles           True   \n",
       "\n",
       "   user_friends_count  user_followers_count  user_favourites_count  \\\n",
       "0                 763                 26680                   3079   \n",
       "\n",
       "                                        tweet_source  geo_coordinates  \\\n",
       "0  <a href=\"http://twitter.com/download/iphone\" r...                0   \n",
       "\n",
       "   num_hashtags  num_mentions  num_urls  num_media  \\\n",
       "0             0             2         0          0   \n",
       "\n",
       "                                  tokenized_sents            normalized_sents  \n",
       "0  [[@realDonaldTrump, you, are, full, of, shit]]  [[@realdonaldtrump, shit]]  "
      ]
     },
     "execution_count": 3,
     "metadata": {},
     "output_type": "execute_result"
    }
   ],
   "source": [
    "#The tokenized text is now in lists of lists"
   ]
  },
  {
   "cell_type": "code",
   "execution_count": 4,
   "metadata": {},
   "outputs": [],
   "source": [
    "# train the word2vec model with sentences\n",
    "\n",
    "tweetsW2V = gensim.models.word2vec.Word2Vec(tweetsDF['normalized_sents'].sum())"
   ]
  },
  {
   "cell_type": "code",
   "execution_count": 5,
   "metadata": {},
   "outputs": [
    {
     "data": {
      "text/plain": [
       "array([ 0.01289606, -0.00041388, -0.01366387, -0.0157923 ,  0.01326016,\n",
       "        0.01739379, -0.01310362,  0.01145159,  0.00240094, -0.00805926],\n",
       "      dtype=float32)"
      ]
     },
     "execution_count": 5,
     "metadata": {},
     "output_type": "execute_result"
    }
   ],
   "source": [
    "# let us inspect the term Trump\n",
    "tweetsW2V['trump'][:10]"
   ]
  },
  {
   "cell_type": "code",
   "execution_count": 16,
   "metadata": {},
   "outputs": [
    {
     "name": "stdout",
     "output_type": "stream",
     "text": [
      "[[ 0.0154112   0.00153469 -0.01682547 ... -0.01832273 -0.01056829\n",
      "  -0.00050319]\n",
      " [ 0.00707332  0.00132964 -0.00175251 ... -0.00370144 -0.00423952\n",
      "  -0.00156042]\n",
      " [ 0.00856132  0.00260492 -0.01599956 ... -0.0170201  -0.0106805\n",
      "  -0.00083043]\n",
      " ...\n",
      " [ 0.00549344  0.00379087 -0.00075946 ...  0.00032598  0.00145225\n",
      "   0.00126699]\n",
      " [ 0.00262748 -0.00432705 -0.00460185 ... -0.0027735   0.00074744\n",
      "  -0.00358284]\n",
      " [ 0.00108969  0.00414724 -0.00546189 ...  0.00412179  0.00106543\n",
      "  -0.00088897]]\n",
      "\n",
      "A look at the different vectorized words\n",
      "##########\n",
      "11: president\n",
      "200: political\n",
      "90: good\n"
     ]
    }
   ],
   "source": [
    "# a look at all the vectors\n",
    "print(tweetsW2V.wv.syn0)\n",
    "print()\n",
    "print(\"A look at the different vectorized words\")\n",
    "print(\"##########\")\n",
    "print('11:', tweetsW2V.wv.index2word[11])\n",
    "print('200:', tweetsW2V.wv.index2word[200])\n",
    "print('90:', tweetsW2V.wv.index2word[90])"
   ]
  },
  {
   "cell_type": "markdown",
   "metadata": {},
   "source": [
    "# Cosine similarity\n",
    "Because of the nature of the dataset, I would like to learn about words that are most similar to the two candidates according to w2v. I hypothesize that the words that are considered similar to the Clinton and Trump may tell us about the characterization of the two candidates the day of the election."
   ]
  },
  {
   "cell_type": "code",
   "execution_count": 18,
   "metadata": {},
   "outputs": [
    {
     "data": {
      "text/plain": [
       "[('@realdonaldtrump', 0.9343799948692322),\n",
       " ('@hillaryclinton', 0.9262780547142029),\n",
       " ('america', 0.9177895784378052),\n",
       " ('amp', 0.902174711227417),\n",
       " ('vote', 0.894525408744812),\n",
       " ('american', 0.8825736045837402),\n",
       " ('country', 0.8721880912780762),\n",
       " ('big', 0.8711351156234741),\n",
       " ('stop', 0.864741861820221),\n",
       " ('day', 0.8636565208435059)]"
      ]
     },
     "execution_count": 18,
     "metadata": {},
     "output_type": "execute_result"
    }
   ],
   "source": [
    "tweetsW2V.most_similar('trump')"
   ]
  },
  {
   "cell_type": "code",
   "execution_count": 42,
   "metadata": {},
   "outputs": [
    {
     "data": {
      "text/plain": [
       "[('@hillaryclinton', 0.8727900981903076),\n",
       " ('@realdonaldtrump', 0.8681909441947937),\n",
       " ('country', 0.8492379188537598),\n",
       " ('america', 0.8481353521347046),\n",
       " ('trump', 0.8440330028533936),\n",
       " ('people', 0.8304079174995422),\n",
       " ('amp', 0.8279247879981995),\n",
       " ('american', 0.8269222974777222),\n",
       " ('today', 0.8174984455108643),\n",
       " ('fight', 0.8165656328201294)]"
      ]
     },
     "execution_count": 42,
     "metadata": {},
     "output_type": "execute_result"
    }
   ],
   "source": [
    "tweetsW2V.most_similar('clinton')"
   ]
  },
  {
   "cell_type": "code",
   "execution_count": 43,
   "metadata": {},
   "outputs": [
    {
     "data": {
      "text/plain": [
       "[('@realdonaldtrump', 0.958302915096283),\n",
       " ('trump', 0.9262779951095581),\n",
       " ('amp', 0.9144220352172852),\n",
       " ('vote', 0.9132774472236633),\n",
       " ('country', 0.9084826111793518),\n",
       " ('american', 0.9036430716514587),\n",
       " ('america', 0.9011461138725281),\n",
       " ('people', 0.8889366388320923),\n",
       " ('polls', 0.8847053050994873),\n",
       " ('fight', 0.8837143182754517)]"
      ]
     },
     "execution_count": 43,
     "metadata": {},
     "output_type": "execute_result"
    }
   ],
   "source": [
    "tweetsW2V.most_similar('@hillaryclinton')"
   ]
  },
  {
   "cell_type": "markdown",
   "metadata": {},
   "source": [
    "It makes that in the vector space the two candidate profiles would be close together. Semantically, it also appears they have cosine similar features such as \"American\" and \"country\". The two divergent terms are \"big\" for Trump and \"fight\" for Clinto which only appear in their respective candidate's cosine similarity set."
   ]
  },
  {
   "cell_type": "code",
   "execution_count": 23,
   "metadata": {},
   "outputs": [
    {
     "data": {
      "text/plain": [
       "'huge'"
      ]
     },
     "execution_count": 23,
     "metadata": {},
     "output_type": "execute_result"
    }
   ],
   "source": [
    "tweetsW2V.doesnt_match(['fight', 'clinton', 'today', 'huge', 'country'])"
   ]
  },
  {
   "cell_type": "markdown",
   "metadata": {},
   "source": [
    "Seems like \"huge\" is not like the others in the wordset. Let us take a look at the semantic equation. In the readings, the go-to example of word2vec is King + woman - man = queen. I'd be curious to see how word2vec handles two political spectrums represented by @hillaryclinton versus @realdonaltrump. Let's talk a look at how @HillaryClinton subtracts \"emails\" and adds \"huge\"."
   ]
  },
  {
   "cell_type": "markdown",
   "metadata": {},
   "source": [
    "# W2V subtraction and addition"
   ]
  },
  {
   "cell_type": "code",
   "execution_count": 47,
   "metadata": {},
   "outputs": [
    {
     "data": {
      "text/plain": [
       "[('@realdonaldtrump', 0.5528126955032349),\n",
       " ('cast', 0.542144775390625),\n",
       " ('time', 0.5393102765083313),\n",
       " ('😂', 0.5389424562454224),\n",
       " ('people', 0.5258145332336426),\n",
       " ('day', 0.5058679580688477),\n",
       " ('.@hillaryclinton', 0.5038829445838928),\n",
       " ('voter', 0.5028741359710693),\n",
       " ('vote', 0.49897879362106323),\n",
       " ('going', 0.49754953384399414)]"
      ]
     },
     "execution_count": 47,
     "metadata": {},
     "output_type": "execute_result"
    }
   ],
   "source": [
    "tweetsW2V.most_similar(positive=['@hillaryclinton', 'huge'], negative = ['emails'])"
   ]
  },
  {
   "cell_type": "markdown",
   "metadata": {},
   "source": [
    "In this word set, Clinton + huge - emails = @realdonaldtrump. Clinton is to emails and realdonaldtrump is to huge. These were buzzwords associated with both campaigns (for better or for worse). This intuitively makes sense but this does not seem to be a \"hard\" analysis, but rather is open to interpretation when dealing with such similar texts."
   ]
  },
  {
   "cell_type": "code",
   "execution_count": 48,
   "metadata": {},
   "outputs": [],
   "source": [
    "# save\n",
    "tweetsW2V.save(\"tweetsW2V\")"
   ]
  },
  {
   "cell_type": "markdown",
   "metadata": {},
   "source": [
    "# Visualization"
   ]
  },
  {
   "cell_type": "markdown",
   "metadata": {},
   "source": [
    "Visualizing top words and their vectors"
   ]
  },
  {
   "cell_type": "code",
   "execution_count": 49,
   "metadata": {},
   "outputs": [],
   "source": [
    "# visualize by taking top words\n",
    "numWords = 50\n",
    "targetWords = tweetsW2V.wv.index2word[:numWords]\n",
    "\n",
    "# extract top word vectors.\n",
    "# create smaller matrix preserves distances from orig. matrix\n",
    "wordsSubMatrix = []\n",
    "for word in targetWords:\n",
    "    wordsSubMatrix.append(tweetsW2V[word])\n",
    "wordsSubMatrix = np.array(wordsSubMatrix)\n",
    "wordsSubMatrix\n",
    "\n",
    "\n",
    "#PCA reduction to number of words = number of components\n",
    "pcaWords = sklearn.decomposition.PCA(n_components = 50).fit(wordsSubMatrix)\n",
    "reducedPCA_data = pcaWords.transform(wordsSubMatrix)\n",
    "#T-SNE is theoretically better, but you should experiment\n",
    "tsneWords = sklearn.manifold.TSNE(n_components = 2).fit_transform(reducedPCA_data)"
   ]
  },
  {
   "cell_type": "code",
   "execution_count": 50,
   "metadata": {},
   "outputs": [
    {
     "data": {
      "image/png": "[encoded data removed]",
      "text/plain": [
       "<Figure size 720x432 with 1 Axes>"
      ]
     },
     "metadata": {},
     "output_type": "display_data"
    }
   ],
   "source": [
    "#plot the points\n",
    "\n",
    "fig = plt.figure(figsize = (10,6))\n",
    "ax = fig.add_subplot(111)\n",
    "ax.set_frame_on(False)\n",
    "plt.scatter(tsneWords[:, 0], tsneWords[:, 1], alpha = 0)#Making the points invisible \n",
    "for i, word in enumerate(targetWords):\n",
    "    ax.annotate(word, (tsneWords[:, 0][i],tsneWords[:, 1][i]), size =  20 * (numWords - i) / numWords)\n",
    "plt.xticks(())\n",
    "plt.yticks(())\n",
    "plt.show()"
   ]
  },
  {
   "cell_type": "markdown",
   "metadata": {},
   "source": [
    "Cool! I think the [] are emojis that may not translate in the visualization. We do see that #myvote2016 is close to \"#realdonaldtrump\", \"donald\", and \"maga\". It also seems that Clinton's campaign hashtag #imwithher is close to the hashtag #myvote2016 as well, though it's surprisingly not close to \"hillary\" and \"@hillaryclinton\". I would venture a guess at user behavior here: perhaps users were tagging the campaign but were mostly talking about Trump directly. "
   ]
  },
  {
   "cell_type": "markdown",
   "metadata": {},
   "source": [
    "# Stretch"
   ]
  },
  {
   "cell_type": "markdown",
   "metadata": {},
   "source": [
    "<span style=\"color:red\">***Stretch***: Explore different vector calculations beyond addition and subtraction, such as multiplication, division or some other function. What does this exploration reveal about the semantic structure of your corpus?"
   ]
  },
  {
   "cell_type": "code",
   "execution_count": null,
   "metadata": {},
   "outputs": [],
   "source": [
    "x = tweetsW2V.most_similar(positive=['@hillaryclinton', 'huge'], negative = ['emails'])\n",
    "y = tweetsW2V.most_similar(positive=['@realdonaldtrump', 'big'], negative = ['huge'])\n",
    "\n",
    "x = np.asarray(x).reshape(-1,1)\n",
    "y = np.asarray(y).reshape(-1,1)\n",
    "x.dot(y)\n",
    "\n",
    "# I tried running this but multiplication did not work\n"
   ]
  },
  {
   "cell_type": "markdown",
   "metadata": {},
   "source": [
    "## <span style=\"color:red\">*Exercise 2*</span>\n",
    "\n",
    "<span style=\"color:red\">Construct cells immediately below this that embed documents related to your final project using `doc2vec`, and explore the relationship between different documents and the word vectors you analyzed in the last exercise. Consider the most similar words to critical documents, analogies (doc _x_ + word _y_), and other additions and subtractions that reveal the structure of similarity and difference within your semantic space. What does this pattern reveal about the documentary organization of your semantic space?"
   ]
  },
  {
   "cell_type": "markdown",
   "metadata": {},
   "source": [
    "XX Instead of just looking at just how words embed within in the space, we can look at how the different documents relate to each other within the space. First lets load our data--abstracts of most U.S. physics papers from the 1950s."
   ]
  },
  {
   "cell_type": "code",
   "execution_count": 1,
   "metadata": {},
   "outputs": [],
   "source": [
    "import re\n",
    "import zipfile\n",
    "import os\n",
    "import sys"
   ]
  },
  {
   "cell_type": "code",
   "execution_count": 4,
   "metadata": {},
   "outputs": [],
   "source": [
    "corpus_name = \"NOW\"\n",
    "\n",
    "def loadcorpus(corpus_name, corpus_style=\"text\"):\n",
    "    texts_raw = {}\n",
    "    for file in os.listdir(corpus_name + \"/\"):\n",
    "        if corpus_style in file:\n",
    "            print(file)\n",
    "            zfile = zipfile.ZipFile(corpus_name + \"/\" + file)\n",
    "            for file in zfile.namelist():\n",
    "                texts_raw[file] = []\n",
    "                with zfile.open(file) as f:\n",
    "                    for line in f:\n",
    "                        texts_raw[file].append(line)\n",
    "    return texts_raw"
   ]
  },
  {
   "cell_type": "code",
   "execution_count": 5,
   "metadata": {},
   "outputs": [
    {
     "name": "stdout",
     "output_type": "stream",
     "text": [
      "text-16-11.zip\n"
     ]
    }
   ],
   "source": [
    "news_raw = loadcorpus(corpus_name)"
   ]
  },
  {
   "cell_type": "code",
   "execution_count": 18,
   "metadata": {},
   "outputs": [],
   "source": [
    "import pickle\n",
    "pickle.dump( news_raw, open( \"news_raw.p\", \"wb\" ) )"
   ]
  },
  {
   "cell_type": "code",
   "execution_count": 19,
   "metadata": {},
   "outputs": [],
   "source": [
    "def clean_raw_text(raw_texts):\n",
    "    clean_texts = []\n",
    "    for text in raw_texts:\n",
    "        try:\n",
    "            text = text.decode(\"utf-8\")\n",
    "            clean_text = text.replace(\" \\'m\", \"'m\").replace(\" \\'ll\", \"'ll\").replace(\" \\'re\", \"'re\").replace(\" \\'s\", \"'s\").replace(\" \\'re\", \"'re\").replace(\" n\\'t\", \"n't\").replace(\" \\'ve\", \"'ve\").replace(\" /'d\", \"'d\")\n",
    "            clean_texts.append(clean_text)\n",
    "        except AttributeError:\n",
    "            # print(\"ERROR CLEANING\")\n",
    "            # print(text)\n",
    "            continue\n",
    "        except UnicodeDecodeError:\n",
    "            # print(\"Unicode Error, Skip\")\n",
    "            continue\n",
    "    return clean_texts"
   ]
  },
  {
   "cell_type": "code",
   "execution_count": 59,
   "metadata": {},
   "outputs": [],
   "source": [
    "zfile = zipfile.ZipFile(corpus_name + \"/sources-16-11.zip\")\n",
    "source = []"
   ]
  },
  {
   "cell_type": "code",
   "execution_count": 60,
   "metadata": {},
   "outputs": [],
   "source": [
    "for file in zfile.namelist():\n",
    "    with zfile.open(file) as f:\n",
    "        for line in f:\n",
    "            source.append(line)"
   ]
  },
  {
   "cell_type": "code",
   "execution_count": 20,
   "metadata": {},
   "outputs": [],
   "source": [
    "news_texts = {}\n",
    "just_texts = {}\n",
    "for files in news_raw :\n",
    "    news = clean_raw_text(news_raw[files][1:])\n",
    "    for article in news:\n",
    "        txts = lucem_illud_2020.word_tokenize(article)\n",
    "        try:\n",
    "            news_texts[txts[0][2:]] = txts[1:]\n",
    "            just_texts[txts[0][2:]] = article\n",
    "        except IndexError:\n",
    "            continue\n",
    "            "
   ]
  },
  {
   "cell_type": "code",
   "execution_count": 21,
   "metadata": {},
   "outputs": [],
   "source": [
    "pickle.dump( news_texts, open( \"news_texts.p\", \"wb\" ) )\n",
    "pickle.dump( just_texts, open( \"just_texts.p\", \"wb\" ) )"
   ]
  },
  {
   "cell_type": "code",
   "execution_count": null,
   "metadata": {},
   "outputs": [],
   "source": [
    "news_texts.keys()"
   ]
  },
  {
   "cell_type": "code",
   "execution_count": 61,
   "metadata": {},
   "outputs": [],
   "source": [
    "news_df = pd.DataFrame(columns=[\"title\", \"date\", \"country\", \"source\", \"url\", \"text\", \"tokenized texts\"])"
   ]
  },
  {
   "cell_type": "code",
   "execution_count": 62,
   "metadata": {},
   "outputs": [
    {
     "data": {
      "text/plain": [
       "[b\"15155518\\t132\\t16-11-01\\tUS\\tBusiness Wire (press release)\\thttp://www.businesswire.com/news/home/20161101005831/en/Assessment-Chinas-Market-Control-Valves-2015-2020--\\tAssessment of China's Market for Control Valves 2015-2020 ...\\r\\n\"]"
      ]
     },
     "execution_count": 62,
     "metadata": {},
     "output_type": "execute_result"
    }
   ],
   "source": [
    "source[3:4]"
   ]
  },
  {
   "cell_type": "code",
   "execution_count": null,
   "metadata": {},
   "outputs": [],
   "source": [
    "# I used the following code to extract articles and create my df \n",
    "\n",
    "for news in source[3:]:\n",
    "    try:\n",
    "        tid, total_words, date, country, source, url, title = news.decode(\"utf-8\").split(\"\\t\")\n",
    "    except UnicodeDecodeError:\n",
    "        continue\n",
    "    try:\n",
    "        news_df[tid.strip()] = [title.strip(), date.strip(), country.strip(), source.strip(), url.strip(), just_texts[tid.strip()], news_texts[tid.strip()]]\n",
    "    except KeyError:\n",
    "        continue"
   ]
  },
  {
   "cell_type": "code",
   "execution_count": 67,
   "metadata": {},
   "outputs": [],
   "source": [
    "news_df = news_df.T"
   ]
  },
  {
   "cell_type": "code",
   "execution_count": 68,
   "metadata": {},
   "outputs": [
    {
     "data": {
      "text/plain": [
       "(131965, 7)"
      ]
     },
     "execution_count": 68,
     "metadata": {},
     "output_type": "execute_result"
    }
   ],
   "source": [
    "news_df.shape"
   ]
  },
  {
   "cell_type": "code",
   "execution_count": 74,
   "metadata": {},
   "outputs": [],
   "source": [
    "news_df = news_df.rename(columns={0: 'title', 1: 'date', 2:'country', 3:'source', 4:'url', 5:'text', 6:'tokenized_text'})"
   ]
  },
  {
   "cell_type": "code",
   "execution_count": 79,
   "metadata": {},
   "outputs": [],
   "source": [
    "news_df = news_df.iloc[7:]"
   ]
  },
  {
   "cell_type": "code",
   "execution_count": 81,
   "metadata": {},
   "outputs": [],
   "source": [
    "news_df.to_csv('news_df.csv')"
   ]
  },
  {
   "cell_type": "markdown",
   "metadata": {},
   "source": [
    "# Doc2Vec"
   ]
  },
  {
   "cell_type": "code",
   "execution_count": 611,
   "metadata": {},
   "outputs": [],
   "source": [
    "news_df = pd.read_csv(\"news_df.csv\")"
   ]
  },
  {
   "cell_type": "code",
   "execution_count": 621,
   "metadata": {},
   "outputs": [
    {
     "data": {
      "text/html": [
       "<div>\n",
       "<style scoped>\n",
       "    .dataframe tbody tr th:only-of-type {\n",
       "        vertical-align: middle;\n",
       "    }\n",
       "\n",
       "    .dataframe tbody tr th {\n",
       "        vertical-align: top;\n",
       "    }\n",
       "\n",
       "    .dataframe thead th {\n",
       "        text-align: right;\n",
       "    }\n",
       "</style>\n",
       "<table border=\"1\" class=\"dataframe\">\n",
       "  <thead>\n",
       "    <tr style=\"text-align: right;\">\n",
       "      <th></th>\n",
       "      <th>Unnamed: 0</th>\n",
       "      <th>title</th>\n",
       "      <th>date</th>\n",
       "      <th>country</th>\n",
       "      <th>source</th>\n",
       "      <th>url</th>\n",
       "      <th>text</th>\n",
       "      <th>tokenized_text</th>\n",
       "    </tr>\n",
       "  </thead>\n",
       "  <tbody>\n",
       "    <tr>\n",
       "      <td>35</td>\n",
       "      <td>15166791</td>\n",
       "      <td>Health department confirms first case of the f...</td>\n",
       "      <td>16-11-01</td>\n",
       "      <td>US</td>\n",
       "      <td>FOX31 Denver</td>\n",
       "      <td>http://kdvr.com/2016/11/01/pueblo-county-repor...</td>\n",
       "      <td>@@15166791 &lt;h&gt; Health department confirms firs...</td>\n",
       "      <td>['&lt;', 'h', '&gt;', 'Health', 'department', 'confi...</td>\n",
       "    </tr>\n",
       "    <tr>\n",
       "      <td>36</td>\n",
       "      <td>15167590</td>\n",
       "      <td>Exploring future ways voting could be tweaked</td>\n",
       "      <td>16-11-01</td>\n",
       "      <td>US</td>\n",
       "      <td>21Alive</td>\n",
       "      <td>http://www.21alive.com/video/Exploring-future-...</td>\n",
       "      <td>@@15167590 &lt;h&gt; Exploring future ways voting co...</td>\n",
       "      <td>['&lt;', 'h', '&gt;', 'Exploring', 'future', 'ways',...</td>\n",
       "    </tr>\n",
       "    <tr>\n",
       "      <td>37</td>\n",
       "      <td>15169138</td>\n",
       "      <td>Marvel's Agents of SHIELD: \"The Good Samaritan...</td>\n",
       "      <td>16-11-01</td>\n",
       "      <td>US</td>\n",
       "      <td>IGN</td>\n",
       "      <td>http://www.ign.com/articles/2016/11/02/marvels...</td>\n",
       "      <td>@@15169138 &lt;h&gt; Marvel's Agents of SHIELD : \" T...</td>\n",
       "      <td>['&lt;', 'h', '&gt;', 'Marvel', \"'s\", 'Agents', 'of'...</td>\n",
       "    </tr>\n",
       "    <tr>\n",
       "      <td>38</td>\n",
       "      <td>15152845</td>\n",
       "      <td>Obama in Ohio to kick off week of campaigning ...</td>\n",
       "      <td>16-11-01</td>\n",
       "      <td>US</td>\n",
       "      <td>The Telegraph</td>\n",
       "      <td>http://www.macon.com/news/nation-world/article...</td>\n",
       "      <td>@@15152845 &lt;h&gt; Obama in Ohio to kick off week ...</td>\n",
       "      <td>['&lt;', 'h', '&gt;', 'Obama', 'in', 'Ohio', 'to', '...</td>\n",
       "    </tr>\n",
       "    <tr>\n",
       "      <td>39</td>\n",
       "      <td>15152897</td>\n",
       "      <td>Confidante of South Korea's President Detained...</td>\n",
       "      <td>16-11-01</td>\n",
       "      <td>US</td>\n",
       "      <td>TIME</td>\n",
       "      <td>http://time.com/4552745/choi-soon-sil-park-geu...</td>\n",
       "      <td>@@15152897 &lt;h&gt; Confidante of South Korea's Pre...</td>\n",
       "      <td>['&lt;', 'h', '&gt;', 'Confidante', 'of', 'South', '...</td>\n",
       "    </tr>\n",
       "  </tbody>\n",
       "</table>\n",
       "</div>"
      ],
      "text/plain": [
       "    Unnamed: 0                                              title      date  \\\n",
       "35    15166791  Health department confirms first case of the f...  16-11-01   \n",
       "36    15167590      Exploring future ways voting could be tweaked  16-11-01   \n",
       "37    15169138  Marvel's Agents of SHIELD: \"The Good Samaritan...  16-11-01   \n",
       "38    15152845  Obama in Ohio to kick off week of campaigning ...  16-11-01   \n",
       "39    15152897  Confidante of South Korea's President Detained...  16-11-01   \n",
       "\n",
       "   country         source                                                url  \\\n",
       "35      US   FOX31 Denver  http://kdvr.com/2016/11/01/pueblo-county-repor...   \n",
       "36      US        21Alive  http://www.21alive.com/video/Exploring-future-...   \n",
       "37      US            IGN  http://www.ign.com/articles/2016/11/02/marvels...   \n",
       "38      US  The Telegraph  http://www.macon.com/news/nation-world/article...   \n",
       "39      US           TIME  http://time.com/4552745/choi-soon-sil-park-geu...   \n",
       "\n",
       "                                                 text  \\\n",
       "35  @@15166791 <h> Health department confirms firs...   \n",
       "36  @@15167590 <h> Exploring future ways voting co...   \n",
       "37  @@15169138 <h> Marvel's Agents of SHIELD : \" T...   \n",
       "38  @@15152845 <h> Obama in Ohio to kick off week ...   \n",
       "39  @@15152897 <h> Confidante of South Korea's Pre...   \n",
       "\n",
       "                                       tokenized_text  \n",
       "35  ['<', 'h', '>', 'Health', 'department', 'confi...  \n",
       "36  ['<', 'h', '>', 'Exploring', 'future', 'ways',...  \n",
       "37  ['<', 'h', '>', 'Marvel', \"'s\", 'Agents', 'of'...  \n",
       "38  ['<', 'h', '>', 'Obama', 'in', 'Ohio', 'to', '...  \n",
       "39  ['<', 'h', '>', 'Confidante', 'of', 'South', '...  "
      ]
     },
     "execution_count": 621,
     "metadata": {},
     "output_type": "execute_result"
    }
   ],
   "source": [
    "#bhargav recommended going small\n",
    "news_df_tiny = news_df[:50]\n",
    "news_df_tiny[35:40]"
   ]
  },
  {
   "cell_type": "code",
   "execution_count": 623,
   "metadata": {},
   "outputs": [
    {
     "name": "stderr",
     "output_type": "stream",
     "text": [
      "/Users/reginacatipon/anaconda3/lib/python3.7/site-packages/ipykernel_launcher.py:4: SettingWithCopyWarning: \n",
      "A value is trying to be set on a copy of a slice from a DataFrame.\n",
      "Try using .loc[row_indexer,col_indexer] = value instead\n",
      "\n",
      "See the caveats in the documentation: http://pandas.pydata.org/pandas-docs/stable/user_guide/indexing.html#returning-a-view-versus-a-copy\n",
      "  after removing the cwd from sys.path.\n"
     ]
    }
   ],
   "source": [
    "# preprocessing\n",
    "\n",
    "#news_df_small['tokenized_words'] = news_df_small['text'].apply(lambda x: lucem_illud_2020.word_tokenize(x))\n",
    "news_df_tiny['normalized_words'] = news_df_tiny['tokenized_text'].apply(lambda x: lucem_illud_2020.normalizeTokens(x, lemma=False))"
   ]
  },
  {
   "cell_type": "code",
   "execution_count": 624,
   "metadata": {},
   "outputs": [
    {
     "data": {
      "text/plain": [
       "Index(['Unnamed: 0', 'title', 'date', 'country', 'source', 'url', 'text',\n",
       "       'tokenized_text', 'normalized_words'],\n",
       "      dtype='object')"
      ]
     },
     "execution_count": 624,
     "metadata": {},
     "output_type": "execute_result"
    }
   ],
   "source": [
    "news_df_tiny.columns"
   ]
  },
  {
   "cell_type": "code",
   "execution_count": 630,
   "metadata": {},
   "outputs": [
    {
     "name": "stderr",
     "output_type": "stream",
     "text": [
      "/Users/reginacatipon/anaconda3/lib/python3.7/site-packages/ipykernel_launcher.py:11: SettingWithCopyWarning: \n",
      "A value is trying to be set on a copy of a slice from a DataFrame.\n",
      "Try using .loc[row_indexer,col_indexer] = value instead\n",
      "\n",
      "See the caveats in the documentation: http://pandas.pydata.org/pandas-docs/stable/user_guide/indexing.html#returning-a-view-versus-a-copy\n",
      "  # This is added back by InteractiveShellApp.init_path()\n"
     ]
    }
   ],
   "source": [
    "keywords = ['obama', 'clinton', 'trump']\n",
    "taggedDocs = []\n",
    "for index, row in news_df_tiny.iterrows():\n",
    "    #Just doing a simple keyword assignment\n",
    "    docKeywords = [s for s in keywords if s in row['normalized_words']]\n",
    "    docKeywords.append(row['date'])\n",
    "    docKeywords.append(row['Unnamed: 0']) #This lets us extract individual documnets since doi's are unique\n",
    "    taggedDocs.append(gensim.models.doc2vec.LabeledSentence(words = row['normalized_words'],\n",
    "                                                            tags = docKeywords))\n",
    "\n",
    "news_df_tiny['TaggedArticles'] = taggedDocs"
   ]
  },
  {
   "cell_type": "code",
   "execution_count": null,
   "metadata": {},
   "outputs": [],
   "source": [
    "newsD2V = gensim.models.doc2vec.Doc2Vec(news_df_tiny['TaggedArticles'], vector_size = 100)"
   ]
  },
  {
   "cell_type": "code",
   "execution_count": 629,
   "metadata": {},
   "outputs": [
    {
     "data": {
      "text/plain": [
       "0    ([<, p, >, market, study, defined, domestic, s...\n",
       "1    ([<, h, >, november, begins, surge, warmer, we...\n",
       "2    ([<, p, >, judea, military, court, recently, o...\n",
       "3    ([<, p, >, fitbit, inc, nyse, fit, went, lower...\n",
       "4    ([<, p, >, entitled, rich, people, think, gosh...\n",
       "Name: TaggedDocs, dtype: object"
      ]
     },
     "execution_count": 629,
     "metadata": {},
     "output_type": "execute_result"
    }
   ],
   "source": [
    "news_df_tiny['TaggedDocs'][:5]"
   ]
  },
  {
   "cell_type": "code",
   "execution_count": null,
   "metadata": {},
   "outputs": [],
   "source": [
    "# save\n",
    "newsD2V.save('newsD2V')"
   ]
  },
  {
   "cell_type": "code",
   "execution_count": null,
   "metadata": {},
   "outputs": [],
   "source": [
    "# load\n",
    "#newsD2V = gensim.models.word2vec.Word2Vec.load('data/newsD2V')"
   ]
  },
  {
   "cell_type": "code",
   "execution_count": null,
   "metadata": {},
   "outputs": [],
   "source": [
    "# inspect vectors\n",
    "newsD2V.docvecs[1]"
   ]
  },
  {
   "cell_type": "code",
   "execution_count": null,
   "metadata": {},
   "outputs": [],
   "source": [
    "# inspect a word\n",
    "newsD2V['election']"
   ]
  },
  {
   "cell_type": "code",
   "execution_count": null,
   "metadata": {},
   "outputs": [],
   "source": [
    "# inspect a word vecor\n",
    "newsD2V.most_similar(positive = ['clinton','democrat'], negative = ['trump'], topn = 1)"
   ]
  },
  {
   "cell_type": "code",
   "execution_count": null,
   "metadata": {},
   "outputs": [],
   "source": [
    "# compute all of these by hand--explicitly wth vector algebra:\n",
    "sklearn.metrics.pairwise.cosine_similarity(newsD2V['clinton'].reshape(1,-1), newsD2V['trump'].reshape(1,-1))\n"
   ]
  },
  {
   "cell_type": "code",
   "execution_count": null,
   "metadata": {},
   "outputs": [],
   "source": [
    "# calculate distance between a word and documents in the dataset\n",
    "newsD2V.docvecs.most_similar([ newsD2V['trump'] ], topn=5 )"
   ]
  },
  {
   "cell_type": "code",
   "execution_count": null,
   "metadata": {},
   "outputs": [],
   "source": [
    "# words most similar to the document\n",
    "newsD2V.most_similar( [ newsD2V.docvecs['10.1103/PhysRev.98.875'] ], topn=5) \n"
   ]
  },
  {
   "cell_type": "code",
   "execution_count": null,
   "metadata": {},
   "outputs": [],
   "source": [
    "#query composed of multiple words\n",
    "apsD2V.docvecs.most_similar([ apsD2V['electron']+apsD2V['positron']+apsD2V['neutron']], topn=5 )"
   ]
  },
  {
   "cell_type": "code",
   "execution_count": null,
   "metadata": {},
   "outputs": [],
   "source": [
    "#heatmap\n",
    "heatmapMatrix = []\n",
    "for tagOuter in keywords:\n",
    "    column = []\n",
    "    tagVec = apsD2V.docvecs[tagOuter].reshape(1, -1)\n",
    "    for tagInner in keywords:\n",
    "        column.append(sklearn.metrics.pairwise.cosine_similarity(tagVec, apsD2V.docvecs[tagInner].reshape(1, -1))[0][0])\n",
    "    heatmapMatrix.append(column)\n",
    "heatmapMatrix = np.array(heatmapMatrix)"
   ]
  },
  {
   "cell_type": "code",
   "execution_count": null,
   "metadata": {},
   "outputs": [],
   "source": [
    "#plot heatmap\n",
    "fig, ax = plt.subplots()\n",
    "hmap = ax.pcolor(heatmapMatrix, cmap='terrain')\n",
    "cbar = plt.colorbar(hmap)\n",
    "\n",
    "cbar.set_label('cosine similarity', rotation=270)\n",
    "a = ax.set_xticks(np.arange(heatmapMatrix.shape[1]) + 0.5, minor=False)\n",
    "a = ax.set_yticks(np.arange(heatmapMatrix.shape[0]) + 0.5, minor=False)\n",
    "\n",
    "a = ax.set_xticklabels(keywords, minor=False, rotation=270)\n",
    "a = ax.set_yticklabels(keywords, minor=False)"
   ]
  },
  {
   "cell_type": "code",
   "execution_count": null,
   "metadata": {},
   "outputs": [],
   "source": [
    "\n",
    "targetDocs = apsDF['title'][:10]\n",
    "\n",
    "heatmapMatrixD = []\n",
    "\n",
    "for tagOuter in targetDocs:\n",
    "    column = []\n",
    "    tagVec = apsD2V.docvecs[tagOuter].reshape(1, -1)\n",
    "    for tagInner in targetDocs:\n",
    "        column.append(sklearn.metrics.pairwise.cosine_similarity(tagVec, apsD2V.docvecs[tagInner].reshape(1, -1))[0][0])\n",
    "    heatmapMatrixD.append(column)\n",
    "heatmapMatrixD = np.array(heatmapMatrixD)"
   ]
  },
  {
   "cell_type": "code",
   "execution_count": null,
   "metadata": {},
   "outputs": [],
   "source": [
    "fig, ax = plt.subplots()\n",
    "hmap = ax.pcolor(heatmapMatrixD, cmap='terrain')\n",
    "cbar = plt.colorbar(hmap)\n",
    "\n",
    "cbar.set_label('cosine similarity', rotation=270)\n",
    "a = ax.set_xticks(np.arange(heatmapMatrixD.shape[1]) + 0.5, minor=False)\n",
    "a = ax.set_yticks(np.arange(heatmapMatrixD.shape[0]) + 0.5, minor=False)\n",
    "\n",
    "a = ax.set_xticklabels(targetDocs, minor=False, rotation=270)\n",
    "a = ax.set_yticklabels(targetDocs, minor=False)"
   ]
  },
  {
   "cell_type": "code",
   "execution_count": null,
   "metadata": {},
   "outputs": [],
   "source": [
    "heatmapMatrixC = []\n",
    "\n",
    "for tagOuter in targetDocs:\n",
    "    column = []\n",
    "    tagVec = apsD2V.docvecs[tagOuter].reshape(1, -1)\n",
    "    for tagInner in keywords:\n",
    "        column.append(sklearn.metrics.pairwise.cosine_similarity(tagVec, apsD2V.docvecs[tagInner].reshape(1, -1))[0][0])\n",
    "    heatmapMatrixC.append(column)\n",
    "heatmapMatrixC = np.array(heatmapMatrixC)"
   ]
  },
  {
   "cell_type": "code",
   "execution_count": null,
   "metadata": {},
   "outputs": [],
   "source": [
    "fig, ax = plt.subplots()\n",
    "hmap = ax.pcolor(heatmapMatrixC, cmap='terrain')\n",
    "cbar = plt.colorbar(hmap)\n",
    "\n",
    "cbar.set_label('cosine similarity', rotation=270)\n",
    "a = ax.set_xticks(np.arange(heatmapMatrixC.shape[1]) + 0.5, minor=False)\n",
    "a = ax.set_yticks(np.arange(heatmapMatrixC.shape[0]) + 0.5, minor=False)\n",
    "\n",
    "a = ax.set_xticklabels(keywords, minor=False, rotation=270)\n",
    "a = ax.set_yticklabels(targetDocs, minor=False)"
   ]
  },
  {
   "cell_type": "markdown",
   "metadata": {},
   "source": [
    "## <span style=\"color:red\">*Exercise 3*</span>\n",
    "\n",
    "<span style=\"color:red\">Construct cells immediately below this that embed documents related to your final project, then generate meaningful semantic dimensions based on your theoretical understanding of the semantic space (i.e., by subtracting semantically opposite word vectors) and project another set of word vectors onto those dimensions. Interpret the meaning of these projections for your analysis. Which of the dimensions you analyze explain the most variation in the projection of your words and why? \n",
    "\n",
    "<span style=\"color:red\">***Stretch***: Average together multiple antonym pairs to create robust semantic dimensions. How do word projections on these robust dimensions differ from single-pair dimensions?"
   ]
  },
  {
   "cell_type": "code",
   "execution_count": 43,
   "metadata": {},
   "outputs": [
    {
     "name": "stderr",
     "output_type": "stream",
     "text": [
      "/Users/reginacatipon/anaconda3/lib/python3.7/site-packages/ipykernel_launcher.py:5: SettingWithCopyWarning: \n",
      "A value is trying to be set on a copy of a slice from a DataFrame.\n",
      "Try using .loc[row_indexer,col_indexer] = value instead\n",
      "\n",
      "See the caveats in the documentation: http://pandas.pydata.org/pandas-docs/stable/user_guide/indexing.html#returning-a-view-versus-a-copy\n",
      "  \"\"\"\n",
      "/Users/reginacatipon/anaconda3/lib/python3.7/site-packages/ipykernel_launcher.py:6: SettingWithCopyWarning: \n",
      "A value is trying to be set on a copy of a slice from a DataFrame.\n",
      "Try using .loc[row_indexer,col_indexer] = value instead\n",
      "\n",
      "See the caveats in the documentation: http://pandas.pydata.org/pandas-docs/stable/user_guide/indexing.html#returning-a-view-versus-a-copy\n",
      "  \n"
     ]
    }
   ],
   "source": [
    "#load data\n",
    "news_df_small = news_df[:500]\n",
    "\n",
    "#structure\n",
    "news_df_small['tokenized_sents'] = news_df_small['text'].apply(lambda x: [lucem_illud_2020.word_tokenize(s) for s in lucem_illud_2020.sent_tokenize(x)])\n",
    "news_df_small['normalized_sents'] = news_df_small['tokenized_sents'].apply(lambda x: [lucem_illud_2020.normalizeTokens(s, lemma=False) for s in x])\n",
    "\n",
    "#generate\n",
    "newsW2V = gensim.models.word2vec.Word2Vec(news_df_small['normalized_sents'].sum())\n"
   ]
  },
  {
   "cell_type": "code",
   "execution_count": 22,
   "metadata": {},
   "outputs": [],
   "source": [
    "#from gensim.test.utils import get_tmpfile\n",
    "#fname = get_tmpfile(\"vectors.kv\")\n",
    "#news_vecs.save(fname)\n",
    "#news_vecs = gensim.models.KeyedVectors.load(fname, mmap='r')"
   ]
  },
  {
   "cell_type": "code",
   "execution_count": 272,
   "metadata": {},
   "outputs": [],
   "source": [
    "#nytimes_model = gensim.models.KeyedVectors.load_word2vec_format()\n",
    "\n",
    "\n",
    "#words to create dimensions\n",
    "newsTargetWords = ['clinton', 'trump', 'election', 'meddling', 'vote', 'campaign', 'republican', 'democrat', 'immigrant','healthcare', 'conservative', 'liberal']\n",
    "#words we will be mapping\n",
    "newsTargetWords += ['president', 'election', 'emails', 'border', 'security', 'democracy', 'partisan', 'legal', 'illegal', 'taxes', 'leaks']\n",
    "\n",
    "\n",
    "wordsSubMatrix = []\n",
    "for word in newsTargetWords:\n",
    "    wordsSubMatrix.append(newsW2V[word])\n",
    "wordsSubMatrix = np.array(wordsSubMatrix)\n",
    "#wordsSubMatrix\n"
   ]
  },
  {
   "cell_type": "code",
   "execution_count": 273,
   "metadata": {},
   "outputs": [
    {
     "data": {
      "text/plain": [
       "(23, 100)"
      ]
     },
     "execution_count": 273,
     "metadata": {},
     "output_type": "execute_result"
    }
   ],
   "source": [
    "wordsSubMatrix.shape"
   ]
  },
  {
   "cell_type": "code",
   "execution_count": 274,
   "metadata": {},
   "outputs": [],
   "source": [
    "def normalize(vector):\n",
    "    normalized_vector = vector / np.linalg.norm(vector)\n",
    "    return normalized_vector\n",
    "\n",
    "def dimension(model, positives, negatives):\n",
    "    diff = sum([normalize(model[x]) for x in positives]) - sum([normalize(model[y]) for y in negatives])\n",
    "    return diff"
   ]
  },
  {
   "cell_type": "code",
   "execution_count": 275,
   "metadata": {},
   "outputs": [],
   "source": [
    "pcaWordsNews = sklearn.decomposition.PCA(n_components = 18).fit(wordsSubMatrix)\n",
    "reducedPCA_dataNews = pcaWordsNews.transform(wordsSubMatrix)\n",
    "#T-SNE is theoretically better, but you should experiment\n",
    "tsneWordsNews = sklearn.manifold.TSNE(n_components = 2).fit_transform(reducedPCA_dataNews)"
   ]
  },
  {
   "cell_type": "code",
   "execution_count": 276,
   "metadata": {},
   "outputs": [
    {
     "data": {
      "image/png": "[encoded data removed]",
      "text/plain": [
       "<Figure size 1440x864 with 1 Axes>"
      ]
     },
     "metadata": {},
     "output_type": "display_data"
    }
   ],
   "source": [
    "fig = plt.figure(figsize = (20,12))\n",
    "ax = fig.add_subplot(111)\n",
    "ax.set_frame_on(False)\n",
    "plt.scatter(tsneWordsNews[:, 0], tsneWordsNews[:, 1], alpha = 0) #Making the points invisible\n",
    "for i, word in enumerate(newsTargetWords):\n",
    "    ax.annotate(word, (tsneWordsNews[:, 0][i],tsneWordsNews[:, 1][i]), size =  50 * (len(newsTargetWords) - i) / len(newsTargetWords))\n",
    "plt.xticks(())\n",
    "plt.yticks(())\n",
    "plt.show()"
   ]
  },
  {
   "cell_type": "code",
   "execution_count": 277,
   "metadata": {},
   "outputs": [],
   "source": [
    "# creating two dimensions to match the political opponents\n",
    "clinton = dimension(newsW2V, ['democrat','woman','vote'], ['republican', 'man', 'meddling'])\n",
    "trump = dimension(newsW2V, ['republican','conservative', 'border', 'illegal'], ['democrat','liberal','immigrant', 'legal'])\n",
    "polarize = dimension(newsW2V, ['clinton','healthcare','leaks'], ['trump','guns','emails'])\n"
   ]
  },
  {
   "cell_type": "code",
   "execution_count": 278,
   "metadata": {},
   "outputs": [],
   "source": [
    "def makeDF(model, word_list):\n",
    "    c = []\n",
    "    r = []\n",
    "    p = []\n",
    "    for word in word_list:\n",
    "        c.append(sklearn.metrics.pairwise.cosine_similarity(newsW2V[word].reshape(1,-1), clinton.reshape(1,-1))[0][0])\n",
    "        r.append(sklearn.metrics.pairwise.cosine_similarity(newsW2V[word].reshape(1,-1), trump.reshape(1,-1))[0][0])\n",
    "        p.append(sklearn.metrics.pairwise.cosine_similarity(newsW2V[word].reshape(1,-1), polarize.reshape(1,-1))[0][0])\n",
    "    df = pd.DataFrame({'Clinton': c, 'Trump': r, 'Polarization': p}, index = word_list)\n",
    "    return df"
   ]
  },
  {
   "cell_type": "code",
   "execution_count": 286,
   "metadata": {},
   "outputs": [],
   "source": [
    "Politics = ['congress', 'washington', 'senate', 'legislation', \n",
    "            'elections', 'voting', 'polls', 'campaign', 'race', \n",
    "            'primary', 'debate', 'policy']\n",
    "\n",
    "Security = ['donor','funds','emails','safety', 'dangerous', \n",
    "            'russia', 'putin', 'security', 'foreign', 'lobby', \n",
    "            \"leaks\", 'fake', 'syria', 'iraq', 'military', \n",
    "            'war', 'troops', 'security']\n",
    "\n",
    "Partisanship = ['partisan','democrat', 'republican', 'healthcare',\n",
    "                 'choice', 'life', 'infrastructure', 'immigration', \n",
    "                 'immigrant', 'guns', 'amendment', 'rights', 'tax', \n",
    "                 'taxes', 'border', 'mexico', 'jobs', 'economy', \n",
    "                'trade', 'conservative', 'liberal', 'moderate', \n",
    "                'progressive']\n",
    "\n"
   ]
  },
  {
   "cell_type": "code",
   "execution_count": 287,
   "metadata": {},
   "outputs": [],
   "source": [
    "# getting the projections for the two candidate dimensions\n",
    "Politicsdf = makeDF(newsW2V, Politics) \n",
    "Securitydf = makeDF(newsW2V, Security)\n",
    "Partisandf = makeDF(newsW2V, Partisanship)"
   ]
  },
  {
   "cell_type": "code",
   "execution_count": 288,
   "metadata": {},
   "outputs": [],
   "source": [
    "# plotting functions from the notebook\n",
    "def Coloring(Series):\n",
    "    x = Series.values\n",
    "    y = x-x.min()\n",
    "    z = y/y.max()\n",
    "    c = list(plt.cm.rainbow(z))\n",
    "    return c\n",
    "\n",
    "def PlotDimension(ax,df, dim):\n",
    "    ax.set_frame_on(False)\n",
    "    ax.set_title(dim, fontsize = 20)\n",
    "    colors = Coloring(df[dim])\n",
    "    for i, word in enumerate(df.index):\n",
    "        ax.annotate(word, (0, df[dim][i]), color = colors[i], alpha = 0.6, fontsize = 12)\n",
    "    MaxY = df[dim].max()\n",
    "    MinY = df[dim].min()\n",
    "    plt.ylim(MinY,MaxY)\n",
    "    plt.yticks(())\n",
    "    plt.xticks(())"
   ]
  },
  {
   "cell_type": "code",
   "execution_count": 282,
   "metadata": {},
   "outputs": [
    {
     "data": {
      "image/png": "[encoded data removed]",
      "text/plain": [
       "<Figure size 864x288 with 3 Axes>"
      ]
     },
     "metadata": {},
     "output_type": "display_data"
    }
   ],
   "source": [
    "#Plot the occupational words in each of the three dimensions.\n",
    "\n",
    "fig = plt.figure(figsize = (12,4))\n",
    "ax1 = fig.add_subplot(131)\n",
    "PlotDimension(ax1, Politicsdf, 'Clinton')\n",
    "ax2 = fig.add_subplot(132)\n",
    "PlotDimension(ax2, Politicsdf, 'Trump')\n",
    "ax3 = fig.add_subplot(133)\n",
    "PlotDimension(ax3, Politicsdf, 'Polarization')\n",
    "plt.show()"
   ]
  },
  {
   "cell_type": "code",
   "execution_count": 283,
   "metadata": {},
   "outputs": [
    {
     "data": {
      "image/png": "[encoded data removed]",
      "text/plain": [
       "<Figure size 864x288 with 3 Axes>"
      ]
     },
     "metadata": {},
     "output_type": "display_data"
    }
   ],
   "source": [
    "fig = plt.figure(figsize = (12,4))\n",
    "ax1 = fig.add_subplot(131)\n",
    "PlotDimension(ax1, Securitydf, 'Clinton')\n",
    "ax2 = fig.add_subplot(132)\n",
    "PlotDimension(ax2, Securitydf, 'Trump')\n",
    "ax3 = fig.add_subplot(133)\n",
    "PlotDimension(ax3, Securitydf, 'Polarization')\n",
    "plt.show()"
   ]
  },
  {
   "cell_type": "code",
   "execution_count": 285,
   "metadata": {},
   "outputs": [
    {
     "data": {
      "image/png": "[encoded data removed]",
      "text/plain": [
       "<Figure size 864x288 with 3 Axes>"
      ]
     },
     "metadata": {},
     "output_type": "display_data"
    }
   ],
   "source": [
    "fig = plt.figure(figsize = (12,4))\n",
    "ax1 = fig.add_subplot(131)\n",
    "PlotDimension(ax1, Partisandf, 'Clinton')\n",
    "ax2 = fig.add_subplot(132)\n",
    "PlotDimension(ax2, Partisandf, 'Trump')\n",
    "ax3 = fig.add_subplot(133)\n",
    "PlotDimension(ax3, Partisandf, 'Polarization')\n",
    "plt.show()"
   ]
  },
  {
   "cell_type": "code",
   "execution_count": 332,
   "metadata": {},
   "outputs": [],
   "source": [
    "\n",
    "wildcard = ['media', 'journalist', 'press', 'elite', 'news', 'bias', 'coverage']\n",
    "\n",
    "wildcarddf = makeDF(newsW2V, wildcard)"
   ]
  },
  {
   "cell_type": "code",
   "execution_count": 333,
   "metadata": {},
   "outputs": [
    {
     "data": {
      "image/png": "[encoded data removed]",
      "text/plain": [
       "<Figure size 864x288 with 3 Axes>"
      ]
     },
     "metadata": {},
     "output_type": "display_data"
    }
   ],
   "source": [
    "fig = plt.figure(figsize = (12,4))\n",
    "ax1 = fig.add_subplot(131)\n",
    "PlotDimension(ax1, wildcarddf, 'Clinton')\n",
    "ax2 = fig.add_subplot(132)\n",
    "PlotDimension(ax2, wildcarddf, 'Trump')\n",
    "ax3 = fig.add_subplot(133)\n",
    "PlotDimension(ax3, wildcarddf, 'Polarization')\n",
    "plt.show()"
   ]
  },
  {
   "cell_type": "markdown",
   "metadata": {},
   "source": [
    "## <span style=\"color:red\">*Exercise 4b*</span>\n",
    "\n",
    "<span style=\"color:red\">**Do only 4a or 4b.** Construct cells immediately below this that align word embeddings over time or across domains/corpora. Interrogate the spaces that result and ask which words changed most and least over the entire period or between contexts/corpora. What does this reveal about the social game underlying your space? "
   ]
  },
  {
   "cell_type": "code",
   "execution_count": 581,
   "metadata": {},
   "outputs": [],
   "source": [
    "import copy"
   ]
  },
  {
   "cell_type": "code",
   "execution_count": 582,
   "metadata": {},
   "outputs": [],
   "source": [
    "def calc_syn0norm(model):\n",
    "    \"\"\"since syn0norm is now depricated\"\"\"\n",
    "    return (model.wv.syn0 / np.sqrt((model.wv.syn0 ** 2).sum(-1))[..., np.newaxis]).astype(np.float32)\n",
    "\n",
    "def smart_procrustes_align_gensim(base_embed, other_embed, words=None):\n",
    "    \"\"\"Procrustes align two gensim word2vec models (to allow for comparison between same word across models).\n",
    "    Code ported from HistWords <https://github.com/williamleif/histwords> by William Hamilton <wleif@stanford.edu>.\n",
    "    (With help from William. Thank you!)\n",
    "    First, intersect the vocabularies (see `intersection_align_gensim` documentation).\n",
    "    Then do the alignment on the other_embed model.\n",
    "    Replace the other_embed model's syn0 and syn0norm numpy matrices with the aligned version.\n",
    "    Return other_embed.\n",
    "    If `words` is set, intersect the two models' vocabulary with the vocabulary in words (see `intersection_align_gensim` documentation).\n",
    "    \"\"\"\n",
    "    base_embed = copy.copy(base_embed)\n",
    "    other_embed = copy.copy(other_embed)\n",
    "    # make sure vocabulary and indices are aligned\n",
    "    in_base_embed, in_other_embed = intersection_align_gensim(base_embed, other_embed, words=words)\n",
    "\n",
    "    # get the embedding matrices\n",
    "    base_vecs = calc_syn0norm(in_base_embed)\n",
    "    other_vecs = calc_syn0norm(in_other_embed)\n",
    "\n",
    "    # just a matrix dot product with numpy\n",
    "    m = other_vecs.T.dot(base_vecs) \n",
    "    # SVD method from numpy\n",
    "    u, _, v = np.linalg.svd(m)\n",
    "    # another matrix operation\n",
    "    ortho = u.dot(v) \n",
    "    # Replace original array with modified one\n",
    "    # i.e. multiplying the embedding matrix (syn0norm)by \"ortho\"\n",
    "    other_embed.wv.syn0norm = other_embed.wv.syn0 = (calc_syn0norm(other_embed)).dot(ortho)\n",
    "    return other_embed\n",
    "    \n",
    "def intersection_align_gensim(m1,m2, words=None):\n",
    "    \"\"\"\n",
    "    Intersect two gensim word2vec models, m1 and m2.\n",
    "    Only the shared vocabulary between them is kept.\n",
    "    If 'words' is set (as list or set), then the vocabulary is intersected with this list as well.\n",
    "    Indices are re-organized from 0..N in order of descending frequency (=sum of counts from both m1 and m2).\n",
    "    These indices correspond to the new syn0 and syn0norm objects in both gensim models:\n",
    "        -- so that Row 0 of m1.syn0 will be for the same word as Row 0 of m2.syn0\n",
    "        -- you can find the index of any word on the .index2word list: model.index2word.index(word) => 2\n",
    "    The .vocab dictionary is also updated for each model, preserving the count but updating the index.\n",
    "    \"\"\"\n",
    "\n",
    "    # Get the vocab for each model\n",
    "    vocab_m1 = set(m1.wv.vocab.keys())\n",
    "    vocab_m2 = set(m2.wv.vocab.keys())\n",
    "\n",
    "    # Find the common vocabulary\n",
    "    common_vocab = vocab_m1&vocab_m2\n",
    "    if words: common_vocab&=set(words)\n",
    "\n",
    "    # If no alignment necessary because vocab is identical...\n",
    "    if not vocab_m1-common_vocab and not vocab_m2-common_vocab:\n",
    "        return (m1,m2)\n",
    "\n",
    "    # Otherwise sort by frequency (summed for both)\n",
    "    common_vocab = list(common_vocab)\n",
    "    common_vocab.sort(key=lambda w: m1.wv.vocab[w].count + m2.wv.vocab[w].count,reverse=True)\n",
    "\n",
    "    # Then for each model...\n",
    "    for m in [m1,m2]:\n",
    "        # Replace old syn0norm array with new one (with common vocab)\n",
    "        indices = [m.wv.vocab[w].index for w in common_vocab]\n",
    "        old_arr = calc_syn0norm(m)\n",
    "        new_arr = np.array([old_arr[index] for index in indices])\n",
    "        m.wv.syn0norm = m.wv.syn0 = new_arr\n",
    "\n",
    "        # Replace old vocab dictionary with new one (with common vocab)\n",
    "        # and old index2word with new one\n",
    "        m.index2word = common_vocab\n",
    "        old_vocab = m.wv.vocab\n",
    "        new_vocab = {}\n",
    "        for new_index,word in enumerate(common_vocab):\n",
    "            old_vocab_obj=old_vocab[word]\n",
    "            new_vocab[word] = gensim.models.word2vec.Vocab(index=new_index, count=old_vocab_obj.count)\n",
    "        m.wv.vocab = new_vocab\n",
    "\n",
    "    return (m1,m2)"
   ]
  },
  {
   "cell_type": "code",
   "execution_count": null,
   "metadata": {},
   "outputs": [],
   "source": [
    "# but how is being generated? the same way for both?"
   ]
  },
  {
   "cell_type": "code",
   "execution_count": 583,
   "metadata": {},
   "outputs": [],
   "source": [
    "news_df_rand = news_df.sample(n = 1000)"
   ]
  },
  {
   "cell_type": "code",
   "execution_count": 584,
   "metadata": {},
   "outputs": [],
   "source": [
    "news_df_rand['tokenized_sents'] = news_df_rand['text'].apply(lambda x: [lucem_illud_2020.word_tokenize(s) for s in lucem_illud_2020.sent_tokenize(x)])\n",
    "news_df_rand['normalized_sents'] = news_df_rand['tokenized_sents'].apply(lambda x: [lucem_illud_2020.normalizeTokens(s, lemma=False) for s in x])"
   ]
  },
  {
   "cell_type": "code",
   "execution_count": 585,
   "metadata": {},
   "outputs": [
    {
     "name": "stdout",
     "output_type": "stream",
     "text": [
      "234\n"
     ]
    }
   ],
   "source": [
    "word_count = 0\n",
    "for row in news_df_rand['normalized_sents']:\n",
    "    for wordlist in row:\n",
    "        for item in wordlist:\n",
    "            if item == 'clinton':\n",
    "                word_count += 1\n",
    "print(word_count)"
   ]
  },
  {
   "cell_type": "code",
   "execution_count": 586,
   "metadata": {},
   "outputs": [],
   "source": [
    "def compareModels(df, category, text_column_name='normalized_sents', sort = True, embeddings_raw={}):\n",
    "    \"\"\"If you are using time as your category sorting is important\"\"\"\n",
    "    if len(embeddings_raw) == 0:\n",
    "        embeddings_raw = rawModels(df, category, text_column_name, sort)\n",
    "    cats = sorted(set(df[category]))\n",
    "    #These are much quicker\n",
    "    embeddings_aligned = {}\n",
    "    for catOuter in cats:\n",
    "        embeddings_aligned[catOuter] = [embeddings_raw[catOuter]]\n",
    "        for catInner in cats:\n",
    "            embeddings_aligned[catOuter].append(smart_procrustes_align_gensim(embeddings_aligned[catOuter][-1], embeddings_raw[catInner]))\n",
    "    return embeddings_raw, embeddings_aligned"
   ]
  },
  {
   "cell_type": "code",
   "execution_count": 587,
   "metadata": {},
   "outputs": [],
   "source": [
    "def rawModels(df, category, text_column_name='normalized_sents', sort = True):\n",
    "    embeddings_raw = {}\n",
    "    cats = sorted(set(df[category]))\n",
    "    for cat in cats:\n",
    "        #This can take a while\n",
    "        print(\"Embedding {}\".format(cat), end = '\\r')\n",
    "        subsetDF = df[df[category] == cat]\n",
    "        #You might want to change the W2V parameters\n",
    "        embeddings_raw[cat] = gensim.models.word2vec.Word2Vec(subsetDF[text_column_name].sum())\n",
    "    return embeddings_raw"
   ]
  },
  {
   "cell_type": "code",
   "execution_count": 588,
   "metadata": {},
   "outputs": [
    {
     "data": {
      "text/plain": [
       "pandas.core.frame.DataFrame"
      ]
     },
     "execution_count": 588,
     "metadata": {},
     "output_type": "execute_result"
    }
   ],
   "source": [
    "news_df_rand['trump_filter'] = news_df_rand['text'].apply(lambda x: bool(set(x.split()).intersection(['trump'])))\n",
    "copy = news_df_rand[news_df_rand['trump_filter'] == True]\n"
   ]
  },
  {
   "cell_type": "code",
   "execution_count": 641,
   "metadata": {},
   "outputs": [
    {
     "name": "stdout",
     "output_type": "stream",
     "text": [
      "Embedding 16-11-30\r"
     ]
    },
    {
     "ename": "AttributeError",
     "evalue": "'DataFrame' object has no attribute 'wv'",
     "output_type": "error",
     "traceback": [
      "\u001b[0;31m---------------------------------------------------------------------------\u001b[0m",
      "\u001b[0;31mAttributeError\u001b[0m                            Traceback (most recent call last)",
      "\u001b[0;32m<ipython-input-641-ff22f0d1dd74>\u001b[0m in \u001b[0;36m<module>\u001b[0;34m\u001b[0m\n\u001b[0;32m----> 1\u001b[0;31m \u001b[0mrawEmbeddings\u001b[0m\u001b[0;34m,\u001b[0m \u001b[0mcomparedEmbeddings\u001b[0m \u001b[0;34m=\u001b[0m \u001b[0mcompareModels\u001b[0m\u001b[0;34m(\u001b[0m\u001b[0mnews_df_rand\u001b[0m\u001b[0;34m,\u001b[0m \u001b[0;34m'date'\u001b[0m\u001b[0;34m)\u001b[0m\u001b[0;34m\u001b[0m\u001b[0;34m\u001b[0m\u001b[0m\n\u001b[0m",
      "\u001b[0;32m<ipython-input-586-c1629a0ed063>\u001b[0m in \u001b[0;36mcompareModels\u001b[0;34m(df, category, text_column_name, sort, embeddings_raw)\u001b[0m\n\u001b[1;32m      9\u001b[0m         \u001b[0membeddings_aligned\u001b[0m\u001b[0;34m[\u001b[0m\u001b[0mcatOuter\u001b[0m\u001b[0;34m]\u001b[0m \u001b[0;34m=\u001b[0m \u001b[0;34m[\u001b[0m\u001b[0membeddings_raw\u001b[0m\u001b[0;34m[\u001b[0m\u001b[0mcatOuter\u001b[0m\u001b[0;34m]\u001b[0m\u001b[0;34m]\u001b[0m\u001b[0;34m\u001b[0m\u001b[0;34m\u001b[0m\u001b[0m\n\u001b[1;32m     10\u001b[0m         \u001b[0;32mfor\u001b[0m \u001b[0mcatInner\u001b[0m \u001b[0;32min\u001b[0m \u001b[0mcats\u001b[0m\u001b[0;34m:\u001b[0m\u001b[0;34m\u001b[0m\u001b[0;34m\u001b[0m\u001b[0m\n\u001b[0;32m---> 11\u001b[0;31m             \u001b[0membeddings_aligned\u001b[0m\u001b[0;34m[\u001b[0m\u001b[0mcatOuter\u001b[0m\u001b[0;34m]\u001b[0m\u001b[0;34m.\u001b[0m\u001b[0mappend\u001b[0m\u001b[0;34m(\u001b[0m\u001b[0msmart_procrustes_align_gensim\u001b[0m\u001b[0;34m(\u001b[0m\u001b[0membeddings_aligned\u001b[0m\u001b[0;34m[\u001b[0m\u001b[0mcatOuter\u001b[0m\u001b[0;34m]\u001b[0m\u001b[0;34m[\u001b[0m\u001b[0;34m-\u001b[0m\u001b[0;36m1\u001b[0m\u001b[0;34m]\u001b[0m\u001b[0;34m,\u001b[0m \u001b[0membeddings_raw\u001b[0m\u001b[0;34m[\u001b[0m\u001b[0mcatInner\u001b[0m\u001b[0;34m]\u001b[0m\u001b[0;34m)\u001b[0m\u001b[0;34m)\u001b[0m\u001b[0;34m\u001b[0m\u001b[0;34m\u001b[0m\u001b[0m\n\u001b[0m\u001b[1;32m     12\u001b[0m     \u001b[0;32mreturn\u001b[0m \u001b[0membeddings_raw\u001b[0m\u001b[0;34m,\u001b[0m \u001b[0membeddings_aligned\u001b[0m\u001b[0;34m\u001b[0m\u001b[0;34m\u001b[0m\u001b[0m\n",
      "\u001b[0;32m<ipython-input-582-0dfc6858334c>\u001b[0m in \u001b[0;36msmart_procrustes_align_gensim\u001b[0;34m(base_embed, other_embed, words)\u001b[0m\n\u001b[1;32m     16\u001b[0m     \u001b[0mother_embed\u001b[0m \u001b[0;34m=\u001b[0m \u001b[0mcopy\u001b[0m\u001b[0;34m.\u001b[0m\u001b[0mcopy\u001b[0m\u001b[0;34m(\u001b[0m\u001b[0mother_embed\u001b[0m\u001b[0;34m)\u001b[0m\u001b[0;34m\u001b[0m\u001b[0;34m\u001b[0m\u001b[0m\n\u001b[1;32m     17\u001b[0m     \u001b[0;31m# make sure vocabulary and indices are aligned\u001b[0m\u001b[0;34m\u001b[0m\u001b[0;34m\u001b[0m\u001b[0;34m\u001b[0m\u001b[0m\n\u001b[0;32m---> 18\u001b[0;31m     \u001b[0min_base_embed\u001b[0m\u001b[0;34m,\u001b[0m \u001b[0min_other_embed\u001b[0m \u001b[0;34m=\u001b[0m \u001b[0mintersection_align_gensim\u001b[0m\u001b[0;34m(\u001b[0m\u001b[0mbase_embed\u001b[0m\u001b[0;34m,\u001b[0m \u001b[0mother_embed\u001b[0m\u001b[0;34m,\u001b[0m \u001b[0mwords\u001b[0m\u001b[0;34m=\u001b[0m\u001b[0mwords\u001b[0m\u001b[0;34m)\u001b[0m\u001b[0;34m\u001b[0m\u001b[0;34m\u001b[0m\u001b[0m\n\u001b[0m\u001b[1;32m     19\u001b[0m \u001b[0;34m\u001b[0m\u001b[0m\n\u001b[1;32m     20\u001b[0m     \u001b[0;31m# get the embedding matrices\u001b[0m\u001b[0;34m\u001b[0m\u001b[0;34m\u001b[0m\u001b[0;34m\u001b[0m\u001b[0m\n",
      "\u001b[0;32m<ipython-input-582-0dfc6858334c>\u001b[0m in \u001b[0;36mintersection_align_gensim\u001b[0;34m(m1, m2, words)\u001b[0m\n\u001b[1;32m     46\u001b[0m \u001b[0;34m\u001b[0m\u001b[0m\n\u001b[1;32m     47\u001b[0m     \u001b[0;31m# Get the vocab for each model\u001b[0m\u001b[0;34m\u001b[0m\u001b[0;34m\u001b[0m\u001b[0;34m\u001b[0m\u001b[0m\n\u001b[0;32m---> 48\u001b[0;31m     \u001b[0mvocab_m1\u001b[0m \u001b[0;34m=\u001b[0m \u001b[0mset\u001b[0m\u001b[0;34m(\u001b[0m\u001b[0mm1\u001b[0m\u001b[0;34m.\u001b[0m\u001b[0mwv\u001b[0m\u001b[0;34m.\u001b[0m\u001b[0mvocab\u001b[0m\u001b[0;34m.\u001b[0m\u001b[0mkeys\u001b[0m\u001b[0;34m(\u001b[0m\u001b[0;34m)\u001b[0m\u001b[0;34m)\u001b[0m\u001b[0;34m\u001b[0m\u001b[0;34m\u001b[0m\u001b[0m\n\u001b[0m\u001b[1;32m     49\u001b[0m     \u001b[0mvocab_m2\u001b[0m \u001b[0;34m=\u001b[0m \u001b[0mset\u001b[0m\u001b[0;34m(\u001b[0m\u001b[0mm2\u001b[0m\u001b[0;34m.\u001b[0m\u001b[0mwv\u001b[0m\u001b[0;34m.\u001b[0m\u001b[0mvocab\u001b[0m\u001b[0;34m.\u001b[0m\u001b[0mkeys\u001b[0m\u001b[0;34m(\u001b[0m\u001b[0;34m)\u001b[0m\u001b[0;34m)\u001b[0m\u001b[0;34m\u001b[0m\u001b[0;34m\u001b[0m\u001b[0m\n\u001b[1;32m     50\u001b[0m \u001b[0;34m\u001b[0m\u001b[0m\n",
      "\u001b[0;32m~/anaconda3/lib/python3.7/site-packages/pandas/core/generic.py\u001b[0m in \u001b[0;36m__getattr__\u001b[0;34m(self, name)\u001b[0m\n\u001b[1;32m   5177\u001b[0m             \u001b[0;32mif\u001b[0m \u001b[0mself\u001b[0m\u001b[0;34m.\u001b[0m\u001b[0m_info_axis\u001b[0m\u001b[0;34m.\u001b[0m\u001b[0m_can_hold_identifiers_and_holds_name\u001b[0m\u001b[0;34m(\u001b[0m\u001b[0mname\u001b[0m\u001b[0;34m)\u001b[0m\u001b[0;34m:\u001b[0m\u001b[0;34m\u001b[0m\u001b[0;34m\u001b[0m\u001b[0m\n\u001b[1;32m   5178\u001b[0m                 \u001b[0;32mreturn\u001b[0m \u001b[0mself\u001b[0m\u001b[0;34m[\u001b[0m\u001b[0mname\u001b[0m\u001b[0;34m]\u001b[0m\u001b[0;34m\u001b[0m\u001b[0;34m\u001b[0m\u001b[0m\n\u001b[0;32m-> 5179\u001b[0;31m             \u001b[0;32mreturn\u001b[0m \u001b[0mobject\u001b[0m\u001b[0;34m.\u001b[0m\u001b[0m__getattribute__\u001b[0m\u001b[0;34m(\u001b[0m\u001b[0mself\u001b[0m\u001b[0;34m,\u001b[0m \u001b[0mname\u001b[0m\u001b[0;34m)\u001b[0m\u001b[0;34m\u001b[0m\u001b[0;34m\u001b[0m\u001b[0m\n\u001b[0m\u001b[1;32m   5180\u001b[0m \u001b[0;34m\u001b[0m\u001b[0m\n\u001b[1;32m   5181\u001b[0m     \u001b[0;32mdef\u001b[0m \u001b[0m__setattr__\u001b[0m\u001b[0;34m(\u001b[0m\u001b[0mself\u001b[0m\u001b[0;34m,\u001b[0m \u001b[0mname\u001b[0m\u001b[0;34m,\u001b[0m \u001b[0mvalue\u001b[0m\u001b[0;34m)\u001b[0m\u001b[0;34m:\u001b[0m\u001b[0;34m\u001b[0m\u001b[0;34m\u001b[0m\u001b[0m\n",
      "\u001b[0;31mAttributeError\u001b[0m: 'DataFrame' object has no attribute 'wv'"
     ]
    }
   ],
   "source": [
    "rawEmbeddings, comparedEmbeddings = compareModels(news_df_rand, 'date')"
   ]
  },
  {
   "cell_type": "code",
   "execution_count": 590,
   "metadata": {},
   "outputs": [
    {
     "data": {
      "text/plain": [
       "dict_keys(['16-11-01', '16-11-02', '16-11-03', '16-11-04', '16-11-05', '16-11-06', '16-11-07', '16-11-08', '16-11-09', '16-11-10', '16-11-11', '16-11-12', '16-11-13', '16-11-14', '16-11-15', '16-11-16', '16-11-17', '16-11-18', '16-11-19', '16-11-20', '16-11-21', '16-11-22', '16-11-23', '16-11-24', '16-11-25', '16-11-26', '16-11-27', '16-11-28', '16-11-29', '16-11-30'])"
      ]
     },
     "execution_count": 590,
     "metadata": {},
     "output_type": "execute_result"
    }
   ],
   "source": [
    "rawEmbeddings.keys()"
   ]
  },
  {
   "cell_type": "code",
   "execution_count": 591,
   "metadata": {},
   "outputs": [],
   "source": [
    "def getDivergenceDF(word, embeddingsDict):\n",
    "    dists = []\n",
    "    cats = sorted(set(embeddingsDict.keys()))\n",
    "    dists = {}\n",
    "    print(word)\n",
    "    for cat in cats:\n",
    "        dists[cat] = []\n",
    "        for embed in embeddingsDict[cat][1:]:\n",
    "            dists[cat].append(np.abs(1 - sklearn.metrics.pairwise.cosine_similarity(np.expand_dims(embeddingsDict[cat][0][word], axis = 0),\n",
    "                                                                             np.expand_dims(embed[word], axis = 0))[0,0]))\n",
    "    return pd.DataFrame(dists, index = cats)"
   ]
  },
  {
   "cell_type": "code",
   "execution_count": 592,
   "metadata": {},
   "outputs": [
    {
     "name": "stdout",
     "output_type": "stream",
     "text": [
      "year\n"
     ]
    },
    {
     "data": {
      "image/png": "[encoded data removed]",
      "text/plain": [
       "<Figure size 720x504 with 2 Axes>"
      ]
     },
     "metadata": {
      "needs_background": "light"
     },
     "output_type": "display_data"
    }
   ],
   "source": [
    "targetWord = 'year'\n",
    "\n",
    "pltDF = getDivergenceDF(targetWord, comparedEmbeddings)\n",
    "fig, ax = plt.subplots(figsize = (10, 7))\n",
    "seaborn.heatmap(pltDF, ax = ax, annot = False) #set annot True for a lot more information\n",
    "ax.set_xlabel(\"Starting day\")\n",
    "ax.set_ylabel(\"Final day\")\n",
    "ax.set_ylabel(\"Final day\")\n",
    "ax.set_title(\"Yearly linguistic change for: '{}'\".format(targetWord))\n",
    "plt.show()"
   ]
  },
  {
   "cell_type": "code",
   "execution_count": 606,
   "metadata": {},
   "outputs": [
    {
     "data": {
      "text/html": [
       "<div>\n",
       "<style scoped>\n",
       "    .dataframe tbody tr th:only-of-type {\n",
       "        vertical-align: middle;\n",
       "    }\n",
       "\n",
       "    .dataframe tbody tr th {\n",
       "        vertical-align: top;\n",
       "    }\n",
       "\n",
       "    .dataframe thead th {\n",
       "        text-align: right;\n",
       "    }\n",
       "</style>\n",
       "<table border=\"1\" class=\"dataframe\">\n",
       "  <thead>\n",
       "    <tr style=\"text-align: right;\">\n",
       "      <th></th>\n",
       "      <th>Unnamed: 0</th>\n",
       "      <th>title</th>\n",
       "      <th>date</th>\n",
       "      <th>country</th>\n",
       "      <th>source</th>\n",
       "      <th>url</th>\n",
       "      <th>text</th>\n",
       "      <th>tokenized_text</th>\n",
       "      <th>tokenized_sents</th>\n",
       "      <th>normalized_sents</th>\n",
       "    </tr>\n",
       "  </thead>\n",
       "  <tbody>\n",
       "    <tr>\n",
       "      <td>9440</td>\n",
       "      <td>15353041</td>\n",
       "      <td>For the Sake of the Nation, Obama Should Pardo...</td>\n",
       "      <td>16-11-12</td>\n",
       "      <td>US</td>\n",
       "      <td>Lawfare (blog)</td>\n",
       "      <td>https://www.lawfareblog.com/sake-nation-obama-...</td>\n",
       "      <td>@@15353041 &lt;h&gt; For the Sake of the Nation , Ob...</td>\n",
       "      <td>['&lt;', 'h', '&gt;', 'For', 'the', 'Sake', 'of', 't...</td>\n",
       "      <td>[[@@15353041], [&lt;, h, &gt;], [For, the, Sake, of,...</td>\n",
       "      <td>[[@@15353041], [&lt;, h, &gt;], [sake, nation, obama...</td>\n",
       "    </tr>\n",
       "    <tr>\n",
       "      <td>88483</td>\n",
       "      <td>15544700</td>\n",
       "      <td>Government accused of rejecting Green pollutio...</td>\n",
       "      <td>16-11-23</td>\n",
       "      <td>IE</td>\n",
       "      <td>Irish Times</td>\n",
       "      <td>http://www.irishtimes.com/news/politics/oireac...</td>\n",
       "      <td>@@15544700 &lt;h&gt; Coveney to write to European Co...</td>\n",
       "      <td>['&lt;', 'h', '&gt;', 'Coveney', 'to', 'write', 'to'...</td>\n",
       "      <td>[[@@15544700, &lt;, h, &gt;, Coveney, to, write, to,...</td>\n",
       "      <td>[[@@15544700, &lt;, h, &gt;, coveney, write, europea...</td>\n",
       "    </tr>\n",
       "    <tr>\n",
       "      <td>14086</td>\n",
       "      <td>15445039</td>\n",
       "      <td>Lack of ground game has made Clemson one-dimen...</td>\n",
       "      <td>16-11-17</td>\n",
       "      <td>US</td>\n",
       "      <td>ESPN (blog)</td>\n",
       "      <td>http://www.espn.com/blog/acc/post/_/id/96662/l...</td>\n",
       "      <td>@@15445039 &lt;p&gt; Deshaun Watson threw 70 passes ...</td>\n",
       "      <td>['&lt;', 'p', '&gt;', 'Deshaun', 'Watson', 'threw', ...</td>\n",
       "      <td>[[@@15445039], [&lt;, p, &gt;, Deshaun, Watson, thre...</td>\n",
       "      <td>[[@@15445039], [&lt;, p, &gt;, deshaun, watson, thre...</td>\n",
       "    </tr>\n",
       "    <tr>\n",
       "      <td>7365</td>\n",
       "      <td>15317258</td>\n",
       "      <td>Colin Kaepernick on not voting: Result of elec...</td>\n",
       "      <td>16-11-10</td>\n",
       "      <td>US</td>\n",
       "      <td>NBCSports.com</td>\n",
       "      <td>http://profootballtalk.nbcsports.com/2016/11/1...</td>\n",
       "      <td>@@15317258 &lt;h&gt; Colin Kaepernick on not voting ...</td>\n",
       "      <td>['&lt;', 'h', '&gt;', 'Colin', 'Kaepernick', 'on', '...</td>\n",
       "      <td>[[@@15317258, &lt;, h, &gt;, Colin, Kaepernick, on, ...</td>\n",
       "      <td>[[@@15317258, &lt;, h, &gt;, colin, kaepernick, voti...</td>\n",
       "    </tr>\n",
       "    <tr>\n",
       "      <td>71837</td>\n",
       "      <td>15168588</td>\n",
       "      <td>Jeremy Renner: 'I want five daughters'</td>\n",
       "      <td>16-11-01</td>\n",
       "      <td>IE</td>\n",
       "      <td>TV3.ie</td>\n",
       "      <td>http://www.tv3.ie/xpose/article/entertainment-...</td>\n",
       "      <td>@@15168588 &lt;h&gt; Jeremy Renner : ' I want five d...</td>\n",
       "      <td>['&lt;', 'h', '&gt;', 'Jeremy', 'Renner', 'I', 'want...</td>\n",
       "      <td>[[@@15168588], [&lt;, h, &gt;, Jeremy, Renner], [I, ...</td>\n",
       "      <td>[[@@15168588], [&lt;, h, &gt;, jeremy, renner], [wan...</td>\n",
       "    </tr>\n",
       "    <tr>\n",
       "      <td>39126</td>\n",
       "      <td>15483032</td>\n",
       "      <td>ECHL vet pulls incredible between the legs mov...</td>\n",
       "      <td>16-11-19</td>\n",
       "      <td>CA</td>\n",
       "      <td>The Hockey News</td>\n",
       "      <td>http://www.thehockeynews.com/news/article/echl...</td>\n",
       "      <td>@@15483032 &lt;h&gt; ECHL vet pulls incredible betwe...</td>\n",
       "      <td>['&lt;', 'h', '&gt;', 'ECHL', 'vet', 'pulls', 'incre...</td>\n",
       "      <td>[[@@15483032], [&lt;, h, &gt;, ECHL, vet, pulls, inc...</td>\n",
       "      <td>[[@@15483032], [&lt;, h, &gt;, echl, vet, pulls, inc...</td>\n",
       "    </tr>\n",
       "  </tbody>\n",
       "</table>\n",
       "</div>"
      ],
      "text/plain": [
       "       Unnamed: 0                                              title  \\\n",
       "9440     15353041  For the Sake of the Nation, Obama Should Pardo...   \n",
       "88483    15544700  Government accused of rejecting Green pollutio...   \n",
       "14086    15445039  Lack of ground game has made Clemson one-dimen...   \n",
       "7365     15317258  Colin Kaepernick on not voting: Result of elec...   \n",
       "71837    15168588             Jeremy Renner: 'I want five daughters'   \n",
       "39126    15483032  ECHL vet pulls incredible between the legs mov...   \n",
       "\n",
       "           date country           source  \\\n",
       "9440   16-11-12      US   Lawfare (blog)   \n",
       "88483  16-11-23      IE      Irish Times   \n",
       "14086  16-11-17      US      ESPN (blog)   \n",
       "7365   16-11-10      US    NBCSports.com   \n",
       "71837  16-11-01      IE           TV3.ie   \n",
       "39126  16-11-19      CA  The Hockey News   \n",
       "\n",
       "                                                     url  \\\n",
       "9440   https://www.lawfareblog.com/sake-nation-obama-...   \n",
       "88483  http://www.irishtimes.com/news/politics/oireac...   \n",
       "14086  http://www.espn.com/blog/acc/post/_/id/96662/l...   \n",
       "7365   http://profootballtalk.nbcsports.com/2016/11/1...   \n",
       "71837  http://www.tv3.ie/xpose/article/entertainment-...   \n",
       "39126  http://www.thehockeynews.com/news/article/echl...   \n",
       "\n",
       "                                                    text  \\\n",
       "9440   @@15353041 <h> For the Sake of the Nation , Ob...   \n",
       "88483  @@15544700 <h> Coveney to write to European Co...   \n",
       "14086  @@15445039 <p> Deshaun Watson threw 70 passes ...   \n",
       "7365   @@15317258 <h> Colin Kaepernick on not voting ...   \n",
       "71837  @@15168588 <h> Jeremy Renner : ' I want five d...   \n",
       "39126  @@15483032 <h> ECHL vet pulls incredible betwe...   \n",
       "\n",
       "                                          tokenized_text  \\\n",
       "9440   ['<', 'h', '>', 'For', 'the', 'Sake', 'of', 't...   \n",
       "88483  ['<', 'h', '>', 'Coveney', 'to', 'write', 'to'...   \n",
       "14086  ['<', 'p', '>', 'Deshaun', 'Watson', 'threw', ...   \n",
       "7365   ['<', 'h', '>', 'Colin', 'Kaepernick', 'on', '...   \n",
       "71837  ['<', 'h', '>', 'Jeremy', 'Renner', 'I', 'want...   \n",
       "39126  ['<', 'h', '>', 'ECHL', 'vet', 'pulls', 'incre...   \n",
       "\n",
       "                                         tokenized_sents  \\\n",
       "9440   [[@@15353041], [<, h, >], [For, the, Sake, of,...   \n",
       "88483  [[@@15544700, <, h, >, Coveney, to, write, to,...   \n",
       "14086  [[@@15445039], [<, p, >, Deshaun, Watson, thre...   \n",
       "7365   [[@@15317258, <, h, >, Colin, Kaepernick, on, ...   \n",
       "71837  [[@@15168588], [<, h, >, Jeremy, Renner], [I, ...   \n",
       "39126  [[@@15483032], [<, h, >, ECHL, vet, pulls, inc...   \n",
       "\n",
       "                                        normalized_sents  \n",
       "9440   [[@@15353041], [<, h, >], [sake, nation, obama...  \n",
       "88483  [[@@15544700, <, h, >, coveney, write, europea...  \n",
       "14086  [[@@15445039], [<, p, >, deshaun, watson, thre...  \n",
       "7365   [[@@15317258, <, h, >, colin, kaepernick, voti...  \n",
       "71837  [[@@15168588], [<, h, >, jeremy, renner], [wan...  \n",
       "39126  [[@@15483032], [<, h, >, echl, vet, pulls, inc...  "
      ]
     },
     "execution_count": 606,
     "metadata": {},
     "output_type": "execute_result"
    }
   ],
   "source": [
    "copy.drop(columns=['trump_filter'])"
   ]
  },
  {
   "cell_type": "code",
   "execution_count": 639,
   "metadata": {},
   "outputs": [
    {
     "name": "stdout",
     "output_type": "stream",
     "text": [
      "Embedding 16-11-23\r"
     ]
    },
    {
     "ename": "AttributeError",
     "evalue": "'DataFrame' object has no attribute 'wv'",
     "output_type": "error",
     "traceback": [
      "\u001b[0;31m---------------------------------------------------------------------------\u001b[0m",
      "\u001b[0;31mAttributeError\u001b[0m                            Traceback (most recent call last)",
      "\u001b[0;32m<ipython-input-639-6ceb1489fce0>\u001b[0m in \u001b[0;36m<module>\u001b[0;34m\u001b[0m\n\u001b[0;32m----> 1\u001b[0;31m \u001b[0mrawEmbeddings_trump\u001b[0m\u001b[0;34m,\u001b[0m \u001b[0mcomparedEmbeddings_trump\u001b[0m \u001b[0;34m=\u001b[0m \u001b[0mcompareModels\u001b[0m\u001b[0;34m(\u001b[0m\u001b[0mcopy\u001b[0m\u001b[0;34m,\u001b[0m \u001b[0;34m'date'\u001b[0m\u001b[0;34m)\u001b[0m\u001b[0;34m\u001b[0m\u001b[0;34m\u001b[0m\u001b[0m\n\u001b[0m",
      "\u001b[0;32m<ipython-input-586-c1629a0ed063>\u001b[0m in \u001b[0;36mcompareModels\u001b[0;34m(df, category, text_column_name, sort, embeddings_raw)\u001b[0m\n\u001b[1;32m      9\u001b[0m         \u001b[0membeddings_aligned\u001b[0m\u001b[0;34m[\u001b[0m\u001b[0mcatOuter\u001b[0m\u001b[0;34m]\u001b[0m \u001b[0;34m=\u001b[0m \u001b[0;34m[\u001b[0m\u001b[0membeddings_raw\u001b[0m\u001b[0;34m[\u001b[0m\u001b[0mcatOuter\u001b[0m\u001b[0;34m]\u001b[0m\u001b[0;34m]\u001b[0m\u001b[0;34m\u001b[0m\u001b[0;34m\u001b[0m\u001b[0m\n\u001b[1;32m     10\u001b[0m         \u001b[0;32mfor\u001b[0m \u001b[0mcatInner\u001b[0m \u001b[0;32min\u001b[0m \u001b[0mcats\u001b[0m\u001b[0;34m:\u001b[0m\u001b[0;34m\u001b[0m\u001b[0;34m\u001b[0m\u001b[0m\n\u001b[0;32m---> 11\u001b[0;31m             \u001b[0membeddings_aligned\u001b[0m\u001b[0;34m[\u001b[0m\u001b[0mcatOuter\u001b[0m\u001b[0;34m]\u001b[0m\u001b[0;34m.\u001b[0m\u001b[0mappend\u001b[0m\u001b[0;34m(\u001b[0m\u001b[0msmart_procrustes_align_gensim\u001b[0m\u001b[0;34m(\u001b[0m\u001b[0membeddings_aligned\u001b[0m\u001b[0;34m[\u001b[0m\u001b[0mcatOuter\u001b[0m\u001b[0;34m]\u001b[0m\u001b[0;34m[\u001b[0m\u001b[0;34m-\u001b[0m\u001b[0;36m1\u001b[0m\u001b[0;34m]\u001b[0m\u001b[0;34m,\u001b[0m \u001b[0membeddings_raw\u001b[0m\u001b[0;34m[\u001b[0m\u001b[0mcatInner\u001b[0m\u001b[0;34m]\u001b[0m\u001b[0;34m)\u001b[0m\u001b[0;34m)\u001b[0m\u001b[0;34m\u001b[0m\u001b[0;34m\u001b[0m\u001b[0m\n\u001b[0m\u001b[1;32m     12\u001b[0m     \u001b[0;32mreturn\u001b[0m \u001b[0membeddings_raw\u001b[0m\u001b[0;34m,\u001b[0m \u001b[0membeddings_aligned\u001b[0m\u001b[0;34m\u001b[0m\u001b[0;34m\u001b[0m\u001b[0m\n",
      "\u001b[0;32m<ipython-input-582-0dfc6858334c>\u001b[0m in \u001b[0;36msmart_procrustes_align_gensim\u001b[0;34m(base_embed, other_embed, words)\u001b[0m\n\u001b[1;32m     16\u001b[0m     \u001b[0mother_embed\u001b[0m \u001b[0;34m=\u001b[0m \u001b[0mcopy\u001b[0m\u001b[0;34m.\u001b[0m\u001b[0mcopy\u001b[0m\u001b[0;34m(\u001b[0m\u001b[0mother_embed\u001b[0m\u001b[0;34m)\u001b[0m\u001b[0;34m\u001b[0m\u001b[0;34m\u001b[0m\u001b[0m\n\u001b[1;32m     17\u001b[0m     \u001b[0;31m# make sure vocabulary and indices are aligned\u001b[0m\u001b[0;34m\u001b[0m\u001b[0;34m\u001b[0m\u001b[0;34m\u001b[0m\u001b[0m\n\u001b[0;32m---> 18\u001b[0;31m     \u001b[0min_base_embed\u001b[0m\u001b[0;34m,\u001b[0m \u001b[0min_other_embed\u001b[0m \u001b[0;34m=\u001b[0m \u001b[0mintersection_align_gensim\u001b[0m\u001b[0;34m(\u001b[0m\u001b[0mbase_embed\u001b[0m\u001b[0;34m,\u001b[0m \u001b[0mother_embed\u001b[0m\u001b[0;34m,\u001b[0m \u001b[0mwords\u001b[0m\u001b[0;34m=\u001b[0m\u001b[0mwords\u001b[0m\u001b[0;34m)\u001b[0m\u001b[0;34m\u001b[0m\u001b[0;34m\u001b[0m\u001b[0m\n\u001b[0m\u001b[1;32m     19\u001b[0m \u001b[0;34m\u001b[0m\u001b[0m\n\u001b[1;32m     20\u001b[0m     \u001b[0;31m# get the embedding matrices\u001b[0m\u001b[0;34m\u001b[0m\u001b[0;34m\u001b[0m\u001b[0;34m\u001b[0m\u001b[0m\n",
      "\u001b[0;32m<ipython-input-582-0dfc6858334c>\u001b[0m in \u001b[0;36mintersection_align_gensim\u001b[0;34m(m1, m2, words)\u001b[0m\n\u001b[1;32m     46\u001b[0m \u001b[0;34m\u001b[0m\u001b[0m\n\u001b[1;32m     47\u001b[0m     \u001b[0;31m# Get the vocab for each model\u001b[0m\u001b[0;34m\u001b[0m\u001b[0;34m\u001b[0m\u001b[0;34m\u001b[0m\u001b[0m\n\u001b[0;32m---> 48\u001b[0;31m     \u001b[0mvocab_m1\u001b[0m \u001b[0;34m=\u001b[0m \u001b[0mset\u001b[0m\u001b[0;34m(\u001b[0m\u001b[0mm1\u001b[0m\u001b[0;34m.\u001b[0m\u001b[0mwv\u001b[0m\u001b[0;34m.\u001b[0m\u001b[0mvocab\u001b[0m\u001b[0;34m.\u001b[0m\u001b[0mkeys\u001b[0m\u001b[0;34m(\u001b[0m\u001b[0;34m)\u001b[0m\u001b[0;34m)\u001b[0m\u001b[0;34m\u001b[0m\u001b[0;34m\u001b[0m\u001b[0m\n\u001b[0m\u001b[1;32m     49\u001b[0m     \u001b[0mvocab_m2\u001b[0m \u001b[0;34m=\u001b[0m \u001b[0mset\u001b[0m\u001b[0;34m(\u001b[0m\u001b[0mm2\u001b[0m\u001b[0;34m.\u001b[0m\u001b[0mwv\u001b[0m\u001b[0;34m.\u001b[0m\u001b[0mvocab\u001b[0m\u001b[0;34m.\u001b[0m\u001b[0mkeys\u001b[0m\u001b[0;34m(\u001b[0m\u001b[0;34m)\u001b[0m\u001b[0;34m)\u001b[0m\u001b[0;34m\u001b[0m\u001b[0;34m\u001b[0m\u001b[0m\n\u001b[1;32m     50\u001b[0m \u001b[0;34m\u001b[0m\u001b[0m\n",
      "\u001b[0;32m~/anaconda3/lib/python3.7/site-packages/pandas/core/generic.py\u001b[0m in \u001b[0;36m__getattr__\u001b[0;34m(self, name)\u001b[0m\n\u001b[1;32m   5177\u001b[0m             \u001b[0;32mif\u001b[0m \u001b[0mself\u001b[0m\u001b[0;34m.\u001b[0m\u001b[0m_info_axis\u001b[0m\u001b[0;34m.\u001b[0m\u001b[0m_can_hold_identifiers_and_holds_name\u001b[0m\u001b[0;34m(\u001b[0m\u001b[0mname\u001b[0m\u001b[0;34m)\u001b[0m\u001b[0;34m:\u001b[0m\u001b[0;34m\u001b[0m\u001b[0;34m\u001b[0m\u001b[0m\n\u001b[1;32m   5178\u001b[0m                 \u001b[0;32mreturn\u001b[0m \u001b[0mself\u001b[0m\u001b[0;34m[\u001b[0m\u001b[0mname\u001b[0m\u001b[0;34m]\u001b[0m\u001b[0;34m\u001b[0m\u001b[0;34m\u001b[0m\u001b[0m\n\u001b[0;32m-> 5179\u001b[0;31m             \u001b[0;32mreturn\u001b[0m \u001b[0mobject\u001b[0m\u001b[0;34m.\u001b[0m\u001b[0m__getattribute__\u001b[0m\u001b[0;34m(\u001b[0m\u001b[0mself\u001b[0m\u001b[0;34m,\u001b[0m \u001b[0mname\u001b[0m\u001b[0;34m)\u001b[0m\u001b[0;34m\u001b[0m\u001b[0;34m\u001b[0m\u001b[0m\n\u001b[0m\u001b[1;32m   5180\u001b[0m \u001b[0;34m\u001b[0m\u001b[0m\n\u001b[1;32m   5181\u001b[0m     \u001b[0;32mdef\u001b[0m \u001b[0m__setattr__\u001b[0m\u001b[0;34m(\u001b[0m\u001b[0mself\u001b[0m\u001b[0;34m,\u001b[0m \u001b[0mname\u001b[0m\u001b[0;34m,\u001b[0m \u001b[0mvalue\u001b[0m\u001b[0;34m)\u001b[0m\u001b[0;34m:\u001b[0m\u001b[0;34m\u001b[0m\u001b[0;34m\u001b[0m\u001b[0m\n",
      "\u001b[0;31mAttributeError\u001b[0m: 'DataFrame' object has no attribute 'wv'"
     ]
    }
   ],
   "source": [
    "rawEmbeddings_trump, comparedEmbeddings_trump = compareModels(copy, 'date')"
   ]
  },
  {
   "cell_type": "code",
   "execution_count": 640,
   "metadata": {},
   "outputs": [
    {
     "ename": "NameError",
     "evalue": "name 'comparedEmbeddings_trump' is not defined",
     "output_type": "error",
     "traceback": [
      "\u001b[0;31m---------------------------------------------------------------------------\u001b[0m",
      "\u001b[0;31mNameError\u001b[0m                                 Traceback (most recent call last)",
      "\u001b[0;32m<ipython-input-640-803ba0f07ad4>\u001b[0m in \u001b[0;36m<module>\u001b[0;34m\u001b[0m\n\u001b[1;32m      1\u001b[0m \u001b[0mtargetWord\u001b[0m \u001b[0;34m=\u001b[0m \u001b[0;34m'trump'\u001b[0m\u001b[0;34m\u001b[0m\u001b[0;34m\u001b[0m\u001b[0m\n\u001b[1;32m      2\u001b[0m \u001b[0;34m\u001b[0m\u001b[0m\n\u001b[0;32m----> 3\u001b[0;31m \u001b[0mpltDF\u001b[0m \u001b[0;34m=\u001b[0m \u001b[0mgetDivergenceDF\u001b[0m\u001b[0;34m(\u001b[0m\u001b[0mtargetWord\u001b[0m\u001b[0;34m,\u001b[0m \u001b[0mcomparedEmbeddings_trump\u001b[0m\u001b[0;34m)\u001b[0m\u001b[0;34m\u001b[0m\u001b[0;34m\u001b[0m\u001b[0m\n\u001b[0m\u001b[1;32m      4\u001b[0m \u001b[0mfig\u001b[0m\u001b[0;34m,\u001b[0m \u001b[0max\u001b[0m \u001b[0;34m=\u001b[0m \u001b[0mplt\u001b[0m\u001b[0;34m.\u001b[0m\u001b[0msubplots\u001b[0m\u001b[0;34m(\u001b[0m\u001b[0mfigsize\u001b[0m \u001b[0;34m=\u001b[0m \u001b[0;34m(\u001b[0m\u001b[0;36m10\u001b[0m\u001b[0;34m,\u001b[0m \u001b[0;36m7\u001b[0m\u001b[0;34m)\u001b[0m\u001b[0;34m)\u001b[0m\u001b[0;34m\u001b[0m\u001b[0;34m\u001b[0m\u001b[0m\n\u001b[1;32m      5\u001b[0m \u001b[0mseaborn\u001b[0m\u001b[0;34m.\u001b[0m\u001b[0mheatmap\u001b[0m\u001b[0;34m(\u001b[0m\u001b[0mpltDF\u001b[0m\u001b[0;34m,\u001b[0m \u001b[0max\u001b[0m \u001b[0;34m=\u001b[0m \u001b[0max\u001b[0m\u001b[0;34m,\u001b[0m \u001b[0mannot\u001b[0m \u001b[0;34m=\u001b[0m \u001b[0;32mFalse\u001b[0m\u001b[0;34m)\u001b[0m \u001b[0;31m#set annot True for a lot more information\u001b[0m\u001b[0;34m\u001b[0m\u001b[0;34m\u001b[0m\u001b[0m\n",
      "\u001b[0;31mNameError\u001b[0m: name 'comparedEmbeddings_trump' is not defined"
     ]
    }
   ],
   "source": [
    "targetWord = 'trump'\n",
    "\n",
    "pltDF = getDivergenceDF(targetWord, comparedEmbeddings_trump)\n",
    "fig, ax = plt.subplots(figsize = (10, 7))\n",
    "seaborn.heatmap(pltDF, ax = ax, annot = False) #set annot True for a lot more information\n",
    "ax.set_xlabel(\"Starting day\")\n",
    "ax.set_ylabel(\"Final day\")\n",
    "ax.set_ylabel(\"Final day\")\n",
    "ax.set_title(\"Yearly linguistic change for: '{}'\".format(targetWord))\n",
    "plt.show()"
   ]
  },
  {
   "cell_type": "code",
   "execution_count": 602,
   "metadata": {},
   "outputs": [],
   "source": [
    "def findDiverence(word, embeddingsDict):\n",
    "    cats = sorted(set(embeddingsDict.keys()))\n",
    "    \n",
    "    dists = []\n",
    "    for embed in embeddingsDict[cats[0]][1:]:\n",
    "        dists.append(1 - sklearn.metrics.pairwise.cosine_similarity(np.expand_dims(embeddingsDict[cats[0]][0][word], axis = 0), np.expand_dims(embed[word], axis = 0))[0,0])\n",
    "    return sum(dists)\n",
    "\n",
    "def findMostDivergent(embeddingsDict):\n",
    "    words = []\n",
    "    for embeds in embeddingsDict.values():\n",
    "        for embed in embeds:\n",
    "            words += list(embed.wv.vocab.keys())\n",
    "    words = set(words)\n",
    "    print(\"Found {} words to compare\".format(len(words)))\n",
    "    return sorted([(w, findDiverence(w, embeddingsDict)) for w in words], key = lambda x: x[1], reverse=True)\n",
    "    "
   ]
  },
  {
   "cell_type": "code",
   "execution_count": 603,
   "metadata": {},
   "outputs": [
    {
     "name": "stdout",
     "output_type": "stream",
     "text": [
      "Found 7 words to compare\n"
     ]
    }
   ],
   "source": [
    "wordDivergences = findMostDivergent(comparedEmbeddings)"
   ]
  },
  {
   "cell_type": "code",
   "execution_count": 604,
   "metadata": {},
   "outputs": [
    {
     "data": {
      "text/plain": [
       "[('h', 12.001740377396345),\n",
       " ('new', 2.5856191515922546),\n",
       " ('year', 1.6435051560401917),\n",
       " ('<', 1.1648920178413391),\n",
       " ('>', 1.1370141506195068),\n",
       " ('p', 1.0406508445739746),\n",
       " ('said', 1.0174835324287415)]"
      ]
     },
     "execution_count": 604,
     "metadata": {},
     "output_type": "execute_result"
    }
   ],
   "source": [
    "#Top divergence words\n",
    "wordDivergences[:7]"
   ]
  },
  {
   "cell_type": "code",
   "execution_count": null,
   "metadata": {},
   "outputs": [],
   "source": []
  }
 ],
 "metadata": {
  "kernelspec": {
   "display_name": "Python 3",
   "language": "python",
   "name": "python3"
  },
  "language_info": {
   "codemirror_mode": {
    "name": "ipython",
    "version": 3
   },
   "file_extension": ".py",
   "mimetype": "text/x-python",
   "name": "python",
   "nbconvert_exporter": "python",
   "pygments_lexer": "ipython3",
   "version": "3.7.4"
  }
 },
 "nbformat": 4,
 "nbformat_minor": 2
}
