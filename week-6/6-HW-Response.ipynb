{
 "cells": [
  {
   "cell_type": "code",
   "execution_count": 1,
   "metadata": {},
   "outputs": [],
   "source": [
    "#Special module written for this class\n",
    "#This provides access to data and to helper functions from previous weeks\n",
    "#Make sure you update it before starting this notebook\n",
    "import lucem_illud_2020 #pip install -U git+git://github.com/Computational-Content-Analysis-2020/lucem_illud_2020.git\n",
    "\n",
    "\n",
    "#All these packages need to be installed from pip\n",
    "#These are all for the cluster detection\n",
    "import sklearn\n",
    "import sklearn.feature_extraction.text\n",
    "import sklearn.pipeline\n",
    "import sklearn.preprocessing\n",
    "import sklearn.datasets\n",
    "import sklearn.cluster\n",
    "import sklearn.decomposition\n",
    "import sklearn.metrics\n",
    "\n",
    "import scipy #For hierarchical clustering and some visuals\n",
    "#import scipy.cluster.hierarchy\n",
    "import gensim#For topic modeling\n",
    "import requests #For downloading our datasets\n",
    "import numpy as np #for arrays\n",
    "import pandas #gives us DataFrames\n",
    "import matplotlib.pyplot as plt #For graphics\n",
    "import matplotlib.cm #Still for graphics\n",
    "import seaborn as sns #Makes the graphics look nicer\n",
    "\n",
    "#This 'magic' command makes the plots work better\n",
    "#in the notebook, don't use it outside of a notebook.\n",
    "#Also you can ignore the warning, it\n",
    "%matplotlib inline\n",
    "\n",
    "import itertools\n",
    "import json"
   ]
  },
  {
   "cell_type": "markdown",
   "metadata": {},
   "source": [
    "## <span style=\"color:red\">*Exercise 1*</span>\n",
    "\n",
    "<span style=\"color:red\">Construct cells immediately below this that construct features and cluster your documents using K-means and a variety of cluster numbers. Interrogate the cluster contents in terms of both documents and features. Identify the \"optimal\" cluster number with Silhouette analysis. Plot clusters and features after reducing with PCA. What does this cluster structure reveal about the organization of documents in your corpora? "
   ]
  },
  {
   "cell_type": "code",
   "execution_count": 2,
   "metadata": {},
   "outputs": [],
   "source": [
    "#load my dataset\n",
    "import pandas as pd\n",
    "election_tweets = pd.read_excel(\"/home/rkcatipon/Content-Analysis-2020/week-5/electionday_tweets.xlsx\")\n"
   ]
  },
  {
   "cell_type": "code",
   "execution_count": 3,
   "metadata": {},
   "outputs": [
    {
     "data": {
      "text/html": [
       "<div>\n",
       "<style scoped>\n",
       "    .dataframe tbody tr th:only-of-type {\n",
       "        vertical-align: middle;\n",
       "    }\n",
       "\n",
       "    .dataframe tbody tr th {\n",
       "        vertical-align: top;\n",
       "    }\n",
       "\n",
       "    .dataframe thead th {\n",
       "        text-align: right;\n",
       "    }\n",
       "</style>\n",
       "<table border=\"1\" class=\"dataframe\">\n",
       "  <thead>\n",
       "    <tr style=\"text-align: right;\">\n",
       "      <th></th>\n",
       "      <th>is_fake_news</th>\n",
       "      <th>fake_news_category</th>\n",
       "      <th>tweet_id</th>\n",
       "      <th>created_at</th>\n",
       "      <th>retweet_count</th>\n",
       "      <th>text</th>\n",
       "      <th>user_screen_name</th>\n",
       "      <th>user_verified</th>\n",
       "      <th>user_friends_count</th>\n",
       "      <th>user_followers_count</th>\n",
       "      <th>user_favourites_count</th>\n",
       "      <th>tweet_source</th>\n",
       "      <th>geo_coordinates</th>\n",
       "      <th>num_hashtags</th>\n",
       "      <th>num_mentions</th>\n",
       "      <th>num_urls</th>\n",
       "      <th>num_media</th>\n",
       "    </tr>\n",
       "  </thead>\n",
       "  <tbody>\n",
       "    <tr>\n",
       "      <th>0</th>\n",
       "      <td>False</td>\n",
       "      <td>NaN</td>\n",
       "      <td>264033382076407808</td>\n",
       "      <td>Thu Nov 01 15:57:18 +0000 2012</td>\n",
       "      <td>4698</td>\n",
       "      <td>@realDonaldTrump you are full of shit!</td>\n",
       "      <td>RalphGilles</td>\n",
       "      <td>True</td>\n",
       "      <td>763</td>\n",
       "      <td>26680</td>\n",
       "      <td>3079</td>\n",
       "      <td>&lt;a href=\"http://twitter.com/download/iphone\" r...</td>\n",
       "      <td>0</td>\n",
       "      <td>0</td>\n",
       "      <td>2</td>\n",
       "      <td>0</td>\n",
       "      <td>0</td>\n",
       "    </tr>\n",
       "    <tr>\n",
       "      <th>1</th>\n",
       "      <td>False</td>\n",
       "      <td>NaN</td>\n",
       "      <td>265895586660757505</td>\n",
       "      <td>Tue Nov 06 19:17:02 +0000 2012</td>\n",
       "      <td>9646</td>\n",
       "      <td>@realDonaldTrump you're fucking retarded</td>\n",
       "      <td>TimmyWait</td>\n",
       "      <td>False</td>\n",
       "      <td>839</td>\n",
       "      <td>397</td>\n",
       "      <td>504</td>\n",
       "      <td>&lt;a href=\"http://twitter.com\" rel=\"nofollow\"&gt;Tw...</td>\n",
       "      <td>0</td>\n",
       "      <td>0</td>\n",
       "      <td>2</td>\n",
       "      <td>0</td>\n",
       "      <td>0</td>\n",
       "    </tr>\n",
       "    <tr>\n",
       "      <th>2</th>\n",
       "      <td>False</td>\n",
       "      <td>NaN</td>\n",
       "      <td>265895723445411841</td>\n",
       "      <td>Tue Nov 06 19:17:35 +0000 2012</td>\n",
       "      <td>1823</td>\n",
       "      <td>@realDonaldTrump You are the stupidest man on ...</td>\n",
       "      <td>mattcale52</td>\n",
       "      <td>False</td>\n",
       "      <td>1184</td>\n",
       "      <td>1353</td>\n",
       "      <td>3355</td>\n",
       "      <td>&lt;a href=\"http://twitter.com/download/iphone\" r...</td>\n",
       "      <td>0</td>\n",
       "      <td>0</td>\n",
       "      <td>2</td>\n",
       "      <td>0</td>\n",
       "      <td>0</td>\n",
       "    </tr>\n",
       "    <tr>\n",
       "      <th>3</th>\n",
       "      <td>False</td>\n",
       "      <td>NaN</td>\n",
       "      <td>265896172726661120</td>\n",
       "      <td>Tue Nov 06 19:19:22 +0000 2012</td>\n",
       "      <td>1168</td>\n",
       "      <td>@realDonaldTrump I am continually amazed and t...</td>\n",
       "      <td>MichaelWHill</td>\n",
       "      <td>False</td>\n",
       "      <td>1603</td>\n",
       "      <td>704</td>\n",
       "      <td>1479</td>\n",
       "      <td>&lt;a href=\"http://twitter.com/download/iphone\" r...</td>\n",
       "      <td>0</td>\n",
       "      <td>0</td>\n",
       "      <td>2</td>\n",
       "      <td>0</td>\n",
       "      <td>0</td>\n",
       "    </tr>\n",
       "    <tr>\n",
       "      <th>4</th>\n",
       "      <td>False</td>\n",
       "      <td>NaN</td>\n",
       "      <td>266042962650226688</td>\n",
       "      <td>Wed Nov 07 05:02:39 +0000 2012</td>\n",
       "      <td>1979</td>\n",
       "      <td>Hey @realDonaldTrump You Mad Bro?</td>\n",
       "      <td>ThePresObama</td>\n",
       "      <td>False</td>\n",
       "      <td>135</td>\n",
       "      <td>70218</td>\n",
       "      <td>931</td>\n",
       "      <td>&lt;a href=\"http://twitter.com\" rel=\"nofollow\"&gt;Tw...</td>\n",
       "      <td>0</td>\n",
       "      <td>0</td>\n",
       "      <td>2</td>\n",
       "      <td>0</td>\n",
       "      <td>0</td>\n",
       "    </tr>\n",
       "  </tbody>\n",
       "</table>\n",
       "</div>"
      ],
      "text/plain": [
       "   is_fake_news  fake_news_category            tweet_id  \\\n",
       "0         False                 NaN  264033382076407808   \n",
       "1         False                 NaN  265895586660757505   \n",
       "2         False                 NaN  265895723445411841   \n",
       "3         False                 NaN  265896172726661120   \n",
       "4         False                 NaN  266042962650226688   \n",
       "\n",
       "                       created_at  retweet_count  \\\n",
       "0  Thu Nov 01 15:57:18 +0000 2012           4698   \n",
       "1  Tue Nov 06 19:17:02 +0000 2012           9646   \n",
       "2  Tue Nov 06 19:17:35 +0000 2012           1823   \n",
       "3  Tue Nov 06 19:19:22 +0000 2012           1168   \n",
       "4  Wed Nov 07 05:02:39 +0000 2012           1979   \n",
       "\n",
       "                                                text user_screen_name  \\\n",
       "0             @realDonaldTrump you are full of shit!      RalphGilles   \n",
       "1           @realDonaldTrump you're fucking retarded        TimmyWait   \n",
       "2  @realDonaldTrump You are the stupidest man on ...       mattcale52   \n",
       "3  @realDonaldTrump I am continually amazed and t...     MichaelWHill   \n",
       "4                  Hey @realDonaldTrump You Mad Bro?     ThePresObama   \n",
       "\n",
       "   user_verified  user_friends_count  user_followers_count  \\\n",
       "0           True                 763                 26680   \n",
       "1          False                 839                   397   \n",
       "2          False                1184                  1353   \n",
       "3          False                1603                   704   \n",
       "4          False                 135                 70218   \n",
       "\n",
       "   user_favourites_count                                       tweet_source  \\\n",
       "0                   3079  <a href=\"http://twitter.com/download/iphone\" r...   \n",
       "1                    504  <a href=\"http://twitter.com\" rel=\"nofollow\">Tw...   \n",
       "2                   3355  <a href=\"http://twitter.com/download/iphone\" r...   \n",
       "3                   1479  <a href=\"http://twitter.com/download/iphone\" r...   \n",
       "4                    931  <a href=\"http://twitter.com\" rel=\"nofollow\">Tw...   \n",
       "\n",
       "   geo_coordinates  num_hashtags  num_mentions  num_urls  num_media  \n",
       "0                0             0             2         0          0  \n",
       "1                0             0             2         0          0  \n",
       "2                0             0             2         0          0  \n",
       "3                0             0             2         0          0  \n",
       "4                0             0             2         0          0  "
      ]
     },
     "execution_count": 3,
     "metadata": {},
     "output_type": "execute_result"
    }
   ],
   "source": [
    "#inspect\n",
    "election_tweets.head()"
   ]
  },
  {
   "cell_type": "code",
   "execution_count": 4,
   "metadata": {},
   "outputs": [],
   "source": [
    "electiontweetsDF = pd.DataFrame(election_tweets['tweet_id'])\n",
    "\n",
    "electiontweetsDF['is_fake_news'] = election_tweets['is_fake_news']\n",
    "electiontweetsDF['fake_news_category'] = election_tweets['fake_news_category']\n",
    "electiontweetsDF['text'] = election_tweets['text']"
   ]
  },
  {
   "cell_type": "code",
   "execution_count": 5,
   "metadata": {},
   "outputs": [
    {
     "data": {
      "text/html": [
       "<div>\n",
       "<style scoped>\n",
       "    .dataframe tbody tr th:only-of-type {\n",
       "        vertical-align: middle;\n",
       "    }\n",
       "\n",
       "    .dataframe tbody tr th {\n",
       "        vertical-align: top;\n",
       "    }\n",
       "\n",
       "    .dataframe thead th {\n",
       "        text-align: right;\n",
       "    }\n",
       "</style>\n",
       "<table border=\"1\" class=\"dataframe\">\n",
       "  <thead>\n",
       "    <tr style=\"text-align: right;\">\n",
       "      <th></th>\n",
       "      <th>tweet_id</th>\n",
       "      <th>is_fake_news</th>\n",
       "      <th>fake_news_category</th>\n",
       "      <th>text</th>\n",
       "    </tr>\n",
       "  </thead>\n",
       "  <tbody>\n",
       "    <tr>\n",
       "      <th>0</th>\n",
       "      <td>264033382076407808</td>\n",
       "      <td>False</td>\n",
       "      <td>NaN</td>\n",
       "      <td>@realDonaldTrump you are full of shit!</td>\n",
       "    </tr>\n",
       "    <tr>\n",
       "      <th>1</th>\n",
       "      <td>265895586660757505</td>\n",
       "      <td>False</td>\n",
       "      <td>NaN</td>\n",
       "      <td>@realDonaldTrump you're fucking retarded</td>\n",
       "    </tr>\n",
       "    <tr>\n",
       "      <th>2</th>\n",
       "      <td>265895723445411841</td>\n",
       "      <td>False</td>\n",
       "      <td>NaN</td>\n",
       "      <td>@realDonaldTrump You are the stupidest man on ...</td>\n",
       "    </tr>\n",
       "    <tr>\n",
       "      <th>3</th>\n",
       "      <td>265896172726661120</td>\n",
       "      <td>False</td>\n",
       "      <td>NaN</td>\n",
       "      <td>@realDonaldTrump I am continually amazed and t...</td>\n",
       "    </tr>\n",
       "    <tr>\n",
       "      <th>4</th>\n",
       "      <td>266042962650226688</td>\n",
       "      <td>False</td>\n",
       "      <td>NaN</td>\n",
       "      <td>Hey @realDonaldTrump You Mad Bro?</td>\n",
       "    </tr>\n",
       "  </tbody>\n",
       "</table>\n",
       "</div>"
      ],
      "text/plain": [
       "             tweet_id  is_fake_news  fake_news_category  \\\n",
       "0  264033382076407808         False                 NaN   \n",
       "1  265895586660757505         False                 NaN   \n",
       "2  265895723445411841         False                 NaN   \n",
       "3  265896172726661120         False                 NaN   \n",
       "4  266042962650226688         False                 NaN   \n",
       "\n",
       "                                                text  \n",
       "0             @realDonaldTrump you are full of shit!  \n",
       "1           @realDonaldTrump you're fucking retarded  \n",
       "2  @realDonaldTrump You are the stupidest man on ...  \n",
       "3  @realDonaldTrump I am continually amazed and t...  \n",
       "4                  Hey @realDonaldTrump You Mad Bro?  "
      ]
     },
     "execution_count": 5,
     "metadata": {},
     "output_type": "execute_result"
    }
   ],
   "source": [
    "electiontweetsDF.head()"
   ]
  },
  {
   "cell_type": "code",
   "execution_count": 6,
   "metadata": {},
   "outputs": [
    {
     "name": "stdout",
     "output_type": "stream",
     "text": [
      "(1327, 5016)\n"
     ]
    }
   ],
   "source": [
    "#Initializing vectors\n",
    "tCountVectorizer = sklearn.feature_extraction.text.CountVectorizer()\n",
    "#Ttraining\n",
    "tweetVects = tCountVectorizer.fit_transform(electiontweetsDF['text'])\n",
    "\n",
    "#inspect shape\n",
    "print(tweetVects.shape)"
   ]
  },
  {
   "cell_type": "code",
   "execution_count": 7,
   "metadata": {},
   "outputs": [
    {
     "data": {
      "text/plain": [
       "array([[0, 0, 0, 0, 0, 0, 0, 0, 0, 0, 0, 0, 0, 0, 0, 0, 0, 0, 0, 0],\n",
       "       [0, 0, 0, 0, 0, 0, 0, 0, 0, 0, 0, 0, 0, 0, 0, 0, 0, 0, 0, 0],\n",
       "       [0, 0, 0, 0, 0, 0, 0, 0, 0, 0, 0, 0, 0, 0, 0, 0, 0, 0, 0, 0],\n",
       "       [0, 0, 0, 0, 0, 0, 0, 0, 0, 0, 0, 0, 0, 0, 0, 0, 0, 0, 0, 0],\n",
       "       [0, 0, 0, 0, 0, 0, 0, 0, 0, 0, 0, 0, 0, 0, 0, 0, 0, 0, 0, 0],\n",
       "       [0, 0, 0, 0, 0, 0, 0, 0, 0, 0, 0, 0, 0, 0, 0, 0, 0, 0, 0, 0],\n",
       "       [0, 0, 0, 0, 0, 0, 0, 0, 0, 0, 0, 0, 0, 0, 0, 0, 0, 0, 0, 0],\n",
       "       [0, 0, 0, 0, 0, 0, 0, 0, 0, 0, 0, 0, 0, 0, 0, 0, 0, 0, 0, 0],\n",
       "       [0, 0, 0, 0, 0, 0, 0, 0, 0, 0, 0, 0, 0, 0, 0, 0, 0, 0, 0, 0],\n",
       "       [0, 0, 0, 0, 0, 0, 0, 0, 0, 0, 0, 0, 0, 0, 0, 0, 0, 0, 0, 0]])"
      ]
     },
     "execution_count": 7,
     "metadata": {},
     "output_type": "execute_result"
    }
   ],
   "source": [
    "tweetVects[:10,:20].toarray()"
   ]
  },
  {
   "cell_type": "code",
   "execution_count": 8,
   "metadata": {},
   "outputs": [],
   "source": [
    "#Okay it's looking pretty sparse right now"
   ]
  },
  {
   "cell_type": "code",
   "execution_count": 9,
   "metadata": {},
   "outputs": [
    {
     "data": {
      "text/plain": [
       "<1327x5016 sparse matrix of type '<class 'numpy.int64'>'\n",
       "\twith 21076 stored elements in Compressed Sparse Row format>"
      ]
     },
     "execution_count": 9,
     "metadata": {},
     "output_type": "execute_result"
    }
   ],
   "source": [
    "tweetVects"
   ]
  },
  {
   "cell_type": "code",
   "execution_count": 10,
   "metadata": {},
   "outputs": [],
   "source": [
    "tCountVectorizer.vocabulary_.get('vector')"
   ]
  },
  {
   "cell_type": "code",
   "execution_count": 11,
   "metadata": {},
   "outputs": [
    {
     "name": "stdout",
     "output_type": "stream",
     "text": [
      "(1327, 5016)\n"
     ]
    }
   ],
   "source": [
    "# Looking at tf-idf scores. term frequency of words per tweet (our document in this case)\n",
    "\n",
    "#initialize\n",
    "tweetTFTransformer = sklearn.feature_extraction.text.TfidfTransformer().fit(tweetVects)\n",
    "#train\n",
    "tweetsTF = tweetTFTransformer.transform(tweetVects)\n",
    "print(tweetsTF.shape)"
   ]
  },
  {
   "cell_type": "code",
   "execution_count": 12,
   "metadata": {},
   "outputs": [
    {
     "data": {
      "text/plain": [
       "[('realdonaldtrump', 0.2364681070436211),\n",
       " ('you', 0.654091360802711),\n",
       " ('are', 0.16040249311940685),\n",
       " ('full', 0.24287680551491947),\n",
       " ('of', 0.5741613395318621),\n",
       " ('shit', 0.31916763589905034),\n",
       " ('re', 0.23550744475771146),\n",
       " ('fucking', 0.6514340853260373),\n",
       " ('retarded', 0.15975085080014362),\n",
       " ('the', 0.3809387962489656),\n",
       " ('stupidest', 0.5912149990656038),\n",
       " ('man', 0.17569381611706494),\n",
       " ('on', 0.13670375500399504),\n",
       " ('planet', 0.48598438370986374),\n",
       " ('earth', 0.11917770427130446),\n",
       " ('am', 0.48598438370986374),\n",
       " ('continually', 0.2125064309227423),\n",
       " ('amazed', 0.3553929518121259),\n",
       " ('and', 0.48598438370986374),\n",
       " ('terribly', 0.23713887100141515)]"
      ]
     },
     "execution_count": 12,
     "metadata": {},
     "output_type": "execute_result"
    }
   ],
   "source": [
    "#tf-idf per each word\n",
    "\n",
    "#wow glad we could inspect\n",
    "list(zip(tCountVectorizer.vocabulary_.keys(), tweetsTF.data))[:20]"
   ]
  },
  {
   "cell_type": "markdown",
   "metadata": {},
   "source": [
    "Now we prune the data to just terms that occur at least three times"
   ]
  },
  {
   "cell_type": "code",
   "execution_count": 13,
   "metadata": {},
   "outputs": [],
   "source": [
    "#initialize\n",
    "tweetTFVectorizer = sklearn.feature_extraction.text.TfidfVectorizer(max_df=0.5, max_features=1000, min_df=3, stop_words='english', norm='l2')\n",
    "#train\n",
    "tweetTFVects = tweetTFVectorizer.fit_transform(electiontweetsDF['text'])"
   ]
  },
  {
   "cell_type": "code",
   "execution_count": 14,
   "metadata": {},
   "outputs": [
    {
     "name": "stdout",
     "output_type": "stream",
     "text": [
      "312\n"
     ]
    }
   ],
   "source": [
    "try:\n",
    "    print(tweetTFVectorizer.vocabulary_['hate'])\n",
    "except KeyError:\n",
    "    print('vector is missing')\n",
    "    print('The available words are: {} ...'.format(list(tweetTFVectorizer.vocabulary_.keys())[:11]))"
   ]
  },
  {
   "cell_type": "code",
   "execution_count": 15,
   "metadata": {},
   "outputs": [
    {
     "data": {
      "text/plain": [
       "4412"
      ]
     },
     "execution_count": 15,
     "metadata": {},
     "output_type": "execute_result"
    }
   ],
   "source": [
    "tCountVectorizer.vocabulary_.get('trump')\n"
   ]
  },
  {
   "cell_type": "markdown",
   "metadata": {},
   "source": [
    " "
   ]
  },
  {
   "cell_type": "markdown",
   "metadata": {},
   "source": [
    "# K-means clustering"
   ]
  },
  {
   "cell_type": "markdown",
   "metadata": {},
   "source": [
    "I do not know the optimal number of clusters to work with for my dataset so I'm going to start with two clusters, according to the category of is fake news or not. "
   ]
  },
  {
   "cell_type": "code",
   "execution_count": 16,
   "metadata": {},
   "outputs": [],
   "source": [
    "numClusters = len(set(electiontweetsDF['is_fake_news']))\n",
    "\n",
    "km = sklearn.cluster.KMeans(n_clusters=numClusters, init='k-means++')\n"
   ]
  },
  {
   "cell_type": "code",
   "execution_count": 17,
   "metadata": {},
   "outputs": [
    {
     "data": {
      "text/plain": [
       "KMeans(algorithm='auto', copy_x=True, init='k-means++', max_iter=300,\n",
       "    n_clusters=2, n_init=10, n_jobs=None, precompute_distances='auto',\n",
       "    random_state=None, tol=0.0001, verbose=0)"
      ]
     },
     "execution_count": 17,
     "metadata": {},
     "output_type": "execute_result"
    }
   ],
   "source": [
    "#fit the vectors\n",
    "km.fit(tweetTFVects)"
   ]
  },
  {
   "cell_type": "code",
   "execution_count": 18,
   "metadata": {},
   "outputs": [],
   "source": [
    "label = electiontweetsDF['is_fake_news']"
   ]
  },
  {
   "cell_type": "code",
   "execution_count": 19,
   "metadata": {},
   "outputs": [
    {
     "name": "stdout",
     "output_type": "stream",
     "text": [
      "The available metrics are: ['SCORERS', 'accuracy_score', 'adjusted_mutual_info_score', 'adjusted_rand_score', 'auc', 'average_precision_score', 'balanced_accuracy_score', 'base', 'brier_score_loss', 'calinski_harabaz_score', 'check_scoring', 'classification', 'classification_report', 'cluster', 'cohen_kappa_score', 'completeness_score', 'confusion_matrix', 'consensus_score', 'coverage_error', 'davies_bouldin_score', 'euclidean_distances', 'explained_variance_score', 'f1_score', 'fbeta_score', 'fowlkes_mallows_score', 'get_scorer', 'hamming_loss', 'hinge_loss', 'homogeneity_completeness_v_measure', 'homogeneity_score', 'jaccard_similarity_score', 'label_ranking_average_precision_score', 'label_ranking_loss', 'log_loss', 'make_scorer', 'matthews_corrcoef', 'mean_absolute_error', 'mean_squared_error', 'mean_squared_log_error', 'median_absolute_error', 'mutual_info_score', 'normalized_mutual_info_score', 'pairwise', 'pairwise_distances', 'pairwise_distances_argmin', 'pairwise_distances_argmin_min', 'pairwise_distances_chunked', 'pairwise_fast', 'pairwise_kernels', 'precision_recall_curve', 'precision_recall_fscore_support', 'precision_score', 'r2_score', 'ranking', 'recall_score', 'regression', 'roc_auc_score', 'roc_curve', 'scorer', 'silhouette_samples', 'silhouette_score', 'v_measure_score', 'zero_one_loss']\n",
      "For our clusters:\n",
      "Homogeneity: 0.002\n",
      "Completeness: 0.001\n",
      "V-measure: 0.002\n",
      "Adjusted Rand Score: 0.020\n"
     ]
    }
   ],
   "source": [
    "print(\"The available metrics are: {}\".format([s for s in dir(sklearn.metrics) if s[0] != '_']))\n",
    "print(\"For our clusters:\")\n",
    "print(\"Homogeneity: {:0.3f}\".format(sklearn.metrics.homogeneity_score(label, km.labels_)))\n",
    "print(\"Completeness: {:0.3f}\".format(sklearn.metrics.completeness_score(label, km.labels_)))\n",
    "print(\"V-measure: {:0.3f}\".format(sklearn.metrics.v_measure_score(label, km.labels_)))\n",
    "print(\"Adjusted Rand Score: {:0.3f}\".format(sklearn.metrics.adjusted_rand_score(label, km.labels_)))"
   ]
  },
  {
   "cell_type": "markdown",
   "metadata": {},
   "source": [
    "This is pretty small numbers for metrics. "
   ]
  },
  {
   "cell_type": "markdown",
   "metadata": {},
   "source": [
    "I don't necessarily have a true category to compare my clusters too. I would be curious to see a mapping of some of the topics"
   ]
  },
  {
   "cell_type": "code",
   "execution_count": 20,
   "metadata": {},
   "outputs": [
    {
     "data": {
      "text/html": [
       "<div>\n",
       "<style scoped>\n",
       "    .dataframe tbody tr th:only-of-type {\n",
       "        vertical-align: middle;\n",
       "    }\n",
       "\n",
       "    .dataframe tbody tr th {\n",
       "        vertical-align: top;\n",
       "    }\n",
       "\n",
       "    .dataframe thead th {\n",
       "        text-align: right;\n",
       "    }\n",
       "</style>\n",
       "<table border=\"1\" class=\"dataframe\">\n",
       "  <thead>\n",
       "    <tr style=\"text-align: right;\">\n",
       "      <th></th>\n",
       "      <th>tweet_id</th>\n",
       "      <th>is_fake_news</th>\n",
       "      <th>fake_news_category</th>\n",
       "      <th>text</th>\n",
       "      <th>kmeans_predictions</th>\n",
       "    </tr>\n",
       "  </thead>\n",
       "  <tbody>\n",
       "    <tr>\n",
       "      <th>10</th>\n",
       "      <td>388618880605646848</td>\n",
       "      <td>False</td>\n",
       "      <td>NaN</td>\n",
       "      <td>Beautiful morning walk in Hyde Park #London wi...</td>\n",
       "      <td>0</td>\n",
       "    </tr>\n",
       "    <tr>\n",
       "      <th>11</th>\n",
       "      <td>427956124411641856</td>\n",
       "      <td>False</td>\n",
       "      <td>NaN</td>\n",
       "      <td>Retweet if you Agree w/ @HillaryClinton: http:...</td>\n",
       "      <td>0</td>\n",
       "    </tr>\n",
       "    <tr>\n",
       "      <th>12</th>\n",
       "      <td>440331541580099584</td>\n",
       "      <td>False</td>\n",
       "      <td>NaN</td>\n",
       "      <td>'@johnnyhabit: @realDonaldTrump why the fuck d...</td>\n",
       "      <td>0</td>\n",
       "    </tr>\n",
       "    <tr>\n",
       "      <th>13</th>\n",
       "      <td>440688053129318400</td>\n",
       "      <td>False</td>\n",
       "      <td>NaN</td>\n",
       "      <td>'@KEEMSTARx: If @realDonaldTrump was president...</td>\n",
       "      <td>0</td>\n",
       "    </tr>\n",
       "    <tr>\n",
       "      <th>14</th>\n",
       "      <td>484662433404162048</td>\n",
       "      <td>False</td>\n",
       "      <td>NaN</td>\n",
       "      <td>Haha @HillaryClinton just came up and asked 'A...</td>\n",
       "      <td>0</td>\n",
       "    </tr>\n",
       "    <tr>\n",
       "      <th>15</th>\n",
       "      <td>516382428395745280</td>\n",
       "      <td>False</td>\n",
       "      <td>NaN</td>\n",
       "      <td>@realDonaldTrump Do you pay an angry 12 year o...</td>\n",
       "      <td>0</td>\n",
       "    </tr>\n",
       "    <tr>\n",
       "      <th>16</th>\n",
       "      <td>537158751116357632</td>\n",
       "      <td>False</td>\n",
       "      <td>NaN</td>\n",
       "      <td>@realDonaldTrump Sadly your racism is poisonin...</td>\n",
       "      <td>0</td>\n",
       "    </tr>\n",
       "    <tr>\n",
       "      <th>17</th>\n",
       "      <td>587354526857957376</td>\n",
       "      <td>False</td>\n",
       "      <td>NaN</td>\n",
       "      <td>Hillary Clinton has stolen our innovative Wiki...</td>\n",
       "      <td>0</td>\n",
       "    </tr>\n",
       "    <tr>\n",
       "      <th>18</th>\n",
       "      <td>587364252484296705</td>\n",
       "      <td>False</td>\n",
       "      <td>NaN</td>\n",
       "      <td>yaaas @hillaryclinton</td>\n",
       "      <td>0</td>\n",
       "    </tr>\n",
       "    <tr>\n",
       "      <th>19</th>\n",
       "      <td>592958704196059136</td>\n",
       "      <td>False</td>\n",
       "      <td>NaN</td>\n",
       "      <td>It's clear @realdonaldtrump been racist..sayin...</td>\n",
       "      <td>0</td>\n",
       "    </tr>\n",
       "  </tbody>\n",
       "</table>\n",
       "</div>"
      ],
      "text/plain": [
       "              tweet_id  is_fake_news  fake_news_category  \\\n",
       "10  388618880605646848         False                 NaN   \n",
       "11  427956124411641856         False                 NaN   \n",
       "12  440331541580099584         False                 NaN   \n",
       "13  440688053129318400         False                 NaN   \n",
       "14  484662433404162048         False                 NaN   \n",
       "15  516382428395745280         False                 NaN   \n",
       "16  537158751116357632         False                 NaN   \n",
       "17  587354526857957376         False                 NaN   \n",
       "18  587364252484296705         False                 NaN   \n",
       "19  592958704196059136         False                 NaN   \n",
       "\n",
       "                                                 text  kmeans_predictions  \n",
       "10  Beautiful morning walk in Hyde Park #London wi...                   0  \n",
       "11  Retweet if you Agree w/ @HillaryClinton: http:...                   0  \n",
       "12  '@johnnyhabit: @realDonaldTrump why the fuck d...                   0  \n",
       "13  '@KEEMSTARx: If @realDonaldTrump was president...                   0  \n",
       "14  Haha @HillaryClinton just came up and asked 'A...                   0  \n",
       "15  @realDonaldTrump Do you pay an angry 12 year o...                   0  \n",
       "16  @realDonaldTrump Sadly your racism is poisonin...                   0  \n",
       "17  Hillary Clinton has stolen our innovative Wiki...                   0  \n",
       "18                              yaaas @hillaryclinton                   0  \n",
       "19  It's clear @realdonaldtrump been racist..sayin...                   0  "
      ]
     },
     "execution_count": 20,
     "metadata": {},
     "output_type": "execute_result"
    }
   ],
   "source": [
    "electiontweetsDF['kmeans_predictions'] = km.labels_\n",
    "electiontweetsDF[10:20]"
   ]
  },
  {
   "cell_type": "code",
   "execution_count": 21,
   "metadata": {},
   "outputs": [
    {
     "name": "stdout",
     "output_type": "stream",
     "text": [
      "Top terms per cluster:\n",
      "Cluster 0:\n",
      " realdonaldtrump\n",
      " hillaryclinton\n",
      " amp\n",
      " vote\n",
      " trump\n",
      " maga\n",
      " people\n",
      " america\n",
      " president\n",
      " hillary\n",
      "\n",
      "\n",
      "Cluster 1:\n",
      " electionday\n",
      " vote\n",
      " trump\n",
      " today\n",
      " hillary\n",
      " voted\n",
      " myvote2016\n",
      " voting\n",
      " donald\n",
      " clinton\n",
      "\n",
      "\n"
     ]
    }
   ],
   "source": [
    "#Since the numbers are so small, I wonder if there will be any distinguishing features\n",
    "\n",
    "terms = tweetTFVectorizer.get_feature_names()\n",
    "print(\"Top terms per cluster:\")\n",
    "order_centroids = km.cluster_centers_.argsort()[:, ::-1]\n",
    "for i in range(numClusters):\n",
    "    print(\"Cluster %d:\" % i)\n",
    "    for ind in order_centroids[i, :10]:\n",
    "        print(' %s' % terms[ind])\n",
    "    print('\\n')"
   ]
  },
  {
   "cell_type": "markdown",
   "metadata": {},
   "source": [
    "Comparing the two clusters, there are many overlapping words with \"trump\", \"hillary\", variations of voting. I'm going to try running the true label with the different types of fake news identified. One issue with this dataset is the actual number of fake news tweets is small, so the further categorization of those tweets may not be enough data to build a substansial clustering model."
   ]
  },
  {
   "cell_type": "code",
   "execution_count": 22,
   "metadata": {},
   "outputs": [],
   "source": [
    "electiontweetsDF['fake_news_category'] = electiontweetsDF['fake_news_category'].fillna(0)"
   ]
  },
  {
   "cell_type": "code",
   "execution_count": 23,
   "metadata": {},
   "outputs": [
    {
     "data": {
      "text/plain": [
       "KMeans(algorithm='auto', copy_x=True, init='k-means++', max_iter=300,\n",
       "    n_clusters=5, n_init=10, n_jobs=None, precompute_distances='auto',\n",
       "    random_state=None, tol=0.0001, verbose=0)"
      ]
     },
     "execution_count": 23,
     "metadata": {},
     "output_type": "execute_result"
    }
   ],
   "source": [
    "numClusters2 = len(set(electiontweetsDF['fake_news_category']))\n",
    "\n",
    "km = sklearn.cluster.KMeans(n_clusters=numClusters2, init='k-means++')\n",
    "km.fit(tweetTFVects)\n",
    "\n"
   ]
  },
  {
   "cell_type": "code",
   "execution_count": 24,
   "metadata": {},
   "outputs": [],
   "source": [
    "electiontweetsDF['kmeans_predictions2'] = km.labels_"
   ]
  },
  {
   "cell_type": "code",
   "execution_count": 25,
   "metadata": {},
   "outputs": [
    {
     "data": {
      "text/html": [
       "<div>\n",
       "<style scoped>\n",
       "    .dataframe tbody tr th:only-of-type {\n",
       "        vertical-align: middle;\n",
       "    }\n",
       "\n",
       "    .dataframe tbody tr th {\n",
       "        vertical-align: top;\n",
       "    }\n",
       "\n",
       "    .dataframe thead th {\n",
       "        text-align: right;\n",
       "    }\n",
       "</style>\n",
       "<table border=\"1\" class=\"dataframe\">\n",
       "  <thead>\n",
       "    <tr style=\"text-align: right;\">\n",
       "      <th></th>\n",
       "      <th>tweet_id</th>\n",
       "      <th>is_fake_news</th>\n",
       "      <th>fake_news_category</th>\n",
       "      <th>text</th>\n",
       "      <th>kmeans_predictions</th>\n",
       "      <th>kmeans_predictions2</th>\n",
       "    </tr>\n",
       "  </thead>\n",
       "  <tbody>\n",
       "    <tr>\n",
       "      <th>0</th>\n",
       "      <td>264033382076407808</td>\n",
       "      <td>False</td>\n",
       "      <td>0.0</td>\n",
       "      <td>@realDonaldTrump you are full of shit!</td>\n",
       "      <td>0</td>\n",
       "      <td>2</td>\n",
       "    </tr>\n",
       "    <tr>\n",
       "      <th>1</th>\n",
       "      <td>265895586660757505</td>\n",
       "      <td>False</td>\n",
       "      <td>0.0</td>\n",
       "      <td>@realDonaldTrump you're fucking retarded</td>\n",
       "      <td>0</td>\n",
       "      <td>2</td>\n",
       "    </tr>\n",
       "    <tr>\n",
       "      <th>2</th>\n",
       "      <td>265895723445411841</td>\n",
       "      <td>False</td>\n",
       "      <td>0.0</td>\n",
       "      <td>@realDonaldTrump You are the stupidest man on ...</td>\n",
       "      <td>0</td>\n",
       "      <td>2</td>\n",
       "    </tr>\n",
       "    <tr>\n",
       "      <th>3</th>\n",
       "      <td>265896172726661120</td>\n",
       "      <td>False</td>\n",
       "      <td>0.0</td>\n",
       "      <td>@realDonaldTrump I am continually amazed and t...</td>\n",
       "      <td>0</td>\n",
       "      <td>2</td>\n",
       "    </tr>\n",
       "    <tr>\n",
       "      <th>4</th>\n",
       "      <td>266042962650226688</td>\n",
       "      <td>False</td>\n",
       "      <td>0.0</td>\n",
       "      <td>Hey @realDonaldTrump You Mad Bro?</td>\n",
       "      <td>0</td>\n",
       "      <td>2</td>\n",
       "    </tr>\n",
       "  </tbody>\n",
       "</table>\n",
       "</div>"
      ],
      "text/plain": [
       "             tweet_id  is_fake_news  fake_news_category  \\\n",
       "0  264033382076407808         False                 0.0   \n",
       "1  265895586660757505         False                 0.0   \n",
       "2  265895723445411841         False                 0.0   \n",
       "3  265896172726661120         False                 0.0   \n",
       "4  266042962650226688         False                 0.0   \n",
       "\n",
       "                                                text  kmeans_predictions  \\\n",
       "0             @realDonaldTrump you are full of shit!                   0   \n",
       "1           @realDonaldTrump you're fucking retarded                   0   \n",
       "2  @realDonaldTrump You are the stupidest man on ...                   0   \n",
       "3  @realDonaldTrump I am continually amazed and t...                   0   \n",
       "4                  Hey @realDonaldTrump You Mad Bro?                   0   \n",
       "\n",
       "   kmeans_predictions2  \n",
       "0                    2  \n",
       "1                    2  \n",
       "2                    2  \n",
       "3                    2  \n",
       "4                    2  "
      ]
     },
     "execution_count": 25,
     "metadata": {},
     "output_type": "execute_result"
    }
   ],
   "source": [
    "electiontweetsDF.head()"
   ]
  },
  {
   "cell_type": "code",
   "execution_count": 26,
   "metadata": {},
   "outputs": [
    {
     "name": "stdout",
     "output_type": "stream",
     "text": [
      "Top terms per cluster:\n",
      "Cluster 0:\n",
      " electionday\n",
      " vote\n",
      " today\n",
      " voting\n",
      " myvote2016\n",
      " don\n",
      " america\n",
      " voted\n",
      " american\n",
      " voters\n",
      "\n",
      "\n",
      "Cluster 1:\n",
      " trump\n",
      " donald\n",
      " electionday\n",
      " realdonaldtrump\n",
      " vote\n",
      " voted\n",
      " maga\n",
      " trumppence16\n",
      " trump2016\n",
      " rt\n",
      "\n",
      "\n",
      "Cluster 2:\n",
      " realdonaldtrump\n",
      " amp\n",
      " vote\n",
      " maga\n",
      " america\n",
      " people\n",
      " just\n",
      " rally\n",
      " great\n",
      " make\n",
      "\n",
      "\n",
      "Cluster 3:\n",
      " hillaryclinton\n",
      " imwithher\n",
      " vote\n",
      " president\n",
      " don\n",
      " realdonaldtrump\n",
      " campaign\n",
      " breaking\n",
      " amp\n",
      " debate\n",
      "\n",
      "\n",
      "Cluster 4:\n",
      " hillary\n",
      " clinton\n",
      " electionday\n",
      " trump\n",
      " vote\n",
      " myvote2016\n",
      " realdonaldtrump\n",
      " wearing\n",
      " hillaryclinton\n",
      " maga\n",
      "\n",
      "\n"
     ]
    }
   ],
   "source": [
    "terms = tweetTFVectorizer.get_feature_names()\n",
    "print(\"Top terms per cluster:\")\n",
    "order_centroids = km.cluster_centers_.argsort()[:, ::-1]\n",
    "for i in range(numClusters2):\n",
    "    print(\"Cluster %d:\" % i)\n",
    "    for ind in order_centroids[i, :10]:\n",
    "        print(' %s' % terms[ind])\n",
    "    print('\\n')"
   ]
  },
  {
   "cell_type": "markdown",
   "metadata": {},
   "source": [
    "More clusters now, according to the number of fake news categories. While we do see similarities within the clusters features, there are now key differences as well. Cluster three for example, looks like it may be more about Mike Pence's religious views and his rule on  not eating next to women who are not his wife"
   ]
  },
  {
   "cell_type": "code",
   "execution_count": 27,
   "metadata": {},
   "outputs": [],
   "source": [
    "# PCA Reduction"
   ]
  },
  {
   "cell_type": "code",
   "execution_count": 28,
   "metadata": {},
   "outputs": [],
   "source": [
    "# new data\n",
    "\n",
    "PCA = sklearn.decomposition.PCA(n_components = 4).fit(tweetTFVects.toarray())\n",
    "reducedPCA_data = PCA.transform(tweetTFVects.toarray())\n",
    "\n",
    "colors = list(plt.cm.rainbow(np.linspace(0,1, numClusters2)))\n",
    "colors_p = [colors[l] for l in km.labels_]"
   ]
  },
  {
   "cell_type": "code",
   "execution_count": 29,
   "metadata": {},
   "outputs": [
    {
     "data": {
      "image/png": "[encoded data removed]",
      "text/plain": [
       "<Figure size 432x288 with 1 Axes>"
      ]
     },
     "metadata": {},
     "output_type": "display_data"
    }
   ],
   "source": [
    "fig = plt.figure(2)\n",
    "ax = fig.add_subplot(111)\n",
    "ax.set_frame_on(False)\n",
    "plt.scatter(reducedPCA_data[:, 0], reducedPCA_data[:, 1], color = colors_p, alpha = 0.5)\n",
    "plt.xticks(())\n",
    "plt.yticks(())\n",
    "plt.title('Predicted Clusters\\n k = {}'.format(numClusters2))\n",
    "plt.show()"
   ]
  },
  {
   "cell_type": "markdown",
   "metadata": {},
   "source": [
    "The close structure of the clusters points to a strong semantic overlap. From an inspection of the feature clusters, we do see tokens and similar tokens in the groups. "
   ]
  },
  {
   "cell_type": "code",
   "execution_count": 30,
   "metadata": {},
   "outputs": [],
   "source": [
    "#PCA Reduction\n",
    "PCA = sklearn.decomposition.PCA\n",
    "pca = PCA(n_components = 2).fit(tweetTFVects.toarray())\n",
    "reduced_data = pca.transform(tweetTFVects.toarray())\n",
    "\n",
    "# Optimal clusters via Silhouette\n",
    "\n",
    "\n",
    "def plotSilhouette(n_clusters, X):\n",
    "    fig, (ax1, ax2) = plt.subplots(ncols=2, figsize = (15,5))\n",
    "    \n",
    "    ax1.set_xlim([-0.1, 1])\n",
    "    ax1.set_ylim([0, len(X) + (n_clusters + 1) * 10])\n",
    "    clusterer = sklearn.cluster.KMeans(n_clusters=n_clusters, random_state=10)\n",
    "    cluster_labels = clusterer.fit_predict(X)\n",
    "    \n",
    "    silhouette_avg = sklearn.metrics.silhouette_score(X, cluster_labels)\n",
    "\n",
    "    # Compute the silhouette scores for each sample\n",
    "    sample_silhouette_values = sklearn.metrics.silhouette_samples(X, cluster_labels)\n",
    "\n",
    "    y_lower = 10\n",
    "    \n",
    "    for i in range(n_clusters):\n",
    "        ith_cluster_silhouette_values = sample_silhouette_values[cluster_labels == i]\n",
    "\n",
    "        ith_cluster_silhouette_values.sort()\n",
    "\n",
    "        size_cluster_i = ith_cluster_silhouette_values.shape[0]\n",
    "        y_upper = y_lower + size_cluster_i\n",
    "        cmap = matplotlib.cm.get_cmap(\"nipy_spectral\")\n",
    "        color = cmap(float(i) / n_clusters)\n",
    "        ax1.fill_betweenx(np.arange(y_lower, y_upper),\n",
    "                          0, ith_cluster_silhouette_values,\n",
    "                          facecolor=color, edgecolor=color, alpha=0.7)\n",
    "\n",
    "        ax1.text(-0.05, y_lower + 0.5 * size_cluster_i, str(i))\n",
    "\n",
    "        y_lower = y_upper + 10\n",
    "    \n",
    "    ax1.set_title(\"The silhouette plot for the various clusters.\")\n",
    "    ax1.set_xlabel(\"The silhouette coefficient values\")\n",
    "    ax1.set_ylabel(\"Cluster label\")\n",
    "\n",
    "    ax1.axvline(x=silhouette_avg, color=\"red\", linestyle=\"--\")\n",
    "\n",
    "    ax1.set_yticks([])  # Clear the yaxis labels / ticks\n",
    "    ax1.set_xticks([-0.1, 0, 0.2, 0.4, 0.6, 0.8, 1])\n",
    "\n",
    "    # 2nd Plot showing the actual clusters formed\n",
    "    cmap = matplotlib.cm.get_cmap(\"nipy_spectral\")\n",
    "    colors = cmap(float(i) / n_clusters)\n",
    "    ax2.scatter(reduced_data[:, 0], reduced_data[:, 1], marker='.', s=30, lw=0, alpha=0.7,\n",
    "                c=colors)\n",
    "\n",
    "    # Labeling the clusters\n",
    "    centers = clusterer.cluster_centers_\n",
    "    projected_centers = pca.transform(centers)\n",
    "    # Draw white circles at cluster centers\n",
    "    ax2.scatter(projected_centers[:, 0], projected_centers[:, 1],\n",
    "                marker='o', c=\"white\", alpha=1, s=200)\n",
    "\n",
    "    for i, c in enumerate(projected_centers):\n",
    "        ax2.scatter(c[0], c[1], marker='$%d$' % i, alpha=1, s=50)\n",
    "\n",
    "    ax2.set_title(\"The visualization of the clustered data.\")\n",
    "    ax2.set_xlabel(\"PC 1\")\n",
    "    ax2.set_ylabel(\"PC 2\")\n",
    "\n",
    "    plt.suptitle((\"Silhouette analysis for KMeans clustering on sample data \"\n",
    "                  \"with n_clusters = %d\" % n_clusters),\n",
    "                 fontsize=14, fontweight='bold')\n",
    "    plt.show()\n",
    "    print(\"For n_clusters = {}, The average silhouette_score is : {:.3f}\".format(n_clusters, silhouette_avg))"
   ]
  },
  {
   "cell_type": "code",
   "execution_count": 31,
   "metadata": {},
   "outputs": [
    {
     "name": "stderr",
     "output_type": "stream",
     "text": [
      "'c' argument looks like a single numeric RGB or RGBA sequence, which should be avoided as value-mapping will have precedence in case its length matches with 'x' & 'y'.  Please use a 2-D array with a single row if you really want to specify the same RGB or RGBA value for all points.\n"
     ]
    },
    {
     "data": {
      "image/png": "[encoded data removed]",
      "text/plain": [
       "<Figure size 1080x360 with 2 Axes>"
      ]
     },
     "metadata": {
      "needs_background": "light"
     },
     "output_type": "display_data"
    },
    {
     "name": "stdout",
     "output_type": "stream",
     "text": [
      "For n_clusters = 3, The average silhouette_score is : 0.022\n"
     ]
    }
   ],
   "source": [
    "# Trying different numbers of clusters\n",
    "\n",
    "X = tweetTFVects.toarray()\n",
    "plotSilhouette(3, X)"
   ]
  },
  {
   "cell_type": "code",
   "execution_count": 32,
   "metadata": {},
   "outputs": [
    {
     "name": "stderr",
     "output_type": "stream",
     "text": [
      "'c' argument looks like a single numeric RGB or RGBA sequence, which should be avoided as value-mapping will have precedence in case its length matches with 'x' & 'y'.  Please use a 2-D array with a single row if you really want to specify the same RGB or RGBA value for all points.\n"
     ]
    },
    {
     "data": {
      "image/png": "[encoded data removed]",
      "text/plain": [
       "<Figure size 1080x360 with 2 Axes>"
      ]
     },
     "metadata": {
      "needs_background": "light"
     },
     "output_type": "display_data"
    },
    {
     "name": "stdout",
     "output_type": "stream",
     "text": [
      "For n_clusters = 10, The average silhouette_score is : 0.013\n"
     ]
    }
   ],
   "source": [
    "#Trying with ten, does not make a lot of sense since the clusters are so close in distance\n",
    "\n",
    "X = tweetTFVects.toarray()\n",
    "plotSilhouette(10, X)"
   ]
  },
  {
   "cell_type": "code",
   "execution_count": 33,
   "metadata": {},
   "outputs": [
    {
     "name": "stderr",
     "output_type": "stream",
     "text": [
      "'c' argument looks like a single numeric RGB or RGBA sequence, which should be avoided as value-mapping will have precedence in case its length matches with 'x' & 'y'.  Please use a 2-D array with a single row if you really want to specify the same RGB or RGBA value for all points.\n"
     ]
    },
    {
     "data": {
      "image/png": "[encoded data removed]",
      "text/plain": [
       "<Figure size 1080x360 with 2 Axes>"
      ]
     },
     "metadata": {
      "needs_background": "light"
     },
     "output_type": "display_data"
    },
    {
     "name": "stdout",
     "output_type": "stream",
     "text": [
      "For n_clusters = 5, The average silhouette_score is : 0.019\n"
     ]
    }
   ],
   "source": [
    "# Like golidlocks, trying to find the right number\n",
    "\n",
    "X = tweetTFVects.toarray()\n",
    "plotSilhouette(5, X)"
   ]
  },
  {
   "cell_type": "markdown",
   "metadata": {},
   "source": [
    "According to the silhouette analysis, the optimal of number of clusters is 3. Again thelabels of types of fake news are dependent on whether the tweet has fake news in the first place, which is rare. Out of the dataset, it's about 136 out of 1337 tweets. There are five true categories: 1) unlabeled, 2) serious fabrication, 3) large scale hoax, 4) slanted reporting of fake news, and 5) stories where the truth is contentious. But as you can tell from the true label, the human annotation is pretty nebulously defined so it make sense that there would be overlap in text features and that optimal number of clusters is less than the true labels.\n",
    "\n"
   ]
  },
  {
   "cell_type": "markdown",
   "metadata": {},
   "source": [
    "## <span style=\"color:red\">*Exercise 2*</span>\n",
    "\n",
    "<span style=\"color:red\">Construct cells immediately below this that hierarchically cluster your documents using two approaches, and visualize them with a tree. Interrogate the recursive cluster contents in terms of both documents and closenesses. What does this nested cluster structure reveal about the organization of documents in your sampled corpora? Moreover, if they do worse than kmeans (as above), why do you think this is the case (hint: using metrics if you have ground truth or silhouette if you do not)? \n",
    "\n",
    "<span style=\"color:red\">***Stretch***: Attempt using different distances into your clustering algorithms. (How) do they change the arrangement of clusters?"
   ]
  },
  {
   "cell_type": "markdown",
   "metadata": {},
   "source": [
    "Applying hierarchy through Wald's method of clustering, because of the semantic overlap, I expect the content to have many nested levels and I also do not expect Wald method to perform any better than K-means clustering. "
   ]
  },
  {
   "cell_type": "markdown",
   "metadata": {},
   "source": [
    "# Wald's Method"
   ]
  },
  {
   "cell_type": "code",
   "execution_count": 34,
   "metadata": {},
   "outputs": [
    {
     "data": {
      "text/plain": [
       "matrix([[0., 0., 0., ..., 0., 0., 0.],\n",
       "        [0., 0., 0., ..., 0., 0., 0.],\n",
       "        [0., 0., 0., ..., 0., 0., 0.],\n",
       "        ...,\n",
       "        [0., 0., 0., ..., 0., 0., 0.],\n",
       "        [0., 0., 0., ..., 0., 0., 0.],\n",
       "        [0., 0., 0., ..., 0., 0., 0.]])"
      ]
     },
     "execution_count": 34,
     "metadata": {},
     "output_type": "execute_result"
    }
   ],
   "source": [
    "tweetTFVects[:100].todense()"
   ]
  },
  {
   "cell_type": "markdown",
   "metadata": {},
   "source": [
    "Above is the  matrix of word counts per document newsgroupsTFVects"
   ]
  },
  {
   "cell_type": "code",
   "execution_count": 35,
   "metadata": {},
   "outputs": [
    {
     "name": "stderr",
     "output_type": "stream",
     "text": [
      "/software/Anaconda3-5.3.0-el7-x86_64/lib/python3.6/site-packages/scipy/sparse/compressed.py:708: SparseEfficiencyWarning: Changing the sparsity structure of a csr_matrix is expensive. lil_matrix is more efficient.\n",
      "  self[i, j] = values\n"
     ]
    }
   ],
   "source": [
    "# word occurrence matrix -- document similarity based on shared words\n",
    "\n",
    "tweetsCoocMat = tweetTFVects * tweetTFVects.T\n",
    "#set the diagonal to 0 since we don't care how similar texts are to themselves\n",
    "tweetsCoocMat.setdiag(0)\n",
    "\n"
   ]
  },
  {
   "cell_type": "code",
   "execution_count": 36,
   "metadata": {},
   "outputs": [],
   "source": [
    "selectIndices = []\n",
    "indexToCat = []\n",
    "for c in set(electiontweetsDF['fake_news_category']):\n",
    "    selectIndices += list(electiontweetsDF[electiontweetsDF['fake_news_category'] == c].index)[:50]\n",
    "    indexToCat += [c] * 50\n",
    "    #.groupby('category').sum()"
   ]
  },
  {
   "cell_type": "code",
   "execution_count": 37,
   "metadata": {},
   "outputs": [],
   "source": [
    "subCoocMat = tweetsCoocMat[selectIndices,:][:,selectIndices]"
   ]
  },
  {
   "cell_type": "code",
   "execution_count": 38,
   "metadata": {},
   "outputs": [
    {
     "name": "stderr",
     "output_type": "stream",
     "text": [
      "/software/Anaconda3-5.3.0-el7-x86_64/lib/python3.6/site-packages/scipy/cluster/hierarchy.py:878: ClusterWarning: scipy.cluster: The symmetric non-negative hollow observation matrix looks suspiciously like an uncondensed distance matrix\n",
      "  return linkage(y, method='ward', metric='euclidean')\n"
     ]
    },
    {
     "data": {
      "text/plain": [
       "array([[2.70000000e+01, 3.10000000e+01, 5.12342794e-02, 2.00000000e+00],\n",
       "       [1.00000000e+00, 1.60000000e+01, 9.62289635e-02, 2.00000000e+00],\n",
       "       [3.20000000e+01, 1.50000000e+02, 1.14184556e-01, 3.00000000e+00],\n",
       "       [3.80000000e+01, 1.36000000e+02, 1.47881510e-01, 2.00000000e+00],\n",
       "       [5.20000000e+01, 1.49000000e+02, 1.64284243e-01, 3.00000000e+00],\n",
       "       [5.00000000e+01, 1.52000000e+02, 2.08745258e-01, 3.00000000e+00],\n",
       "       [3.70000000e+01, 4.50000000e+01, 2.14828288e-01, 2.00000000e+00],\n",
       "       [2.40000000e+01, 1.53000000e+02, 2.66105764e-01, 4.00000000e+00],\n",
       "       [1.40000000e+01, 1.54000000e+02, 2.86116346e-01, 4.00000000e+00],\n",
       "       [5.60000000e+01, 1.57000000e+02, 3.03700758e-01, 5.00000000e+00]])"
      ]
     },
     "execution_count": 38,
     "metadata": {},
     "output_type": "execute_result"
    }
   ],
   "source": [
    "linkage_matrix = scipy.cluster.hierarchy.ward(subCoocMat.toarray())\n",
    "linkage_matrix[:10]"
   ]
  },
  {
   "cell_type": "code",
   "execution_count": 41,
   "metadata": {},
   "outputs": [],
   "source": [
    "# Visualizing the tree"
   ]
  },
  {
   "cell_type": "code",
   "execution_count": 42,
   "metadata": {},
   "outputs": [
    {
     "data": {
      "image/png": "[encoded data removed]",
      "text/plain": [
       "<Figure size 432x288 with 1 Axes>"
      ]
     },
     "metadata": {
      "needs_background": "light"
     },
     "output_type": "display_data"
    }
   ],
   "source": [
    "dendDat = scipy.cluster.hierarchy.dendrogram(linkage_matrix, get_leaves=True)"
   ]
  },
  {
   "cell_type": "code",
   "execution_count": 43,
   "metadata": {},
   "outputs": [
    {
     "data": {
      "image/png": "[encoded data removed]",
      "text/plain": [
       "<Figure size 432x288 with 1 Axes>"
      ]
     },
     "metadata": {
      "needs_background": "light"
     },
     "output_type": "display_data"
    }
   ],
   "source": [
    "#Cutting trees\n",
    "\n",
    "dendrogramDat = scipy.cluster.hierarchy.dendrogram(linkage_matrix, p=4, truncate_mode='level', get_leaves=True)"
   ]
  },
  {
   "cell_type": "code",
   "execution_count": 44,
   "metadata": {},
   "outputs": [
    {
     "data": {
      "text/plain": [
       "array([1, 1, 1, 1, 1, 1, 1, 1, 1, 1, 4, 4, 1, 1, 4, 1, 1, 4, 4, 1, 1, 1,\n",
       "       4, 4, 1, 1, 1, 1, 1, 4, 1, 1, 1, 1, 1, 1, 1, 1, 4, 1, 1, 1, 1, 1,\n",
       "       1, 1, 1, 1, 1, 1, 4, 4, 1, 3, 2, 4, 4, 1, 3, 4, 4, 4, 4, 4, 1, 1,\n",
       "       4, 1, 4, 4, 4, 1, 4, 4, 1, 4, 4, 4, 4, 1, 1, 4, 4, 4, 4, 2, 4, 4,\n",
       "       3, 4, 1, 4, 4, 1, 4, 3, 3, 3, 3, 4, 1, 1, 2, 1, 1, 1, 1, 1, 1, 4,\n",
       "       4, 1, 1, 2, 2, 2, 2, 2, 2, 2, 2, 2, 2, 2, 2, 2, 4, 4, 3, 1, 1, 4,\n",
       "       1, 4, 4, 4, 4, 4, 4, 4, 4, 1, 4, 1, 1, 1, 1, 4, 4], dtype=int32)"
      ]
     },
     "execution_count": 44,
     "metadata": {},
     "output_type": "execute_result"
    }
   ],
   "source": [
    "hierarchicalClusters = scipy.cluster.hierarchy.fcluster(linkage_matrix, 4, 'maxclust')\n",
    "hierarchicalClusters"
   ]
  },
  {
   "cell_type": "code",
   "execution_count": 45,
   "metadata": {},
   "outputs": [
    {
     "name": "stderr",
     "output_type": "stream",
     "text": [
      "/software/Anaconda3-5.3.0-el7-x86_64/lib/python3.6/site-packages/scipy/cluster/hierarchy.py:878: ClusterWarning: scipy.cluster: The symmetric non-negative hollow observation matrix looks suspiciously like an uncondensed distance matrix\n",
      "  return linkage(y, method='ward', metric='euclidean')\n"
     ]
    },
    {
     "name": "stdout",
     "output_type": "stream",
     "text": [
      "For our complete clusters:\n",
      "Homogeneity: 0.066\n",
      "Completeness: 0.026\n",
      "V-measure: 0.037\n",
      "Adjusted Rand Score: 0.034\n"
     ]
    }
   ],
   "source": [
    "#homogeneity scores\n",
    "\n",
    "linkage_matrix_full = scipy.cluster.hierarchy.ward(tweetsCoocMat.toarray())\n",
    "hierarchicalClusters_full = scipy.cluster.hierarchy.fcluster(linkage_matrix_full, 4, 'maxclust')\n",
    "\n",
    "print(\"For our complete clusters:\")\n",
    "\n",
    "print(\"Homogeneity: {:0.3f}\".format(sklearn.metrics.homogeneity_score(electiontweetsDF['fake_news_category'], hierarchicalClusters_full)))\n",
    "print(\"Completeness: {:0.3f}\".format(sklearn.metrics.completeness_score(electiontweetsDF['fake_news_category'], hierarchicalClusters_full)))\n",
    "print(\"V-measure: {:0.3f}\".format(sklearn.metrics.v_measure_score(electiontweetsDF['fake_news_category'], hierarchicalClusters_full)))\n",
    "print(\"Adjusted Rand Score: {:0.3f}\".format(sklearn.metrics.adjusted_rand_score(electiontweetsDF['fake_news_category'], hierarchicalClusters_full)))"
   ]
  },
  {
   "cell_type": "code",
   "execution_count": 46,
   "metadata": {},
   "outputs": [
    {
     "data": {
      "text/html": [
       "<div>\n",
       "<style scoped>\n",
       "    .dataframe tbody tr th:only-of-type {\n",
       "        vertical-align: middle;\n",
       "    }\n",
       "\n",
       "    .dataframe tbody tr th {\n",
       "        vertical-align: top;\n",
       "    }\n",
       "\n",
       "    .dataframe thead th {\n",
       "        text-align: right;\n",
       "    }\n",
       "</style>\n",
       "<table border=\"1\" class=\"dataframe\">\n",
       "  <thead>\n",
       "    <tr style=\"text-align: right;\">\n",
       "      <th></th>\n",
       "      <th>tweet_id</th>\n",
       "      <th>is_fake_news</th>\n",
       "      <th>fake_news_category</th>\n",
       "      <th>text</th>\n",
       "      <th>kmeans_predictions</th>\n",
       "      <th>kmeans_predictions2</th>\n",
       "      <th>wald_predictions</th>\n",
       "    </tr>\n",
       "  </thead>\n",
       "  <tbody>\n",
       "    <tr>\n",
       "      <th>0</th>\n",
       "      <td>264033382076407808</td>\n",
       "      <td>False</td>\n",
       "      <td>0.0</td>\n",
       "      <td>@realDonaldTrump you are full of shit!</td>\n",
       "      <td>0</td>\n",
       "      <td>2</td>\n",
       "      <td>3</td>\n",
       "    </tr>\n",
       "    <tr>\n",
       "      <th>1</th>\n",
       "      <td>265895586660757505</td>\n",
       "      <td>False</td>\n",
       "      <td>0.0</td>\n",
       "      <td>@realDonaldTrump you're fucking retarded</td>\n",
       "      <td>0</td>\n",
       "      <td>2</td>\n",
       "      <td>3</td>\n",
       "    </tr>\n",
       "    <tr>\n",
       "      <th>2</th>\n",
       "      <td>265895723445411841</td>\n",
       "      <td>False</td>\n",
       "      <td>0.0</td>\n",
       "      <td>@realDonaldTrump You are the stupidest man on ...</td>\n",
       "      <td>0</td>\n",
       "      <td>2</td>\n",
       "      <td>3</td>\n",
       "    </tr>\n",
       "    <tr>\n",
       "      <th>3</th>\n",
       "      <td>265896172726661120</td>\n",
       "      <td>False</td>\n",
       "      <td>0.0</td>\n",
       "      <td>@realDonaldTrump I am continually amazed and t...</td>\n",
       "      <td>0</td>\n",
       "      <td>2</td>\n",
       "      <td>3</td>\n",
       "    </tr>\n",
       "    <tr>\n",
       "      <th>4</th>\n",
       "      <td>266042962650226688</td>\n",
       "      <td>False</td>\n",
       "      <td>0.0</td>\n",
       "      <td>Hey @realDonaldTrump You Mad Bro?</td>\n",
       "      <td>0</td>\n",
       "      <td>2</td>\n",
       "      <td>3</td>\n",
       "    </tr>\n",
       "  </tbody>\n",
       "</table>\n",
       "</div>"
      ],
      "text/plain": [
       "             tweet_id  is_fake_news  fake_news_category  \\\n",
       "0  264033382076407808         False                 0.0   \n",
       "1  265895586660757505         False                 0.0   \n",
       "2  265895723445411841         False                 0.0   \n",
       "3  265896172726661120         False                 0.0   \n",
       "4  266042962650226688         False                 0.0   \n",
       "\n",
       "                                                text  kmeans_predictions  \\\n",
       "0             @realDonaldTrump you are full of shit!                   0   \n",
       "1           @realDonaldTrump you're fucking retarded                   0   \n",
       "2  @realDonaldTrump You are the stupidest man on ...                   0   \n",
       "3  @realDonaldTrump I am continually amazed and t...                   0   \n",
       "4                  Hey @realDonaldTrump You Mad Bro?                   0   \n",
       "\n",
       "   kmeans_predictions2  wald_predictions  \n",
       "0                    2                 3  \n",
       "1                    2                 3  \n",
       "2                    2                 3  \n",
       "3                    2                 3  \n",
       "4                    2                 3  "
      ]
     },
     "execution_count": 46,
     "metadata": {},
     "output_type": "execute_result"
    }
   ],
   "source": [
    "electiontweetsDF['wald_predictions'] = hierarchicalClusters_full\n",
    "electiontweetsDF.head()"
   ]
  },
  {
   "cell_type": "markdown",
   "metadata": {},
   "source": [
    "Interrogate the recursive cluster contents in terms of both documents and closenesses. What does this nested cluster structure reveal about the organization of documents in your sampled corpora? Moreover, if they do worse than kmeans (as above), why do you think this is the case (hint: using metrics if you have ground truth or silhouette if you do not)? \n",
    "\n",
    "\n",
    "\n",
    "\n",
    "The nested cluster appears to be \n",
    "\n",
    "\n"
   ]
  },
  {
   "cell_type": "markdown",
   "metadata": {},
   "source": [
    "## <span style=\"color:red\">*Exercise 3*</span>\n",
    "\n",
    "<span style=\"color:red\">Construct cells immediately below this that topic model documents related to your anticipated final project. Interrogate and visually plot (e.g., as a bar graph?) the topic-word loadings and the document-topic loadings. What does this topic structure reveal about the distribution of contents across your documents? Systematically vary the $\\alpha$, $\\eta$, and topic number of the model for your text and describe in detail whether and how these changes led to distinctive outcomes, visible to you as analyst.  \n",
    "\n",
    "<span style=\"color:red\">**Stretch**: Cluster your documents, but instead of using words alone, use their topic loadings as an additional set of features. Do these topic loadings increase the apparent semantic coherence of your clusters?</span> "
   ]
  },
  {
   "cell_type": "markdown",
   "metadata": {},
   "source": [
    "# Topic Modeling with GenSim\n"
   ]
  },
  {
   "cell_type": "code",
   "execution_count": 47,
   "metadata": {},
   "outputs": [],
   "source": [
    "#Apply our functions\n",
    "electiontweetsDF['tokenized_text'] = electiontweetsDF['text'].apply(lambda x: lucem_illud_2020.word_tokenize(x))\n",
    "electiontweetsDF['normalized_tokens'] = electiontweetsDF['tokenized_text'].apply(lambda x: lucem_illud_2020.normalizeTokens(x))"
   ]
  },
  {
   "cell_type": "code",
   "execution_count": 48,
   "metadata": {},
   "outputs": [],
   "source": [
    "# Reduce the tokens\n",
    "\n",
    "def dropMissing(wordLst, vocab):\n",
    "    return [w for w in wordLst if w in vocab]\n",
    "\n",
    "electiontweetsDF['reduced_tokens'] = electiontweetsDF['normalized_tokens'].apply(lambda x: dropMissing(x, tweetTFVectorizer.vocabulary_.keys()))"
   ]
  },
  {
   "cell_type": "code",
   "execution_count": 49,
   "metadata": {},
   "outputs": [],
   "source": [
    "dictionary = gensim.corpora.Dictionary(electiontweetsDF['reduced_tokens'])"
   ]
  },
  {
   "cell_type": "markdown",
   "metadata": {},
   "source": [
    "\n",
    "-- Then for each of the texts we create a list of tuples containing each token and its count. We will only use the first half of our dataset for now and will save the remainder for testing."
   ]
  },
  {
   "cell_type": "code",
   "execution_count": 50,
   "metadata": {},
   "outputs": [],
   "source": [
    "corpus = [dictionary.doc2bow(text) for text in electiontweetsDF['reduced_tokens']]"
   ]
  },
  {
   "cell_type": "code",
   "execution_count": 51,
   "metadata": {},
   "outputs": [],
   "source": [
    "# doc2bow does preprocessing\n",
    "# Corpus \n",
    "\n",
    "gensim.corpora.MmCorpus.serialize('election.mm', corpus) # I think the .mm is just a naming convention?\n",
    "tweetmm = gensim.corpora.MmCorpus('election.mm')"
   ]
  },
  {
   "cell_type": "code",
   "execution_count": 52,
   "metadata": {},
   "outputs": [],
   "source": [
    "tweetlda = gensim.models.ldamodel.LdaModel(corpus=tweetmm, id2word=dictionary, num_topics=10, alpha='auto', eta='auto')"
   ]
  },
  {
   "cell_type": "markdown",
   "metadata": {},
   "source": [
    "The degree to which distinct texts load on the identified topics."
   ]
  },
  {
   "cell_type": "code",
   "execution_count": 53,
   "metadata": {},
   "outputs": [
    {
     "name": "stdout",
     "output_type": "stream",
     "text": [
      "The topics of the text: 0.0\n",
      "are: [(0, 0.09967761), (1, 0.09913782), (2, 0.09556843), (3, 0.10471212), (4, 0.1014738), (5, 0.10679224), (6, 0.0959183), (7, 0.09760985), (8, 0.100418955), (9, 0.0986909)]\n"
     ]
    }
   ],
   "source": [
    "tweet1Bow = dictionary.doc2bow(electiontweetsDF['reduced_tokens'][0])\n",
    "tweet1lda = tweetlda[tweet1Bow]\n",
    "print(\"The topics of the text: {}\".format(electiontweetsDF['fake_news_category'][0]))\n",
    "print(\"are: {}\".format(tweet1lda))\n"
   ]
  },
  {
   "cell_type": "code",
   "execution_count": 56,
   "metadata": {},
   "outputs": [
    {
     "data": {
      "text/html": [
       "<div>\n",
       "<style scoped>\n",
       "    .dataframe tbody tr th:only-of-type {\n",
       "        vertical-align: middle;\n",
       "    }\n",
       "\n",
       "    .dataframe tbody tr th {\n",
       "        vertical-align: top;\n",
       "    }\n",
       "\n",
       "    .dataframe thead th {\n",
       "        text-align: right;\n",
       "    }\n",
       "</style>\n",
       "<table border=\"1\" class=\"dataframe\">\n",
       "  <thead>\n",
       "    <tr style=\"text-align: right;\">\n",
       "      <th></th>\n",
       "      <th>name</th>\n",
       "      <th>topics</th>\n",
       "      <th>topic_0</th>\n",
       "      <th>topic_1</th>\n",
       "      <th>topic_2</th>\n",
       "      <th>topic_3</th>\n",
       "      <th>topic_4</th>\n",
       "      <th>topic_5</th>\n",
       "      <th>topic_6</th>\n",
       "      <th>topic_7</th>\n",
       "      <th>topic_8</th>\n",
       "      <th>topic_9</th>\n",
       "    </tr>\n",
       "  </thead>\n",
       "  <tbody>\n",
       "    <tr>\n",
       "      <th>1</th>\n",
       "      <td>0.0</td>\n",
       "      <td>[(0, 0.046968255), (1, 0.5755042), (2, 0.04503...</td>\n",
       "      <td>0.046968</td>\n",
       "      <td>0.575504</td>\n",
       "      <td>0.045032</td>\n",
       "      <td>0.049342</td>\n",
       "      <td>0.047821</td>\n",
       "      <td>0.050321</td>\n",
       "      <td>0.045197</td>\n",
       "      <td>0.045994</td>\n",
       "      <td>0.047318</td>\n",
       "      <td>0.046503</td>\n",
       "    </tr>\n",
       "    <tr>\n",
       "      <th>101</th>\n",
       "      <td>0.0</td>\n",
       "      <td>[(0, 0.09967761), (1, 0.09913782), (2, 0.09556...</td>\n",
       "      <td>0.099678</td>\n",
       "      <td>0.099138</td>\n",
       "      <td>0.095568</td>\n",
       "      <td>0.104712</td>\n",
       "      <td>0.101474</td>\n",
       "      <td>0.106792</td>\n",
       "      <td>0.095918</td>\n",
       "      <td>0.097610</td>\n",
       "      <td>0.100419</td>\n",
       "      <td>0.098691</td>\n",
       "    </tr>\n",
       "    <tr>\n",
       "      <th>201</th>\n",
       "      <td>0.0</td>\n",
       "      <td>[(0, 0.09967761), (1, 0.09913782), (2, 0.09556...</td>\n",
       "      <td>0.099678</td>\n",
       "      <td>0.099138</td>\n",
       "      <td>0.095568</td>\n",
       "      <td>0.104712</td>\n",
       "      <td>0.101474</td>\n",
       "      <td>0.106792</td>\n",
       "      <td>0.095918</td>\n",
       "      <td>0.097610</td>\n",
       "      <td>0.100419</td>\n",
       "      <td>0.098691</td>\n",
       "    </tr>\n",
       "    <tr>\n",
       "      <th>301</th>\n",
       "      <td>0.0</td>\n",
       "      <td>[(0, 0.030722333), (1, 0.030556712), (2, 0.029...</td>\n",
       "      <td>0.030722</td>\n",
       "      <td>0.030557</td>\n",
       "      <td>0.029456</td>\n",
       "      <td>0.032276</td>\n",
       "      <td>0.031277</td>\n",
       "      <td>0.724694</td>\n",
       "      <td>0.029564</td>\n",
       "      <td>0.030085</td>\n",
       "      <td>0.030951</td>\n",
       "      <td>0.030419</td>\n",
       "    </tr>\n",
       "    <tr>\n",
       "      <th>401</th>\n",
       "      <td>0.0</td>\n",
       "      <td>[(0, 0.012890978), (1, 0.012819655), (2, 0.883...</td>\n",
       "      <td>0.012891</td>\n",
       "      <td>0.012820</td>\n",
       "      <td>0.883042</td>\n",
       "      <td>0.013541</td>\n",
       "      <td>0.013122</td>\n",
       "      <td>0.013811</td>\n",
       "      <td>0.012403</td>\n",
       "      <td>0.012622</td>\n",
       "      <td>0.012985</td>\n",
       "      <td>0.012763</td>\n",
       "    </tr>\n",
       "    <tr>\n",
       "      <th>501</th>\n",
       "      <td>0.0</td>\n",
       "      <td>[(0, 0.09967761), (1, 0.09913782), (2, 0.09556...</td>\n",
       "      <td>0.099678</td>\n",
       "      <td>0.099138</td>\n",
       "      <td>0.095568</td>\n",
       "      <td>0.104712</td>\n",
       "      <td>0.101474</td>\n",
       "      <td>0.106792</td>\n",
       "      <td>0.095918</td>\n",
       "      <td>0.097610</td>\n",
       "      <td>0.100419</td>\n",
       "      <td>0.098691</td>\n",
       "    </tr>\n",
       "    <tr>\n",
       "      <th>601</th>\n",
       "      <td>0.0</td>\n",
       "      <td>[(0, 0.011256364), (1, 0.011195396), (2, 0.010...</td>\n",
       "      <td>0.011256</td>\n",
       "      <td>0.011195</td>\n",
       "      <td>0.010792</td>\n",
       "      <td>0.898894</td>\n",
       "      <td>0.011460</td>\n",
       "      <td>0.012062</td>\n",
       "      <td>0.010832</td>\n",
       "      <td>0.011023</td>\n",
       "      <td>0.011340</td>\n",
       "      <td>0.011145</td>\n",
       "    </tr>\n",
       "    <tr>\n",
       "      <th>701</th>\n",
       "      <td>0.0</td>\n",
       "      <td>[(0, 0.09967761), (1, 0.09913782), (2, 0.09556...</td>\n",
       "      <td>0.099678</td>\n",
       "      <td>0.099138</td>\n",
       "      <td>0.095568</td>\n",
       "      <td>0.104712</td>\n",
       "      <td>0.101474</td>\n",
       "      <td>0.106792</td>\n",
       "      <td>0.095918</td>\n",
       "      <td>0.097610</td>\n",
       "      <td>0.100419</td>\n",
       "      <td>0.098691</td>\n",
       "    </tr>\n",
       "    <tr>\n",
       "      <th>801</th>\n",
       "      <td>1.0</td>\n",
       "      <td>[(0, 0.012889435), (1, 0.012820376), (2, 0.012...</td>\n",
       "      <td>0.012889</td>\n",
       "      <td>0.012820</td>\n",
       "      <td>0.012358</td>\n",
       "      <td>0.884222</td>\n",
       "      <td>0.013122</td>\n",
       "      <td>0.013813</td>\n",
       "      <td>0.012403</td>\n",
       "      <td>0.012622</td>\n",
       "      <td>0.012986</td>\n",
       "      <td>0.012763</td>\n",
       "    </tr>\n",
       "    <tr>\n",
       "      <th>901</th>\n",
       "      <td>0.0</td>\n",
       "      <td>[(0, 0.022827154), (1, 0.022706827), (2, 0.021...</td>\n",
       "      <td>0.022827</td>\n",
       "      <td>0.022707</td>\n",
       "      <td>0.021886</td>\n",
       "      <td>0.023982</td>\n",
       "      <td>0.794218</td>\n",
       "      <td>0.024460</td>\n",
       "      <td>0.021967</td>\n",
       "      <td>0.022354</td>\n",
       "      <td>0.022998</td>\n",
       "      <td>0.022602</td>\n",
       "    </tr>\n",
       "    <tr>\n",
       "      <th>1001</th>\n",
       "      <td>0.0</td>\n",
       "      <td>[(3, 0.010496452), (4, 0.010171131), (5, 0.010...</td>\n",
       "      <td>0.000000</td>\n",
       "      <td>0.000000</td>\n",
       "      <td>0.000000</td>\n",
       "      <td>0.010496</td>\n",
       "      <td>0.010171</td>\n",
       "      <td>0.010705</td>\n",
       "      <td>0.000000</td>\n",
       "      <td>0.000000</td>\n",
       "      <td>0.212163</td>\n",
       "      <td>0.707562</td>\n",
       "    </tr>\n",
       "    <tr>\n",
       "      <th>1101</th>\n",
       "      <td>0.0</td>\n",
       "      <td>[(0, 0.011256196), (1, 0.011195194), (2, 0.010...</td>\n",
       "      <td>0.011256</td>\n",
       "      <td>0.011195</td>\n",
       "      <td>0.010792</td>\n",
       "      <td>0.011825</td>\n",
       "      <td>0.011459</td>\n",
       "      <td>0.899132</td>\n",
       "      <td>0.010832</td>\n",
       "      <td>0.011023</td>\n",
       "      <td>0.011340</td>\n",
       "      <td>0.011145</td>\n",
       "    </tr>\n",
       "    <tr>\n",
       "      <th>1201</th>\n",
       "      <td>0.0</td>\n",
       "      <td>[(0, 0.030722952), (1, 0.030556858), (2, 0.029...</td>\n",
       "      <td>0.030723</td>\n",
       "      <td>0.030557</td>\n",
       "      <td>0.029456</td>\n",
       "      <td>0.032279</td>\n",
       "      <td>0.031277</td>\n",
       "      <td>0.724680</td>\n",
       "      <td>0.029564</td>\n",
       "      <td>0.030088</td>\n",
       "      <td>0.030952</td>\n",
       "      <td>0.030423</td>\n",
       "    </tr>\n",
       "    <tr>\n",
       "      <th>1301</th>\n",
       "      <td>0.0</td>\n",
       "      <td>[(1, 0.20206214), (2, 0.7253835)]</td>\n",
       "      <td>0.000000</td>\n",
       "      <td>0.202062</td>\n",
       "      <td>0.725384</td>\n",
       "      <td>0.000000</td>\n",
       "      <td>0.000000</td>\n",
       "      <td>0.000000</td>\n",
       "      <td>0.000000</td>\n",
       "      <td>0.000000</td>\n",
       "      <td>0.000000</td>\n",
       "      <td>0.000000</td>\n",
       "    </tr>\n",
       "  </tbody>\n",
       "</table>\n",
       "</div>"
      ],
      "text/plain": [
       "      name                                             topics   topic_0  \\\n",
       "1      0.0  [(0, 0.046968255), (1, 0.5755042), (2, 0.04503...  0.046968   \n",
       "101    0.0  [(0, 0.09967761), (1, 0.09913782), (2, 0.09556...  0.099678   \n",
       "201    0.0  [(0, 0.09967761), (1, 0.09913782), (2, 0.09556...  0.099678   \n",
       "301    0.0  [(0, 0.030722333), (1, 0.030556712), (2, 0.029...  0.030722   \n",
       "401    0.0  [(0, 0.012890978), (1, 0.012819655), (2, 0.883...  0.012891   \n",
       "501    0.0  [(0, 0.09967761), (1, 0.09913782), (2, 0.09556...  0.099678   \n",
       "601    0.0  [(0, 0.011256364), (1, 0.011195396), (2, 0.010...  0.011256   \n",
       "701    0.0  [(0, 0.09967761), (1, 0.09913782), (2, 0.09556...  0.099678   \n",
       "801    1.0  [(0, 0.012889435), (1, 0.012820376), (2, 0.012...  0.012889   \n",
       "901    0.0  [(0, 0.022827154), (1, 0.022706827), (2, 0.021...  0.022827   \n",
       "1001   0.0  [(3, 0.010496452), (4, 0.010171131), (5, 0.010...  0.000000   \n",
       "1101   0.0  [(0, 0.011256196), (1, 0.011195194), (2, 0.010...  0.011256   \n",
       "1201   0.0  [(0, 0.030722952), (1, 0.030556858), (2, 0.029...  0.030723   \n",
       "1301   0.0                  [(1, 0.20206214), (2, 0.7253835)]  0.000000   \n",
       "\n",
       "       topic_1   topic_2   topic_3   topic_4   topic_5   topic_6   topic_7  \\\n",
       "1     0.575504  0.045032  0.049342  0.047821  0.050321  0.045197  0.045994   \n",
       "101   0.099138  0.095568  0.104712  0.101474  0.106792  0.095918  0.097610   \n",
       "201   0.099138  0.095568  0.104712  0.101474  0.106792  0.095918  0.097610   \n",
       "301   0.030557  0.029456  0.032276  0.031277  0.724694  0.029564  0.030085   \n",
       "401   0.012820  0.883042  0.013541  0.013122  0.013811  0.012403  0.012622   \n",
       "501   0.099138  0.095568  0.104712  0.101474  0.106792  0.095918  0.097610   \n",
       "601   0.011195  0.010792  0.898894  0.011460  0.012062  0.010832  0.011023   \n",
       "701   0.099138  0.095568  0.104712  0.101474  0.106792  0.095918  0.097610   \n",
       "801   0.012820  0.012358  0.884222  0.013122  0.013813  0.012403  0.012622   \n",
       "901   0.022707  0.021886  0.023982  0.794218  0.024460  0.021967  0.022354   \n",
       "1001  0.000000  0.000000  0.010496  0.010171  0.010705  0.000000  0.000000   \n",
       "1101  0.011195  0.010792  0.011825  0.011459  0.899132  0.010832  0.011023   \n",
       "1201  0.030557  0.029456  0.032279  0.031277  0.724680  0.029564  0.030088   \n",
       "1301  0.202062  0.725384  0.000000  0.000000  0.000000  0.000000  0.000000   \n",
       "\n",
       "       topic_8   topic_9  \n",
       "1     0.047318  0.046503  \n",
       "101   0.100419  0.098691  \n",
       "201   0.100419  0.098691  \n",
       "301   0.030951  0.030419  \n",
       "401   0.012985  0.012763  \n",
       "501   0.100419  0.098691  \n",
       "601   0.011340  0.011145  \n",
       "701   0.100419  0.098691  \n",
       "801   0.012986  0.012763  \n",
       "901   0.022998  0.022602  \n",
       "1001  0.212163  0.707562  \n",
       "1101  0.011340  0.011145  \n",
       "1201  0.030952  0.030423  \n",
       "1301  0.000000  0.000000  "
      ]
     },
     "execution_count": 56,
     "metadata": {},
     "output_type": "execute_result"
    }
   ],
   "source": [
    "ldaDF = pandas.DataFrame({\n",
    "        'name' : electiontweetsDF['fake_news_category'],\n",
    "        'topics' : [tweetlda[dictionary.doc2bow(l)] for l in electiontweetsDF['reduced_tokens']]\n",
    "    })\n",
    "\n",
    "\n",
    "#Dict to temporally hold the probabilities\n",
    "topicsProbDict = {i : [0] * len(ldaDF) for i in range(tweetlda.num_topics)}\n",
    "\n",
    "#Load them into the dict\n",
    "for index, topicTuples in enumerate(ldaDF['topics']):\n",
    "    for topicNum, prob in topicTuples:\n",
    "        topicsProbDict[topicNum][index] = prob\n",
    "\n",
    "#Update the DataFrame\n",
    "for topicNum in range(tweetlda.num_topics):\n",
    "    ldaDF['topic_{}'.format(topicNum)] = topicsProbDict[topicNum]\n",
    "\n",
    "ldaDF[1::100]"
   ]
  },
  {
   "cell_type": "markdown",
   "metadata": {},
   "source": [
    "I'm suprised it showed so many topics, considering the fake news category was only 5 labels. Lrt's go check out what is in the labels."
   ]
  },
  {
   "cell_type": "code",
   "execution_count": 57,
   "metadata": {},
   "outputs": [
    {
     "data": {
      "text/html": [
       "<div>\n",
       "<style scoped>\n",
       "    .dataframe tbody tr th:only-of-type {\n",
       "        vertical-align: middle;\n",
       "    }\n",
       "\n",
       "    .dataframe tbody tr th {\n",
       "        vertical-align: top;\n",
       "    }\n",
       "\n",
       "    .dataframe thead th {\n",
       "        text-align: right;\n",
       "    }\n",
       "</style>\n",
       "<table border=\"1\" class=\"dataframe\">\n",
       "  <thead>\n",
       "    <tr style=\"text-align: right;\">\n",
       "      <th></th>\n",
       "      <th>topic_0</th>\n",
       "      <th>topic_1</th>\n",
       "      <th>topic_2</th>\n",
       "      <th>topic_3</th>\n",
       "      <th>topic_4</th>\n",
       "      <th>topic_5</th>\n",
       "      <th>topic_6</th>\n",
       "      <th>topic_7</th>\n",
       "      <th>topic_8</th>\n",
       "      <th>topic_9</th>\n",
       "    </tr>\n",
       "  </thead>\n",
       "  <tbody>\n",
       "    <tr>\n",
       "      <th>0</th>\n",
       "      <td>0.099678</td>\n",
       "      <td>0.099138</td>\n",
       "      <td>0.095568</td>\n",
       "      <td>0.104712</td>\n",
       "      <td>0.101474</td>\n",
       "      <td>0.106792</td>\n",
       "      <td>0.095918</td>\n",
       "      <td>0.097610</td>\n",
       "      <td>0.100419</td>\n",
       "      <td>0.098691</td>\n",
       "    </tr>\n",
       "    <tr>\n",
       "      <th>1</th>\n",
       "      <td>0.046968</td>\n",
       "      <td>0.575504</td>\n",
       "      <td>0.045032</td>\n",
       "      <td>0.049342</td>\n",
       "      <td>0.047821</td>\n",
       "      <td>0.050321</td>\n",
       "      <td>0.045197</td>\n",
       "      <td>0.045994</td>\n",
       "      <td>0.047318</td>\n",
       "      <td>0.046503</td>\n",
       "    </tr>\n",
       "    <tr>\n",
       "      <th>2</th>\n",
       "      <td>0.046975</td>\n",
       "      <td>0.046714</td>\n",
       "      <td>0.045036</td>\n",
       "      <td>0.049341</td>\n",
       "      <td>0.047816</td>\n",
       "      <td>0.050333</td>\n",
       "      <td>0.045198</td>\n",
       "      <td>0.045996</td>\n",
       "      <td>0.047322</td>\n",
       "      <td>0.575269</td>\n",
       "    </tr>\n",
       "    <tr>\n",
       "      <th>3</th>\n",
       "      <td>0.030724</td>\n",
       "      <td>0.030556</td>\n",
       "      <td>0.029458</td>\n",
       "      <td>0.032276</td>\n",
       "      <td>0.031276</td>\n",
       "      <td>0.032918</td>\n",
       "      <td>0.029564</td>\n",
       "      <td>0.030087</td>\n",
       "      <td>0.030953</td>\n",
       "      <td>0.722187</td>\n",
       "    </tr>\n",
       "    <tr>\n",
       "      <th>4</th>\n",
       "      <td>0.030724</td>\n",
       "      <td>0.030556</td>\n",
       "      <td>0.721235</td>\n",
       "      <td>0.032274</td>\n",
       "      <td>0.031276</td>\n",
       "      <td>0.032916</td>\n",
       "      <td>0.029564</td>\n",
       "      <td>0.030085</td>\n",
       "      <td>0.030951</td>\n",
       "      <td>0.030418</td>\n",
       "    </tr>\n",
       "    <tr>\n",
       "      <th>5</th>\n",
       "      <td>0.046968</td>\n",
       "      <td>0.575499</td>\n",
       "      <td>0.045032</td>\n",
       "      <td>0.049342</td>\n",
       "      <td>0.047826</td>\n",
       "      <td>0.050321</td>\n",
       "      <td>0.045197</td>\n",
       "      <td>0.045994</td>\n",
       "      <td>0.047318</td>\n",
       "      <td>0.046503</td>\n",
       "    </tr>\n",
       "    <tr>\n",
       "      <th>6</th>\n",
       "      <td>0.012890</td>\n",
       "      <td>0.012821</td>\n",
       "      <td>0.012358</td>\n",
       "      <td>0.013542</td>\n",
       "      <td>0.013122</td>\n",
       "      <td>0.013811</td>\n",
       "      <td>0.883085</td>\n",
       "      <td>0.012623</td>\n",
       "      <td>0.012986</td>\n",
       "      <td>0.012762</td>\n",
       "    </tr>\n",
       "    <tr>\n",
       "      <th>7</th>\n",
       "      <td>0.918887</td>\n",
       "      <td>0.000000</td>\n",
       "      <td>0.000000</td>\n",
       "      <td>0.000000</td>\n",
       "      <td>0.000000</td>\n",
       "      <td>0.000000</td>\n",
       "      <td>0.000000</td>\n",
       "      <td>0.000000</td>\n",
       "      <td>0.000000</td>\n",
       "      <td>0.000000</td>\n",
       "    </tr>\n",
       "    <tr>\n",
       "      <th>8</th>\n",
       "      <td>0.030722</td>\n",
       "      <td>0.722325</td>\n",
       "      <td>0.029458</td>\n",
       "      <td>0.032276</td>\n",
       "      <td>0.031279</td>\n",
       "      <td>0.032919</td>\n",
       "      <td>0.029565</td>\n",
       "      <td>0.030085</td>\n",
       "      <td>0.030951</td>\n",
       "      <td>0.030419</td>\n",
       "    </tr>\n",
       "    <tr>\n",
       "      <th>9</th>\n",
       "      <td>0.030725</td>\n",
       "      <td>0.030558</td>\n",
       "      <td>0.029458</td>\n",
       "      <td>0.032274</td>\n",
       "      <td>0.031279</td>\n",
       "      <td>0.032915</td>\n",
       "      <td>0.029566</td>\n",
       "      <td>0.030087</td>\n",
       "      <td>0.722717</td>\n",
       "      <td>0.030420</td>\n",
       "    </tr>\n",
       "  </tbody>\n",
       "</table>\n",
       "</div>"
      ],
      "text/plain": [
       "    topic_0   topic_1   topic_2   topic_3   topic_4   topic_5   topic_6  \\\n",
       "0  0.099678  0.099138  0.095568  0.104712  0.101474  0.106792  0.095918   \n",
       "1  0.046968  0.575504  0.045032  0.049342  0.047821  0.050321  0.045197   \n",
       "2  0.046975  0.046714  0.045036  0.049341  0.047816  0.050333  0.045198   \n",
       "3  0.030724  0.030556  0.029458  0.032276  0.031276  0.032918  0.029564   \n",
       "4  0.030724  0.030556  0.721235  0.032274  0.031276  0.032916  0.029564   \n",
       "5  0.046968  0.575499  0.045032  0.049342  0.047826  0.050321  0.045197   \n",
       "6  0.012890  0.012821  0.012358  0.013542  0.013122  0.013811  0.883085   \n",
       "7  0.918887  0.000000  0.000000  0.000000  0.000000  0.000000  0.000000   \n",
       "8  0.030722  0.722325  0.029458  0.032276  0.031279  0.032919  0.029565   \n",
       "9  0.030725  0.030558  0.029458  0.032274  0.031279  0.032915  0.029566   \n",
       "\n",
       "    topic_7   topic_8   topic_9  \n",
       "0  0.097610  0.100419  0.098691  \n",
       "1  0.045994  0.047318  0.046503  \n",
       "2  0.045996  0.047322  0.575269  \n",
       "3  0.030087  0.030953  0.722187  \n",
       "4  0.030085  0.030951  0.030418  \n",
       "5  0.045994  0.047318  0.046503  \n",
       "6  0.012623  0.012986  0.012762  \n",
       "7  0.000000  0.000000  0.000000  \n",
       "8  0.030085  0.030951  0.030419  \n",
       "9  0.030087  0.722717  0.030420  "
      ]
     },
     "execution_count": 57,
     "metadata": {},
     "output_type": "execute_result"
    }
   ],
   "source": [
    "ldaDFV = ldaDF[:10][['topic_%d' %x for x in range(10)]]\n",
    "ldaDFVisN = ldaDF[:10][['name']]\n",
    "ldaDFVis = ldaDFV.as_matrix(columns=None)\n",
    "ldaDFVisNames = ldaDFVisN.as_matrix(columns=None)\n",
    "ldaDFV"
   ]
  },
  {
   "cell_type": "code",
   "execution_count": 60,
   "metadata": {},
   "outputs": [
    {
     "data": {
      "image/png": "[encoded data removed]",
      "text/plain": [
       "<Figure size 432x288 with 1 Axes>"
      ]
     },
     "metadata": {
      "needs_background": "light"
     },
     "output_type": "display_data"
    }
   ],
   "source": [
    "# Stacked bar chart of topics\n",
    "\n",
    "N = 10\n",
    "ind = np.arange(N)\n",
    "K = tweetlda.num_topics  # N documents, K topics\n",
    "ind = np.arange(N)  # the x-axis locations for the novels\n",
    "width = 0.5  # the width of the bars\n",
    "plots = []\n",
    "height_cumulative = np.zeros(N)\n",
    "\n",
    "for k in range(K):\n",
    "    color = plt.cm.coolwarm(k/K, 1)\n",
    "    if k == 0:\n",
    "        p = plt.bar(ind, ldaDFVis[:, k], width, color=color)\n",
    "    else:\n",
    "        p = plt.bar(ind, ldaDFVis[:, k], width, bottom=height_cumulative, color=color)\n",
    "    height_cumulative += ldaDFVis[:, k]\n",
    "    plots.append(p)\n",
    "    \n",
    "\n",
    "plt.ylim((0, 1))  # proportions sum to 1, so the height of the stacked bars is 1\n",
    "plt.ylabel('Topics')\n",
    "\n",
    "plt.title('Topics in Election Day Tweets')\n",
    "plt.xticks(ind+width/2, ldaDFVisNames, rotation='vertical')\n",
    "\n",
    "plt.yticks(np.arange(0, 1, 10))\n",
    "topic_labels = ['Topic #{}'.format(k) for k in range(K)]\n",
    "plt.legend([p[0] for p in plots], topic_labels, loc='center left', frameon=True,  bbox_to_anchor = (1, .5))\n",
    "\n",
    "plt.show()"
   ]
  },
  {
   "cell_type": "markdown",
   "metadata": {},
   "source": [
    "Clearly there are some documents that are mix of topics versus others. Document one, which in this case is a tweet, is an even probability distribution of all ten topics. For document 7, it looks to be very strongly just topc 1."
   ]
  },
  {
   "cell_type": "code",
   "execution_count": 61,
   "metadata": {},
   "outputs": [
    {
     "data": {
      "image/png": "[encoded data removed]",
      "text/plain": [
       "<Figure size 432x288 with 2 Axes>"
      ]
     },
     "metadata": {
      "needs_background": "light"
     },
     "output_type": "display_data"
    }
   ],
   "source": [
    "# Heat map\n",
    "plt.pcolor(ldaDFVis, norm=None, cmap='Blues')\n",
    "plt.yticks(np.arange(ldaDFVis.shape[0])+0.5, ldaDFVisNames);\n",
    "plt.xticks(np.arange(ldaDFVis.shape[1])+0.5, topic_labels);\n",
    "\n",
    "# flip the y-axis so the texts are in the order we anticipate (Austen first, then Brontë)\n",
    "plt.gca().invert_yaxis()\n",
    "\n",
    "# rotate the ticks on the x-axis\n",
    "plt.xticks(rotation=90)\n",
    "\n",
    "# add a legend\n",
    "plt.colorbar(cmap='Blues')\n",
    "plt.tight_layout()  # fixes margins\n",
    "plt.show()"
   ]
  },
  {
   "cell_type": "markdown",
   "metadata": {},
   "source": [
    "For every topic, it shows how strongly it identifies as one of the topics. But it would be helpful to see what the main topics are. So let's look at the terms with the highest LDA weight in topic `1`:"
   ]
  },
  {
   "cell_type": "code",
   "execution_count": 67,
   "metadata": {},
   "outputs": [
    {
     "data": {
      "text/plain": [
       "[('vote', 0.051593527),\n",
       " ('electionday', 0.040583674),\n",
       " ('day', 0.022550907),\n",
       " ('imwithher', 0.022525923),\n",
       " ('let', 0.018253608),\n",
       " ('amp', 0.01780254),\n",
       " ('president', 0.016187513),\n",
       " ('rt', 0.014589363),\n",
       " ('election', 0.014586577),\n",
       " ('america', 0.01181567)]"
      ]
     },
     "execution_count": 67,
     "metadata": {},
     "output_type": "execute_result"
    }
   ],
   "source": [
    "#topic 1\n",
    "\n",
    "tweetlda.show_topic(1)"
   ]
  },
  {
   "cell_type": "code",
   "execution_count": 68,
   "metadata": {},
   "outputs": [
    {
     "data": {
      "text/plain": [
       "[('vote', 0.05536359),\n",
       " ('electionday', 0.049033742),\n",
       " ('trump', 0.02413455),\n",
       " ('president', 0.021515582),\n",
       " ('win', 0.01516918),\n",
       " ('think', 0.015131924),\n",
       " ('candidate', 0.015092055),\n",
       " ('hillary', 0.01309539),\n",
       " ('ready', 0.012997515),\n",
       " ('america', 0.010983432)]"
      ]
     },
     "execution_count": 68,
     "metadata": {},
     "output_type": "execute_result"
    }
   ],
   "source": [
    "# topc =9\n",
    "tweetlda.show_topic(6)"
   ]
  },
  {
   "cell_type": "markdown",
   "metadata": {},
   "source": [
    "\n",
    "To be honest, these two topics look very similar. The only semantic difference I might venture to guess is different between the two is that the first has the salient feature of \"I'm with here\" which was the Clinton slogan. The sixth topc looks focus on the presidential race itself with terms like \"candidate\" and \"win\". The differences are hard to detect at this level, so it would be helpful to compare across topics and to identify what the delta is between the topics."
   ]
  },
  {
   "cell_type": "code",
   "execution_count": 73,
   "metadata": {},
   "outputs": [
    {
     "data": {
      "text/html": [
       "<div>\n",
       "<style scoped>\n",
       "    .dataframe tbody tr th:only-of-type {\n",
       "        vertical-align: middle;\n",
       "    }\n",
       "\n",
       "    .dataframe tbody tr th {\n",
       "        vertical-align: top;\n",
       "    }\n",
       "\n",
       "    .dataframe thead th {\n",
       "        text-align: right;\n",
       "    }\n",
       "</style>\n",
       "<table border=\"1\" class=\"dataframe\">\n",
       "  <thead>\n",
       "    <tr style=\"text-align: right;\">\n",
       "      <th></th>\n",
       "      <th>Topic_0</th>\n",
       "      <th>Topic_1</th>\n",
       "      <th>Topic_2</th>\n",
       "      <th>Topic_3</th>\n",
       "      <th>Topic_4</th>\n",
       "      <th>Topic_5</th>\n",
       "      <th>Topic_6</th>\n",
       "      <th>Topic_7</th>\n",
       "      <th>Topic_8</th>\n",
       "      <th>Topic_9</th>\n",
       "    </tr>\n",
       "  </thead>\n",
       "  <tbody>\n",
       "    <tr>\n",
       "      <th>0</th>\n",
       "      <td>vote</td>\n",
       "      <td>vote</td>\n",
       "      <td>want</td>\n",
       "      <td>electionday</td>\n",
       "      <td>vote</td>\n",
       "      <td>vote</td>\n",
       "      <td>vote</td>\n",
       "      <td>electionday</td>\n",
       "      <td>amp</td>\n",
       "      <td>trump</td>\n",
       "    </tr>\n",
       "    <tr>\n",
       "      <th>1</th>\n",
       "      <td>electionday</td>\n",
       "      <td>electionday</td>\n",
       "      <td>electionday</td>\n",
       "      <td>vote</td>\n",
       "      <td>electionday</td>\n",
       "      <td>electionday</td>\n",
       "      <td>electionday</td>\n",
       "      <td>trump</td>\n",
       "      <td>vote</td>\n",
       "      <td>vote</td>\n",
       "    </tr>\n",
       "    <tr>\n",
       "      <th>2</th>\n",
       "      <td>know</td>\n",
       "      <td>day</td>\n",
       "      <td>amp</td>\n",
       "      <td>trump</td>\n",
       "      <td>trump</td>\n",
       "      <td>trump</td>\n",
       "      <td>trump</td>\n",
       "      <td>america</td>\n",
       "      <td>electionday</td>\n",
       "      <td>clinton</td>\n",
       "    </tr>\n",
       "    <tr>\n",
       "      <th>3</th>\n",
       "      <td>people</td>\n",
       "      <td>imwithher</td>\n",
       "      <td>american</td>\n",
       "      <td>poll</td>\n",
       "      <td>hillary</td>\n",
       "      <td>maga</td>\n",
       "      <td>president</td>\n",
       "      <td>vote</td>\n",
       "      <td>trump</td>\n",
       "      <td>electionday</td>\n",
       "    </tr>\n",
       "    <tr>\n",
       "      <th>4</th>\n",
       "      <td>today</td>\n",
       "      <td>let</td>\n",
       "      <td>hillary</td>\n",
       "      <td>maga</td>\n",
       "      <td>maga</td>\n",
       "      <td>amp</td>\n",
       "      <td>win</td>\n",
       "      <td>big</td>\n",
       "      <td>like</td>\n",
       "      <td>hillary</td>\n",
       "    </tr>\n",
       "    <tr>\n",
       "      <th>5</th>\n",
       "      <td>amp</td>\n",
       "      <td>amp</td>\n",
       "      <td>support</td>\n",
       "      <td>amp</td>\n",
       "      <td>today</td>\n",
       "      <td>poll</td>\n",
       "      <td>think</td>\n",
       "      <td>hillary</td>\n",
       "      <td>voter</td>\n",
       "      <td>myvote2016</td>\n",
       "    </tr>\n",
       "    <tr>\n",
       "      <th>6</th>\n",
       "      <td>hillary</td>\n",
       "      <td>president</td>\n",
       "      <td>americans</td>\n",
       "      <td>donald</td>\n",
       "      <td>rally</td>\n",
       "      <td>watch</td>\n",
       "      <td>candidate</td>\n",
       "      <td>country</td>\n",
       "      <td>email</td>\n",
       "      <td>president</td>\n",
       "    </tr>\n",
       "    <tr>\n",
       "      <th>7</th>\n",
       "      <td>woman</td>\n",
       "      <td>rt</td>\n",
       "      <td>time</td>\n",
       "      <td>day</td>\n",
       "      <td>america</td>\n",
       "      <td>today</td>\n",
       "      <td>hillary</td>\n",
       "      <td>right</td>\n",
       "      <td>america</td>\n",
       "      <td>election</td>\n",
       "    </tr>\n",
       "    <tr>\n",
       "      <th>8</th>\n",
       "      <td>makeamericagreatagain</td>\n",
       "      <td>election</td>\n",
       "      <td>ask</td>\n",
       "      <td>support</td>\n",
       "      <td>clinton</td>\n",
       "      <td>people</td>\n",
       "      <td>ready</td>\n",
       "      <td>maga</td>\n",
       "      <td>poll</td>\n",
       "      <td>rt</td>\n",
       "    </tr>\n",
       "    <tr>\n",
       "      <th>9</th>\n",
       "      <td>trump</td>\n",
       "      <td>america</td>\n",
       "      <td>america</td>\n",
       "      <td>america</td>\n",
       "      <td>poll</td>\n",
       "      <td>donald</td>\n",
       "      <td>america</td>\n",
       "      <td>need</td>\n",
       "      <td>president</td>\n",
       "      <td>people</td>\n",
       "    </tr>\n",
       "  </tbody>\n",
       "</table>\n",
       "</div>"
      ],
      "text/plain": [
       "                 Topic_0      Topic_1      Topic_2      Topic_3      Topic_4  \\\n",
       "0                   vote         vote         want  electionday         vote   \n",
       "1            electionday  electionday  electionday         vote  electionday   \n",
       "2                   know          day          amp        trump        trump   \n",
       "3                 people    imwithher     american         poll      hillary   \n",
       "4                  today          let      hillary         maga         maga   \n",
       "5                    amp          amp      support          amp        today   \n",
       "6                hillary    president    americans       donald        rally   \n",
       "7                  woman           rt         time          day      america   \n",
       "8  makeamericagreatagain     election          ask      support      clinton   \n",
       "9                  trump      america      america      america         poll   \n",
       "\n",
       "       Topic_5      Topic_6      Topic_7      Topic_8      Topic_9  \n",
       "0         vote         vote  electionday          amp        trump  \n",
       "1  electionday  electionday        trump         vote         vote  \n",
       "2        trump        trump      america  electionday      clinton  \n",
       "3         maga    president         vote        trump  electionday  \n",
       "4          amp          win          big         like      hillary  \n",
       "5         poll        think      hillary        voter   myvote2016  \n",
       "6        watch    candidate      country        email    president  \n",
       "7        today      hillary        right      america     election  \n",
       "8       people        ready         maga         poll           rt  \n",
       "9       donald      america         need    president       people  "
      ]
     },
     "execution_count": 73,
     "metadata": {},
     "output_type": "execute_result"
    }
   ],
   "source": [
    "# let's inspect what words are being for topics!\n",
    "\n",
    "# a dictionary for the topics and their word\n",
    "\n",
    "topicsDict = {}\n",
    "for topicNum in range(tweetlda.num_topics):\n",
    "    topicWords = [w for w, p in tweetlda.show_topic(topicNum)]\n",
    "    topicsDict['Topic_{}'.format(topicNum)] = topicWords\n",
    "\n",
    "wordRanksDF = pandas.DataFrame(topicsDict)\n",
    "wordRanksDF"
   ]
  },
  {
   "cell_type": "markdown",
   "metadata": {},
   "source": [
    "𝛼 and 𝜂 parameters of the model. 𝛼 controls the sparsity of document-topic loadings, and 𝜂\n",
    "\n",
    "controls the sparsity of topic-word loadings."
   ]
  },
  {
   "cell_type": "code",
   "execution_count": 74,
   "metadata": {},
   "outputs": [
    {
     "data": {
      "text/plain": [
       "<Figure size 432x288 with 0 Axes>"
      ]
     },
     "metadata": {},
     "output_type": "display_data"
    },
    {
     "data": {
      "image/png": "[encoded data removed]",
      "text/plain": [
       "<Figure size 432x288 with 1 Axes>"
      ]
     },
     "metadata": {
      "needs_background": "light"
     },
     "output_type": "display_data"
    }
   ],
   "source": [
    "# Topic distribution comparisons\n",
    "topic1_df = pandas.DataFrame(tweetlda.show_topic(1, topn=50))\n",
    "plt.figure()\n",
    "topic1_df.plot.bar(legend = False)\n",
    "plt.title('Probability Distribution of Words, Topic 1')\n",
    "plt.show()\n"
   ]
  },
  {
   "cell_type": "code",
   "execution_count": 76,
   "metadata": {},
   "outputs": [],
   "source": [
    "#See how different 𝜂 values can change the shape of the distribution."
   ]
  },
  {
   "cell_type": "code",
   "execution_count": 79,
   "metadata": {},
   "outputs": [],
   "source": [
    "tweetlda1 = gensim.models.ldamodel.LdaModel(corpus=tweetmm, id2word=dictionary, num_topics=10, eta = 0.00001)\n",
    "tweetlda2 = gensim.models.ldamodel.LdaModel(corpus=tweetmm, id2word=dictionary, num_topics=10, eta = 0.9)"
   ]
  },
  {
   "cell_type": "code",
   "execution_count": 81,
   "metadata": {},
   "outputs": [
    {
     "data": {
      "image/png": "[encoded data removed]",
      "text/plain": [
       "<Figure size 1296x504 with 2 Axes>"
      ]
     },
     "metadata": {
      "needs_background": "light"
     },
     "output_type": "display_data"
    }
   ],
   "source": [
    "topic1_1_df = pandas.DataFrame(tweetlda1.show_topic(1, topn=50)) # renamed to show that it's different topic ones\n",
    "topic2_1_df = pandas.DataFrame(tweetlda2.show_topic(1, topn=50))\n",
    "\n",
    "fig, (ax1, ax2) = plt.subplots(1, 2)\n",
    "fig.set_size_inches(18, 7)\n",
    "topic1_1_df.plot.bar(legend = False, ax = ax1, title = '$\\eta$  = 0.00001')\n",
    "topic2_1_df.plot.bar(legend = False, ax = ax2, title = '$\\eta$  = 0.9')\n",
    "plt.show()"
   ]
  },
  {
   "cell_type": "markdown",
   "metadata": {},
   "source": [
    "I wish the axis were normalized for both graphs but the differences between words across the topic is lower with a higher 𝜂 , sparsity of word-topi loadings."
   ]
  },
  {
   "cell_type": "markdown",
   "metadata": {},
   "source": [
    "Topic one with the lower sparsity is more focused on the Hillary Clinton's campaign."
   ]
  },
  {
   "cell_type": "code",
   "execution_count": 87,
   "metadata": {},
   "outputs": [
    {
     "data": {
      "text/html": [
       "<div>\n",
       "<style scoped>\n",
       "    .dataframe tbody tr th:only-of-type {\n",
       "        vertical-align: middle;\n",
       "    }\n",
       "\n",
       "    .dataframe tbody tr th {\n",
       "        vertical-align: top;\n",
       "    }\n",
       "\n",
       "    .dataframe thead th {\n",
       "        text-align: right;\n",
       "    }\n",
       "</style>\n",
       "<table border=\"1\" class=\"dataframe\">\n",
       "  <thead>\n",
       "    <tr style=\"text-align: right;\">\n",
       "      <th></th>\n",
       "      <th>0</th>\n",
       "      <th>1</th>\n",
       "    </tr>\n",
       "  </thead>\n",
       "  <tbody>\n",
       "    <tr>\n",
       "      <th>0</th>\n",
       "      <td>vote</td>\n",
       "      <td>0.058801</td>\n",
       "    </tr>\n",
       "    <tr>\n",
       "      <th>1</th>\n",
       "      <td>trump</td>\n",
       "      <td>0.042663</td>\n",
       "    </tr>\n",
       "    <tr>\n",
       "      <th>2</th>\n",
       "      <td>electionday</td>\n",
       "      <td>0.040133</td>\n",
       "    </tr>\n",
       "    <tr>\n",
       "      <th>3</th>\n",
       "      <td>break</td>\n",
       "      <td>0.025398</td>\n",
       "    </tr>\n",
       "    <tr>\n",
       "      <th>4</th>\n",
       "      <td>campaign</td>\n",
       "      <td>0.014501</td>\n",
       "    </tr>\n",
       "    <tr>\n",
       "      <th>5</th>\n",
       "      <td>people</td>\n",
       "      <td>0.014109</td>\n",
       "    </tr>\n",
       "    <tr>\n",
       "      <th>6</th>\n",
       "      <td>voter</td>\n",
       "      <td>0.013219</td>\n",
       "    </tr>\n",
       "    <tr>\n",
       "      <th>7</th>\n",
       "      <td>amp</td>\n",
       "      <td>0.012890</td>\n",
       "    </tr>\n",
       "    <tr>\n",
       "      <th>8</th>\n",
       "      <td>poll</td>\n",
       "      <td>0.012100</td>\n",
       "    </tr>\n",
       "    <tr>\n",
       "      <th>9</th>\n",
       "      <td>imwithher</td>\n",
       "      <td>0.011278</td>\n",
       "    </tr>\n",
       "    <tr>\n",
       "      <th>10</th>\n",
       "      <td>tomorrow</td>\n",
       "      <td>0.011278</td>\n",
       "    </tr>\n",
       "    <tr>\n",
       "      <th>11</th>\n",
       "      <td>time</td>\n",
       "      <td>0.009667</td>\n",
       "    </tr>\n",
       "    <tr>\n",
       "      <th>12</th>\n",
       "      <td>election</td>\n",
       "      <td>0.009667</td>\n",
       "    </tr>\n",
       "    <tr>\n",
       "      <th>13</th>\n",
       "      <td>know</td>\n",
       "      <td>0.009667</td>\n",
       "    </tr>\n",
       "    <tr>\n",
       "      <th>14</th>\n",
       "      <td>fuck</td>\n",
       "      <td>0.009666</td>\n",
       "    </tr>\n",
       "    <tr>\n",
       "      <th>15</th>\n",
       "      <td>want</td>\n",
       "      <td>0.009049</td>\n",
       "    </tr>\n",
       "    <tr>\n",
       "      <th>16</th>\n",
       "      <td>woman</td>\n",
       "      <td>0.008056</td>\n",
       "    </tr>\n",
       "    <tr>\n",
       "      <th>17</th>\n",
       "      <td>hillary</td>\n",
       "      <td>0.008056</td>\n",
       "    </tr>\n",
       "    <tr>\n",
       "      <th>18</th>\n",
       "      <td>today</td>\n",
       "      <td>0.008056</td>\n",
       "    </tr>\n",
       "    <tr>\n",
       "      <th>19</th>\n",
       "      <td>way</td>\n",
       "      <td>0.008055</td>\n",
       "    </tr>\n",
       "  </tbody>\n",
       "</table>\n",
       "</div>"
      ],
      "text/plain": [
       "              0         1\n",
       "0          vote  0.058801\n",
       "1         trump  0.042663\n",
       "2   electionday  0.040133\n",
       "3         break  0.025398\n",
       "4      campaign  0.014501\n",
       "5        people  0.014109\n",
       "6         voter  0.013219\n",
       "7           amp  0.012890\n",
       "8          poll  0.012100\n",
       "9     imwithher  0.011278\n",
       "10     tomorrow  0.011278\n",
       "11         time  0.009667\n",
       "12     election  0.009667\n",
       "13         know  0.009667\n",
       "14         fuck  0.009666\n",
       "15         want  0.009049\n",
       "16        woman  0.008056\n",
       "17      hillary  0.008056\n",
       "18        today  0.008056\n",
       "19          way  0.008055"
      ]
     },
     "execution_count": 87,
     "metadata": {},
     "output_type": "execute_result"
    }
   ],
   "source": [
    "topic1_1_df[:20]"
   ]
  },
  {
   "cell_type": "markdown",
   "metadata": {},
   "source": [
    "Topic one with the higher sparsity (.09) is more focused on words used in the Trump campaign such as border and MAGA. So even though the words have similarity, we do see document divergence with the tunning of n."
   ]
  },
  {
   "cell_type": "code",
   "execution_count": 88,
   "metadata": {},
   "outputs": [
    {
     "data": {
      "text/html": [
       "<div>\n",
       "<style scoped>\n",
       "    .dataframe tbody tr th:only-of-type {\n",
       "        vertical-align: middle;\n",
       "    }\n",
       "\n",
       "    .dataframe tbody tr th {\n",
       "        vertical-align: top;\n",
       "    }\n",
       "\n",
       "    .dataframe thead th {\n",
       "        text-align: right;\n",
       "    }\n",
       "</style>\n",
       "<table border=\"1\" class=\"dataframe\">\n",
       "  <thead>\n",
       "    <tr style=\"text-align: right;\">\n",
       "      <th></th>\n",
       "      <th>0</th>\n",
       "      <th>1</th>\n",
       "    </tr>\n",
       "  </thead>\n",
       "  <tbody>\n",
       "    <tr>\n",
       "      <th>0</th>\n",
       "      <td>trump</td>\n",
       "      <td>0.016343</td>\n",
       "    </tr>\n",
       "    <tr>\n",
       "      <th>1</th>\n",
       "      <td>want</td>\n",
       "      <td>0.013991</td>\n",
       "    </tr>\n",
       "    <tr>\n",
       "      <th>2</th>\n",
       "      <td>electionday</td>\n",
       "      <td>0.011642</td>\n",
       "    </tr>\n",
       "    <tr>\n",
       "      <th>3</th>\n",
       "      <td>maga</td>\n",
       "      <td>0.009289</td>\n",
       "    </tr>\n",
       "    <tr>\n",
       "      <th>4</th>\n",
       "      <td>america</td>\n",
       "      <td>0.008113</td>\n",
       "    </tr>\n",
       "    <tr>\n",
       "      <th>5</th>\n",
       "      <td>today</td>\n",
       "      <td>0.008113</td>\n",
       "    </tr>\n",
       "    <tr>\n",
       "      <th>6</th>\n",
       "      <td>american</td>\n",
       "      <td>0.006937</td>\n",
       "    </tr>\n",
       "    <tr>\n",
       "      <th>7</th>\n",
       "      <td>movement</td>\n",
       "      <td>0.006937</td>\n",
       "    </tr>\n",
       "    <tr>\n",
       "      <th>8</th>\n",
       "      <td>hillary</td>\n",
       "      <td>0.005761</td>\n",
       "    </tr>\n",
       "    <tr>\n",
       "      <th>9</th>\n",
       "      <td>support</td>\n",
       "      <td>0.005761</td>\n",
       "    </tr>\n",
       "    <tr>\n",
       "      <th>10</th>\n",
       "      <td>say</td>\n",
       "      <td>0.005761</td>\n",
       "    </tr>\n",
       "    <tr>\n",
       "      <th>11</th>\n",
       "      <td>nevada</td>\n",
       "      <td>0.005761</td>\n",
       "    </tr>\n",
       "    <tr>\n",
       "      <th>12</th>\n",
       "      <td>border</td>\n",
       "      <td>0.005761</td>\n",
       "    </tr>\n",
       "    <tr>\n",
       "      <th>13</th>\n",
       "      <td>nation</td>\n",
       "      <td>0.005761</td>\n",
       "    </tr>\n",
       "    <tr>\n",
       "      <th>14</th>\n",
       "      <td>bring</td>\n",
       "      <td>0.005761</td>\n",
       "    </tr>\n",
       "    <tr>\n",
       "      <th>15</th>\n",
       "      <td>vote</td>\n",
       "      <td>0.004587</td>\n",
       "    </tr>\n",
       "    <tr>\n",
       "      <th>16</th>\n",
       "      <td>trump2016</td>\n",
       "      <td>0.004585</td>\n",
       "    </tr>\n",
       "    <tr>\n",
       "      <th>17</th>\n",
       "      <td>state</td>\n",
       "      <td>0.004585</td>\n",
       "    </tr>\n",
       "    <tr>\n",
       "      <th>18</th>\n",
       "      <td>stop</td>\n",
       "      <td>0.004585</td>\n",
       "    </tr>\n",
       "    <tr>\n",
       "      <th>19</th>\n",
       "      <td>elect</td>\n",
       "      <td>0.004585</td>\n",
       "    </tr>\n",
       "  </tbody>\n",
       "</table>\n",
       "</div>"
      ],
      "text/plain": [
       "              0         1\n",
       "0         trump  0.016343\n",
       "1          want  0.013991\n",
       "2   electionday  0.011642\n",
       "3          maga  0.009289\n",
       "4       america  0.008113\n",
       "5         today  0.008113\n",
       "6      american  0.006937\n",
       "7      movement  0.006937\n",
       "8       hillary  0.005761\n",
       "9       support  0.005761\n",
       "10          say  0.005761\n",
       "11       nevada  0.005761\n",
       "12       border  0.005761\n",
       "13       nation  0.005761\n",
       "14        bring  0.005761\n",
       "15         vote  0.004587\n",
       "16    trump2016  0.004585\n",
       "17        state  0.004585\n",
       "18         stop  0.004585\n",
       "19        elect  0.004585"
      ]
     },
     "execution_count": 88,
     "metadata": {},
     "output_type": "execute_result"
    }
   ],
   "source": [
    "topic2_1_df[:20]"
   ]
  },
  {
   "cell_type": "markdown",
   "metadata": {},
   "source": [
    "<span style=\"color:red\">**Stretch**: Cluster your documents, but instead of using words alone, use their topic loadings as an additional set of features. Do these topic loadings increase the apparent semantic coherence of your clusters?</span> "
   ]
  },
  {
   "cell_type": "code",
   "execution_count": null,
   "metadata": {},
   "outputs": [],
   "source": []
  },
  {
   "cell_type": "code",
   "execution_count": null,
   "metadata": {},
   "outputs": [],
   "source": []
  },
  {
   "cell_type": "code",
   "execution_count": null,
   "metadata": {},
   "outputs": [],
   "source": []
  },
  {
   "cell_type": "markdown",
   "metadata": {},
   "source": [
    "## <span style=\"color:red\">*Exercise 4*</span>\n",
    "\n",
    "<span style=\"color:red\">Construct cells immediately below this that use topic models and networks, or dynamic topic models on datasets relevant to your final project. You can also extend the analysis of the COHA or Soap datasets, if relevant to the comparison of data for your projects. (You could possibly use coha_genres dictionary to conduct analysis on topic evolution for a particular genre? What themes do you see evolving throughout these corpora?). What can you see from the analysis? I encourage you to explore the tutorial and see what else you can do with this dataset. "
   ]
  },
  {
   "cell_type": "markdown",
   "metadata": {},
   "source": [
    "So far in this notebook, I've been working with a dataset that is a collection of tweets that look at fake news. In my last notebook, I used the same dataset to make a co-mentions network. I am super interested in dynamic topic modelling but I don't think it would be quite as interesting to look at the emergence of tpoic in the tweet dataset because it's looking at just one day. So I'm going to try this with a Davies corpora, the NOW set. The NOW set is relevant to my final project because we're analyzing topics of censored news site. "
   ]
  },
  {
   "cell_type": "code",
   "execution_count": null,
   "metadata": {},
   "outputs": [],
   "source": [
    "corpora_address = \"/Users/reginacatipon/Content-Analysis-2020/week-6/data/NOW\"\n",
    "\n",
    "#load Davies function from lucem\n",
    "soap_texts = lucem_illud_2020.loadDavies(corpora_address, num_files=2000)\n",
    "\n",
    "#load zips\n",
    "import zipfile\n",
    "import pandas as pd\n",
    "\n",
    "zfile = zipfile.ZipFile(corpora_address + \"/soap_sources.zip\")\n",
    "source = []\n",
    "\n",
    "for file in zfile.namelist():\n",
    "    with zfile.open(file) as f:\n",
    "        for line in f:\n",
    "            source.append(line)"
   ]
  },
  {
   "cell_type": "markdown",
   "metadata": {},
   "source": []
  },
  {
   "cell_type": "markdown",
   "metadata": {},
   "source": [
    "### Dynamic Topic Modelling\n",
    "\n",
    "Dynamic Topic Modelling is a time based topic model method introduced by David Blei and John Lafferty. It allows one to see topics evolve over a time annotated corpus. I would recommend first viewing the Dynamic Topic Model tutorial on Gensim (https://github.com/RaRe-Technologies/gensim/blob/develop/docs/notebooks/ldaseqmodel.ipynb) to understand what exactly it's about. \n",
    "\n",
    "(An acknowledgement - Bhargav wrote the code for Gensim's Dynamic Topic Models back in 2016 as a Google Summer of Code student, and they're still using it as are thousands of others!)\n",
    "\n",
    "To demonstrate it on a time based corpus, we will create a corpus from COHA."
   ]
  },
  {
   "cell_type": "code",
   "execution_count": null,
   "metadata": {},
   "outputs": [],
   "source": []
  }
 ],
 "metadata": {
  "kernelspec": {
   "display_name": "Python 3",
   "language": "python",
   "name": "python3"
  },
  "language_info": {
   "codemirror_mode": {
    "name": "ipython",
    "version": 3
   },
   "file_extension": ".py",
   "mimetype": "text/x-python",
   "name": "python",
   "nbconvert_exporter": "python",
   "pygments_lexer": "ipython3",
   "version": "3.6.9"
  }
 },
 "nbformat": 4,
 "nbformat_minor": 2
}
