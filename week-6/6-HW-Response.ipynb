{
 "cells": [
  {
   "cell_type": "code",
   "execution_count": 1,
   "metadata": {},
   "outputs": [],
   "source": [
    "#Special module written for this class\n",
    "#This provides access to data and to helper functions from previous weeks\n",
    "#Make sure you update it before starting this notebook\n",
    "import lucem_illud_2020 #pip install -U git+git://github.com/Computational-Content-Analysis-2020/lucem_illud_2020.git\n",
    "\n",
    "\n",
    "#All these packages need to be installed from pip\n",
    "#These are all for the cluster detection\n",
    "import sklearn\n",
    "import sklearn.feature_extraction.text\n",
    "import sklearn.pipeline\n",
    "import sklearn.preprocessing\n",
    "import sklearn.datasets\n",
    "import sklearn.cluster\n",
    "import sklearn.decomposition\n",
    "import sklearn.metrics\n",
    "\n",
    "import scipy #For hierarchical clustering and some visuals\n",
    "#import scipy.cluster.hierarchy\n",
    "import gensim#For topic modeling\n",
    "import requests #For downloading our datasets\n",
    "import numpy as np #for arrays\n",
    "import pandas #gives us DataFrames\n",
    "import matplotlib.pyplot as plt #For graphics\n",
    "import matplotlib.cm #Still for graphics\n",
    "import seaborn as sns #Makes the graphics look nicer\n",
    "\n",
    "#This 'magic' command makes the plots work better\n",
    "#in the notebook, don't use it outside of a notebook.\n",
    "#Also you can ignore the warning, it\n",
    "%matplotlib inline\n",
    "\n",
    "import itertools\n",
    "import json"
   ]
  },
  {
   "cell_type": "markdown",
   "metadata": {},
   "source": [
    "## <span style=\"color:red\">*Exercise 1*</span>\n",
    "\n",
    "<span style=\"color:red\">Construct cells immediately below this that construct features and cluster your documents using K-means and a variety of cluster numbers. Interrogate the cluster contents in terms of both documents and features. Identify the \"optimal\" cluster number with Silhouette analysis. Plot clusters and features after reducing with PCA. What does this cluster structure reveal about the organization of documents in your corpora? "
   ]
  },
  {
   "cell_type": "code",
   "execution_count": 2,
   "metadata": {},
   "outputs": [],
   "source": [
    "#load my dataset\n",
    "import pandas as pd\n",
    "election_tweets = pd.read_excel(\"/home/rkcatipon/Content-Analysis-2020/week-5/electionday_tweets.xlsx\")\n"
   ]
  },
  {
   "cell_type": "code",
   "execution_count": 3,
   "metadata": {},
   "outputs": [
    {
     "data": {
      "text/html": [
       "<div>\n",
       "<style scoped>\n",
       "    .dataframe tbody tr th:only-of-type {\n",
       "        vertical-align: middle;\n",
       "    }\n",
       "\n",
       "    .dataframe tbody tr th {\n",
       "        vertical-align: top;\n",
       "    }\n",
       "\n",
       "    .dataframe thead th {\n",
       "        text-align: right;\n",
       "    }\n",
       "</style>\n",
       "<table border=\"1\" class=\"dataframe\">\n",
       "  <thead>\n",
       "    <tr style=\"text-align: right;\">\n",
       "      <th></th>\n",
       "      <th>is_fake_news</th>\n",
       "      <th>fake_news_category</th>\n",
       "      <th>tweet_id</th>\n",
       "      <th>created_at</th>\n",
       "      <th>retweet_count</th>\n",
       "      <th>text</th>\n",
       "      <th>user_screen_name</th>\n",
       "      <th>user_verified</th>\n",
       "      <th>user_friends_count</th>\n",
       "      <th>user_followers_count</th>\n",
       "      <th>user_favourites_count</th>\n",
       "      <th>tweet_source</th>\n",
       "      <th>geo_coordinates</th>\n",
       "      <th>num_hashtags</th>\n",
       "      <th>num_mentions</th>\n",
       "      <th>num_urls</th>\n",
       "      <th>num_media</th>\n",
       "    </tr>\n",
       "  </thead>\n",
       "  <tbody>\n",
       "    <tr>\n",
       "      <th>0</th>\n",
       "      <td>False</td>\n",
       "      <td>NaN</td>\n",
       "      <td>264033382076407808</td>\n",
       "      <td>Thu Nov 01 15:57:18 +0000 2012</td>\n",
       "      <td>4698</td>\n",
       "      <td>@realDonaldTrump you are full of shit!</td>\n",
       "      <td>RalphGilles</td>\n",
       "      <td>True</td>\n",
       "      <td>763</td>\n",
       "      <td>26680</td>\n",
       "      <td>3079</td>\n",
       "      <td>&lt;a href=\"http://twitter.com/download/iphone\" r...</td>\n",
       "      <td>0</td>\n",
       "      <td>0</td>\n",
       "      <td>2</td>\n",
       "      <td>0</td>\n",
       "      <td>0</td>\n",
       "    </tr>\n",
       "    <tr>\n",
       "      <th>1</th>\n",
       "      <td>False</td>\n",
       "      <td>NaN</td>\n",
       "      <td>265895586660757505</td>\n",
       "      <td>Tue Nov 06 19:17:02 +0000 2012</td>\n",
       "      <td>9646</td>\n",
       "      <td>@realDonaldTrump you're fucking retarded</td>\n",
       "      <td>TimmyWait</td>\n",
       "      <td>False</td>\n",
       "      <td>839</td>\n",
       "      <td>397</td>\n",
       "      <td>504</td>\n",
       "      <td>&lt;a href=\"http://twitter.com\" rel=\"nofollow\"&gt;Tw...</td>\n",
       "      <td>0</td>\n",
       "      <td>0</td>\n",
       "      <td>2</td>\n",
       "      <td>0</td>\n",
       "      <td>0</td>\n",
       "    </tr>\n",
       "    <tr>\n",
       "      <th>2</th>\n",
       "      <td>False</td>\n",
       "      <td>NaN</td>\n",
       "      <td>265895723445411841</td>\n",
       "      <td>Tue Nov 06 19:17:35 +0000 2012</td>\n",
       "      <td>1823</td>\n",
       "      <td>@realDonaldTrump You are the stupidest man on ...</td>\n",
       "      <td>mattcale52</td>\n",
       "      <td>False</td>\n",
       "      <td>1184</td>\n",
       "      <td>1353</td>\n",
       "      <td>3355</td>\n",
       "      <td>&lt;a href=\"http://twitter.com/download/iphone\" r...</td>\n",
       "      <td>0</td>\n",
       "      <td>0</td>\n",
       "      <td>2</td>\n",
       "      <td>0</td>\n",
       "      <td>0</td>\n",
       "    </tr>\n",
       "    <tr>\n",
       "      <th>3</th>\n",
       "      <td>False</td>\n",
       "      <td>NaN</td>\n",
       "      <td>265896172726661120</td>\n",
       "      <td>Tue Nov 06 19:19:22 +0000 2012</td>\n",
       "      <td>1168</td>\n",
       "      <td>@realDonaldTrump I am continually amazed and t...</td>\n",
       "      <td>MichaelWHill</td>\n",
       "      <td>False</td>\n",
       "      <td>1603</td>\n",
       "      <td>704</td>\n",
       "      <td>1479</td>\n",
       "      <td>&lt;a href=\"http://twitter.com/download/iphone\" r...</td>\n",
       "      <td>0</td>\n",
       "      <td>0</td>\n",
       "      <td>2</td>\n",
       "      <td>0</td>\n",
       "      <td>0</td>\n",
       "    </tr>\n",
       "    <tr>\n",
       "      <th>4</th>\n",
       "      <td>False</td>\n",
       "      <td>NaN</td>\n",
       "      <td>266042962650226688</td>\n",
       "      <td>Wed Nov 07 05:02:39 +0000 2012</td>\n",
       "      <td>1979</td>\n",
       "      <td>Hey @realDonaldTrump You Mad Bro?</td>\n",
       "      <td>ThePresObama</td>\n",
       "      <td>False</td>\n",
       "      <td>135</td>\n",
       "      <td>70218</td>\n",
       "      <td>931</td>\n",
       "      <td>&lt;a href=\"http://twitter.com\" rel=\"nofollow\"&gt;Tw...</td>\n",
       "      <td>0</td>\n",
       "      <td>0</td>\n",
       "      <td>2</td>\n",
       "      <td>0</td>\n",
       "      <td>0</td>\n",
       "    </tr>\n",
       "  </tbody>\n",
       "</table>\n",
       "</div>"
      ],
      "text/plain": [
       "   is_fake_news  fake_news_category            tweet_id  \\\n",
       "0         False                 NaN  264033382076407808   \n",
       "1         False                 NaN  265895586660757505   \n",
       "2         False                 NaN  265895723445411841   \n",
       "3         False                 NaN  265896172726661120   \n",
       "4         False                 NaN  266042962650226688   \n",
       "\n",
       "                       created_at  retweet_count  \\\n",
       "0  Thu Nov 01 15:57:18 +0000 2012           4698   \n",
       "1  Tue Nov 06 19:17:02 +0000 2012           9646   \n",
       "2  Tue Nov 06 19:17:35 +0000 2012           1823   \n",
       "3  Tue Nov 06 19:19:22 +0000 2012           1168   \n",
       "4  Wed Nov 07 05:02:39 +0000 2012           1979   \n",
       "\n",
       "                                                text user_screen_name  \\\n",
       "0             @realDonaldTrump you are full of shit!      RalphGilles   \n",
       "1           @realDonaldTrump you're fucking retarded        TimmyWait   \n",
       "2  @realDonaldTrump You are the stupidest man on ...       mattcale52   \n",
       "3  @realDonaldTrump I am continually amazed and t...     MichaelWHill   \n",
       "4                  Hey @realDonaldTrump You Mad Bro?     ThePresObama   \n",
       "\n",
       "   user_verified  user_friends_count  user_followers_count  \\\n",
       "0           True                 763                 26680   \n",
       "1          False                 839                   397   \n",
       "2          False                1184                  1353   \n",
       "3          False                1603                   704   \n",
       "4          False                 135                 70218   \n",
       "\n",
       "   user_favourites_count                                       tweet_source  \\\n",
       "0                   3079  <a href=\"http://twitter.com/download/iphone\" r...   \n",
       "1                    504  <a href=\"http://twitter.com\" rel=\"nofollow\">Tw...   \n",
       "2                   3355  <a href=\"http://twitter.com/download/iphone\" r...   \n",
       "3                   1479  <a href=\"http://twitter.com/download/iphone\" r...   \n",
       "4                    931  <a href=\"http://twitter.com\" rel=\"nofollow\">Tw...   \n",
       "\n",
       "   geo_coordinates  num_hashtags  num_mentions  num_urls  num_media  \n",
       "0                0             0             2         0          0  \n",
       "1                0             0             2         0          0  \n",
       "2                0             0             2         0          0  \n",
       "3                0             0             2         0          0  \n",
       "4                0             0             2         0          0  "
      ]
     },
     "execution_count": 3,
     "metadata": {},
     "output_type": "execute_result"
    }
   ],
   "source": [
    "#inspect\n",
    "election_tweets.head()"
   ]
  },
  {
   "cell_type": "code",
   "execution_count": 4,
   "metadata": {},
   "outputs": [],
   "source": [
    "electiontweetsDF = pd.DataFrame(election_tweets['tweet_id'])\n",
    "\n",
    "electiontweetsDF['is_fake_news'] = election_tweets['is_fake_news']\n",
    "electiontweetsDF['fake_news_category'] = election_tweets['fake_news_category']\n",
    "electiontweetsDF['text'] = election_tweets['text']"
   ]
  },
  {
   "cell_type": "code",
   "execution_count": 5,
   "metadata": {},
   "outputs": [
    {
     "data": {
      "text/html": [
       "<div>\n",
       "<style scoped>\n",
       "    .dataframe tbody tr th:only-of-type {\n",
       "        vertical-align: middle;\n",
       "    }\n",
       "\n",
       "    .dataframe tbody tr th {\n",
       "        vertical-align: top;\n",
       "    }\n",
       "\n",
       "    .dataframe thead th {\n",
       "        text-align: right;\n",
       "    }\n",
       "</style>\n",
       "<table border=\"1\" class=\"dataframe\">\n",
       "  <thead>\n",
       "    <tr style=\"text-align: right;\">\n",
       "      <th></th>\n",
       "      <th>tweet_id</th>\n",
       "      <th>is_fake_news</th>\n",
       "      <th>fake_news_category</th>\n",
       "      <th>text</th>\n",
       "    </tr>\n",
       "  </thead>\n",
       "  <tbody>\n",
       "    <tr>\n",
       "      <th>0</th>\n",
       "      <td>264033382076407808</td>\n",
       "      <td>False</td>\n",
       "      <td>NaN</td>\n",
       "      <td>@realDonaldTrump you are full of shit!</td>\n",
       "    </tr>\n",
       "    <tr>\n",
       "      <th>1</th>\n",
       "      <td>265895586660757505</td>\n",
       "      <td>False</td>\n",
       "      <td>NaN</td>\n",
       "      <td>@realDonaldTrump you're fucking retarded</td>\n",
       "    </tr>\n",
       "    <tr>\n",
       "      <th>2</th>\n",
       "      <td>265895723445411841</td>\n",
       "      <td>False</td>\n",
       "      <td>NaN</td>\n",
       "      <td>@realDonaldTrump You are the stupidest man on ...</td>\n",
       "    </tr>\n",
       "    <tr>\n",
       "      <th>3</th>\n",
       "      <td>265896172726661120</td>\n",
       "      <td>False</td>\n",
       "      <td>NaN</td>\n",
       "      <td>@realDonaldTrump I am continually amazed and t...</td>\n",
       "    </tr>\n",
       "    <tr>\n",
       "      <th>4</th>\n",
       "      <td>266042962650226688</td>\n",
       "      <td>False</td>\n",
       "      <td>NaN</td>\n",
       "      <td>Hey @realDonaldTrump You Mad Bro?</td>\n",
       "    </tr>\n",
       "  </tbody>\n",
       "</table>\n",
       "</div>"
      ],
      "text/plain": [
       "             tweet_id  is_fake_news  fake_news_category  \\\n",
       "0  264033382076407808         False                 NaN   \n",
       "1  265895586660757505         False                 NaN   \n",
       "2  265895723445411841         False                 NaN   \n",
       "3  265896172726661120         False                 NaN   \n",
       "4  266042962650226688         False                 NaN   \n",
       "\n",
       "                                                text  \n",
       "0             @realDonaldTrump you are full of shit!  \n",
       "1           @realDonaldTrump you're fucking retarded  \n",
       "2  @realDonaldTrump You are the stupidest man on ...  \n",
       "3  @realDonaldTrump I am continually amazed and t...  \n",
       "4                  Hey @realDonaldTrump You Mad Bro?  "
      ]
     },
     "execution_count": 5,
     "metadata": {},
     "output_type": "execute_result"
    }
   ],
   "source": [
    "electiontweetsDF.head()"
   ]
  },
  {
   "cell_type": "code",
   "execution_count": 6,
   "metadata": {},
   "outputs": [
    {
     "name": "stdout",
     "output_type": "stream",
     "text": [
      "(1327, 5016)\n"
     ]
    }
   ],
   "source": [
    "#Initializing vectors\n",
    "tCountVectorizer = sklearn.feature_extraction.text.CountVectorizer()\n",
    "#Ttraining\n",
    "tweetVects = tCountVectorizer.fit_transform(electiontweetsDF['text'])\n",
    "\n",
    "#inspect shape\n",
    "print(tweetVects.shape)"
   ]
  },
  {
   "cell_type": "code",
   "execution_count": 7,
   "metadata": {},
   "outputs": [
    {
     "data": {
      "text/plain": [
       "array([[0, 0, 0, 0, 0, 0, 0, 0, 0, 0, 0, 0, 0, 0, 0, 0, 0, 0, 0, 0],\n",
       "       [0, 0, 0, 0, 0, 0, 0, 0, 0, 0, 0, 0, 0, 0, 0, 0, 0, 0, 0, 0],\n",
       "       [0, 0, 0, 0, 0, 0, 0, 0, 0, 0, 0, 0, 0, 0, 0, 0, 0, 0, 0, 0],\n",
       "       [0, 0, 0, 0, 0, 0, 0, 0, 0, 0, 0, 0, 0, 0, 0, 0, 0, 0, 0, 0],\n",
       "       [0, 0, 0, 0, 0, 0, 0, 0, 0, 0, 0, 0, 0, 0, 0, 0, 0, 0, 0, 0],\n",
       "       [0, 0, 0, 0, 0, 0, 0, 0, 0, 0, 0, 0, 0, 0, 0, 0, 0, 0, 0, 0],\n",
       "       [0, 0, 0, 0, 0, 0, 0, 0, 0, 0, 0, 0, 0, 0, 0, 0, 0, 0, 0, 0],\n",
       "       [0, 0, 0, 0, 0, 0, 0, 0, 0, 0, 0, 0, 0, 0, 0, 0, 0, 0, 0, 0],\n",
       "       [0, 0, 0, 0, 0, 0, 0, 0, 0, 0, 0, 0, 0, 0, 0, 0, 0, 0, 0, 0],\n",
       "       [0, 0, 0, 0, 0, 0, 0, 0, 0, 0, 0, 0, 0, 0, 0, 0, 0, 0, 0, 0]])"
      ]
     },
     "execution_count": 7,
     "metadata": {},
     "output_type": "execute_result"
    }
   ],
   "source": [
    "tweetVects[:10,:20].toarray()"
   ]
  },
  {
   "cell_type": "code",
   "execution_count": 8,
   "metadata": {},
   "outputs": [],
   "source": [
    "#Okay it's looking pretty sparse right now"
   ]
  },
  {
   "cell_type": "code",
   "execution_count": 9,
   "metadata": {},
   "outputs": [
    {
     "data": {
      "text/plain": [
       "<1327x5016 sparse matrix of type '<class 'numpy.int64'>'\n",
       "\twith 21076 stored elements in Compressed Sparse Row format>"
      ]
     },
     "execution_count": 9,
     "metadata": {},
     "output_type": "execute_result"
    }
   ],
   "source": [
    "tweetVects"
   ]
  },
  {
   "cell_type": "code",
   "execution_count": 10,
   "metadata": {},
   "outputs": [],
   "source": [
    "tCountVectorizer.vocabulary_.get('vector')"
   ]
  },
  {
   "cell_type": "code",
   "execution_count": 11,
   "metadata": {},
   "outputs": [
    {
     "name": "stdout",
     "output_type": "stream",
     "text": [
      "(1327, 5016)\n"
     ]
    }
   ],
   "source": [
    "# Looking at tf-idf scores. term frequency of words per tweet (our document in this case)\n",
    "\n",
    "#initialize\n",
    "tweetTFTransformer = sklearn.feature_extraction.text.TfidfTransformer().fit(tweetVects)\n",
    "#train\n",
    "tweetsTF = tweetTFTransformer.transform(tweetVects)\n",
    "print(tweetsTF.shape)"
   ]
  },
  {
   "cell_type": "code",
   "execution_count": 12,
   "metadata": {},
   "outputs": [
    {
     "data": {
      "text/plain": [
       "[('realdonaldtrump', 0.2364681070436211),\n",
       " ('you', 0.654091360802711),\n",
       " ('are', 0.16040249311940685),\n",
       " ('full', 0.24287680551491947),\n",
       " ('of', 0.5741613395318621),\n",
       " ('shit', 0.31916763589905034),\n",
       " ('re', 0.23550744475771146),\n",
       " ('fucking', 0.6514340853260373),\n",
       " ('retarded', 0.15975085080014362),\n",
       " ('the', 0.3809387962489656),\n",
       " ('stupidest', 0.5912149990656038),\n",
       " ('man', 0.17569381611706494),\n",
       " ('on', 0.13670375500399504),\n",
       " ('planet', 0.48598438370986374),\n",
       " ('earth', 0.11917770427130446),\n",
       " ('am', 0.48598438370986374),\n",
       " ('continually', 0.2125064309227423),\n",
       " ('amazed', 0.3553929518121259),\n",
       " ('and', 0.48598438370986374),\n",
       " ('terribly', 0.23713887100141515)]"
      ]
     },
     "execution_count": 12,
     "metadata": {},
     "output_type": "execute_result"
    }
   ],
   "source": [
    "#tf-idf per each word\n",
    "\n",
    "#wow glad we could inspect\n",
    "list(zip(tCountVectorizer.vocabulary_.keys(), tweetsTF.data))[:20]"
   ]
  },
  {
   "cell_type": "markdown",
   "metadata": {},
   "source": [
    "Now we prune the data to just terms that occur at least three times"
   ]
  },
  {
   "cell_type": "code",
   "execution_count": 14,
   "metadata": {},
   "outputs": [],
   "source": [
    "#initialize\n",
    "tweetTFVectorizer = sklearn.feature_extraction.text.TfidfVectorizer(max_df=0.5, max_features=1000, min_df=3, stop_words='english', norm='l2')\n",
    "#train\n",
    "tweetTFVects = tweetTFVectorizer.fit_transform(electiontweetsDF['text'])"
   ]
  },
  {
   "cell_type": "code",
   "execution_count": 14,
   "metadata": {},
   "outputs": [
    {
     "name": "stdout",
     "output_type": "stream",
     "text": [
      "312\n"
     ]
    }
   ],
   "source": [
    "try:\n",
    "    print(tweetTFVectorizer.vocabulary_['hate'])\n",
    "except KeyError:\n",
    "    print('vector is missing')\n",
    "    print('The available words are: {} ...'.format(list(tweetTFVectorizer.vocabulary_.keys())[:11]))"
   ]
  },
  {
   "cell_type": "code",
   "execution_count": 15,
   "metadata": {},
   "outputs": [
    {
     "data": {
      "text/plain": [
       "4412"
      ]
     },
     "execution_count": 15,
     "metadata": {},
     "output_type": "execute_result"
    }
   ],
   "source": [
    "tCountVectorizer.vocabulary_.get('trump')\n"
   ]
  },
  {
   "cell_type": "markdown",
   "metadata": {},
   "source": [
    " "
   ]
  },
  {
   "cell_type": "markdown",
   "metadata": {},
   "source": [
    "# K-means clustering"
   ]
  },
  {
   "cell_type": "markdown",
   "metadata": {},
   "source": [
    "I do not know the optimal number of clusters to work with for my dataset so I'm going to start with two clusters, according to the category of is fake news or not. "
   ]
  },
  {
   "cell_type": "code",
   "execution_count": 16,
   "metadata": {},
   "outputs": [],
   "source": [
    "numClusters = len(set(electiontweetsDF['is_fake_news']))\n",
    "\n",
    "km = sklearn.cluster.KMeans(n_clusters=numClusters, init='k-means++')\n"
   ]
  },
  {
   "cell_type": "code",
   "execution_count": 17,
   "metadata": {},
   "outputs": [
    {
     "data": {
      "text/plain": [
       "KMeans(algorithm='auto', copy_x=True, init='k-means++', max_iter=300,\n",
       "    n_clusters=2, n_init=10, n_jobs=None, precompute_distances='auto',\n",
       "    random_state=None, tol=0.0001, verbose=0)"
      ]
     },
     "execution_count": 17,
     "metadata": {},
     "output_type": "execute_result"
    }
   ],
   "source": [
    "#fit the vectors\n",
    "km.fit(tweetTFVects)"
   ]
  },
  {
   "cell_type": "code",
   "execution_count": 18,
   "metadata": {},
   "outputs": [],
   "source": [
    "label = electiontweetsDF['is_fake_news']"
   ]
  },
  {
   "cell_type": "code",
   "execution_count": 19,
   "metadata": {},
   "outputs": [
    {
     "name": "stdout",
     "output_type": "stream",
     "text": [
      "The available metrics are: ['SCORERS', 'accuracy_score', 'adjusted_mutual_info_score', 'adjusted_rand_score', 'auc', 'average_precision_score', 'balanced_accuracy_score', 'base', 'brier_score_loss', 'calinski_harabaz_score', 'check_scoring', 'classification', 'classification_report', 'cluster', 'cohen_kappa_score', 'completeness_score', 'confusion_matrix', 'consensus_score', 'coverage_error', 'davies_bouldin_score', 'euclidean_distances', 'explained_variance_score', 'f1_score', 'fbeta_score', 'fowlkes_mallows_score', 'get_scorer', 'hamming_loss', 'hinge_loss', 'homogeneity_completeness_v_measure', 'homogeneity_score', 'jaccard_similarity_score', 'label_ranking_average_precision_score', 'label_ranking_loss', 'log_loss', 'make_scorer', 'matthews_corrcoef', 'mean_absolute_error', 'mean_squared_error', 'mean_squared_log_error', 'median_absolute_error', 'mutual_info_score', 'normalized_mutual_info_score', 'pairwise', 'pairwise_distances', 'pairwise_distances_argmin', 'pairwise_distances_argmin_min', 'pairwise_distances_chunked', 'pairwise_fast', 'pairwise_kernels', 'precision_recall_curve', 'precision_recall_fscore_support', 'precision_score', 'r2_score', 'ranking', 'recall_score', 'regression', 'roc_auc_score', 'roc_curve', 'scorer', 'silhouette_samples', 'silhouette_score', 'v_measure_score', 'zero_one_loss']\n",
      "For our clusters:\n",
      "Homogeneity: 0.003\n",
      "Completeness: 0.002\n",
      "V-measure: 0.002\n",
      "Adjusted Rand Score: 0.025\n"
     ]
    }
   ],
   "source": [
    "print(\"The available metrics are: {}\".format([s for s in dir(sklearn.metrics) if s[0] != '_']))\n",
    "print(\"For our clusters:\")\n",
    "print(\"Homogeneity: {:0.3f}\".format(sklearn.metrics.homogeneity_score(label, km.labels_)))\n",
    "print(\"Completeness: {:0.3f}\".format(sklearn.metrics.completeness_score(label, km.labels_)))\n",
    "print(\"V-measure: {:0.3f}\".format(sklearn.metrics.v_measure_score(label, km.labels_)))\n",
    "print(\"Adjusted Rand Score: {:0.3f}\".format(sklearn.metrics.adjusted_rand_score(label, km.labels_)))"
   ]
  },
  {
   "cell_type": "markdown",
   "metadata": {},
   "source": [
    "This is pretty small numbers for metrics. "
   ]
  },
  {
   "cell_type": "markdown",
   "metadata": {},
   "source": [
    "I don't necessarily have a true category to compare my clusters too. I would be curious to see a mapping of some of the topics"
   ]
  },
  {
   "cell_type": "code",
   "execution_count": 20,
   "metadata": {},
   "outputs": [
    {
     "data": {
      "text/html": [
       "<div>\n",
       "<style scoped>\n",
       "    .dataframe tbody tr th:only-of-type {\n",
       "        vertical-align: middle;\n",
       "    }\n",
       "\n",
       "    .dataframe tbody tr th {\n",
       "        vertical-align: top;\n",
       "    }\n",
       "\n",
       "    .dataframe thead th {\n",
       "        text-align: right;\n",
       "    }\n",
       "</style>\n",
       "<table border=\"1\" class=\"dataframe\">\n",
       "  <thead>\n",
       "    <tr style=\"text-align: right;\">\n",
       "      <th></th>\n",
       "      <th>tweet_id</th>\n",
       "      <th>is_fake_news</th>\n",
       "      <th>fake_news_category</th>\n",
       "      <th>text</th>\n",
       "      <th>kmeans_predictions</th>\n",
       "    </tr>\n",
       "  </thead>\n",
       "  <tbody>\n",
       "    <tr>\n",
       "      <th>10</th>\n",
       "      <td>388618880605646848</td>\n",
       "      <td>False</td>\n",
       "      <td>NaN</td>\n",
       "      <td>Beautiful morning walk in Hyde Park #London wi...</td>\n",
       "      <td>0</td>\n",
       "    </tr>\n",
       "    <tr>\n",
       "      <th>11</th>\n",
       "      <td>427956124411641856</td>\n",
       "      <td>False</td>\n",
       "      <td>NaN</td>\n",
       "      <td>Retweet if you Agree w/ @HillaryClinton: http:...</td>\n",
       "      <td>0</td>\n",
       "    </tr>\n",
       "    <tr>\n",
       "      <th>12</th>\n",
       "      <td>440331541580099584</td>\n",
       "      <td>False</td>\n",
       "      <td>NaN</td>\n",
       "      <td>'@johnnyhabit: @realDonaldTrump why the fuck d...</td>\n",
       "      <td>0</td>\n",
       "    </tr>\n",
       "    <tr>\n",
       "      <th>13</th>\n",
       "      <td>440688053129318400</td>\n",
       "      <td>False</td>\n",
       "      <td>NaN</td>\n",
       "      <td>'@KEEMSTARx: If @realDonaldTrump was president...</td>\n",
       "      <td>0</td>\n",
       "    </tr>\n",
       "    <tr>\n",
       "      <th>14</th>\n",
       "      <td>484662433404162048</td>\n",
       "      <td>False</td>\n",
       "      <td>NaN</td>\n",
       "      <td>Haha @HillaryClinton just came up and asked 'A...</td>\n",
       "      <td>0</td>\n",
       "    </tr>\n",
       "    <tr>\n",
       "      <th>15</th>\n",
       "      <td>516382428395745280</td>\n",
       "      <td>False</td>\n",
       "      <td>NaN</td>\n",
       "      <td>@realDonaldTrump Do you pay an angry 12 year o...</td>\n",
       "      <td>0</td>\n",
       "    </tr>\n",
       "    <tr>\n",
       "      <th>16</th>\n",
       "      <td>537158751116357632</td>\n",
       "      <td>False</td>\n",
       "      <td>NaN</td>\n",
       "      <td>@realDonaldTrump Sadly your racism is poisonin...</td>\n",
       "      <td>0</td>\n",
       "    </tr>\n",
       "    <tr>\n",
       "      <th>17</th>\n",
       "      <td>587354526857957376</td>\n",
       "      <td>False</td>\n",
       "      <td>NaN</td>\n",
       "      <td>Hillary Clinton has stolen our innovative Wiki...</td>\n",
       "      <td>0</td>\n",
       "    </tr>\n",
       "    <tr>\n",
       "      <th>18</th>\n",
       "      <td>587364252484296705</td>\n",
       "      <td>False</td>\n",
       "      <td>NaN</td>\n",
       "      <td>yaaas @hillaryclinton</td>\n",
       "      <td>0</td>\n",
       "    </tr>\n",
       "    <tr>\n",
       "      <th>19</th>\n",
       "      <td>592958704196059136</td>\n",
       "      <td>False</td>\n",
       "      <td>NaN</td>\n",
       "      <td>It's clear @realdonaldtrump been racist..sayin...</td>\n",
       "      <td>0</td>\n",
       "    </tr>\n",
       "  </tbody>\n",
       "</table>\n",
       "</div>"
      ],
      "text/plain": [
       "              tweet_id  is_fake_news  fake_news_category  \\\n",
       "10  388618880605646848         False                 NaN   \n",
       "11  427956124411641856         False                 NaN   \n",
       "12  440331541580099584         False                 NaN   \n",
       "13  440688053129318400         False                 NaN   \n",
       "14  484662433404162048         False                 NaN   \n",
       "15  516382428395745280         False                 NaN   \n",
       "16  537158751116357632         False                 NaN   \n",
       "17  587354526857957376         False                 NaN   \n",
       "18  587364252484296705         False                 NaN   \n",
       "19  592958704196059136         False                 NaN   \n",
       "\n",
       "                                                 text  kmeans_predictions  \n",
       "10  Beautiful morning walk in Hyde Park #London wi...                   0  \n",
       "11  Retweet if you Agree w/ @HillaryClinton: http:...                   0  \n",
       "12  '@johnnyhabit: @realDonaldTrump why the fuck d...                   0  \n",
       "13  '@KEEMSTARx: If @realDonaldTrump was president...                   0  \n",
       "14  Haha @HillaryClinton just came up and asked 'A...                   0  \n",
       "15  @realDonaldTrump Do you pay an angry 12 year o...                   0  \n",
       "16  @realDonaldTrump Sadly your racism is poisonin...                   0  \n",
       "17  Hillary Clinton has stolen our innovative Wiki...                   0  \n",
       "18                              yaaas @hillaryclinton                   0  \n",
       "19  It's clear @realdonaldtrump been racist..sayin...                   0  "
      ]
     },
     "execution_count": 20,
     "metadata": {},
     "output_type": "execute_result"
    }
   ],
   "source": [
    "electiontweetsDF['kmeans_predictions'] = km.labels_\n",
    "electiontweetsDF[10:20]"
   ]
  },
  {
   "cell_type": "code",
   "execution_count": 21,
   "metadata": {},
   "outputs": [
    {
     "name": "stdout",
     "output_type": "stream",
     "text": [
      "Top terms per cluster:\n",
      "Cluster 0:\n",
      " realdonaldtrump\n",
      " hillaryclinton\n",
      " amp\n",
      " vote\n",
      " trump\n",
      " maga\n",
      " people\n",
      " america\n",
      " hillary\n",
      " president\n",
      "\n",
      "\n",
      "Cluster 1:\n",
      " electionday\n",
      " vote\n",
      " trump\n",
      " today\n",
      " voted\n",
      " hillary\n",
      " myvote2016\n",
      " voting\n",
      " donald\n",
      " clinton\n",
      "\n",
      "\n"
     ]
    }
   ],
   "source": [
    "#Since the numbers are so small, I wonder if there will be any distinguishing features\n",
    "\n",
    "terms = tweetTFVectorizer.get_feature_names()\n",
    "print(\"Top terms per cluster:\")\n",
    "order_centroids = km.cluster_centers_.argsort()[:, ::-1]\n",
    "for i in range(numClusters):\n",
    "    print(\"Cluster %d:\" % i)\n",
    "    for ind in order_centroids[i, :10]:\n",
    "        print(' %s' % terms[ind])\n",
    "    print('\\n')"
   ]
  },
  {
   "cell_type": "markdown",
   "metadata": {},
   "source": [
    "Comparing the two clusters, there are many overlapping words with \"trump\", \"hillary\", variations of voting. I'm going to try running the true label with the different types of fake news identified. One issue with this dataset is the actual number of fake news tweets is small, so the further categorization of those tweets may not be enough data to build a substansial clustering model."
   ]
  },
  {
   "cell_type": "code",
   "execution_count": 11,
   "metadata": {},
   "outputs": [],
   "source": [
    "electiontweetsDF['fake_news_category'] = electiontweetsDF['fake_news_category'].fillna(0)"
   ]
  },
  {
   "cell_type": "code",
   "execution_count": 23,
   "metadata": {},
   "outputs": [
    {
     "data": {
      "text/plain": [
       "KMeans(algorithm='auto', copy_x=True, init='k-means++', max_iter=300,\n",
       "    n_clusters=5, n_init=10, n_jobs=None, precompute_distances='auto',\n",
       "    random_state=None, tol=0.0001, verbose=0)"
      ]
     },
     "execution_count": 23,
     "metadata": {},
     "output_type": "execute_result"
    }
   ],
   "source": [
    "numClusters2 = len(set(electiontweetsDF['fake_news_category']))\n",
    "\n",
    "km = sklearn.cluster.KMeans(n_clusters=numClusters2, init='k-means++')\n",
    "km.fit(tweetTFVects)\n",
    "\n"
   ]
  },
  {
   "cell_type": "code",
   "execution_count": 24,
   "metadata": {},
   "outputs": [],
   "source": [
    "electiontweetsDF['kmeans_predictions2'] = km.labels_"
   ]
  },
  {
   "cell_type": "code",
   "execution_count": 25,
   "metadata": {},
   "outputs": [
    {
     "data": {
      "text/html": [
       "<div>\n",
       "<style scoped>\n",
       "    .dataframe tbody tr th:only-of-type {\n",
       "        vertical-align: middle;\n",
       "    }\n",
       "\n",
       "    .dataframe tbody tr th {\n",
       "        vertical-align: top;\n",
       "    }\n",
       "\n",
       "    .dataframe thead th {\n",
       "        text-align: right;\n",
       "    }\n",
       "</style>\n",
       "<table border=\"1\" class=\"dataframe\">\n",
       "  <thead>\n",
       "    <tr style=\"text-align: right;\">\n",
       "      <th></th>\n",
       "      <th>tweet_id</th>\n",
       "      <th>is_fake_news</th>\n",
       "      <th>fake_news_category</th>\n",
       "      <th>text</th>\n",
       "      <th>kmeans_predictions</th>\n",
       "      <th>kmeans_predictions2</th>\n",
       "    </tr>\n",
       "  </thead>\n",
       "  <tbody>\n",
       "    <tr>\n",
       "      <th>0</th>\n",
       "      <td>264033382076407808</td>\n",
       "      <td>False</td>\n",
       "      <td>0.0</td>\n",
       "      <td>@realDonaldTrump you are full of shit!</td>\n",
       "      <td>0</td>\n",
       "      <td>2</td>\n",
       "    </tr>\n",
       "    <tr>\n",
       "      <th>1</th>\n",
       "      <td>265895586660757505</td>\n",
       "      <td>False</td>\n",
       "      <td>0.0</td>\n",
       "      <td>@realDonaldTrump you're fucking retarded</td>\n",
       "      <td>0</td>\n",
       "      <td>2</td>\n",
       "    </tr>\n",
       "    <tr>\n",
       "      <th>2</th>\n",
       "      <td>265895723445411841</td>\n",
       "      <td>False</td>\n",
       "      <td>0.0</td>\n",
       "      <td>@realDonaldTrump You are the stupidest man on ...</td>\n",
       "      <td>0</td>\n",
       "      <td>2</td>\n",
       "    </tr>\n",
       "    <tr>\n",
       "      <th>3</th>\n",
       "      <td>265896172726661120</td>\n",
       "      <td>False</td>\n",
       "      <td>0.0</td>\n",
       "      <td>@realDonaldTrump I am continually amazed and t...</td>\n",
       "      <td>0</td>\n",
       "      <td>2</td>\n",
       "    </tr>\n",
       "    <tr>\n",
       "      <th>4</th>\n",
       "      <td>266042962650226688</td>\n",
       "      <td>False</td>\n",
       "      <td>0.0</td>\n",
       "      <td>Hey @realDonaldTrump You Mad Bro?</td>\n",
       "      <td>0</td>\n",
       "      <td>2</td>\n",
       "    </tr>\n",
       "  </tbody>\n",
       "</table>\n",
       "</div>"
      ],
      "text/plain": [
       "             tweet_id  is_fake_news  fake_news_category  \\\n",
       "0  264033382076407808         False                 0.0   \n",
       "1  265895586660757505         False                 0.0   \n",
       "2  265895723445411841         False                 0.0   \n",
       "3  265896172726661120         False                 0.0   \n",
       "4  266042962650226688         False                 0.0   \n",
       "\n",
       "                                                text  kmeans_predictions  \\\n",
       "0             @realDonaldTrump you are full of shit!                   0   \n",
       "1           @realDonaldTrump you're fucking retarded                   0   \n",
       "2  @realDonaldTrump You are the stupidest man on ...                   0   \n",
       "3  @realDonaldTrump I am continually amazed and t...                   0   \n",
       "4                  Hey @realDonaldTrump You Mad Bro?                   0   \n",
       "\n",
       "   kmeans_predictions2  \n",
       "0                    2  \n",
       "1                    2  \n",
       "2                    2  \n",
       "3                    2  \n",
       "4                    2  "
      ]
     },
     "execution_count": 25,
     "metadata": {},
     "output_type": "execute_result"
    }
   ],
   "source": [
    "electiontweetsDF.head()"
   ]
  },
  {
   "cell_type": "code",
   "execution_count": 26,
   "metadata": {},
   "outputs": [
    {
     "name": "stdout",
     "output_type": "stream",
     "text": [
      "Top terms per cluster:\n",
      "Cluster 0:\n",
      " electionday\n",
      " voting\n",
      " voters\n",
      " president\n",
      " election2016\n",
      " america\n",
      " day\n",
      " maga\n",
      " today\n",
      " american\n",
      "\n",
      "\n",
      "Cluster 1:\n",
      " trump\n",
      " electionday\n",
      " donald\n",
      " hillary\n",
      " realdonaldtrump\n",
      " vote\n",
      " maga\n",
      " voted\n",
      " clinton\n",
      " myvote2016\n",
      "\n",
      "\n",
      "Cluster 2:\n",
      " realdonaldtrump\n",
      " amp\n",
      " maga\n",
      " people\n",
      " america\n",
      " hillary\n",
      " just\n",
      " clinton\n",
      " make\n",
      " rally\n",
      "\n",
      "\n",
      "Cluster 3:\n",
      " hillaryclinton\n",
      " imwithher\n",
      " realdonaldtrump\n",
      " breaking\n",
      " president\n",
      " campaign\n",
      " amp\n",
      " tonight\n",
      " debate\n",
      " don\n",
      "\n",
      "\n",
      "Cluster 4:\n",
      " vote\n",
      " electionday\n",
      " today\n",
      " realdonaldtrump\n",
      " myvote2016\n",
      " don\n",
      " amp\n",
      " america\n",
      " voted\n",
      " hillaryclinton\n",
      "\n",
      "\n"
     ]
    }
   ],
   "source": [
    "terms = tweetTFVectorizer.get_feature_names()\n",
    "print(\"Top terms per cluster:\")\n",
    "order_centroids = km.cluster_centers_.argsort()[:, ::-1]\n",
    "for i in range(numClusters2):\n",
    "    print(\"Cluster %d:\" % i)\n",
    "    for ind in order_centroids[i, :10]:\n",
    "        print(' %s' % terms[ind])\n",
    "    print('\\n')"
   ]
  },
  {
   "cell_type": "markdown",
   "metadata": {},
   "source": [
    "More clusters now, according to the number of fake news categories. While we do see similarities within the clusters features, there are now key differences as well. Cluster three for example, looks like it may be more about Mike Pence's religious views and his rule on  not eating next to women who are not his wife"
   ]
  },
  {
   "cell_type": "code",
   "execution_count": 27,
   "metadata": {},
   "outputs": [],
   "source": [
    "# PCA Reduction"
   ]
  },
  {
   "cell_type": "code",
   "execution_count": 28,
   "metadata": {},
   "outputs": [],
   "source": [
    "# new data\n",
    "\n",
    "PCA = sklearn.decomposition.PCA(n_components = 4).fit(tweetTFVects.toarray())\n",
    "reducedPCA_data = PCA.transform(tweetTFVects.toarray())\n",
    "\n",
    "colors = list(plt.cm.rainbow(np.linspace(0,1, numClusters2)))\n",
    "colors_p = [colors[l] for l in km.labels_]"
   ]
  },
  {
   "cell_type": "code",
   "execution_count": 29,
   "metadata": {},
   "outputs": [
    {
     "data": {
      "image/png": "[encoded data removed]",
      "text/plain": [
       "<Figure size 432x288 with 1 Axes>"
      ]
     },
     "metadata": {},
     "output_type": "display_data"
    }
   ],
   "source": [
    "fig = plt.figure(2)\n",
    "ax = fig.add_subplot(111)\n",
    "ax.set_frame_on(False)\n",
    "plt.scatter(reducedPCA_data[:, 0], reducedPCA_data[:, 1], color = colors_p, alpha = 0.5)\n",
    "plt.xticks(())\n",
    "plt.yticks(())\n",
    "plt.title('Predicted Clusters\\n k = {}'.format(numClusters2))\n",
    "plt.show()"
   ]
  },
  {
   "cell_type": "markdown",
   "metadata": {},
   "source": [
    "The close structure of the clusters points to a strong semantic overlap. From an inspection of the feature clusters, we do see tokens and similar tokens in the groups. "
   ]
  },
  {
   "cell_type": "code",
   "execution_count": 30,
   "metadata": {},
   "outputs": [],
   "source": [
    "#PCA Reduction\n",
    "PCA = sklearn.decomposition.PCA\n",
    "pca = PCA(n_components = 2).fit(tweetTFVects.toarray())\n",
    "reduced_data = pca.transform(tweetTFVects.toarray())\n",
    "\n",
    "# Optimal clusters via Silhouette\n",
    "\n",
    "\n",
    "def plotSilhouette(n_clusters, X):\n",
    "    fig, (ax1, ax2) = plt.subplots(ncols=2, figsize = (15,5))\n",
    "    \n",
    "    ax1.set_xlim([-0.1, 1])\n",
    "    ax1.set_ylim([0, len(X) + (n_clusters + 1) * 10])\n",
    "    clusterer = sklearn.cluster.KMeans(n_clusters=n_clusters, random_state=10)\n",
    "    cluster_labels = clusterer.fit_predict(X)\n",
    "    \n",
    "    silhouette_avg = sklearn.metrics.silhouette_score(X, cluster_labels)\n",
    "\n",
    "    # Compute the silhouette scores for each sample\n",
    "    sample_silhouette_values = sklearn.metrics.silhouette_samples(X, cluster_labels)\n",
    "\n",
    "    y_lower = 10\n",
    "    \n",
    "    for i in range(n_clusters):\n",
    "        ith_cluster_silhouette_values = sample_silhouette_values[cluster_labels == i]\n",
    "\n",
    "        ith_cluster_silhouette_values.sort()\n",
    "\n",
    "        size_cluster_i = ith_cluster_silhouette_values.shape[0]\n",
    "        y_upper = y_lower + size_cluster_i\n",
    "        cmap = matplotlib.cm.get_cmap(\"nipy_spectral\")\n",
    "        color = cmap(float(i) / n_clusters)\n",
    "        ax1.fill_betweenx(np.arange(y_lower, y_upper),\n",
    "                          0, ith_cluster_silhouette_values,\n",
    "                          facecolor=color, edgecolor=color, alpha=0.7)\n",
    "\n",
    "        ax1.text(-0.05, y_lower + 0.5 * size_cluster_i, str(i))\n",
    "\n",
    "        y_lower = y_upper + 10\n",
    "    \n",
    "    ax1.set_title(\"The silhouette plot for the various clusters.\")\n",
    "    ax1.set_xlabel(\"The silhouette coefficient values\")\n",
    "    ax1.set_ylabel(\"Cluster label\")\n",
    "\n",
    "    ax1.axvline(x=silhouette_avg, color=\"red\", linestyle=\"--\")\n",
    "\n",
    "    ax1.set_yticks([])  # Clear the yaxis labels / ticks\n",
    "    ax1.set_xticks([-0.1, 0, 0.2, 0.4, 0.6, 0.8, 1])\n",
    "\n",
    "    # 2nd Plot showing the actual clusters formed\n",
    "    cmap = matplotlib.cm.get_cmap(\"nipy_spectral\")\n",
    "    colors = cmap(float(i) / n_clusters)\n",
    "    ax2.scatter(reduced_data[:, 0], reduced_data[:, 1], marker='.', s=30, lw=0, alpha=0.7,\n",
    "                c=colors)\n",
    "\n",
    "    # Labeling the clusters\n",
    "    centers = clusterer.cluster_centers_\n",
    "    projected_centers = pca.transform(centers)\n",
    "    # Draw white circles at cluster centers\n",
    "    ax2.scatter(projected_centers[:, 0], projected_centers[:, 1],\n",
    "                marker='o', c=\"white\", alpha=1, s=200)\n",
    "\n",
    "    for i, c in enumerate(projected_centers):\n",
    "        ax2.scatter(c[0], c[1], marker='$%d$' % i, alpha=1, s=50)\n",
    "\n",
    "    ax2.set_title(\"The visualization of the clustered data.\")\n",
    "    ax2.set_xlabel(\"PC 1\")\n",
    "    ax2.set_ylabel(\"PC 2\")\n",
    "\n",
    "    plt.suptitle((\"Silhouette analysis for KMeans clustering on sample data \"\n",
    "                  \"with n_clusters = %d\" % n_clusters),\n",
    "                 fontsize=14, fontweight='bold')\n",
    "    plt.show()\n",
    "    print(\"For n_clusters = {}, The average silhouette_score is : {:.3f}\".format(n_clusters, silhouette_avg))"
   ]
  },
  {
   "cell_type": "code",
   "execution_count": 31,
   "metadata": {},
   "outputs": [
    {
     "name": "stderr",
     "output_type": "stream",
     "text": [
      "'c' argument looks like a single numeric RGB or RGBA sequence, which should be avoided as value-mapping will have precedence in case its length matches with 'x' & 'y'.  Please use a 2-D array with a single row if you really want to specify the same RGB or RGBA value for all points.\n"
     ]
    },
    {
     "data": {
      "image/png": "[encoded data removed]",
      "text/plain": [
       "<Figure size 1080x360 with 2 Axes>"
      ]
     },
     "metadata": {
      "needs_background": "light"
     },
     "output_type": "display_data"
    },
    {
     "name": "stdout",
     "output_type": "stream",
     "text": [
      "For n_clusters = 3, The average silhouette_score is : 0.022\n"
     ]
    }
   ],
   "source": [
    "# Trying different numbers of clusters\n",
    "\n",
    "X = tweetTFVects.toarray()\n",
    "plotSilhouette(3, X)"
   ]
  },
  {
   "cell_type": "code",
   "execution_count": 32,
   "metadata": {},
   "outputs": [
    {
     "name": "stderr",
     "output_type": "stream",
     "text": [
      "'c' argument looks like a single numeric RGB or RGBA sequence, which should be avoided as value-mapping will have precedence in case its length matches with 'x' & 'y'.  Please use a 2-D array with a single row if you really want to specify the same RGB or RGBA value for all points.\n"
     ]
    },
    {
     "data": {
      "image/png": "[encoded data removed]",
      "text/plain": [
       "<Figure size 1080x360 with 2 Axes>"
      ]
     },
     "metadata": {
      "needs_background": "light"
     },
     "output_type": "display_data"
    },
    {
     "name": "stdout",
     "output_type": "stream",
     "text": [
      "For n_clusters = 10, The average silhouette_score is : 0.013\n"
     ]
    }
   ],
   "source": [
    "#Trying with ten, does not make a lot of sense since the clusters are so close in distance\n",
    "\n",
    "X = tweetTFVects.toarray()\n",
    "plotSilhouette(10, X)"
   ]
  },
  {
   "cell_type": "code",
   "execution_count": 33,
   "metadata": {},
   "outputs": [
    {
     "name": "stderr",
     "output_type": "stream",
     "text": [
      "'c' argument looks like a single numeric RGB or RGBA sequence, which should be avoided as value-mapping will have precedence in case its length matches with 'x' & 'y'.  Please use a 2-D array with a single row if you really want to specify the same RGB or RGBA value for all points.\n"
     ]
    },
    {
     "data": {
      "image/png": "[encoded data removed]",
      "text/plain": [
       "<Figure size 1080x360 with 2 Axes>"
      ]
     },
     "metadata": {
      "needs_background": "light"
     },
     "output_type": "display_data"
    },
    {
     "name": "stdout",
     "output_type": "stream",
     "text": [
      "For n_clusters = 5, The average silhouette_score is : 0.019\n"
     ]
    }
   ],
   "source": [
    "# Like golidlocks, trying to find the right number\n",
    "\n",
    "X = tweetTFVects.toarray()\n",
    "plotSilhouette(5, X)"
   ]
  },
  {
   "cell_type": "markdown",
   "metadata": {},
   "source": [
    "According to the silhouette analysis, the optimal of number of clusters is 3. Again thelabels of types of fake news are dependent on whether the tweet has fake news in the first place, which is rare. Out of the dataset, it's about 136 out of 1337 tweets. There are five true categories: 1) unlabeled, 2) serious fabrication, 3) large scale hoax, 4) slanted reporting of fake news, and 5) stories where the truth is contentious. But as you can tell from the true label, the human annotation is pretty nebulously defined so it make sense that there would be overlap in text features and that optimal number of clusters is less than the true labels.\n",
    "\n"
   ]
  },
  {
   "cell_type": "markdown",
   "metadata": {},
   "source": [
    "## <span style=\"color:red\">*Exercise 2*</span>\n",
    "\n",
    "<span style=\"color:red\">Construct cells immediately below this that hierarchically cluster your documents using two approaches, and visualize them with a tree. Interrogate the recursive cluster contents in terms of both documents and closenesses. What does this nested cluster structure reveal about the organization of documents in your sampled corpora? Moreover, if they do worse than kmeans (as above), why do you think this is the case (hint: using metrics if you have ground truth or silhouette if you do not)? \n",
    "\n",
    "<span style=\"color:red\">***Stretch***: Attempt using different distances into your clustering algorithms. (How) do they change the arrangement of clusters?"
   ]
  },
  {
   "cell_type": "markdown",
   "metadata": {},
   "source": [
    "Applying hierarchy through Wald's method of clustering, because of the semantic overlap, I expect the content to have many nested levels and I also do not expect Wald method to perform any better than K-means clustering. "
   ]
  },
  {
   "cell_type": "markdown",
   "metadata": {},
   "source": [
    "# Wald's Method"
   ]
  },
  {
   "cell_type": "code",
   "execution_count": 34,
   "metadata": {},
   "outputs": [
    {
     "data": {
      "text/plain": [
       "matrix([[0., 0., 0., ..., 0., 0., 0.],\n",
       "        [0., 0., 0., ..., 0., 0., 0.],\n",
       "        [0., 0., 0., ..., 0., 0., 0.],\n",
       "        ...,\n",
       "        [0., 0., 0., ..., 0., 0., 0.],\n",
       "        [0., 0., 0., ..., 0., 0., 0.],\n",
       "        [0., 0., 0., ..., 0., 0., 0.]])"
      ]
     },
     "execution_count": 34,
     "metadata": {},
     "output_type": "execute_result"
    }
   ],
   "source": [
    "tweetTFVects[:100].todense()"
   ]
  },
  {
   "cell_type": "markdown",
   "metadata": {},
   "source": [
    "Above is the  matrix of word counts per document newsgroupsTFVects"
   ]
  },
  {
   "cell_type": "code",
   "execution_count": 35,
   "metadata": {},
   "outputs": [
    {
     "name": "stderr",
     "output_type": "stream",
     "text": [
      "/software/Anaconda3-5.3.0-el7-x86_64/lib/python3.6/site-packages/scipy/sparse/compressed.py:708: SparseEfficiencyWarning: Changing the sparsity structure of a csr_matrix is expensive. lil_matrix is more efficient.\n",
      "  self[i, j] = values\n"
     ]
    }
   ],
   "source": [
    "# word occurrence matrix -- document similarity based on shared words\n",
    "\n",
    "tweetsCoocMat = tweetTFVects * tweetTFVects.T\n",
    "#set the diagonal to 0 since we don't care how similar texts are to themselves\n",
    "tweetsCoocMat.setdiag(0)\n",
    "\n"
   ]
  },
  {
   "cell_type": "code",
   "execution_count": 36,
   "metadata": {},
   "outputs": [],
   "source": [
    "selectIndices = []\n",
    "indexToCat = []\n",
    "for c in set(electiontweetsDF['fake_news_category']):\n",
    "    selectIndices += list(electiontweetsDF[electiontweetsDF['fake_news_category'] == c].index)[:50]\n",
    "    indexToCat += [c] * 50\n",
    "    #.groupby('category').sum()"
   ]
  },
  {
   "cell_type": "code",
   "execution_count": 37,
   "metadata": {},
   "outputs": [],
   "source": [
    "subCoocMat = tweetsCoocMat[selectIndices,:][:,selectIndices]"
   ]
  },
  {
   "cell_type": "code",
   "execution_count": 38,
   "metadata": {},
   "outputs": [
    {
     "name": "stderr",
     "output_type": "stream",
     "text": [
      "/software/Anaconda3-5.3.0-el7-x86_64/lib/python3.6/site-packages/scipy/cluster/hierarchy.py:878: ClusterWarning: scipy.cluster: The symmetric non-negative hollow observation matrix looks suspiciously like an uncondensed distance matrix\n",
      "  return linkage(y, method='ward', metric='euclidean')\n"
     ]
    },
    {
     "data": {
      "text/plain": [
       "array([[2.70000000e+01, 3.10000000e+01, 5.12342794e-02, 2.00000000e+00],\n",
       "       [1.00000000e+00, 1.60000000e+01, 9.62289635e-02, 2.00000000e+00],\n",
       "       [3.20000000e+01, 1.50000000e+02, 1.14184556e-01, 3.00000000e+00],\n",
       "       [3.80000000e+01, 1.36000000e+02, 1.47881510e-01, 2.00000000e+00],\n",
       "       [5.20000000e+01, 1.49000000e+02, 1.64284243e-01, 3.00000000e+00],\n",
       "       [5.00000000e+01, 1.52000000e+02, 2.08745258e-01, 3.00000000e+00],\n",
       "       [3.70000000e+01, 4.50000000e+01, 2.14828288e-01, 2.00000000e+00],\n",
       "       [2.40000000e+01, 1.53000000e+02, 2.66105764e-01, 4.00000000e+00],\n",
       "       [1.40000000e+01, 1.54000000e+02, 2.86116346e-01, 4.00000000e+00],\n",
       "       [5.60000000e+01, 1.57000000e+02, 3.03700758e-01, 5.00000000e+00]])"
      ]
     },
     "execution_count": 38,
     "metadata": {},
     "output_type": "execute_result"
    }
   ],
   "source": [
    "linkage_matrix = scipy.cluster.hierarchy.ward(subCoocMat.toarray())\n",
    "linkage_matrix[:10]"
   ]
  },
  {
   "cell_type": "code",
   "execution_count": 39,
   "metadata": {},
   "outputs": [],
   "source": [
    "# Visualizing the tree"
   ]
  },
  {
   "cell_type": "code",
   "execution_count": 40,
   "metadata": {},
   "outputs": [
    {
     "data": {
      "image/png": "[encoded data removed]",
      "text/plain": [
       "<Figure size 432x288 with 1 Axes>"
      ]
     },
     "metadata": {
      "needs_background": "light"
     },
     "output_type": "display_data"
    }
   ],
   "source": [
    "dendDat = scipy.cluster.hierarchy.dendrogram(linkage_matrix, get_leaves=True)"
   ]
  },
  {
   "cell_type": "code",
   "execution_count": 41,
   "metadata": {},
   "outputs": [
    {
     "data": {
      "image/png": "[encoded data removed]",
      "text/plain": [
       "<Figure size 432x288 with 1 Axes>"
      ]
     },
     "metadata": {
      "needs_background": "light"
     },
     "output_type": "display_data"
    }
   ],
   "source": [
    "#Cutting trees\n",
    "\n",
    "dendrogramDat = scipy.cluster.hierarchy.dendrogram(linkage_matrix, p=4, truncate_mode='level', get_leaves=True)"
   ]
  },
  {
   "cell_type": "code",
   "execution_count": 42,
   "metadata": {},
   "outputs": [
    {
     "data": {
      "text/plain": [
       "array([1, 1, 1, 1, 1, 1, 1, 1, 1, 1, 4, 4, 1, 1, 4, 1, 1, 4, 4, 1, 1, 1,\n",
       "       4, 4, 1, 1, 1, 1, 1, 4, 1, 1, 1, 1, 1, 1, 1, 1, 4, 1, 1, 1, 1, 1,\n",
       "       1, 1, 1, 1, 1, 1, 4, 4, 1, 3, 2, 4, 4, 1, 3, 4, 4, 4, 4, 4, 1, 1,\n",
       "       4, 1, 4, 4, 4, 1, 4, 4, 1, 4, 4, 4, 4, 1, 1, 4, 4, 4, 4, 2, 4, 4,\n",
       "       3, 4, 1, 4, 4, 1, 4, 3, 3, 3, 3, 4, 1, 1, 2, 1, 1, 1, 1, 1, 1, 4,\n",
       "       4, 1, 1, 2, 2, 2, 2, 2, 2, 2, 2, 2, 2, 2, 2, 2, 4, 4, 3, 1, 1, 4,\n",
       "       1, 4, 4, 4, 4, 4, 4, 4, 4, 1, 4, 1, 1, 1, 1, 4, 4], dtype=int32)"
      ]
     },
     "execution_count": 42,
     "metadata": {},
     "output_type": "execute_result"
    }
   ],
   "source": [
    "hierarchicalClusters = scipy.cluster.hierarchy.fcluster(linkage_matrix, 4, 'maxclust')\n",
    "hierarchicalClusters"
   ]
  },
  {
   "cell_type": "code",
   "execution_count": 43,
   "metadata": {},
   "outputs": [
    {
     "name": "stderr",
     "output_type": "stream",
     "text": [
      "/software/Anaconda3-5.3.0-el7-x86_64/lib/python3.6/site-packages/scipy/cluster/hierarchy.py:878: ClusterWarning: scipy.cluster: The symmetric non-negative hollow observation matrix looks suspiciously like an uncondensed distance matrix\n",
      "  return linkage(y, method='ward', metric='euclidean')\n"
     ]
    },
    {
     "name": "stdout",
     "output_type": "stream",
     "text": [
      "For our complete clusters:\n",
      "Homogeneity: 0.066\n",
      "Completeness: 0.026\n",
      "V-measure: 0.037\n",
      "Adjusted Rand Score: 0.034\n"
     ]
    }
   ],
   "source": [
    "#homogeneity scores\n",
    "\n",
    "linkage_matrix_full = scipy.cluster.hierarchy.ward(tweetsCoocMat.toarray())\n",
    "hierarchicalClusters_full = scipy.cluster.hierarchy.fcluster(linkage_matrix_full, 4, 'maxclust')\n",
    "\n",
    "print(\"For our complete clusters:\")\n",
    "\n",
    "print(\"Homogeneity: {:0.3f}\".format(sklearn.metrics.homogeneity_score(electiontweetsDF['fake_news_category'], hierarchicalClusters_full)))\n",
    "print(\"Completeness: {:0.3f}\".format(sklearn.metrics.completeness_score(electiontweetsDF['fake_news_category'], hierarchicalClusters_full)))\n",
    "print(\"V-measure: {:0.3f}\".format(sklearn.metrics.v_measure_score(electiontweetsDF['fake_news_category'], hierarchicalClusters_full)))\n",
    "print(\"Adjusted Rand Score: {:0.3f}\".format(sklearn.metrics.adjusted_rand_score(electiontweetsDF['fake_news_category'], hierarchicalClusters_full)))"
   ]
  },
  {
   "cell_type": "code",
   "execution_count": 44,
   "metadata": {},
   "outputs": [
    {
     "data": {
      "text/html": [
       "<div>\n",
       "<style scoped>\n",
       "    .dataframe tbody tr th:only-of-type {\n",
       "        vertical-align: middle;\n",
       "    }\n",
       "\n",
       "    .dataframe tbody tr th {\n",
       "        vertical-align: top;\n",
       "    }\n",
       "\n",
       "    .dataframe thead th {\n",
       "        text-align: right;\n",
       "    }\n",
       "</style>\n",
       "<table border=\"1\" class=\"dataframe\">\n",
       "  <thead>\n",
       "    <tr style=\"text-align: right;\">\n",
       "      <th></th>\n",
       "      <th>tweet_id</th>\n",
       "      <th>is_fake_news</th>\n",
       "      <th>fake_news_category</th>\n",
       "      <th>text</th>\n",
       "      <th>kmeans_predictions</th>\n",
       "      <th>kmeans_predictions2</th>\n",
       "      <th>wald_predictions</th>\n",
       "    </tr>\n",
       "  </thead>\n",
       "  <tbody>\n",
       "    <tr>\n",
       "      <th>0</th>\n",
       "      <td>264033382076407808</td>\n",
       "      <td>False</td>\n",
       "      <td>0.0</td>\n",
       "      <td>@realDonaldTrump you are full of shit!</td>\n",
       "      <td>0</td>\n",
       "      <td>2</td>\n",
       "      <td>3</td>\n",
       "    </tr>\n",
       "    <tr>\n",
       "      <th>1</th>\n",
       "      <td>265895586660757505</td>\n",
       "      <td>False</td>\n",
       "      <td>0.0</td>\n",
       "      <td>@realDonaldTrump you're fucking retarded</td>\n",
       "      <td>0</td>\n",
       "      <td>2</td>\n",
       "      <td>3</td>\n",
       "    </tr>\n",
       "    <tr>\n",
       "      <th>2</th>\n",
       "      <td>265895723445411841</td>\n",
       "      <td>False</td>\n",
       "      <td>0.0</td>\n",
       "      <td>@realDonaldTrump You are the stupidest man on ...</td>\n",
       "      <td>0</td>\n",
       "      <td>2</td>\n",
       "      <td>3</td>\n",
       "    </tr>\n",
       "    <tr>\n",
       "      <th>3</th>\n",
       "      <td>265896172726661120</td>\n",
       "      <td>False</td>\n",
       "      <td>0.0</td>\n",
       "      <td>@realDonaldTrump I am continually amazed and t...</td>\n",
       "      <td>0</td>\n",
       "      <td>2</td>\n",
       "      <td>3</td>\n",
       "    </tr>\n",
       "    <tr>\n",
       "      <th>4</th>\n",
       "      <td>266042962650226688</td>\n",
       "      <td>False</td>\n",
       "      <td>0.0</td>\n",
       "      <td>Hey @realDonaldTrump You Mad Bro?</td>\n",
       "      <td>0</td>\n",
       "      <td>2</td>\n",
       "      <td>3</td>\n",
       "    </tr>\n",
       "  </tbody>\n",
       "</table>\n",
       "</div>"
      ],
      "text/plain": [
       "             tweet_id  is_fake_news  fake_news_category  \\\n",
       "0  264033382076407808         False                 0.0   \n",
       "1  265895586660757505         False                 0.0   \n",
       "2  265895723445411841         False                 0.0   \n",
       "3  265896172726661120         False                 0.0   \n",
       "4  266042962650226688         False                 0.0   \n",
       "\n",
       "                                                text  kmeans_predictions  \\\n",
       "0             @realDonaldTrump you are full of shit!                   0   \n",
       "1           @realDonaldTrump you're fucking retarded                   0   \n",
       "2  @realDonaldTrump You are the stupidest man on ...                   0   \n",
       "3  @realDonaldTrump I am continually amazed and t...                   0   \n",
       "4                  Hey @realDonaldTrump You Mad Bro?                   0   \n",
       "\n",
       "   kmeans_predictions2  wald_predictions  \n",
       "0                    2                 3  \n",
       "1                    2                 3  \n",
       "2                    2                 3  \n",
       "3                    2                 3  \n",
       "4                    2                 3  "
      ]
     },
     "execution_count": 44,
     "metadata": {},
     "output_type": "execute_result"
    }
   ],
   "source": [
    "electiontweetsDF['wald_predictions'] = hierarchicalClusters_full\n",
    "electiontweetsDF.head()"
   ]
  },
  {
   "cell_type": "code",
   "execution_count": null,
   "metadata": {},
   "outputs": [],
   "source": [
    "After looking at the recursive cluster contents it tells me that the "
   ]
  },
  {
   "cell_type": "markdown",
   "metadata": {},
   "source": [
    "Interrogate the recursive cluster contents in terms of both documents and closenesses. What does this nested cluster structure reveal about the organization of documents in your sampled corpora? Moreover, if they do worse than kmeans (as above), why do you think this is the case (hint: using metrics if you have ground truth or silhouette if you do not)? \n",
    "\n",
    "\n",
    "\n",
    "\n"
   ]
  },
  {
   "cell_type": "markdown",
   "metadata": {},
   "source": [
    "## <span style=\"color:red\">*Exercise 3*</span>\n",
    "\n",
    "<span style=\"color:red\">Construct cells immediately below this that topic model documents related to your anticipated final project. Interrogate and visually plot (e.g., as a bar graph?) the topic-word loadings and the document-topic loadings. What does this topic structure reveal about the distribution of contents across your documents? Systematically vary the $\\alpha$, $\\eta$, and topic number of the model for your text and describe in detail whether and how these changes led to distinctive outcomes, visible to you as analyst.  \n",
    "\n",
    "<span style=\"color:red\">**Stretch**: Cluster your documents, but instead of using words alone, use their topic loadings as an additional set of features. Do these topic loadings increase the apparent semantic coherence of your clusters?</span> "
   ]
  },
  {
   "cell_type": "markdown",
   "metadata": {},
   "source": [
    "# Topic Modeling with GenSim\n"
   ]
  },
  {
   "cell_type": "code",
   "execution_count": 15,
   "metadata": {},
   "outputs": [],
   "source": [
    "#Apply our functions\n",
    "electiontweetsDF['tokenized_text'] = electiontweetsDF['text'].apply(lambda x: lucem_illud_2020.word_tokenize(x))\n",
    "electiontweetsDF['normalized_tokens'] = electiontweetsDF['tokenized_text'].apply(lambda x: lucem_illud_2020.normalizeTokens(x))"
   ]
  },
  {
   "cell_type": "code",
   "execution_count": 16,
   "metadata": {},
   "outputs": [],
   "source": [
    "# Reduce the tokens\n",
    "\n",
    "def dropMissing(wordLst, vocab):\n",
    "    return [w for w in wordLst if w in vocab]\n",
    "\n",
    "electiontweetsDF['reduced_tokens'] = electiontweetsDF['normalized_tokens'].apply(lambda x: dropMissing(x, tweetTFVectorizer.vocabulary_.keys()))"
   ]
  },
  {
   "cell_type": "code",
   "execution_count": 17,
   "metadata": {},
   "outputs": [],
   "source": [
    "dictionary = gensim.corpora.Dictionary(electiontweetsDF['reduced_tokens'])"
   ]
  },
  {
   "cell_type": "markdown",
   "metadata": {},
   "source": [
    "\n",
    "-- Then for each of the texts we create a list of tuples containing each token and its count. We will only use the first half of our dataset for now and will save the remainder for testing."
   ]
  },
  {
   "cell_type": "code",
   "execution_count": 18,
   "metadata": {},
   "outputs": [],
   "source": [
    "corpus = [dictionary.doc2bow(text) for text in electiontweetsDF['reduced_tokens']]"
   ]
  },
  {
   "cell_type": "code",
   "execution_count": 19,
   "metadata": {},
   "outputs": [],
   "source": [
    "# doc2bow does preprocessing\n",
    "# Corpus \n",
    "\n",
    "\n",
    "gensim.corpora.MmCorpus.serialize('election.mm', corpus) # I think the .mm is just a naming convention?\n",
    "tweetmm = gensim.corpora.MmCorpus('election.mm')"
   ]
  },
  {
   "cell_type": "code",
   "execution_count": 20,
   "metadata": {},
   "outputs": [],
   "source": [
    "tweetlda = gensim.models.ldamodel.LdaModel(corpus=tweetmm, id2word=dictionary, num_topics=10, alpha='auto', eta='auto')"
   ]
  },
  {
   "cell_type": "markdown",
   "metadata": {},
   "source": [
    "The degree to which distinct texts load on the identified topics."
   ]
  },
  {
   "cell_type": "code",
   "execution_count": 51,
   "metadata": {},
   "outputs": [
    {
     "name": "stdout",
     "output_type": "stream",
     "text": [
      "The topics of the text: 0.0\n",
      "are: [(0, 0.1004303), (1, 0.10792321), (2, 0.09852464), (3, 0.097846195), (4, 0.09752218), (5, 0.10247956), (6, 0.096405536), (7, 0.09367125), (8, 0.10187331), (9, 0.10332381)]\n"
     ]
    }
   ],
   "source": [
    "tweet1Bow = dictionary.doc2bow(electiontweetsDF['reduced_tokens'][0])\n",
    "tweet1lda = tweetlda[tweet1Bow]\n",
    "print(\"The topics of the text: {}\".format(electiontweetsDF['fake_news_category'][0]))\n",
    "print(\"are: {}\".format(tweet1lda))\n"
   ]
  },
  {
   "cell_type": "code",
   "execution_count": 52,
   "metadata": {},
   "outputs": [
    {
     "data": {
      "text/html": [
       "<div>\n",
       "<style scoped>\n",
       "    .dataframe tbody tr th:only-of-type {\n",
       "        vertical-align: middle;\n",
       "    }\n",
       "\n",
       "    .dataframe tbody tr th {\n",
       "        vertical-align: top;\n",
       "    }\n",
       "\n",
       "    .dataframe thead th {\n",
       "        text-align: right;\n",
       "    }\n",
       "</style>\n",
       "<table border=\"1\" class=\"dataframe\">\n",
       "  <thead>\n",
       "    <tr style=\"text-align: right;\">\n",
       "      <th></th>\n",
       "      <th>name</th>\n",
       "      <th>topics</th>\n",
       "      <th>topic_0</th>\n",
       "      <th>topic_1</th>\n",
       "      <th>topic_2</th>\n",
       "      <th>topic_3</th>\n",
       "      <th>topic_4</th>\n",
       "      <th>topic_5</th>\n",
       "      <th>topic_6</th>\n",
       "      <th>topic_7</th>\n",
       "      <th>topic_8</th>\n",
       "      <th>topic_9</th>\n",
       "    </tr>\n",
       "  </thead>\n",
       "  <tbody>\n",
       "    <tr>\n",
       "      <th>1</th>\n",
       "      <td>0.0</td>\n",
       "      <td>[(0, 0.04731616), (1, 0.050846323), (2, 0.0464...</td>\n",
       "      <td>0.047316</td>\n",
       "      <td>0.050846</td>\n",
       "      <td>0.046419</td>\n",
       "      <td>0.046099</td>\n",
       "      <td>0.045946</td>\n",
       "      <td>0.048282</td>\n",
       "      <td>0.574284</td>\n",
       "      <td>0.044132</td>\n",
       "      <td>0.047996</td>\n",
       "      <td>0.048679</td>\n",
       "    </tr>\n",
       "    <tr>\n",
       "      <th>101</th>\n",
       "      <td>0.0</td>\n",
       "      <td>[(0, 0.1004303), (1, 0.10792321), (2, 0.098524...</td>\n",
       "      <td>0.100430</td>\n",
       "      <td>0.107923</td>\n",
       "      <td>0.098525</td>\n",
       "      <td>0.097846</td>\n",
       "      <td>0.097522</td>\n",
       "      <td>0.102480</td>\n",
       "      <td>0.096406</td>\n",
       "      <td>0.093671</td>\n",
       "      <td>0.101873</td>\n",
       "      <td>0.103324</td>\n",
       "    </tr>\n",
       "    <tr>\n",
       "      <th>201</th>\n",
       "      <td>0.0</td>\n",
       "      <td>[(0, 0.1004303), (1, 0.10792321), (2, 0.098524...</td>\n",
       "      <td>0.100430</td>\n",
       "      <td>0.107923</td>\n",
       "      <td>0.098525</td>\n",
       "      <td>0.097846</td>\n",
       "      <td>0.097522</td>\n",
       "      <td>0.102480</td>\n",
       "      <td>0.096406</td>\n",
       "      <td>0.093671</td>\n",
       "      <td>0.101873</td>\n",
       "      <td>0.103324</td>\n",
       "    </tr>\n",
       "    <tr>\n",
       "      <th>301</th>\n",
       "      <td>0.0</td>\n",
       "      <td>[(0, 0.03094854), (1, 0.03325755), (2, 0.03036...</td>\n",
       "      <td>0.030949</td>\n",
       "      <td>0.033258</td>\n",
       "      <td>0.030361</td>\n",
       "      <td>0.030154</td>\n",
       "      <td>0.030053</td>\n",
       "      <td>0.031584</td>\n",
       "      <td>0.029711</td>\n",
       "      <td>0.028870</td>\n",
       "      <td>0.723218</td>\n",
       "      <td>0.031843</td>\n",
       "    </tr>\n",
       "    <tr>\n",
       "      <th>401</th>\n",
       "      <td>0.0</td>\n",
       "      <td>[(0, 0.01298447), (1, 0.013953848), (2, 0.0127...</td>\n",
       "      <td>0.012984</td>\n",
       "      <td>0.013954</td>\n",
       "      <td>0.012738</td>\n",
       "      <td>0.012650</td>\n",
       "      <td>0.012608</td>\n",
       "      <td>0.883964</td>\n",
       "      <td>0.012463</td>\n",
       "      <td>0.012110</td>\n",
       "      <td>0.013170</td>\n",
       "      <td>0.013358</td>\n",
       "    </tr>\n",
       "    <tr>\n",
       "      <th>501</th>\n",
       "      <td>0.0</td>\n",
       "      <td>[(0, 0.1004303), (1, 0.10792321), (2, 0.098524...</td>\n",
       "      <td>0.100430</td>\n",
       "      <td>0.107923</td>\n",
       "      <td>0.098525</td>\n",
       "      <td>0.097846</td>\n",
       "      <td>0.097522</td>\n",
       "      <td>0.102480</td>\n",
       "      <td>0.096406</td>\n",
       "      <td>0.093671</td>\n",
       "      <td>0.101873</td>\n",
       "      <td>0.103324</td>\n",
       "    </tr>\n",
       "    <tr>\n",
       "      <th>601</th>\n",
       "      <td>0.0</td>\n",
       "      <td>[(0, 0.011338782), (1, 0.899283), (2, 0.011123...</td>\n",
       "      <td>0.011339</td>\n",
       "      <td>0.899283</td>\n",
       "      <td>0.011124</td>\n",
       "      <td>0.011047</td>\n",
       "      <td>0.011010</td>\n",
       "      <td>0.011571</td>\n",
       "      <td>0.010884</td>\n",
       "      <td>0.010575</td>\n",
       "      <td>0.011501</td>\n",
       "      <td>0.011666</td>\n",
       "    </tr>\n",
       "    <tr>\n",
       "      <th>701</th>\n",
       "      <td>0.0</td>\n",
       "      <td>[(0, 0.1004303), (1, 0.10792321), (2, 0.098524...</td>\n",
       "      <td>0.100430</td>\n",
       "      <td>0.107923</td>\n",
       "      <td>0.098525</td>\n",
       "      <td>0.097846</td>\n",
       "      <td>0.097522</td>\n",
       "      <td>0.102480</td>\n",
       "      <td>0.096406</td>\n",
       "      <td>0.093671</td>\n",
       "      <td>0.101873</td>\n",
       "      <td>0.103324</td>\n",
       "    </tr>\n",
       "    <tr>\n",
       "      <th>801</th>\n",
       "      <td>1.0</td>\n",
       "      <td>[(0, 0.012984675), (1, 0.0139540965), (2, 0.01...</td>\n",
       "      <td>0.012985</td>\n",
       "      <td>0.013954</td>\n",
       "      <td>0.012738</td>\n",
       "      <td>0.012651</td>\n",
       "      <td>0.012608</td>\n",
       "      <td>0.013250</td>\n",
       "      <td>0.883174</td>\n",
       "      <td>0.012110</td>\n",
       "      <td>0.013172</td>\n",
       "      <td>0.013358</td>\n",
       "    </tr>\n",
       "    <tr>\n",
       "      <th>901</th>\n",
       "      <td>0.0</td>\n",
       "      <td>[(0, 0.7940179), (1, 0.024715096), (2, 0.02255...</td>\n",
       "      <td>0.794018</td>\n",
       "      <td>0.024715</td>\n",
       "      <td>0.022559</td>\n",
       "      <td>0.022403</td>\n",
       "      <td>0.022330</td>\n",
       "      <td>0.023466</td>\n",
       "      <td>0.022074</td>\n",
       "      <td>0.021447</td>\n",
       "      <td>0.023327</td>\n",
       "      <td>0.023662</td>\n",
       "    </tr>\n",
       "    <tr>\n",
       "      <th>1001</th>\n",
       "      <td>0.0</td>\n",
       "      <td>[(0, 0.010063674), (1, 0.010815426), (5, 0.010...</td>\n",
       "      <td>0.010064</td>\n",
       "      <td>0.010815</td>\n",
       "      <td>0.000000</td>\n",
       "      <td>0.000000</td>\n",
       "      <td>0.000000</td>\n",
       "      <td>0.010271</td>\n",
       "      <td>0.000000</td>\n",
       "      <td>0.000000</td>\n",
       "      <td>0.010208</td>\n",
       "      <td>0.910148</td>\n",
       "    </tr>\n",
       "    <tr>\n",
       "      <th>1101</th>\n",
       "      <td>0.0</td>\n",
       "      <td>[(0, 0.8984344), (1, 0.012186898), (2, 0.01112...</td>\n",
       "      <td>0.898434</td>\n",
       "      <td>0.012187</td>\n",
       "      <td>0.011123</td>\n",
       "      <td>0.011047</td>\n",
       "      <td>0.011010</td>\n",
       "      <td>0.011570</td>\n",
       "      <td>0.010884</td>\n",
       "      <td>0.010575</td>\n",
       "      <td>0.011503</td>\n",
       "      <td>0.011666</td>\n",
       "    </tr>\n",
       "    <tr>\n",
       "      <th>1201</th>\n",
       "      <td>0.0</td>\n",
       "      <td>[(0, 0.030949425), (1, 0.72508353), (2, 0.0303...</td>\n",
       "      <td>0.030949</td>\n",
       "      <td>0.725084</td>\n",
       "      <td>0.030362</td>\n",
       "      <td>0.030156</td>\n",
       "      <td>0.030056</td>\n",
       "      <td>0.031581</td>\n",
       "      <td>0.029708</td>\n",
       "      <td>0.028866</td>\n",
       "      <td>0.031398</td>\n",
       "      <td>0.031841</td>\n",
       "    </tr>\n",
       "    <tr>\n",
       "      <th>1301</th>\n",
       "      <td>0.0</td>\n",
       "      <td>[(0, 0.4337449), (5, 0.49445873)]</td>\n",
       "      <td>0.433745</td>\n",
       "      <td>0.000000</td>\n",
       "      <td>0.000000</td>\n",
       "      <td>0.000000</td>\n",
       "      <td>0.000000</td>\n",
       "      <td>0.494459</td>\n",
       "      <td>0.000000</td>\n",
       "      <td>0.000000</td>\n",
       "      <td>0.000000</td>\n",
       "      <td>0.000000</td>\n",
       "    </tr>\n",
       "  </tbody>\n",
       "</table>\n",
       "</div>"
      ],
      "text/plain": [
       "      name                                             topics   topic_0  \\\n",
       "1      0.0  [(0, 0.04731616), (1, 0.050846323), (2, 0.0464...  0.047316   \n",
       "101    0.0  [(0, 0.1004303), (1, 0.10792321), (2, 0.098524...  0.100430   \n",
       "201    0.0  [(0, 0.1004303), (1, 0.10792321), (2, 0.098524...  0.100430   \n",
       "301    0.0  [(0, 0.03094854), (1, 0.03325755), (2, 0.03036...  0.030949   \n",
       "401    0.0  [(0, 0.01298447), (1, 0.013953848), (2, 0.0127...  0.012984   \n",
       "501    0.0  [(0, 0.1004303), (1, 0.10792321), (2, 0.098524...  0.100430   \n",
       "601    0.0  [(0, 0.011338782), (1, 0.899283), (2, 0.011123...  0.011339   \n",
       "701    0.0  [(0, 0.1004303), (1, 0.10792321), (2, 0.098524...  0.100430   \n",
       "801    1.0  [(0, 0.012984675), (1, 0.0139540965), (2, 0.01...  0.012985   \n",
       "901    0.0  [(0, 0.7940179), (1, 0.024715096), (2, 0.02255...  0.794018   \n",
       "1001   0.0  [(0, 0.010063674), (1, 0.010815426), (5, 0.010...  0.010064   \n",
       "1101   0.0  [(0, 0.8984344), (1, 0.012186898), (2, 0.01112...  0.898434   \n",
       "1201   0.0  [(0, 0.030949425), (1, 0.72508353), (2, 0.0303...  0.030949   \n",
       "1301   0.0                  [(0, 0.4337449), (5, 0.49445873)]  0.433745   \n",
       "\n",
       "       topic_1   topic_2   topic_3   topic_4   topic_5   topic_6   topic_7  \\\n",
       "1     0.050846  0.046419  0.046099  0.045946  0.048282  0.574284  0.044132   \n",
       "101   0.107923  0.098525  0.097846  0.097522  0.102480  0.096406  0.093671   \n",
       "201   0.107923  0.098525  0.097846  0.097522  0.102480  0.096406  0.093671   \n",
       "301   0.033258  0.030361  0.030154  0.030053  0.031584  0.029711  0.028870   \n",
       "401   0.013954  0.012738  0.012650  0.012608  0.883964  0.012463  0.012110   \n",
       "501   0.107923  0.098525  0.097846  0.097522  0.102480  0.096406  0.093671   \n",
       "601   0.899283  0.011124  0.011047  0.011010  0.011571  0.010884  0.010575   \n",
       "701   0.107923  0.098525  0.097846  0.097522  0.102480  0.096406  0.093671   \n",
       "801   0.013954  0.012738  0.012651  0.012608  0.013250  0.883174  0.012110   \n",
       "901   0.024715  0.022559  0.022403  0.022330  0.023466  0.022074  0.021447   \n",
       "1001  0.010815  0.000000  0.000000  0.000000  0.010271  0.000000  0.000000   \n",
       "1101  0.012187  0.011123  0.011047  0.011010  0.011570  0.010884  0.010575   \n",
       "1201  0.725084  0.030362  0.030156  0.030056  0.031581  0.029708  0.028866   \n",
       "1301  0.000000  0.000000  0.000000  0.000000  0.494459  0.000000  0.000000   \n",
       "\n",
       "       topic_8   topic_9  \n",
       "1     0.047996  0.048679  \n",
       "101   0.101873  0.103324  \n",
       "201   0.101873  0.103324  \n",
       "301   0.723218  0.031843  \n",
       "401   0.013170  0.013358  \n",
       "501   0.101873  0.103324  \n",
       "601   0.011501  0.011666  \n",
       "701   0.101873  0.103324  \n",
       "801   0.013172  0.013358  \n",
       "901   0.023327  0.023662  \n",
       "1001  0.010208  0.910148  \n",
       "1101  0.011503  0.011666  \n",
       "1201  0.031398  0.031841  \n",
       "1301  0.000000  0.000000  "
      ]
     },
     "execution_count": 52,
     "metadata": {},
     "output_type": "execute_result"
    }
   ],
   "source": [
    "ldaDF = pandas.DataFrame({\n",
    "        'name' : electiontweetsDF['fake_news_category'],\n",
    "        'topics' : [tweetlda[dictionary.doc2bow(l)] for l in electiontweetsDF['reduced_tokens']]\n",
    "    })\n",
    "\n",
    "\n",
    "#Dict to temporally hold the probabilities\n",
    "topicsProbDict = {i : [0] * len(ldaDF) for i in range(tweetlda.num_topics)}\n",
    "\n",
    "#Load them into the dict\n",
    "for index, topicTuples in enumerate(ldaDF['topics']):\n",
    "    for topicNum, prob in topicTuples:\n",
    "        topicsProbDict[topicNum][index] = prob\n",
    "\n",
    "#Update the DataFrame\n",
    "for topicNum in range(tweetlda.num_topics):\n",
    "    ldaDF['topic_{}'.format(topicNum)] = topicsProbDict[topicNum]\n",
    "\n",
    "ldaDF[1::100]"
   ]
  },
  {
   "cell_type": "markdown",
   "metadata": {},
   "source": [
    "I'm suprised it showed so many topics, considering the fake news category was only 5 labels. Lrt's go check out what is in the labels."
   ]
  },
  {
   "cell_type": "code",
   "execution_count": 53,
   "metadata": {},
   "outputs": [
    {
     "data": {
      "text/html": [
       "<div>\n",
       "<style scoped>\n",
       "    .dataframe tbody tr th:only-of-type {\n",
       "        vertical-align: middle;\n",
       "    }\n",
       "\n",
       "    .dataframe tbody tr th {\n",
       "        vertical-align: top;\n",
       "    }\n",
       "\n",
       "    .dataframe thead th {\n",
       "        text-align: right;\n",
       "    }\n",
       "</style>\n",
       "<table border=\"1\" class=\"dataframe\">\n",
       "  <thead>\n",
       "    <tr style=\"text-align: right;\">\n",
       "      <th></th>\n",
       "      <th>topic_0</th>\n",
       "      <th>topic_1</th>\n",
       "      <th>topic_2</th>\n",
       "      <th>topic_3</th>\n",
       "      <th>topic_4</th>\n",
       "      <th>topic_5</th>\n",
       "      <th>topic_6</th>\n",
       "      <th>topic_7</th>\n",
       "      <th>topic_8</th>\n",
       "      <th>topic_9</th>\n",
       "    </tr>\n",
       "  </thead>\n",
       "  <tbody>\n",
       "    <tr>\n",
       "      <th>0</th>\n",
       "      <td>0.100430</td>\n",
       "      <td>0.107923</td>\n",
       "      <td>0.098525</td>\n",
       "      <td>0.097846</td>\n",
       "      <td>0.097522</td>\n",
       "      <td>0.102480</td>\n",
       "      <td>0.096406</td>\n",
       "      <td>0.093671</td>\n",
       "      <td>0.101873</td>\n",
       "      <td>0.103324</td>\n",
       "    </tr>\n",
       "    <tr>\n",
       "      <th>1</th>\n",
       "      <td>0.047316</td>\n",
       "      <td>0.050846</td>\n",
       "      <td>0.046419</td>\n",
       "      <td>0.046099</td>\n",
       "      <td>0.045946</td>\n",
       "      <td>0.048282</td>\n",
       "      <td>0.574284</td>\n",
       "      <td>0.044132</td>\n",
       "      <td>0.047996</td>\n",
       "      <td>0.048679</td>\n",
       "    </tr>\n",
       "    <tr>\n",
       "      <th>2</th>\n",
       "      <td>0.047317</td>\n",
       "      <td>0.050847</td>\n",
       "      <td>0.046418</td>\n",
       "      <td>0.046099</td>\n",
       "      <td>0.045946</td>\n",
       "      <td>0.048285</td>\n",
       "      <td>0.045422</td>\n",
       "      <td>0.044132</td>\n",
       "      <td>0.047997</td>\n",
       "      <td>0.577537</td>\n",
       "    </tr>\n",
       "    <tr>\n",
       "      <th>3</th>\n",
       "      <td>0.030949</td>\n",
       "      <td>0.033265</td>\n",
       "      <td>0.376272</td>\n",
       "      <td>0.376064</td>\n",
       "      <td>0.030054</td>\n",
       "      <td>0.031582</td>\n",
       "      <td>0.029711</td>\n",
       "      <td>0.028866</td>\n",
       "      <td>0.031393</td>\n",
       "      <td>0.031843</td>\n",
       "    </tr>\n",
       "    <tr>\n",
       "      <th>4</th>\n",
       "      <td>0.030953</td>\n",
       "      <td>0.033258</td>\n",
       "      <td>0.030363</td>\n",
       "      <td>0.030153</td>\n",
       "      <td>0.030052</td>\n",
       "      <td>0.031580</td>\n",
       "      <td>0.721540</td>\n",
       "      <td>0.028866</td>\n",
       "      <td>0.031394</td>\n",
       "      <td>0.031841</td>\n",
       "    </tr>\n",
       "    <tr>\n",
       "      <th>5</th>\n",
       "      <td>0.047316</td>\n",
       "      <td>0.050846</td>\n",
       "      <td>0.046419</td>\n",
       "      <td>0.046099</td>\n",
       "      <td>0.045946</td>\n",
       "      <td>0.048282</td>\n",
       "      <td>0.574284</td>\n",
       "      <td>0.044132</td>\n",
       "      <td>0.047996</td>\n",
       "      <td>0.048679</td>\n",
       "    </tr>\n",
       "    <tr>\n",
       "      <th>6</th>\n",
       "      <td>0.012984</td>\n",
       "      <td>0.013954</td>\n",
       "      <td>0.012738</td>\n",
       "      <td>0.012650</td>\n",
       "      <td>0.012608</td>\n",
       "      <td>0.013250</td>\n",
       "      <td>0.012463</td>\n",
       "      <td>0.012110</td>\n",
       "      <td>0.883885</td>\n",
       "      <td>0.013358</td>\n",
       "    </tr>\n",
       "    <tr>\n",
       "      <th>7</th>\n",
       "      <td>0.000000</td>\n",
       "      <td>0.000000</td>\n",
       "      <td>0.000000</td>\n",
       "      <td>0.000000</td>\n",
       "      <td>0.000000</td>\n",
       "      <td>0.000000</td>\n",
       "      <td>0.000000</td>\n",
       "      <td>0.000000</td>\n",
       "      <td>0.919101</td>\n",
       "      <td>0.000000</td>\n",
       "    </tr>\n",
       "    <tr>\n",
       "      <th>8</th>\n",
       "      <td>0.030950</td>\n",
       "      <td>0.033260</td>\n",
       "      <td>0.030363</td>\n",
       "      <td>0.030152</td>\n",
       "      <td>0.030054</td>\n",
       "      <td>0.031584</td>\n",
       "      <td>0.029708</td>\n",
       "      <td>0.028866</td>\n",
       "      <td>0.031398</td>\n",
       "      <td>0.723666</td>\n",
       "    </tr>\n",
       "    <tr>\n",
       "      <th>9</th>\n",
       "      <td>0.030949</td>\n",
       "      <td>0.033259</td>\n",
       "      <td>0.030363</td>\n",
       "      <td>0.030153</td>\n",
       "      <td>0.030056</td>\n",
       "      <td>0.031583</td>\n",
       "      <td>0.029711</td>\n",
       "      <td>0.028866</td>\n",
       "      <td>0.031395</td>\n",
       "      <td>0.723665</td>\n",
       "    </tr>\n",
       "  </tbody>\n",
       "</table>\n",
       "</div>"
      ],
      "text/plain": [
       "    topic_0   topic_1   topic_2   topic_3   topic_4   topic_5   topic_6  \\\n",
       "0  0.100430  0.107923  0.098525  0.097846  0.097522  0.102480  0.096406   \n",
       "1  0.047316  0.050846  0.046419  0.046099  0.045946  0.048282  0.574284   \n",
       "2  0.047317  0.050847  0.046418  0.046099  0.045946  0.048285  0.045422   \n",
       "3  0.030949  0.033265  0.376272  0.376064  0.030054  0.031582  0.029711   \n",
       "4  0.030953  0.033258  0.030363  0.030153  0.030052  0.031580  0.721540   \n",
       "5  0.047316  0.050846  0.046419  0.046099  0.045946  0.048282  0.574284   \n",
       "6  0.012984  0.013954  0.012738  0.012650  0.012608  0.013250  0.012463   \n",
       "7  0.000000  0.000000  0.000000  0.000000  0.000000  0.000000  0.000000   \n",
       "8  0.030950  0.033260  0.030363  0.030152  0.030054  0.031584  0.029708   \n",
       "9  0.030949  0.033259  0.030363  0.030153  0.030056  0.031583  0.029711   \n",
       "\n",
       "    topic_7   topic_8   topic_9  \n",
       "0  0.093671  0.101873  0.103324  \n",
       "1  0.044132  0.047996  0.048679  \n",
       "2  0.044132  0.047997  0.577537  \n",
       "3  0.028866  0.031393  0.031843  \n",
       "4  0.028866  0.031394  0.031841  \n",
       "5  0.044132  0.047996  0.048679  \n",
       "6  0.012110  0.883885  0.013358  \n",
       "7  0.000000  0.919101  0.000000  \n",
       "8  0.028866  0.031398  0.723666  \n",
       "9  0.028866  0.031395  0.723665  "
      ]
     },
     "execution_count": 53,
     "metadata": {},
     "output_type": "execute_result"
    }
   ],
   "source": [
    "ldaDFV = ldaDF[:10][['topic_%d' %x for x in range(10)]]\n",
    "ldaDFVisN = ldaDF[:10][['name']]\n",
    "ldaDFVis = ldaDFV.as_matrix(columns=None)\n",
    "ldaDFVisNames = ldaDFVisN.as_matrix(columns=None)\n",
    "ldaDFV"
   ]
  },
  {
   "cell_type": "code",
   "execution_count": 54,
   "metadata": {},
   "outputs": [
    {
     "data": {
      "image/png": "[encoded data removed]",
      "text/plain": [
       "<Figure size 432x288 with 1 Axes>"
      ]
     },
     "metadata": {
      "needs_background": "light"
     },
     "output_type": "display_data"
    }
   ],
   "source": [
    "# Stacked bar chart of topics\n",
    "\n",
    "N = 10\n",
    "ind = np.arange(N)\n",
    "K = tweetlda.num_topics  # N documents, K topics\n",
    "ind = np.arange(N)  # the x-axis locations for the novels\n",
    "width = 0.5  # the width of the bars\n",
    "plots = []\n",
    "height_cumulative = np.zeros(N)\n",
    "\n",
    "for k in range(K):\n",
    "    color = plt.cm.coolwarm(k/K, 1)\n",
    "    if k == 0:\n",
    "        p = plt.bar(ind, ldaDFVis[:, k], width, color=color)\n",
    "    else:\n",
    "        p = plt.bar(ind, ldaDFVis[:, k], width, bottom=height_cumulative, color=color)\n",
    "    height_cumulative += ldaDFVis[:, k]\n",
    "    plots.append(p)\n",
    "    \n",
    "\n",
    "plt.ylim((0, 1))  # proportions sum to 1, so the height of the stacked bars is 1\n",
    "plt.ylabel('Topics')\n",
    "\n",
    "plt.title('Topics in Election Day Tweets')\n",
    "plt.xticks(ind+width/2, ldaDFVisNames, rotation='vertical')\n",
    "\n",
    "plt.yticks(np.arange(0, 1, 10))\n",
    "topic_labels = ['Topic #{}'.format(k) for k in range(K)]\n",
    "plt.legend([p[0] for p in plots], topic_labels, loc='center left', frameon=True,  bbox_to_anchor = (1, .5))\n",
    "\n",
    "plt.show()"
   ]
  },
  {
   "cell_type": "markdown",
   "metadata": {},
   "source": [
    "Clearly there are some documents that are mix of topics versus others. Document one, which in this case is a tweet, is an even probability distribution of all ten topics. For document 7, it looks to be very strongly just topc 1."
   ]
  },
  {
   "cell_type": "code",
   "execution_count": 55,
   "metadata": {},
   "outputs": [
    {
     "data": {
      "image/png": "[encoded data removed]",
      "text/plain": [
       "<Figure size 432x288 with 2 Axes>"
      ]
     },
     "metadata": {
      "needs_background": "light"
     },
     "output_type": "display_data"
    }
   ],
   "source": [
    "# Heat map\n",
    "plt.pcolor(ldaDFVis, norm=None, cmap='Blues')\n",
    "plt.yticks(np.arange(ldaDFVis.shape[0])+0.5, ldaDFVisNames);\n",
    "plt.xticks(np.arange(ldaDFVis.shape[1])+0.5, topic_labels);\n",
    "\n",
    "# flip the y-axis so the texts are in the order we anticipate (Austen first, then Brontë)\n",
    "plt.gca().invert_yaxis()\n",
    "\n",
    "# rotate the ticks on the x-axis\n",
    "plt.xticks(rotation=90)\n",
    "\n",
    "# add a legend\n",
    "plt.colorbar(cmap='Blues')\n",
    "plt.tight_layout()  # fixes margins\n",
    "plt.show()"
   ]
  },
  {
   "cell_type": "markdown",
   "metadata": {},
   "source": [
    "For every topic, it shows how strongly it identifies as one of the topics. But it would be helpful to see what the main topics are. So let's look at the terms with the highest LDA weight in topic `1`:"
   ]
  },
  {
   "cell_type": "code",
   "execution_count": 56,
   "metadata": {},
   "outputs": [
    {
     "data": {
      "text/plain": [
       "[('vote', 0.12240492),\n",
       " ('electionday', 0.05050168),\n",
       " ('amp', 0.032120503),\n",
       " ('trump', 0.03166295),\n",
       " ('america', 0.02810236),\n",
       " ('hillary', 0.018524624),\n",
       " ('today', 0.013737684),\n",
       " ('poll', 0.012938607),\n",
       " ('day', 0.012928432),\n",
       " ('need', 0.009995619)]"
      ]
     },
     "execution_count": 56,
     "metadata": {},
     "output_type": "execute_result"
    }
   ],
   "source": [
    "#topic 1\n",
    "\n",
    "tweetlda.show_topic(1)"
   ]
  },
  {
   "cell_type": "code",
   "execution_count": 63,
   "metadata": {},
   "outputs": [
    {
     "data": {
      "text/plain": [
       "[('maga', 0.028761834),\n",
       " ('people', 0.021187501),\n",
       " ('america', 0.01985796),\n",
       " ('imwithher', 0.019826977),\n",
       " ('poll', 0.01811643),\n",
       " ('want', 0.01633014),\n",
       " ('great', 0.01630817),\n",
       " ('amp', 0.014578722),\n",
       " ('electionday', 0.012815964),\n",
       " ('like', 0.012773988)]"
      ]
     },
     "execution_count": 63,
     "metadata": {},
     "output_type": "execute_result"
    }
   ],
   "source": [
    "# topc 4\n",
    "tweetlda.show_topic(4)"
   ]
  },
  {
   "cell_type": "markdown",
   "metadata": {},
   "source": [
    "\n",
    "To be honest, these two topics look very similar. The only semantic difference I might venture to guess is different between the two is that the first has the salient feature of \"I'm with here\" which was the Clinton slogan. The sixth topc looks focus on the presidential race itself with terms like \"candidate\" and \"win\". The differences are hard to detect at this level, so it would be helpful to compare across topics and to identify what the delta is between the topics."
   ]
  },
  {
   "cell_type": "code",
   "execution_count": 73,
   "metadata": {},
   "outputs": [
    {
     "data": {
      "text/html": [
       "<div>\n",
       "<style scoped>\n",
       "    .dataframe tbody tr th:only-of-type {\n",
       "        vertical-align: middle;\n",
       "    }\n",
       "\n",
       "    .dataframe tbody tr th {\n",
       "        vertical-align: top;\n",
       "    }\n",
       "\n",
       "    .dataframe thead th {\n",
       "        text-align: right;\n",
       "    }\n",
       "</style>\n",
       "<table border=\"1\" class=\"dataframe\">\n",
       "  <thead>\n",
       "    <tr style=\"text-align: right;\">\n",
       "      <th></th>\n",
       "      <th>Topic_0</th>\n",
       "      <th>Topic_1</th>\n",
       "      <th>Topic_2</th>\n",
       "      <th>Topic_3</th>\n",
       "      <th>Topic_4</th>\n",
       "      <th>Topic_5</th>\n",
       "      <th>Topic_6</th>\n",
       "      <th>Topic_7</th>\n",
       "      <th>Topic_8</th>\n",
       "      <th>Topic_9</th>\n",
       "    </tr>\n",
       "  </thead>\n",
       "  <tbody>\n",
       "    <tr>\n",
       "      <th>0</th>\n",
       "      <td>vote</td>\n",
       "      <td>vote</td>\n",
       "      <td>want</td>\n",
       "      <td>electionday</td>\n",
       "      <td>vote</td>\n",
       "      <td>vote</td>\n",
       "      <td>vote</td>\n",
       "      <td>electionday</td>\n",
       "      <td>amp</td>\n",
       "      <td>trump</td>\n",
       "    </tr>\n",
       "    <tr>\n",
       "      <th>1</th>\n",
       "      <td>electionday</td>\n",
       "      <td>electionday</td>\n",
       "      <td>electionday</td>\n",
       "      <td>vote</td>\n",
       "      <td>electionday</td>\n",
       "      <td>electionday</td>\n",
       "      <td>electionday</td>\n",
       "      <td>trump</td>\n",
       "      <td>vote</td>\n",
       "      <td>vote</td>\n",
       "    </tr>\n",
       "    <tr>\n",
       "      <th>2</th>\n",
       "      <td>know</td>\n",
       "      <td>day</td>\n",
       "      <td>amp</td>\n",
       "      <td>trump</td>\n",
       "      <td>trump</td>\n",
       "      <td>trump</td>\n",
       "      <td>trump</td>\n",
       "      <td>america</td>\n",
       "      <td>electionday</td>\n",
       "      <td>clinton</td>\n",
       "    </tr>\n",
       "    <tr>\n",
       "      <th>3</th>\n",
       "      <td>people</td>\n",
       "      <td>imwithher</td>\n",
       "      <td>american</td>\n",
       "      <td>poll</td>\n",
       "      <td>hillary</td>\n",
       "      <td>maga</td>\n",
       "      <td>president</td>\n",
       "      <td>vote</td>\n",
       "      <td>trump</td>\n",
       "      <td>electionday</td>\n",
       "    </tr>\n",
       "    <tr>\n",
       "      <th>4</th>\n",
       "      <td>today</td>\n",
       "      <td>let</td>\n",
       "      <td>hillary</td>\n",
       "      <td>maga</td>\n",
       "      <td>maga</td>\n",
       "      <td>amp</td>\n",
       "      <td>win</td>\n",
       "      <td>big</td>\n",
       "      <td>like</td>\n",
       "      <td>hillary</td>\n",
       "    </tr>\n",
       "    <tr>\n",
       "      <th>5</th>\n",
       "      <td>amp</td>\n",
       "      <td>amp</td>\n",
       "      <td>support</td>\n",
       "      <td>amp</td>\n",
       "      <td>today</td>\n",
       "      <td>poll</td>\n",
       "      <td>think</td>\n",
       "      <td>hillary</td>\n",
       "      <td>voter</td>\n",
       "      <td>myvote2016</td>\n",
       "    </tr>\n",
       "    <tr>\n",
       "      <th>6</th>\n",
       "      <td>hillary</td>\n",
       "      <td>president</td>\n",
       "      <td>americans</td>\n",
       "      <td>donald</td>\n",
       "      <td>rally</td>\n",
       "      <td>watch</td>\n",
       "      <td>candidate</td>\n",
       "      <td>country</td>\n",
       "      <td>email</td>\n",
       "      <td>president</td>\n",
       "    </tr>\n",
       "    <tr>\n",
       "      <th>7</th>\n",
       "      <td>woman</td>\n",
       "      <td>rt</td>\n",
       "      <td>time</td>\n",
       "      <td>day</td>\n",
       "      <td>america</td>\n",
       "      <td>today</td>\n",
       "      <td>hillary</td>\n",
       "      <td>right</td>\n",
       "      <td>america</td>\n",
       "      <td>election</td>\n",
       "    </tr>\n",
       "    <tr>\n",
       "      <th>8</th>\n",
       "      <td>makeamericagreatagain</td>\n",
       "      <td>election</td>\n",
       "      <td>ask</td>\n",
       "      <td>support</td>\n",
       "      <td>clinton</td>\n",
       "      <td>people</td>\n",
       "      <td>ready</td>\n",
       "      <td>maga</td>\n",
       "      <td>poll</td>\n",
       "      <td>rt</td>\n",
       "    </tr>\n",
       "    <tr>\n",
       "      <th>9</th>\n",
       "      <td>trump</td>\n",
       "      <td>america</td>\n",
       "      <td>america</td>\n",
       "      <td>america</td>\n",
       "      <td>poll</td>\n",
       "      <td>donald</td>\n",
       "      <td>america</td>\n",
       "      <td>need</td>\n",
       "      <td>president</td>\n",
       "      <td>people</td>\n",
       "    </tr>\n",
       "  </tbody>\n",
       "</table>\n",
       "</div>"
      ],
      "text/plain": [
       "                 Topic_0      Topic_1      Topic_2      Topic_3      Topic_4  \\\n",
       "0                   vote         vote         want  electionday         vote   \n",
       "1            electionday  electionday  electionday         vote  electionday   \n",
       "2                   know          day          amp        trump        trump   \n",
       "3                 people    imwithher     american         poll      hillary   \n",
       "4                  today          let      hillary         maga         maga   \n",
       "5                    amp          amp      support          amp        today   \n",
       "6                hillary    president    americans       donald        rally   \n",
       "7                  woman           rt         time          day      america   \n",
       "8  makeamericagreatagain     election          ask      support      clinton   \n",
       "9                  trump      america      america      america         poll   \n",
       "\n",
       "       Topic_5      Topic_6      Topic_7      Topic_8      Topic_9  \n",
       "0         vote         vote  electionday          amp        trump  \n",
       "1  electionday  electionday        trump         vote         vote  \n",
       "2        trump        trump      america  electionday      clinton  \n",
       "3         maga    president         vote        trump  electionday  \n",
       "4          amp          win          big         like      hillary  \n",
       "5         poll        think      hillary        voter   myvote2016  \n",
       "6        watch    candidate      country        email    president  \n",
       "7        today      hillary        right      america     election  \n",
       "8       people        ready         maga         poll           rt  \n",
       "9       donald      america         need    president       people  "
      ]
     },
     "execution_count": 73,
     "metadata": {},
     "output_type": "execute_result"
    }
   ],
   "source": [
    "# let's inspect what words are being for topics!\n",
    "\n",
    "# a dictionary for the topics and their word\n",
    "\n",
    "topicsDict = {}\n",
    "for topicNum in range(tweetlda.num_topics):\n",
    "    topicWords = [w for w, p in tweetlda.show_topic(topicNum)]\n",
    "    topicsDict['Topic_{}'.format(topicNum)] = topicWords\n",
    "\n",
    "wordRanksDF = pandas.DataFrame(topicsDict)\n",
    "wordRanksDF"
   ]
  },
  {
   "cell_type": "markdown",
   "metadata": {},
   "source": [
    "𝛼 and 𝜂 parameters of the model. 𝛼 controls the sparsity of document-topic loadings, and 𝜂\n",
    "\n",
    "controls the sparsity of topic-word loadings."
   ]
  },
  {
   "cell_type": "code",
   "execution_count": 74,
   "metadata": {},
   "outputs": [
    {
     "data": {
      "text/plain": [
       "<Figure size 432x288 with 0 Axes>"
      ]
     },
     "metadata": {},
     "output_type": "display_data"
    },
    {
     "data": {
      "image/png": "[encoded data removed]",
      "text/plain": [
       "<Figure size 432x288 with 1 Axes>"
      ]
     },
     "metadata": {
      "needs_background": "light"
     },
     "output_type": "display_data"
    }
   ],
   "source": [
    "# Topic distribution comparisons\n",
    "topic1_df = pandas.DataFrame(tweetlda.show_topic(1, topn=50))\n",
    "plt.figure()\n",
    "topic1_df.plot.bar(legend = False)\n",
    "plt.title('Probability Distribution of Words, Topic 1')\n",
    "plt.show()\n"
   ]
  },
  {
   "cell_type": "code",
   "execution_count": 76,
   "metadata": {},
   "outputs": [],
   "source": [
    "#See how different 𝜂 values can change the shape of the distribution."
   ]
  },
  {
   "cell_type": "code",
   "execution_count": 79,
   "metadata": {},
   "outputs": [],
   "source": [
    "tweetlda1 = gensim.models.ldamodel.LdaModel(corpus=tweetmm, id2word=dictionary, num_topics=10, eta = 0.00001)\n",
    "tweetlda2 = gensim.models.ldamodel.LdaModel(corpus=tweetmm, id2word=dictionary, num_topics=10, eta = 0.9)"
   ]
  },
  {
   "cell_type": "code",
   "execution_count": 81,
   "metadata": {},
   "outputs": [
    {
     "data": {
      "image/png": "[encoded data removed]",
      "text/plain": [
       "<Figure size 1296x504 with 2 Axes>"
      ]
     },
     "metadata": {
      "needs_background": "light"
     },
     "output_type": "display_data"
    }
   ],
   "source": [
    "topic1_1_df = pandas.DataFrame(tweetlda1.show_topic(1, topn=50)) # renamed to show that it's different topic ones\n",
    "topic2_1_df = pandas.DataFrame(tweetlda2.show_topic(1, topn=50))\n",
    "\n",
    "fig, (ax1, ax2) = plt.subplots(1, 2)\n",
    "fig.set_size_inches(18, 7)\n",
    "topic1_1_df.plot.bar(legend = False, ax = ax1, title = '$\\eta$  = 0.00001')\n",
    "topic2_1_df.plot.bar(legend = False, ax = ax2, title = '$\\eta$  = 0.9')\n",
    "plt.show()"
   ]
  },
  {
   "cell_type": "markdown",
   "metadata": {},
   "source": [
    "I wish the axis were normalized for both graphs but the differences between words across the topic is lower with a higher 𝜂 , sparsity of word-topi loadings."
   ]
  },
  {
   "cell_type": "markdown",
   "metadata": {},
   "source": [
    "Topic one with the lower sparsity is more focused on the Hillary Clinton's campaign."
   ]
  },
  {
   "cell_type": "code",
   "execution_count": 87,
   "metadata": {},
   "outputs": [
    {
     "data": {
      "text/html": [
       "<div>\n",
       "<style scoped>\n",
       "    .dataframe tbody tr th:only-of-type {\n",
       "        vertical-align: middle;\n",
       "    }\n",
       "\n",
       "    .dataframe tbody tr th {\n",
       "        vertical-align: top;\n",
       "    }\n",
       "\n",
       "    .dataframe thead th {\n",
       "        text-align: right;\n",
       "    }\n",
       "</style>\n",
       "<table border=\"1\" class=\"dataframe\">\n",
       "  <thead>\n",
       "    <tr style=\"text-align: right;\">\n",
       "      <th></th>\n",
       "      <th>0</th>\n",
       "      <th>1</th>\n",
       "    </tr>\n",
       "  </thead>\n",
       "  <tbody>\n",
       "    <tr>\n",
       "      <th>0</th>\n",
       "      <td>vote</td>\n",
       "      <td>0.058801</td>\n",
       "    </tr>\n",
       "    <tr>\n",
       "      <th>1</th>\n",
       "      <td>trump</td>\n",
       "      <td>0.042663</td>\n",
       "    </tr>\n",
       "    <tr>\n",
       "      <th>2</th>\n",
       "      <td>electionday</td>\n",
       "      <td>0.040133</td>\n",
       "    </tr>\n",
       "    <tr>\n",
       "      <th>3</th>\n",
       "      <td>break</td>\n",
       "      <td>0.025398</td>\n",
       "    </tr>\n",
       "    <tr>\n",
       "      <th>4</th>\n",
       "      <td>campaign</td>\n",
       "      <td>0.014501</td>\n",
       "    </tr>\n",
       "    <tr>\n",
       "      <th>5</th>\n",
       "      <td>people</td>\n",
       "      <td>0.014109</td>\n",
       "    </tr>\n",
       "    <tr>\n",
       "      <th>6</th>\n",
       "      <td>voter</td>\n",
       "      <td>0.013219</td>\n",
       "    </tr>\n",
       "    <tr>\n",
       "      <th>7</th>\n",
       "      <td>amp</td>\n",
       "      <td>0.012890</td>\n",
       "    </tr>\n",
       "    <tr>\n",
       "      <th>8</th>\n",
       "      <td>poll</td>\n",
       "      <td>0.012100</td>\n",
       "    </tr>\n",
       "    <tr>\n",
       "      <th>9</th>\n",
       "      <td>imwithher</td>\n",
       "      <td>0.011278</td>\n",
       "    </tr>\n",
       "    <tr>\n",
       "      <th>10</th>\n",
       "      <td>tomorrow</td>\n",
       "      <td>0.011278</td>\n",
       "    </tr>\n",
       "    <tr>\n",
       "      <th>11</th>\n",
       "      <td>time</td>\n",
       "      <td>0.009667</td>\n",
       "    </tr>\n",
       "    <tr>\n",
       "      <th>12</th>\n",
       "      <td>election</td>\n",
       "      <td>0.009667</td>\n",
       "    </tr>\n",
       "    <tr>\n",
       "      <th>13</th>\n",
       "      <td>know</td>\n",
       "      <td>0.009667</td>\n",
       "    </tr>\n",
       "    <tr>\n",
       "      <th>14</th>\n",
       "      <td>fuck</td>\n",
       "      <td>0.009666</td>\n",
       "    </tr>\n",
       "    <tr>\n",
       "      <th>15</th>\n",
       "      <td>want</td>\n",
       "      <td>0.009049</td>\n",
       "    </tr>\n",
       "    <tr>\n",
       "      <th>16</th>\n",
       "      <td>woman</td>\n",
       "      <td>0.008056</td>\n",
       "    </tr>\n",
       "    <tr>\n",
       "      <th>17</th>\n",
       "      <td>hillary</td>\n",
       "      <td>0.008056</td>\n",
       "    </tr>\n",
       "    <tr>\n",
       "      <th>18</th>\n",
       "      <td>today</td>\n",
       "      <td>0.008056</td>\n",
       "    </tr>\n",
       "    <tr>\n",
       "      <th>19</th>\n",
       "      <td>way</td>\n",
       "      <td>0.008055</td>\n",
       "    </tr>\n",
       "  </tbody>\n",
       "</table>\n",
       "</div>"
      ],
      "text/plain": [
       "              0         1\n",
       "0          vote  0.058801\n",
       "1         trump  0.042663\n",
       "2   electionday  0.040133\n",
       "3         break  0.025398\n",
       "4      campaign  0.014501\n",
       "5        people  0.014109\n",
       "6         voter  0.013219\n",
       "7           amp  0.012890\n",
       "8          poll  0.012100\n",
       "9     imwithher  0.011278\n",
       "10     tomorrow  0.011278\n",
       "11         time  0.009667\n",
       "12     election  0.009667\n",
       "13         know  0.009667\n",
       "14         fuck  0.009666\n",
       "15         want  0.009049\n",
       "16        woman  0.008056\n",
       "17      hillary  0.008056\n",
       "18        today  0.008056\n",
       "19          way  0.008055"
      ]
     },
     "execution_count": 87,
     "metadata": {},
     "output_type": "execute_result"
    }
   ],
   "source": [
    "topic1_1_df[:20]"
   ]
  },
  {
   "cell_type": "markdown",
   "metadata": {},
   "source": [
    "Topic one with the higher sparsity (.09) is more focused on words used in the Trump campaign such as border and MAGA. So even though the words have similarity, we do see document divergence with the tunning of n."
   ]
  },
  {
   "cell_type": "code",
   "execution_count": 88,
   "metadata": {},
   "outputs": [
    {
     "data": {
      "text/html": [
       "<div>\n",
       "<style scoped>\n",
       "    .dataframe tbody tr th:only-of-type {\n",
       "        vertical-align: middle;\n",
       "    }\n",
       "\n",
       "    .dataframe tbody tr th {\n",
       "        vertical-align: top;\n",
       "    }\n",
       "\n",
       "    .dataframe thead th {\n",
       "        text-align: right;\n",
       "    }\n",
       "</style>\n",
       "<table border=\"1\" class=\"dataframe\">\n",
       "  <thead>\n",
       "    <tr style=\"text-align: right;\">\n",
       "      <th></th>\n",
       "      <th>0</th>\n",
       "      <th>1</th>\n",
       "    </tr>\n",
       "  </thead>\n",
       "  <tbody>\n",
       "    <tr>\n",
       "      <th>0</th>\n",
       "      <td>trump</td>\n",
       "      <td>0.016343</td>\n",
       "    </tr>\n",
       "    <tr>\n",
       "      <th>1</th>\n",
       "      <td>want</td>\n",
       "      <td>0.013991</td>\n",
       "    </tr>\n",
       "    <tr>\n",
       "      <th>2</th>\n",
       "      <td>electionday</td>\n",
       "      <td>0.011642</td>\n",
       "    </tr>\n",
       "    <tr>\n",
       "      <th>3</th>\n",
       "      <td>maga</td>\n",
       "      <td>0.009289</td>\n",
       "    </tr>\n",
       "    <tr>\n",
       "      <th>4</th>\n",
       "      <td>america</td>\n",
       "      <td>0.008113</td>\n",
       "    </tr>\n",
       "    <tr>\n",
       "      <th>5</th>\n",
       "      <td>today</td>\n",
       "      <td>0.008113</td>\n",
       "    </tr>\n",
       "    <tr>\n",
       "      <th>6</th>\n",
       "      <td>american</td>\n",
       "      <td>0.006937</td>\n",
       "    </tr>\n",
       "    <tr>\n",
       "      <th>7</th>\n",
       "      <td>movement</td>\n",
       "      <td>0.006937</td>\n",
       "    </tr>\n",
       "    <tr>\n",
       "      <th>8</th>\n",
       "      <td>hillary</td>\n",
       "      <td>0.005761</td>\n",
       "    </tr>\n",
       "    <tr>\n",
       "      <th>9</th>\n",
       "      <td>support</td>\n",
       "      <td>0.005761</td>\n",
       "    </tr>\n",
       "    <tr>\n",
       "      <th>10</th>\n",
       "      <td>say</td>\n",
       "      <td>0.005761</td>\n",
       "    </tr>\n",
       "    <tr>\n",
       "      <th>11</th>\n",
       "      <td>nevada</td>\n",
       "      <td>0.005761</td>\n",
       "    </tr>\n",
       "    <tr>\n",
       "      <th>12</th>\n",
       "      <td>border</td>\n",
       "      <td>0.005761</td>\n",
       "    </tr>\n",
       "    <tr>\n",
       "      <th>13</th>\n",
       "      <td>nation</td>\n",
       "      <td>0.005761</td>\n",
       "    </tr>\n",
       "    <tr>\n",
       "      <th>14</th>\n",
       "      <td>bring</td>\n",
       "      <td>0.005761</td>\n",
       "    </tr>\n",
       "    <tr>\n",
       "      <th>15</th>\n",
       "      <td>vote</td>\n",
       "      <td>0.004587</td>\n",
       "    </tr>\n",
       "    <tr>\n",
       "      <th>16</th>\n",
       "      <td>trump2016</td>\n",
       "      <td>0.004585</td>\n",
       "    </tr>\n",
       "    <tr>\n",
       "      <th>17</th>\n",
       "      <td>state</td>\n",
       "      <td>0.004585</td>\n",
       "    </tr>\n",
       "    <tr>\n",
       "      <th>18</th>\n",
       "      <td>stop</td>\n",
       "      <td>0.004585</td>\n",
       "    </tr>\n",
       "    <tr>\n",
       "      <th>19</th>\n",
       "      <td>elect</td>\n",
       "      <td>0.004585</td>\n",
       "    </tr>\n",
       "  </tbody>\n",
       "</table>\n",
       "</div>"
      ],
      "text/plain": [
       "              0         1\n",
       "0         trump  0.016343\n",
       "1          want  0.013991\n",
       "2   electionday  0.011642\n",
       "3          maga  0.009289\n",
       "4       america  0.008113\n",
       "5         today  0.008113\n",
       "6      american  0.006937\n",
       "7      movement  0.006937\n",
       "8       hillary  0.005761\n",
       "9       support  0.005761\n",
       "10          say  0.005761\n",
       "11       nevada  0.005761\n",
       "12       border  0.005761\n",
       "13       nation  0.005761\n",
       "14        bring  0.005761\n",
       "15         vote  0.004587\n",
       "16    trump2016  0.004585\n",
       "17        state  0.004585\n",
       "18         stop  0.004585\n",
       "19        elect  0.004585"
      ]
     },
     "execution_count": 88,
     "metadata": {},
     "output_type": "execute_result"
    }
   ],
   "source": [
    "topic2_1_df[:20]"
   ]
  },
  {
   "cell_type": "code",
   "execution_count": null,
   "metadata": {},
   "outputs": [],
   "source": []
  },
  {
   "cell_type": "markdown",
   "metadata": {},
   "source": [
    "## <span style=\"color:red\">*Exercise 4*</span>\n",
    "\n",
    "<span style=\"color:red\">Construct cells immediately below this that use topic models and networks, or dynamic topic models on datasets relevant to your final project. You can also extend the analysis of the COHA or Soap datasets, if relevant to the comparison of data for your projects. (You could possibly use coha_genres dictionary to conduct analysis on topic evolution for a particular genre? What themes do you see evolving throughout these corpora?). What can you see from the analysis? I encourage you to explore the tutorial and see what else you can do with this dataset. "
   ]
  },
  {
   "cell_type": "markdown",
   "metadata": {},
   "source": [
    "So far in this notebook, I've been working with a dataset that is a collection of tweets that look at fake news. In my last notebook, I used the same dataset to make a co-mentions network. I am very interested in dynamic topic modelling and since the tweet dataset spans a few years, it may be interesting to see how topics change over the years."
   ]
  },
  {
   "cell_type": "markdown",
   "metadata": {},
   "source": [
    "# Network topic modelling"
   ]
  },
  {
   "cell_type": "code",
   "execution_count": null,
   "metadata": {},
   "outputs": [],
   "source": []
  },
  {
   "cell_type": "markdown",
   "metadata": {},
   "source": [
    "### Dynamic Topic Modelling"
   ]
  },
  {
   "cell_type": "code",
   "execution_count": 21,
   "metadata": {},
   "outputs": [],
   "source": [
    "electiontweetsDF['time'] = election_tweets['created_at']\n"
   ]
  },
  {
   "cell_type": "code",
   "execution_count": 22,
   "metadata": {},
   "outputs": [
    {
     "data": {
      "text/plain": [
       "0    Thu Nov 01 15:57:18 +0000 2012\n",
       "1    Tue Nov 06 19:17:02 +0000 2012\n",
       "2    Tue Nov 06 19:17:35 +0000 2012\n",
       "Name: time, dtype: object"
      ]
     },
     "execution_count": 22,
     "metadata": {},
     "output_type": "execute_result"
    }
   ],
   "source": [
    "electiontweetsDF['time'][:3]"
   ]
  },
  {
   "cell_type": "code",
   "execution_count": 23,
   "metadata": {},
   "outputs": [],
   "source": [
    "x = []\n",
    "for date in electiontweetsDF['time']:\n",
    "    x.append(date.split(' '))\n",
    "\n",
    "electiontweetsDF['date'] = x"
   ]
  },
  {
   "cell_type": "code",
   "execution_count": 89,
   "metadata": {},
   "outputs": [
    {
     "data": {
      "text/html": [
       "<div>\n",
       "<style scoped>\n",
       "    .dataframe tbody tr th:only-of-type {\n",
       "        vertical-align: middle;\n",
       "    }\n",
       "\n",
       "    .dataframe tbody tr th {\n",
       "        vertical-align: top;\n",
       "    }\n",
       "\n",
       "    .dataframe thead th {\n",
       "        text-align: right;\n",
       "    }\n",
       "</style>\n",
       "<table border=\"1\" class=\"dataframe\">\n",
       "  <thead>\n",
       "    <tr style=\"text-align: right;\">\n",
       "      <th></th>\n",
       "      <th>tweet_id</th>\n",
       "      <th>is_fake_news</th>\n",
       "      <th>fake_news_category</th>\n",
       "      <th>text</th>\n",
       "      <th>kmeans_predictions</th>\n",
       "      <th>kmeans_predictions2</th>\n",
       "      <th>wald_predictions</th>\n",
       "      <th>tokenized_text</th>\n",
       "      <th>normalized_tokens</th>\n",
       "      <th>reduced_tokens</th>\n",
       "      <th>time</th>\n",
       "      <th>date</th>\n",
       "    </tr>\n",
       "  </thead>\n",
       "  <tbody>\n",
       "    <tr>\n",
       "      <th>0</th>\n",
       "      <td>264033382076407808</td>\n",
       "      <td>False</td>\n",
       "      <td>0.0</td>\n",
       "      <td>@realDonaldTrump you are full of shit!</td>\n",
       "      <td>0</td>\n",
       "      <td>2</td>\n",
       "      <td>3</td>\n",
       "      <td>[@realDonaldTrump, you, are, full, of, shit]</td>\n",
       "      <td>[@realdonaldtrump, shit]</td>\n",
       "      <td>[]</td>\n",
       "      <td>Thu Nov 01 15:57:18 +0000 2012</td>\n",
       "      <td>[Thu, Nov, 01, 15:57:18, +0000, 2012]</td>\n",
       "    </tr>\n",
       "    <tr>\n",
       "      <th>1</th>\n",
       "      <td>265895586660757505</td>\n",
       "      <td>False</td>\n",
       "      <td>0.0</td>\n",
       "      <td>@realDonaldTrump you're fucking retarded</td>\n",
       "      <td>0</td>\n",
       "      <td>2</td>\n",
       "      <td>3</td>\n",
       "      <td>[@realDonaldTrump, you, 're, fucking, retarded]</td>\n",
       "      <td>[@realdonaldtrump, fuck, retard]</td>\n",
       "      <td>[fuck]</td>\n",
       "      <td>Tue Nov 06 19:17:02 +0000 2012</td>\n",
       "      <td>[Tue, Nov, 06, 19:17:02, +0000, 2012]</td>\n",
       "    </tr>\n",
       "    <tr>\n",
       "      <th>2</th>\n",
       "      <td>265895723445411841</td>\n",
       "      <td>False</td>\n",
       "      <td>0.0</td>\n",
       "      <td>@realDonaldTrump You are the stupidest man on ...</td>\n",
       "      <td>0</td>\n",
       "      <td>2</td>\n",
       "      <td>3</td>\n",
       "      <td>[@realDonaldTrump, You, are, the, stupidest, m...</td>\n",
       "      <td>[@realdonaldtrump, stupid, man, planet, earth]</td>\n",
       "      <td>[man]</td>\n",
       "      <td>Tue Nov 06 19:17:35 +0000 2012</td>\n",
       "      <td>[Tue, Nov, 06, 19:17:35, +0000, 2012]</td>\n",
       "    </tr>\n",
       "    <tr>\n",
       "      <th>3</th>\n",
       "      <td>265896172726661120</td>\n",
       "      <td>False</td>\n",
       "      <td>0.0</td>\n",
       "      <td>@realDonaldTrump I am continually amazed and t...</td>\n",
       "      <td>0</td>\n",
       "      <td>2</td>\n",
       "      <td>3</td>\n",
       "      <td>[@realDonaldTrump, I, am, continually, amazed,...</td>\n",
       "      <td>[@realdonaldtrump, continually, amaze, terribl...</td>\n",
       "      <td>[money, hope]</td>\n",
       "      <td>Tue Nov 06 19:19:22 +0000 2012</td>\n",
       "      <td>[Tue, Nov, 06, 19:19:22, +0000, 2012]</td>\n",
       "    </tr>\n",
       "    <tr>\n",
       "      <th>4</th>\n",
       "      <td>266042962650226688</td>\n",
       "      <td>False</td>\n",
       "      <td>0.0</td>\n",
       "      <td>Hey @realDonaldTrump You Mad Bro?</td>\n",
       "      <td>0</td>\n",
       "      <td>2</td>\n",
       "      <td>3</td>\n",
       "      <td>[Hey, @realDonaldTrump, You, Mad, Bro]</td>\n",
       "      <td>[hey, @realdonaldtrump, mad, bro]</td>\n",
       "      <td>[hey, mad]</td>\n",
       "      <td>Wed Nov 07 05:02:39 +0000 2012</td>\n",
       "      <td>[Wed, Nov, 07, 05:02:39, +0000, 2012]</td>\n",
       "    </tr>\n",
       "  </tbody>\n",
       "</table>\n",
       "</div>"
      ],
      "text/plain": [
       "             tweet_id  is_fake_news  fake_news_category  \\\n",
       "0  264033382076407808         False                 0.0   \n",
       "1  265895586660757505         False                 0.0   \n",
       "2  265895723445411841         False                 0.0   \n",
       "3  265896172726661120         False                 0.0   \n",
       "4  266042962650226688         False                 0.0   \n",
       "\n",
       "                                                text  kmeans_predictions  \\\n",
       "0             @realDonaldTrump you are full of shit!                   0   \n",
       "1           @realDonaldTrump you're fucking retarded                   0   \n",
       "2  @realDonaldTrump You are the stupidest man on ...                   0   \n",
       "3  @realDonaldTrump I am continually amazed and t...                   0   \n",
       "4                  Hey @realDonaldTrump You Mad Bro?                   0   \n",
       "\n",
       "   kmeans_predictions2  wald_predictions  \\\n",
       "0                    2                 3   \n",
       "1                    2                 3   \n",
       "2                    2                 3   \n",
       "3                    2                 3   \n",
       "4                    2                 3   \n",
       "\n",
       "                                      tokenized_text  \\\n",
       "0       [@realDonaldTrump, you, are, full, of, shit]   \n",
       "1    [@realDonaldTrump, you, 're, fucking, retarded]   \n",
       "2  [@realDonaldTrump, You, are, the, stupidest, m...   \n",
       "3  [@realDonaldTrump, I, am, continually, amazed,...   \n",
       "4             [Hey, @realDonaldTrump, You, Mad, Bro]   \n",
       "\n",
       "                                   normalized_tokens reduced_tokens  \\\n",
       "0                           [@realdonaldtrump, shit]             []   \n",
       "1                   [@realdonaldtrump, fuck, retard]         [fuck]   \n",
       "2     [@realdonaldtrump, stupid, man, planet, earth]          [man]   \n",
       "3  [@realdonaldtrump, continually, amaze, terribl...  [money, hope]   \n",
       "4                  [hey, @realdonaldtrump, mad, bro]     [hey, mad]   \n",
       "\n",
       "                             time                                   date  \n",
       "0  Thu Nov 01 15:57:18 +0000 2012  [Thu, Nov, 01, 15:57:18, +0000, 2012]  \n",
       "1  Tue Nov 06 19:17:02 +0000 2012  [Tue, Nov, 06, 19:17:02, +0000, 2012]  \n",
       "2  Tue Nov 06 19:17:35 +0000 2012  [Tue, Nov, 06, 19:17:35, +0000, 2012]  \n",
       "3  Tue Nov 06 19:19:22 +0000 2012  [Tue, Nov, 06, 19:19:22, +0000, 2012]  \n",
       "4  Wed Nov 07 05:02:39 +0000 2012  [Wed, Nov, 07, 05:02:39, +0000, 2012]  "
      ]
     },
     "execution_count": 89,
     "metadata": {},
     "output_type": "execute_result"
    }
   ],
   "source": [
    "electiontweetsDF.head()"
   ]
  },
  {
   "cell_type": "code",
   "execution_count": 96,
   "metadata": {},
   "outputs": [
    {
     "data": {
      "text/plain": [
       "['Thu', 'Nov', '01', '15:57:18', '+0000', '2012']"
      ]
     },
     "execution_count": 96,
     "metadata": {},
     "output_type": "execute_result"
    }
   ],
   "source": [
    "electiontweetsDF['date']"
   ]
  },
  {
   "cell_type": "code",
   "execution_count": 108,
   "metadata": {},
   "outputs": [
    {
     "data": {
      "text/plain": [
       "['@realdonaldtrump', 'fuck', 'retard']"
      ]
     },
     "execution_count": 108,
     "metadata": {},
     "output_type": "execute_result"
    }
   ],
   "source": [
    "electiontweetsDF['normalized_tokens'][1]"
   ]
  },
  {
   "cell_type": "code",
   "execution_count": 123,
   "metadata": {},
   "outputs": [],
   "source": [
    "#creating dictionaries for information\n",
    "tweet_categories = {}\n",
    "tweet_years = {}\n",
    "\n",
    "\n",
    "for tweet in electiontweetsDF['normalized_tokens']:\n",
    "    for category in electiontweetsDF['fake_news_category']:\n",
    "        if category not in tweet_categories:\n",
    "            tweet_categories[category] = []\n",
    "        if category in tweet_categories:\n",
    "            tweet_categories[category].append(tweet)\n",
    "\n",
    "    for date in electiontweetsDF['date']:\n",
    "        year = date[-1]\n",
    "        if year not in tweet_years:\n",
    "            tweet_years[year] = []\n",
    "        if year in tweet_years:\n",
    "            tweet_years[year].append(tweet)\n"
   ]
  },
  {
   "cell_type": "code",
   "execution_count": null,
   "metadata": {},
   "outputs": [],
   "source": [
    "# For every year, add the text that belongs to that year!"
   ]
  },
  {
   "cell_type": "code",
   "execution_count": 115,
   "metadata": {},
   "outputs": [
    {
     "name": "stdout",
     "output_type": "stream",
     "text": [
      "dict_keys([0.0, 1.0, 5.0, 4.0, 2.0])\n",
      "dict_keys(['2012', '2013', '2014', '2015', '2016'])\n"
     ]
    }
   ],
   "source": [
    "#checking the categories\n",
    "print(tweet_categories.keys())\n",
    "print(tweet_years.keys())"
   ]
  },
  {
   "cell_type": "code",
   "execution_count": 117,
   "metadata": {},
   "outputs": [
    {
     "data": {
      "text/plain": [
       "1694579"
      ]
     },
     "execution_count": 117,
     "metadata": {},
     "output_type": "execute_result"
    }
   ],
   "source": [
    "len(tweet_years['2016'])"
   ]
  },
  {
   "cell_type": "markdown",
   "metadata": {},
   "source": [
    "This tells us that the tweets range from 2012 to 2016. Now we can look at the distribution of the categories over the 4 year period. \n"
   ]
  },
  {
   "cell_type": "markdown",
   "metadata": {},
   "source": [
    "What does this tell us about emerging genres? It tell us that there have been some shifts in the past few years. But I would probably be more interested in seeing the topics evolution than the prelabeled genres..."
   ]
  },
  {
   "cell_type": "code",
   "execution_count": 118,
   "metadata": {},
   "outputs": [],
   "source": [
    "# preprocessing for gensim requirements, organize by year\n",
    "import collections"
   ]
  },
  {
   "cell_type": "code",
   "execution_count": 119,
   "metadata": {},
   "outputs": [],
   "source": [
    "years = []\n",
    "years_lens = []"
   ]
  },
  {
   "cell_type": "code",
   "execution_count": 120,
   "metadata": {},
   "outputs": [],
   "source": [
    "for year_info in collections.OrderedDict(sorted(tweet_years.items())):\n",
    "    years.append(year_info)\n",
    "    years_lens.append(len((tweet_years[year_info])))"
   ]
  },
  {
   "cell_type": "code",
   "execution_count": 121,
   "metadata": {},
   "outputs": [
    {
     "data": {
      "text/plain": [
       "('2012', '2016')"
      ]
     },
     "execution_count": 121,
     "metadata": {},
     "output_type": "execute_result"
    }
   ],
   "source": [
    "years[0], years[-1]"
   ]
  },
  {
   "cell_type": "code",
   "execution_count": 122,
   "metadata": {},
   "outputs": [
    {
     "data": {
      "text/plain": [
       "[<matplotlib.lines.Line2D at 0x7fce83ea5198>]"
      ]
     },
     "execution_count": 122,
     "metadata": {},
     "output_type": "execute_result"
    },
    {
     "data": {
      "image/png": "[encoded data removed]",
      "text/plain": [
       "<Figure size 432x288 with 1 Axes>"
      ]
     },
     "metadata": {
      "needs_background": "light"
     },
     "output_type": "display_data"
    }
   ],
   "source": [
    "import matplotlib.pyplot as plt\n",
    "plt.plot(years, years_lens)"
   ]
  },
  {
   "cell_type": "markdown",
   "metadata": {},
   "source": [
    "Unsurprisingly, we see that the number of tweets skyrocket as the 2016 election approaches. This is due to the data collection process done by the original researchers who used the Twitter API to gather posts that had the hashtags #MyVote2016, #ElectionDay, #electionnight, and had the user handles @realDonaldTrump and @HillaryClinton (Lopez, et al, 2017). One thing to note, is that though the researchers started collection from 2016 to 2017, there are tweets in the dataset that go as far back as 2012. This is because some tweets may have been created earlier, but became viral during the election."
   ]
  },
  {
   "cell_type": "markdown",
   "metadata": {},
   "source": [
    "Unlike the example notebook, I do not need to slice up the years since it's only a four year span from 2012 to 2016."
   ]
  },
  {
   "cell_type": "code",
   "execution_count": 29,
   "metadata": {},
   "outputs": [],
   "source": [
    "# we did this before, but one more time for good measure\n",
    "dictionary = gensim.corpora.Dictionary(electiontweetsDF['reduced_tokens'])\n",
    "corpus = [dictionary.doc2bow(text) for text in electiontweetsDF['reduced_tokens']]\n",
    "\n",
    "#serialize and load\n",
    "gensim.corpora.MmCorpus.serialize('tweet.mm', corpus) \n",
    "tweetcorpus = gensim.corpora.MmCorpus('tweet.mm')"
   ]
  },
  {
   "cell_type": "markdown",
   "metadata": {},
   "source": [
    "I need to count how many tweets are in each year bin."
   ]
  },
  {
   "cell_type": "code",
   "execution_count": 34,
   "metadata": {},
   "outputs": [],
   "source": [
    "list2012 = []\n",
    "list2013 = []\n",
    "list2014 = []\n",
    "list2015 = []\n",
    "list2016 = []\n",
    "for list1 in electiontweetsDF['date']:\n",
    "    x = list1[-1]\n",
    "    if x == '2012':\n",
    "        counter += 1\n",
    "    if x == '2013':\n",
    "        counter2 += 1\n",
    "    if x == '2014':\n",
    "        counter3 += 1\n",
    "    if x == '2015':\n",
    "        list2015.append(x)\n",
    "    if x == '2016':\n",
    "        list2016.append(x)\n",
    "        "
   ]
  },
  {
   "cell_type": "code",
   "execution_count": 35,
   "metadata": {},
   "outputs": [
    {
     "name": "stdout",
     "output_type": "stream",
     "text": [
      "5\n",
      "6\n",
      "6\n",
      "33\n",
      "1277\n"
     ]
    }
   ],
   "source": [
    "print(len(list2012))\n",
    "print(len(list2013))\n",
    "print(len(list2014))\n",
    "print(len(list2015))\n",
    "print(len(list2016))"
   ]
  },
  {
   "cell_type": "code",
   "execution_count": 36,
   "metadata": {},
   "outputs": [
    {
     "name": "stderr",
     "output_type": "stream",
     "text": [
      "/software/Anaconda3-5.3.0-el7-x86_64/lib/python3.6/site-packages/gensim/models/ldaseqmodel.py:1043: RuntimeWarning: invalid value encountered in double_scalars\n",
      "  converged = np.fabs((lhood_old - lhood) / (lhood_old * total))\n",
      "/software/Anaconda3-5.3.0-el7-x86_64/lib/python3.6/site-packages/gensim/models/ldaseqmodel.py:230: RuntimeWarning: divide by zero encountered in double_scalars\n",
      "  convergence = np.fabs((bound - old_bound) / old_bound)\n",
      "/software/Anaconda3-5.3.0-el7-x86_64/lib/python3.6/site-packages/gensim/models/ldaseqmodel.py:1043: RuntimeWarning: invalid value encountered in double_scalars\n",
      "  converged = np.fabs((lhood_old - lhood) / (lhood_old * total))\n",
      "/software/Anaconda3-5.3.0-el7-x86_64/lib/python3.6/site-packages/gensim/models/ldaseqmodel.py:1043: RuntimeWarning: invalid value encountered in double_scalars\n",
      "  converged = np.fabs((lhood_old - lhood) / (lhood_old * total))\n",
      "/software/Anaconda3-5.3.0-el7-x86_64/lib/python3.6/site-packages/gensim/models/ldaseqmodel.py:1043: RuntimeWarning: invalid value encountered in double_scalars\n",
      "  converged = np.fabs((lhood_old - lhood) / (lhood_old * total))\n",
      "/software/Anaconda3-5.3.0-el7-x86_64/lib/python3.6/site-packages/gensim/models/ldaseqmodel.py:1043: RuntimeWarning: invalid value encountered in double_scalars\n",
      "  converged = np.fabs((lhood_old - lhood) / (lhood_old * total))\n",
      "/software/Anaconda3-5.3.0-el7-x86_64/lib/python3.6/site-packages/gensim/models/ldaseqmodel.py:1043: RuntimeWarning: invalid value encountered in double_scalars\n",
      "  converged = np.fabs((lhood_old - lhood) / (lhood_old * total))\n",
      "/software/Anaconda3-5.3.0-el7-x86_64/lib/python3.6/site-packages/gensim/models/ldaseqmodel.py:1043: RuntimeWarning: invalid value encountered in double_scalars\n",
      "  converged = np.fabs((lhood_old - lhood) / (lhood_old * total))\n",
      "/software/Anaconda3-5.3.0-el7-x86_64/lib/python3.6/site-packages/gensim/models/ldaseqmodel.py:1043: RuntimeWarning: invalid value encountered in double_scalars\n",
      "  converged = np.fabs((lhood_old - lhood) / (lhood_old * total))\n",
      "/software/Anaconda3-5.3.0-el7-x86_64/lib/python3.6/site-packages/gensim/models/ldaseqmodel.py:1043: RuntimeWarning: invalid value encountered in double_scalars\n",
      "  converged = np.fabs((lhood_old - lhood) / (lhood_old * total))\n",
      "/software/Anaconda3-5.3.0-el7-x86_64/lib/python3.6/site-packages/gensim/models/ldaseqmodel.py:1043: RuntimeWarning: invalid value encountered in double_scalars\n",
      "  converged = np.fabs((lhood_old - lhood) / (lhood_old * total))\n",
      "/software/Anaconda3-5.3.0-el7-x86_64/lib/python3.6/site-packages/gensim/models/ldaseqmodel.py:1043: RuntimeWarning: invalid value encountered in double_scalars\n",
      "  converged = np.fabs((lhood_old - lhood) / (lhood_old * total))\n",
      "/software/Anaconda3-5.3.0-el7-x86_64/lib/python3.6/site-packages/gensim/models/ldaseqmodel.py:1043: RuntimeWarning: invalid value encountered in double_scalars\n",
      "  converged = np.fabs((lhood_old - lhood) / (lhood_old * total))\n",
      "/software/Anaconda3-5.3.0-el7-x86_64/lib/python3.6/site-packages/gensim/models/ldaseqmodel.py:1043: RuntimeWarning: invalid value encountered in double_scalars\n",
      "  converged = np.fabs((lhood_old - lhood) / (lhood_old * total))\n",
      "/software/Anaconda3-5.3.0-el7-x86_64/lib/python3.6/site-packages/gensim/models/ldaseqmodel.py:1043: RuntimeWarning: invalid value encountered in double_scalars\n",
      "  converged = np.fabs((lhood_old - lhood) / (lhood_old * total))\n",
      "/software/Anaconda3-5.3.0-el7-x86_64/lib/python3.6/site-packages/gensim/models/ldaseqmodel.py:1043: RuntimeWarning: invalid value encountered in double_scalars\n",
      "  converged = np.fabs((lhood_old - lhood) / (lhood_old * total))\n",
      "/software/Anaconda3-5.3.0-el7-x86_64/lib/python3.6/site-packages/gensim/models/ldaseqmodel.py:1043: RuntimeWarning: invalid value encountered in double_scalars\n",
      "  converged = np.fabs((lhood_old - lhood) / (lhood_old * total))\n",
      "/software/Anaconda3-5.3.0-el7-x86_64/lib/python3.6/site-packages/gensim/models/ldaseqmodel.py:1043: RuntimeWarning: invalid value encountered in double_scalars\n",
      "  converged = np.fabs((lhood_old - lhood) / (lhood_old * total))\n",
      "/software/Anaconda3-5.3.0-el7-x86_64/lib/python3.6/site-packages/gensim/models/ldaseqmodel.py:1043: RuntimeWarning: invalid value encountered in double_scalars\n",
      "  converged = np.fabs((lhood_old - lhood) / (lhood_old * total))\n",
      "/software/Anaconda3-5.3.0-el7-x86_64/lib/python3.6/site-packages/gensim/models/ldaseqmodel.py:1043: RuntimeWarning: invalid value encountered in double_scalars\n",
      "  converged = np.fabs((lhood_old - lhood) / (lhood_old * total))\n",
      "/software/Anaconda3-5.3.0-el7-x86_64/lib/python3.6/site-packages/gensim/models/ldaseqmodel.py:1043: RuntimeWarning: invalid value encountered in double_scalars\n",
      "  converged = np.fabs((lhood_old - lhood) / (lhood_old * total))\n",
      "/software/Anaconda3-5.3.0-el7-x86_64/lib/python3.6/site-packages/gensim/models/ldaseqmodel.py:1043: RuntimeWarning: invalid value encountered in double_scalars\n",
      "  converged = np.fabs((lhood_old - lhood) / (lhood_old * total))\n"
     ]
    }
   ],
   "source": [
    "# run topic model, lukcily the data is already sorted by year\n",
    "from gensim.models import ldaseqmodel\n",
    "ldaseq = ldaseqmodel.LdaSeqModel(corpus=corpus, id2word=dictionary, time_slice=[5,6,6,33,1277], num_topics=4)"
   ]
  },
  {
   "cell_type": "code",
   "execution_count": 37,
   "metadata": {},
   "outputs": [
    {
     "data": {
      "text/plain": [
       "[('people', 0.02788953500605213),\n",
       " ('amp', 0.023409461556988954),\n",
       " ('trump', 0.02276672311621498),\n",
       " ('like', 0.02015297586397476),\n",
       " ('rally', 0.0196637491318766),\n",
       " ('need', 0.018082757534443907),\n",
       " ('american', 0.01692667568528261),\n",
       " ('america', 0.016652993478155652),\n",
       " ('poll', 0.016642176040131254),\n",
       " ('say', 0.014059909295741753),\n",
       " ('want', 0.012138202890215574),\n",
       " ('thank', 0.011654257012749712),\n",
       " ('stand', 0.01144714262141817),\n",
       " ('think', 0.011361705964124169),\n",
       " ('work', 0.010879043436648089),\n",
       " ('ready', 0.0107724524693978),\n",
       " ('lead', 0.010624824178117978),\n",
       " ('watch', 0.01034349515679495),\n",
       " ('campaign', 0.00963203476834255),\n",
       " ('maga', 0.009446138891111884)]"
      ]
     },
     "execution_count": 37,
     "metadata": {},
     "output_type": "execute_result"
    }
   ],
   "source": [
    "# output inspection\n",
    "ldaseq.print_topics(time=0)[1]"
   ]
  },
  {
   "cell_type": "code",
   "execution_count": 38,
   "metadata": {},
   "outputs": [
    {
     "data": {
      "text/plain": [
       "[('people', 0.028559905276335555),\n",
       " ('amp', 0.02377874597874176),\n",
       " ('trump', 0.02307152316965928),\n",
       " ('like', 0.019901223007185272),\n",
       " ('rally', 0.019888524896073755),\n",
       " ('need', 0.018090279516304087),\n",
       " ('american', 0.017174115020024538),\n",
       " ('america', 0.01694320237753229),\n",
       " ('poll', 0.016818415866728186),\n",
       " ('say', 0.014109541641230718),\n",
       " ('want', 0.01226422086825023),\n",
       " ('thank', 0.011681865193179757),\n",
       " ('stand', 0.011502354629847718),\n",
       " ('think', 0.011169303400580663),\n",
       " ('work', 0.010938922792754102),\n",
       " ('ready', 0.010845239954510245),\n",
       " ('lead', 0.0106959377803999),\n",
       " ('watch', 0.010408864525920825),\n",
       " ('campaign', 0.009660053451655791),\n",
       " ('maga', 0.009492518447823456)]"
      ]
     },
     "execution_count": 38,
     "metadata": {},
     "output_type": "execute_result"
    }
   ],
   "source": [
    "ldaseq.print_topics(time=4)[1]"
   ]
  },
  {
   "cell_type": "code",
   "execution_count": 39,
   "metadata": {},
   "outputs": [],
   "source": [
    "loaded_model = ldaseqmodel.LdaSeqModel.load(\"ldaseqmodel\")"
   ]
  },
  {
   "cell_type": "markdown",
   "metadata": {},
   "source": []
  },
  {
   "cell_type": "code",
   "execution_count": null,
   "metadata": {},
   "outputs": [],
   "source": []
  }
 ],
 "metadata": {
  "kernelspec": {
   "display_name": "Python 3",
   "language": "python",
   "name": "python3"
  },
  "language_info": {
   "codemirror_mode": {
    "name": "ipython",
    "version": 3
   },
   "file_extension": ".py",
   "mimetype": "text/x-python",
   "name": "python",
   "nbconvert_exporter": "python",
   "pygments_lexer": "ipython3",
   "version": "3.6.9"
  }
 },
 "nbformat": 4,
 "nbformat_minor": 2
}
